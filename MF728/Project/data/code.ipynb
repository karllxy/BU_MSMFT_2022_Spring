{
 "cells": [
  {
   "cell_type": "code",
   "execution_count": 1,
   "metadata": {},
   "outputs": [
    {
     "name": "stderr",
     "output_type": "stream",
     "text": [
      "[nltk_data] Downloading package stopwords to\n",
      "[nltk_data]     C:\\Users\\10784\\AppData\\Roaming\\nltk_data...\n",
      "[nltk_data]   Package stopwords is already up-to-date!\n",
      "[nltk_data] Downloading package punkt to\n",
      "[nltk_data]     C:\\Users\\10784\\AppData\\Roaming\\nltk_data...\n",
      "[nltk_data]   Package punkt is already up-to-date!\n",
      "[nltk_data] Downloading package wordnet to\n",
      "[nltk_data]     C:\\Users\\10784\\AppData\\Roaming\\nltk_data...\n",
      "[nltk_data]   Package wordnet is already up-to-date!\n"
     ]
    }
   ],
   "source": [
    "# Import the libraries\n",
    "\n",
    "import os\n",
    "import sys\n",
    "from IPython.display import HTML, display\n",
    "\n",
    "import numpy as np\n",
    "import pandas as pd\n",
    "import tensorflow as tf\n",
    "from math import ceil\n",
    "from scipy.spatial.distance import cosine\n",
    "\n",
    "import matplotlib.pyplot as plt\n",
    "import seaborn as sns\n",
    "\n",
    "import collections\n",
    "import random\n",
    "import time\n",
    "import string\n",
    "import re\n",
    "\n",
    "import nltk\n",
    "nltk.download('stopwords')\n",
    "nltk.download('punkt')\n",
    "nltk.download('wordnet')\n",
    "from nltk.corpus import stopwords\n",
    "from nltk.stem import WordNetLemmatizer\n",
    "from nltk.tokenize import word_tokenize\n",
    "from nltk.tokenize import sent_tokenize\n",
    "\n",
    "from sklearn.model_selection import train_test_split\n",
    "from sklearn.feature_extraction.text import TfidfVectorizer\n",
    "from sklearn.naive_bayes import MultinomialNB\n",
    "from sklearn.model_selection import GridSearchCV\n",
    "from sklearn.svm import SVC\n",
    "from sklearn.metrics import roc_curve, auc\n",
    "from sklearn.metrics import confusion_matrix\n",
    "from sklearn.metrics import classification_report\n",
    "\n",
    "from tensorflow.keras.preprocessing.sequence import pad_sequences\n",
    "from tensorflow.keras.preprocessing.text import Tokenizer\n",
    "from tensorflow.keras.models import Sequential, Model\n",
    "from tensorflow.keras.layers import Input, Embedding, Dense, Convolution1D, MaxPooling1D, GlobalMaxPooling1D, Flatten, Dropout, LSTM, Bidirectional"
   ]
  },
  {
   "cell_type": "code",
   "execution_count": 2,
   "metadata": {},
   "outputs": [],
   "source": [
    "# We now set the directory to access the data\n",
    "def find(name, path):\n",
    "    for root, dirs, files in os.walk(path):\n",
    "        if name in files:\n",
    "            return os.path.join(root, name)\n",
    "\n",
    "SUMMARY_PATH = 'MutualFundSummary'\n",
    "SUMMARY_LABELS_PATH = 'MutualFundLabels.csv'\n",
    "glove_word2vec = 'glove.6B.50d.txt'\n",
    "our_word2vec = 'word2vec_perso.txt'"
   ]
  },
  {
   "cell_type": "code",
   "execution_count": 3,
   "metadata": {},
   "outputs": [],
   "source": [
    "# Progress bar\n",
    "def progress(value, max=100):\n",
    "    return HTML(\"\"\"\n",
    "        <progress\n",
    "            value='{value}'\n",
    "            max='{max}',\n",
    "            style='width: 100%'\n",
    "        >\n",
    "            {value}\n",
    "        </progress>\n",
    "    \"\"\".format(value=value, max=max))\n",
    "\n",
    "# Save a word2vec dictionary.\n",
    "def save_word2vec(filename):\n",
    "    with open(os.path.join('', filename),'a' , encoding='utf-8') as f :\n",
    "        for k, v in word2vec.items():\n",
    "            line = k+' '+str(list(v)).strip('[]').replace(',','')+'\\n'\n",
    "            f.write(line)\n",
    "\n",
    "# Load a word2vec dictionary.\n",
    "def load_word2vec(filename):\n",
    "    word2vec = {}\n",
    "    with open(os.path.join('', filename), encoding='utf8') as f:\n",
    "        for line in f:\n",
    "            try :\n",
    "                values = line.split()\n",
    "                word = values[0]\n",
    "                vec = np.asarray(values[1:], dtype='float32')\n",
    "                word2vec[word] = vec\n",
    "            except :\n",
    "                None\n",
    "    return word2vec\n",
    "\n",
    "# read the repo in PATH and append the texts in a list\n",
    "def get_data(PATH):\n",
    "    list_dir = os.listdir(PATH)\n",
    "    texts = []\n",
    "    fund_names = []\n",
    "    out = display(progress(0, len(list_dir)-1), display_id=True)\n",
    "    for ii, filename in enumerate(list_dir) :\n",
    "        with open(PATH+'/'+filename, 'r', encoding=\"utf8\") as f :\n",
    "            txt = f.read()\n",
    "            try :\n",
    "                txt_split = txt.split('<head_breaker>')\n",
    "                summary = txt_split[1].strip()\n",
    "                fund_name = txt_split[0].strip()\n",
    "            except :\n",
    "                summary = txt\n",
    "                fund_name = ''\n",
    "        texts.append(summary)\n",
    "        fund_names.append(fund_name)\n",
    "        out.update(progress(ii, len(list_dir)-1))\n",
    "    return fund_names, texts"
   ]
  },
  {
   "cell_type": "code",
   "execution_count": 4,
   "metadata": {},
   "outputs": [
    {
     "data": {
      "text/html": [
       "\n",
       "        <progress\n",
       "            value='544'\n",
       "            max='544',\n",
       "            style='width: 100%'\n",
       "        >\n",
       "            544\n",
       "        </progress>\n",
       "    "
      ],
      "text/plain": [
       "<IPython.core.display.HTML object>"
      ]
     },
     "metadata": {},
     "output_type": "display_data"
    }
   ],
   "source": [
    "# Get the summaries\n",
    "fund_names, summaries = get_data(SUMMARY_PATH)"
   ]
  },
  {
   "cell_type": "code",
   "execution_count": 11,
   "metadata": {},
   "outputs": [],
   "source": [
    "#Preprocess the texts\n",
    "def lemma_tokenizer(text):\n",
    "    lemmatizer=WordNetLemmatizer()\n",
    "    return [lemmatizer.lemmatize(token) for token in word_tokenize(text.replace(\"'\",\" \"))]\n",
    "\n",
    "stop_words = set(stopwords.words(\"english\")+list(string.punctuation)+['``',\"''\"]+[\"]\",\"[\",\"*\"]+['doe', 'ha', 'wa','ab'])"
   ]
  },
  {
   "cell_type": "code",
   "execution_count": 9,
   "metadata": {},
   "outputs": [],
   "source": [
    "# clean and tokenize the text\n",
    "def tokenizer(txt):\n",
    "    txt = txt.replace('\\n', ' ').replace('\\t', ' ').lower()\n",
    "    word_tokens = lemma_tokenizer(txt)\n",
    "    filtered_sentence = [w for w in word_tokens if not w in stop_words]\n",
    "    filtered_sentence = [w for w in filtered_sentence if re.sub(\"[^A-Za-z ]+\",'',w) != ''] \n",
    "    return filtered_sentence"
   ]
  },
  {
   "cell_type": "code",
   "execution_count": 12,
   "metadata": {},
   "outputs": [
    {
     "name": "stdout",
     "output_type": "stream",
     "text": [
      "['market' 'income' 'portfolio' 'investment' 'objective' 'fund'\n",
      " 'investment' 'objective' 'seek' 'current' 'income' 'consideration'\n",
      " 'capital' 'appreciation' 'fee' 'expense' 'fund' 'table' 'describes' 'fee']\n"
     ]
    }
   ],
   "source": [
    "text_words = np.concatenate([tokenizer(summary) for summary in summaries])\n",
    "print(text_words[:20])"
   ]
  },
  {
   "cell_type": "code",
   "execution_count": 13,
   "metadata": {},
   "outputs": [
    {
     "name": "stdout",
     "output_type": "stream",
     "text": [
      "size of the vocabulary : 3072\n"
     ]
    }
   ],
   "source": [
    "#Process Skip-Gram model Input\n",
    "# Training Parameters\n",
    "batch_size = 128 # The model will be trained batch per batch and one batch contains 128 rows\n",
    "num_epochs = 2 # The model will go through all the data twice\n",
    "\n",
    "# Word2Vec Parameters\n",
    "embedding_size = 50 # Dimension of the embedding vector\n",
    "max_vocabulary_size = 5000 # Total number of different words in the vocabulary\n",
    "min_occurrence = 10 # Remove all words that does not appears at least n times\n",
    "skip_window = 3 # How many words to consider left and right\n",
    "num_skips = 4 # How many times to reuse an input to generate a label\n",
    "\n",
    "# Build the dictionary and replace rare words with UNK token\n",
    "count = [('UNK', -1)]\n",
    "# Retrieve the most common words\n",
    "count.extend(collections.Counter(text_words).most_common(max_vocabulary_size - 1))\n",
    "# Remove samples with less than 'min_occurrence' occurrences\n",
    "for i in range(len(count) - 1, -1, -1):\n",
    "    if count[i][1] < min_occurrence:\n",
    "        count.pop(i)\n",
    "    else:\n",
    "        # The collection is ordered, so stop when 'min_occurrence' is reached\n",
    "        break\n",
    "\n",
    "word2id = dict()\n",
    "for i, (word, _)in enumerate(count):\n",
    "    word2id[word] = i\n",
    "id2word = dict(zip(word2id.values(), word2id.keys()))\n",
    "vocab_size = len(id2word)\n",
    "\n",
    "print ('size of the vocabulary : '+str(vocab_size))"
   ]
  },
  {
   "cell_type": "code",
   "execution_count": 14,
   "metadata": {},
   "outputs": [
    {
     "name": "stdout",
     "output_type": "stream",
     "text": [
      "[8, 30, 10, 3, 91, 1, 3, 91, 129, 168, 30, 1204, 76, 538, 14, 9, 1, 51, 310, 14]\n"
     ]
    }
   ],
   "source": [
    "# create data\n",
    "data = list()\n",
    "unk_count = 0\n",
    "for word in text_words:\n",
    "    # Retrieve a word id, or assign it index 0 ('UNK') if not in dictionary\n",
    "    index = word2id.get(word, 0)\n",
    "    if index == 0:\n",
    "        unk_count += 1\n",
    "    data.append(index)\n",
    "count[0] = ('UNK', unk_count)\n",
    "\n",
    "print(data[:20])"
   ]
  },
  {
   "cell_type": "code",
   "execution_count": 15,
   "metadata": {},
   "outputs": [],
   "source": [
    "# build OneHot vector from index\n",
    "def to_one_hot(data_point_index, vocab_size):\n",
    "    temp = np.zeros(vocab_size)\n",
    "    temp[data_point_index] = 1\n",
    "    return temp\n",
    "\n",
    "# Generate training batch for the skip-gram model\n",
    "def batch_generator(batch_size, num_skips, skip_window, vocab_size):\n",
    "    data_index = 0\n",
    "    while True :\n",
    "        assert batch_size % num_skips == 0\n",
    "        assert num_skips <= 2 * skip_window\n",
    "        # batch is filled with 128 inputs\n",
    "        batch = np.ndarray(shape=(batch_size), dtype=np.int32)\n",
    "        # labels is filled with 128 outputs \n",
    "        labels = np.ndarray(shape=(batch_size), dtype=np.int32)\n",
    "        span = 2 * skip_window + 1\n",
    "        # buffer keep track of the visited indexes visited\n",
    "        buffer = collections.deque(maxlen=span)\n",
    "        if data_index + span > len(data):\n",
    "            data_index = 0\n",
    "            # We stop the loop when we went through all the corpus\n",
    "            break\n",
    "        buffer.extend(data[data_index:data_index + span])\n",
    "        data_index += span\n",
    "        for i in range(batch_size // num_skips):  \n",
    "            # Take the context current word\n",
    "            context_words = [w for w in range(span) if w != skip_window]\n",
    "            # Randomly select num_skips words in the context\n",
    "            words_to_use = random.sample(context_words, num_skips)\n",
    "            for j, context_word in enumerate(words_to_use):\n",
    "                # Creates one raw data\n",
    "                batch[i * num_skips + j] = buffer[skip_window]\n",
    "                labels[i * num_skips + j] = buffer[context_word]\n",
    "            if data_index == len(data):\n",
    "                buffer.extend(data[0:span])\n",
    "                data_index = span\n",
    "            else:\n",
    "                buffer.append(data[data_index])\n",
    "                data_index += 1\n",
    "        # Backtrack a little bit to avoid skipping words in the end of a batch\n",
    "        data_index = (data_index + len(data) - span) % len(data)\n",
    "\n",
    "        # translate word index to on-hot representation\n",
    "        batch_one_hot = np.array([to_one_hot(b, vocab_size) for b in batch])\n",
    "        labels_one_hot = np.array([to_one_hot(l, vocab_size) for l in labels])\n",
    "\n",
    "        # output one batch\n",
    "        yield batch_one_hot, labels_one_hot"
   ]
  },
  {
   "cell_type": "code",
   "execution_count": 16,
   "metadata": {},
   "outputs": [],
   "source": [
    "#Train the skip-gram model\n",
    "# Create en compile the Autoencoder\n",
    "def creat_word2vec_model():\n",
    "    input_word = Input(shape=(vocab_size,))\n",
    "\n",
    "    encoded = Dense(embedding_size, activation='linear')(input_word)\n",
    "    decoded = Dense(vocab_size, activation='softmax')(encoded)\n",
    "\n",
    "    # The autoencoder is the whole model with hidden layer contected to the output layer.\n",
    "    autoencoder = Model(input_word, decoded)\n",
    "    # The encoder is just the input layer connected to the hidden layer. One the Autoencoder will be trained we will use\n",
    "    # the encoder to create our word vectors \n",
    "    encoder = Model(input_word, encoded)\n",
    "    \n",
    "    autoencoder.compile(optimizer='adam', loss='binary_crossentropy')\n",
    "    return encoder, autoencoder\n",
    "\n",
    "# We create the model\n",
    "encoder, autoencoder = creat_word2vec_model()"
   ]
  },
  {
   "cell_type": "code",
   "execution_count": 17,
   "metadata": {},
   "outputs": [
    {
     "name": "stdout",
     "output_type": "stream",
     "text": [
      "Model: \"model\"\n",
      "_________________________________________________________________\n",
      " Layer (type)                Output Shape              Param #   \n",
      "=================================================================\n",
      " input_1 (InputLayer)        [(None, 3072)]            0         \n",
      "                                                                 \n",
      " dense (Dense)               (None, 50)                153650    \n",
      "                                                                 \n",
      " dense_1 (Dense)             (None, 3072)              156672    \n",
      "                                                                 \n",
      "=================================================================\n",
      "Total params: 310,322\n",
      "Trainable params: 310,322\n",
      "Non-trainable params: 0\n",
      "_________________________________________________________________\n"
     ]
    }
   ],
   "source": [
    "autoencoder.summary()"
   ]
  },
  {
   "cell_type": "code",
   "execution_count": 18,
   "metadata": {},
   "outputs": [
    {
     "name": "stderr",
     "output_type": "stream",
     "text": [
      "<ipython-input-18-872bc948d3d9>:2: UserWarning: `Model.fit_generator` is deprecated and will be removed in a future version. Please use `Model.fit`, which supports generators.\n",
      "  autoencoder.fit_generator(batch_generator(batch_size, num_skips, skip_window, vocab_size), steps_per_epoch=ceil(len(data) / batch_size), epochs=num_epochs)\n"
     ]
    },
    {
     "name": "stdout",
     "output_type": "stream",
     "text": [
      "Epoch 1/2\n",
      "7448/7448 [==============================] - 61s 8ms/step - loss: 0.0126\n",
      "Epoch 2/2\n",
      "7448/7448 [==============================] - 58s 8ms/step - loss: 0.0023\n"
     ]
    },
    {
     "data": {
      "text/plain": [
       "<keras.callbacks.History at 0x24054a20cd0>"
      ]
     },
     "execution_count": 18,
     "metadata": {},
     "output_type": "execute_result"
    }
   ],
   "source": [
    "# Finally we can train the model by feeding it with our batch generator !\n",
    "autoencoder.fit_generator(batch_generator(batch_size, num_skips, skip_window, vocab_size), steps_per_epoch=ceil(len(data) / batch_size), epochs=num_epochs)"
   ]
  },
  {
   "cell_type": "code",
   "execution_count": 19,
   "metadata": {},
   "outputs": [],
   "source": [
    "#Use the encoder to vectorize\n",
    "# Create the Vectorizer function (prediciton of the encoder)\n",
    "def vecotrize(word):\n",
    "    word_one_hot = to_one_hot(word2id[word], vocab_size)\n",
    "    return encoder.predict(np.array([word_one_hot]))[0]\n",
    "\n",
    "# Create the word2vec dictionary\n",
    "word2vec = {w : vecotrize(w) for w in word2id.keys()}\n",
    "\n",
    "# We can save the word2vec dictionary to reuse it later.\n",
    "save_word2vec(our_word2vec)"
   ]
  },
  {
   "cell_type": "code",
   "execution_count": 23,
   "metadata": {},
   "outputs": [
    {
     "name": "stdout",
     "output_type": "stream",
     "text": [
      "words close to expense : expense, operating, total, table, annual, following, example, reflected, describes, expenses1\n",
      "words close to derivative : derivative, instrument, enforce, real, relative, lending, unsponsored, growth-oriented, relation, often\n"
     ]
    }
   ],
   "source": [
    "# for a given word, output the n closer words in the word2vec maping.\n",
    "def get_n_closer(w, n, word2vec):\n",
    "    vect = word2vec[w]\n",
    "    distances_dict = {k: cosine(v, vect) for k, v in word2vec.items()}\n",
    "    \n",
    "    closer_words = []\n",
    "    for _ in range(n):\n",
    "        min_key = min(distances_dict.keys(), key=lambda k: distances_dict[k])\n",
    "        closer_words.append(min_key)\n",
    "        del distances_dict[min_key]\n",
    "    return closer_words\n",
    "\n",
    "words_neighbors_1 = get_n_closer('expense', 10, word2vec)\n",
    "print('words close to expense : ' +str(', '.join(words_neighbors_1)))\n",
    "words_neighbors_2 = get_n_closer('derivative', 10, word2vec)\n",
    "print('words close to derivative : ' +str(', '.join(words_neighbors_2)))"
   ]
  },
  {
   "cell_type": "code",
   "execution_count": 24,
   "metadata": {},
   "outputs": [
    {
     "name": "stdout",
     "output_type": "stream",
     "text": [
      "(3072, 50)\n"
     ]
    },
    {
     "name": "stderr",
     "output_type": "stream",
     "text": [
      "E:\\anaconda\\lib\\site-packages\\sklearn\\manifold\\_t_sne.py:790: FutureWarning: The default learning rate in TSNE will change from 200.0 to 'auto' in 1.2.\n",
      "  warnings.warn(\n",
      "E:\\anaconda\\lib\\site-packages\\sklearn\\manifold\\_t_sne.py:982: FutureWarning: The PCA initialization in TSNE will change to have the standard deviation of PC1 equal to 1e-4 in 1.2. This will ensure better convergence.\n",
      "  warnings.warn(\n"
     ]
    },
    {
     "name": "stdout",
     "output_type": "stream",
     "text": [
      "(3072, 2)\n"
     ]
    }
   ],
   "source": [
    "# fit the TSNE dimenstion reduction model\n",
    "from sklearn.manifold import TSNE\n",
    "from sklearn.decomposition import PCA\n",
    "vectors = np.array([v for k, v in word2vec.items()])\n",
    "words = np.array([k for k, v in word2vec.items()])\n",
    "print(vectors.shape)\n",
    "\n",
    "tsne_model = TSNE(perplexity=40, n_components=2, init='pca', n_iter=2500, random_state=23)\n",
    "vectors = tsne_model.fit_transform(vectors)\n",
    "\n",
    "print(vectors.shape)"
   ]
  },
  {
   "cell_type": "code",
   "execution_count": 25,
   "metadata": {},
   "outputs": [],
   "source": [
    "reduced_word2vec = {words[i] : list(vectors[i]) for i in range (len(vectors))}"
   ]
  },
  {
   "cell_type": "code",
   "execution_count": 27,
   "metadata": {},
   "outputs": [
    {
     "data": {
      "image/png": "[encoded data removed]",
      "text/plain": [
       "<Figure size 1152x1152 with 1 Axes>"
      ]
     },
     "metadata": {
      "needs_background": "light"
     },
     "output_type": "display_data"
    }
   ],
   "source": [
    "def create_neighbors_visualisation_data(words, num_neighbors, word2vec):\n",
    "    words_neighbors = []\n",
    "    for word in words :\n",
    "        try :\n",
    "            words_neighbors.append(get_n_closer(word, num_neighbors, word2vec))\n",
    "        except :\n",
    "            print(word +' not in word2vec')\n",
    "\n",
    "    words_neighbors = np.concatenate(words_neighbors)\n",
    "    vectors_neighbors = np.array([reduced_word2vec[word] for word in words_neighbors])\n",
    "    \n",
    "    return vectors_neighbors[:,0], vectors_neighbors[:,0], words_neighbors\n",
    "x, y, labels = create_neighbors_visualisation_data(['fee', 'swap'], 10, word2vec)\n",
    "\n",
    "plt.figure(figsize=(16, 16)) \n",
    "for i in range(len(x)):\n",
    "    plt.scatter(x[i],y[i])\n",
    "    plt.annotate(labels[i],\n",
    "        xy=(x[i], y[i]),\n",
    "        xytext=(5, 2),\n",
    "        textcoords='offset points',\n",
    "        ha='right',\n",
    "        va='bottom')\n",
    "plt.show()"
   ]
  },
  {
   "cell_type": "code",
   "execution_count": 33,
   "metadata": {},
   "outputs": [],
   "source": [
    "key_words = ['balance', 'fund', 'risk', 'low', 'high', 'equity', 'bond', 'income', 'long', 'short', 'commodity', 'loan', 'hedged', 'cash']"
   ]
  },
  {
   "cell_type": "code",
   "execution_count": 34,
   "metadata": {},
   "outputs": [],
   "source": [
    "# Creates the knwoledge base by taking the num_neighbors closes neighbors of each key_words in word2vec\n",
    "def create_knowledge_base(num_neighbors, word2vec, key_words):\n",
    "    knowledge_base = set()\n",
    "    out = display(progress(0, len(key_words)-1), display_id=True)\n",
    "    for ii, key_word in enumerate(key_words) :\n",
    "        knowledge_base.add(key_word)\n",
    "        neighbors = []\n",
    "        try :\n",
    "            neighbors = get_n_closer(key_word, num_neighbors, word2vec)\n",
    "        except :\n",
    "            print(key_word + ' not in word2vec')\n",
    "\n",
    "        knowledge_base.update(neighbors)\n",
    "        \n",
    "        out.update(progress(ii, len(key_words)-1))\n",
    "    return knowledge_base"
   ]
  },
  {
   "cell_type": "code",
   "execution_count": 35,
   "metadata": {},
   "outputs": [
    {
     "data": {
      "text/html": [
       "\n",
       "        <progress\n",
       "            value='13'\n",
       "            max='13',\n",
       "            style='width: 100%'\n",
       "        >\n",
       "            13\n",
       "        </progress>\n",
       "    "
      ],
      "text/plain": [
       "<IPython.core.display.HTML object>"
      ]
     },
     "metadata": {},
     "output_type": "display_data"
    }
   ],
   "source": [
    "#word2vec = load_word2vec(our_word2vec)\n",
    "knowledge_base = create_knowledge_base(10, word2vec, key_words)"
   ]
  },
  {
   "cell_type": "code",
   "execution_count": 36,
   "metadata": {},
   "outputs": [
    {
     "name": "stdout",
     "output_type": "stream",
     "text": [
      "{'find', 'including', 'began', 'gain', 'international', 'accrual', 'six-month', 'tax-qualified', 'analyzing', 'sometimes', 'distribute', 'intended', 'rising', 'junk', 'line', 'reed', 'rent', 'perform', 'feature', 'inflation-protected', 'represents', 'sector', 'exchange-rate', 'focus', 'associated', 'paper', 'bond', 'try', 'historical', 'statutory', 'whole', 'help', 'finance', 'book', 'indicator', 'resemble', 'drs', 'smallest', 'utility', 'dividend', 'concentrated', 'important', 'valuation', 'income', 'poorly', 'equity', 'mandated', 'europe', 'maturity', 'california', 'japan', 'extreme', 'commodity', 'consumer', 'allocated', 'condition', 'region', 'cap', 'measure', 'capital', 'managing', 'hedged', 'focused', 'fail', 'right', 'august', 'although', 'accounting', 'compare', 'generally', 'undervalued', 'slump', 'fund', 'exposed', 'description', 'processed', 'incurred', 'major', 'main', 'kingdom', 'current', 'appropriate', 'close', 'positive', 'owned', 'dependent', 'meaning', 'exempt', 'long', 'ordinary', 'closely', 'moderate', 'multi-factor', 'consolidation', 'april', 'enhancement', 'high', 'exception', 'delay', 'risk', 'significant', 'characteristic', 'marginal', 'inclusion', 'technological', 'cash', 'ability', 'special', 'weighting', 'loan', 'correspond', 'different', 'short', 'global', 'percentage', 'wide', 'payroll', 'involves', 'reason', 'small-cap', 'mid', 'intense', 'mortgage', 'enforce', 'small', 'extended', 'default', 'balance', 'large', 'regularly', 'low', 'subject', 'topic'}\n"
     ]
    }
   ],
   "source": [
    "print(knowledge_base)"
   ]
  },
  {
   "cell_type": "code",
   "execution_count": 111,
   "metadata": {},
   "outputs": [
    {
     "data": {
      "text/html": [
       "<div>\n",
       "<style scoped>\n",
       "    .dataframe tbody tr th:only-of-type {\n",
       "        vertical-align: middle;\n",
       "    }\n",
       "\n",
       "    .dataframe tbody tr th {\n",
       "        vertical-align: top;\n",
       "    }\n",
       "\n",
       "    .dataframe thead th {\n",
       "        text-align: right;\n",
       "    }\n",
       "</style>\n",
       "<table border=\"1\" class=\"dataframe\">\n",
       "  <thead>\n",
       "    <tr style=\"text-align: right;\">\n",
       "      <th></th>\n",
       "      <th>id</th>\n",
       "      <th>fund_name</th>\n",
       "      <th>Performance fee?</th>\n",
       "      <th>Ivestment Strategy</th>\n",
       "      <th>Leverage?</th>\n",
       "      <th>Portfolio composition</th>\n",
       "      <th>Concentration</th>\n",
       "      <th>summary</th>\n",
       "    </tr>\n",
       "  </thead>\n",
       "  <tbody>\n",
       "    <tr>\n",
       "      <th>0</th>\n",
       "      <td>0000051931-18-000151</td>\n",
       "      <td>American Funds College 2018 Fund</td>\n",
       "      <td>None</td>\n",
       "      <td>Balanced Fund (Low Risk)</td>\n",
       "      <td>Yes</td>\n",
       "      <td>Investment grade securities</td>\n",
       "      <td>Diversified</td>\n",
       "      <td>American Funds College 2018 Fund\\n\\nInvestment...</td>\n",
       "    </tr>\n",
       "    <tr>\n",
       "      <th>1</th>\n",
       "      <td>0000051931-18-000151</td>\n",
       "      <td>American Funds College 2021 Fund</td>\n",
       "      <td>None</td>\n",
       "      <td>Balanced Fund (Low Risk)</td>\n",
       "      <td>Yes</td>\n",
       "      <td>Investment grade securities</td>\n",
       "      <td>Diversified</td>\n",
       "      <td>American Funds College 2021 Fund\\n\\nInvestment...</td>\n",
       "    </tr>\n",
       "    <tr>\n",
       "      <th>2</th>\n",
       "      <td>0000051931-18-000151</td>\n",
       "      <td>American Funds College 2024 Fund</td>\n",
       "      <td>None</td>\n",
       "      <td>Balanced Fund (Low Risk)</td>\n",
       "      <td>Yes</td>\n",
       "      <td>Investment grade securities</td>\n",
       "      <td>Diversified</td>\n",
       "      <td>American Funds College 2024 Fund\\n\\nInvestment...</td>\n",
       "    </tr>\n",
       "    <tr>\n",
       "      <th>3</th>\n",
       "      <td>0000051931-18-000151</td>\n",
       "      <td>American Funds College 2027 Fund</td>\n",
       "      <td>None</td>\n",
       "      <td>Balanced Fund (Low Risk)</td>\n",
       "      <td>Yes</td>\n",
       "      <td>Investment grade securities</td>\n",
       "      <td>Diversified</td>\n",
       "      <td>American Funds College 2027 Fund\\n\\nInvestment...</td>\n",
       "    </tr>\n",
       "    <tr>\n",
       "      <th>4</th>\n",
       "      <td>0000051931-18-000151</td>\n",
       "      <td>American Funds College 2030 Fund</td>\n",
       "      <td>None</td>\n",
       "      <td>Balanced Fund (Low Risk)</td>\n",
       "      <td>Yes</td>\n",
       "      <td>Investment grade securities</td>\n",
       "      <td>Diversified</td>\n",
       "      <td>American Funds College 2030 Fund\\n\\nInvestment...</td>\n",
       "    </tr>\n",
       "  </tbody>\n",
       "</table>\n",
       "</div>"
      ],
      "text/plain": [
       "                     id                         fund_name Performance fee?  \\\n",
       "0  0000051931-18-000151  American Funds College 2018 Fund             None   \n",
       "1  0000051931-18-000151  American Funds College 2021 Fund             None   \n",
       "2  0000051931-18-000151  American Funds College 2024 Fund             None   \n",
       "3  0000051931-18-000151  American Funds College 2027 Fund             None   \n",
       "4  0000051931-18-000151  American Funds College 2030 Fund             None   \n",
       "\n",
       "         Ivestment Strategy Leverage?        Portfolio composition  \\\n",
       "0  Balanced Fund (Low Risk)       Yes  Investment grade securities   \n",
       "1  Balanced Fund (Low Risk)       Yes  Investment grade securities   \n",
       "2  Balanced Fund (Low Risk)       Yes  Investment grade securities   \n",
       "3  Balanced Fund (Low Risk)       Yes  Investment grade securities   \n",
       "4  Balanced Fund (Low Risk)       Yes  Investment grade securities   \n",
       "\n",
       "   Concentration                                            summary  \n",
       "0    Diversified  American Funds College 2018 Fund\\n\\nInvestment...  \n",
       "1    Diversified  American Funds College 2021 Fund\\n\\nInvestment...  \n",
       "2    Diversified  American Funds College 2024 Fund\\n\\nInvestment...  \n",
       "3    Diversified  American Funds College 2027 Fund\\n\\nInvestment...  \n",
       "4    Diversified  American Funds College 2030 Fund\\n\\nInvestment...  "
      ]
     },
     "execution_count": 111,
     "metadata": {},
     "output_type": "execute_result"
    }
   ],
   "source": [
    "# We create here the dataframe tha contains the summaries along with their labels\n",
    "df_extraction = pd.DataFrame({'fund_name' : fund_names, 'summary':summaries})\n",
    "df_label = pd.read_csv(SUMMARY_LABELS_PATH)\n",
    "df = df_label.merge(df_extraction, on='fund_name', how='left').dropna()\n",
    "df.head()"
   ]
  },
  {
   "cell_type": "code",
   "execution_count": 112,
   "metadata": {},
   "outputs": [],
   "source": [
    "# Takes a summary, the knowledge base and some hyper parameters and returns the \"num_sent\" sentences\n",
    "# of the summary that are closer to the the knowledge base in term of spacial distances.\n",
    "def extract_sentence_distance(summary, knowledge, n_closer, n_reject, num_sent):\n",
    "    # Split the summary into sentences.\n",
    "    sentences = sent_tokenize(summary)\n",
    "    sentence_scores = []\n",
    "    # Loop over the sentences.\n",
    "    for j, sentence in enumerate(sentences):\n",
    "        # we tokenize and clean the sentence\n",
    "        tokens = tokenizer(sentence)\n",
    "\n",
    "        sentence_barycentre = np.zeros(embedding_size)\n",
    "        effective_len = 0\n",
    "        # Compute the barycentre of the sentence\n",
    "        for token in tokens :\n",
    "            try :\n",
    "                sentence_barycentre += np.array(word2vec[token])\n",
    "                effective_len += 1\n",
    "            except KeyError :\n",
    "                pass\n",
    "            except :\n",
    "                raise\n",
    "        \n",
    "        # Reject sentences with less than n_reject words in our word2vec map\n",
    "        if effective_len <= n_reject :\n",
    "            sentence_scores.append(1)    \n",
    "\n",
    "        else :\n",
    "            sentence_barycentre = sentence_barycentre/effective_len\n",
    "            # Compute the distance sentece_barycentre -> words in our knowledge base\n",
    "            barycentre_distance = [cosine(sentence_barycentre, word2vec[key_word]) for key_word in knowledge]\n",
    "            barycentre_distance.sort()\n",
    "            # Create the score of the sentence by averaging the \"n_closer\" smallest distances\n",
    "            score = np.mean(barycentre_distance[:n_closer])\n",
    "            sentence_scores.append(score)\n",
    "    # Select the \"num_sent\" sentences that have the smallest score (smallest distance score with the knowledge base)\n",
    "    sentence_scores, sentences = zip(*sorted(zip(sentence_scores, sentences)))\n",
    "    top_sentences = sentences[:num_sent]\n",
    "    return ' '.join(top_sentences)"
   ]
  },
  {
   "cell_type": "code",
   "execution_count": 113,
   "metadata": {},
   "outputs": [],
   "source": [
    "df['deriv_sentences_distance'] = df.apply(lambda x : extract_sentence_distance(x['summary'], knowledge_base, n_closer=10, n_reject=5, num_sent=5), axis=1)"
   ]
  },
  {
   "cell_type": "code",
   "execution_count": 114,
   "metadata": {},
   "outputs": [],
   "source": [
    "def extract_sentence_match(summary, knowledge, num_sent):\n",
    "    sentences = sent_tokenize(summary)\n",
    "    sentence_scores = []\n",
    "    for j, sentence in enumerate(sentences):\n",
    "        set_tokens = set(tokenizer(sentence))\n",
    "\n",
    "        # Find the number of common words between the knowledge base and the sentence\n",
    "        inter_knwoledge = set_tokens.intersection(knowledge)\n",
    "\n",
    "        sentence_scores.append(len(inter_knwoledge))\n",
    "\n",
    "    sentence_scores, sentences = zip(*sorted(zip(sentence_scores, sentences)))\n",
    "    top_sentences = sentences[len(sentences)-num_sent-1:]\n",
    "    return ' '.join(top_sentences)"
   ]
  },
  {
   "cell_type": "code",
   "execution_count": 115,
   "metadata": {},
   "outputs": [],
   "source": [
    "df['deriv_sentences_match'] = df.apply(lambda x : extract_sentence_match(x['summary'], knowledge_base, num_sent=5), axis=1)"
   ]
  },
  {
   "cell_type": "code",
   "execution_count": 116,
   "metadata": {},
   "outputs": [
    {
     "data": {
      "text/plain": [
       "'anticipated merger consummated april however series reserve right delay closing merger investing fut'"
      ]
     },
     "execution_count": 116,
     "metadata": {},
     "output_type": "execute_result"
    }
   ],
   "source": [
    "X = df['deriv_sentences_distance'].values\n",
    "# X = df['deriv_sentences_distance'].values # uncomment to use the first sentence extraction method.\n",
    "# Clean the texts\n",
    "X = [' '.join(tokenizer(txt)) for txt in X]\n",
    "X[0][:100]"
   ]
  },
  {
   "cell_type": "code",
   "execution_count": 117,
   "metadata": {},
   "outputs": [
    {
     "name": "stdout",
     "output_type": "stream",
     "text": [
      "['Balanced Fund (Low Risk)' 'Fixed Income Long Only (Low Risk)'\n",
      " 'Equity Long Only (Low Risk)' 'Long Short Funds (High Risk)']\n",
      "0               Balanced Fund (Low Risk)\n",
      "1               Balanced Fund (Low Risk)\n",
      "2               Balanced Fund (Low Risk)\n",
      "3               Balanced Fund (Low Risk)\n",
      "4               Balanced Fund (Low Risk)\n",
      "                     ...                \n",
      "461    Fixed Income Long Only (Low Risk)\n",
      "462    Fixed Income Long Only (Low Risk)\n",
      "463          Equity Long Only (Low Risk)\n",
      "464          Equity Long Only (Low Risk)\n",
      "465          Equity Long Only (Low Risk)\n",
      "Name: Ivestment Strategy, Length: 465, dtype: object\n"
     ]
    }
   ],
   "source": [
    "print(df['Ivestment Strategy'].unique())\n",
    "print(df['Ivestment Strategy'])"
   ]
  },
  {
   "cell_type": "code",
   "execution_count": 119,
   "metadata": {},
   "outputs": [
    {
     "data": {
      "text/plain": [
       "{0: 1.3839285714285714,\n",
       " 1: 0.4706477732793522,\n",
       " 2: 0.8942307692307693,\n",
       " 3: 29.0625}"
      ]
     },
     "execution_count": 119,
     "metadata": {},
     "output_type": "execute_result"
    }
   ],
   "source": [
    "from sklearn.utils import class_weight\n",
    "class_weights = class_weight.compute_class_weight(class_weight='balanced',classes=np.unique(df['Ivestment Strategy']),y=df['Ivestment Strategy'])\n",
    "class_weights = dict(enumerate(class_weights))\n",
    "class_weights"
   ]
  },
  {
   "cell_type": "code",
   "execution_count": 118,
   "metadata": {},
   "outputs": [
    {
     "data": {
      "text/plain": [
       "array([[1, 0, 0, 0],\n",
       "       [1, 0, 0, 0],\n",
       "       [1, 0, 0, 0],\n",
       "       ...,\n",
       "       [0, 1, 0, 0],\n",
       "       [0, 1, 0, 0],\n",
       "       [0, 1, 0, 0]], dtype=uint8)"
      ]
     },
     "execution_count": 118,
     "metadata": {},
     "output_type": "execute_result"
    }
   ],
   "source": [
    "y=np.array(pd.get_dummies(df['Ivestment Strategy']))\n",
    "y"
   ]
  },
  {
   "cell_type": "code",
   "execution_count": 120,
   "metadata": {},
   "outputs": [],
   "source": [
    "X_train, X_test, y_train, y_test = train_test_split(X, y, test_size = 0.2, random_state=42)"
   ]
  },
  {
   "cell_type": "code",
   "execution_count": 121,
   "metadata": {},
   "outputs": [
    {
     "data": {
      "text/html": [
       "\n",
       "        <progress\n",
       "            value='464'\n",
       "            max='465',\n",
       "            style='width: 100%'\n",
       "        >\n",
       "            464\n",
       "        </progress>\n",
       "    "
      ],
      "text/plain": [
       "<IPython.core.display.HTML object>"
      ]
     },
     "metadata": {},
     "output_type": "display_data"
    },
    {
     "name": "stderr",
     "output_type": "stream",
     "text": [
      "E:\\anaconda\\lib\\site-packages\\seaborn\\distributions.py:2557: FutureWarning: `distplot` is a deprecated function and will be removed in a future version. Please adapt your code to use either `displot` (a figure-level function with similar flexibility) or `histplot` (an axes-level function for histograms).\n",
      "  warnings.warn(msg, FutureWarning)\n",
      "E:\\anaconda\\lib\\site-packages\\seaborn\\distributions.py:2056: FutureWarning: The `axis` variable is no longer used and will be removed. Instead, assign variables directly to `x` or `y`.\n",
      "  warnings.warn(msg, FutureWarning)\n"
     ]
    },
    {
     "data": {
      "text/plain": [
       "<AxesSubplot:>"
      ]
     },
     "execution_count": 121,
     "metadata": {},
     "output_type": "execute_result"
    },
    {
     "data": {
      "image/png": "[encoded data removed]",
      "text/plain": [
       "<Figure size 432x288 with 1 Axes>"
      ]
     },
     "metadata": {
      "needs_background": "light"
     },
     "output_type": "display_data"
    }
   ],
   "source": [
    "# In order to set the length of the document series (maxlen), we visualise the distribution of the number of words per documents.\n",
    "sizes = []\n",
    "out = display(progress(0, len(X)), display_id=True)\n",
    "for ii, txt in enumerate(X):\n",
    "    sizes.append(len(word_tokenize(txt)))\n",
    "    out.update(progress(ii, len(X)))\n",
    "\n",
    "sns.distplot(sizes, kde=False, rug=True)"
   ]
  },
  {
   "cell_type": "code",
   "execution_count": 128,
   "metadata": {},
   "outputs": [
    {
     "name": "stdout",
     "output_type": "stream",
     "text": [
      "Text : furthermore smaller company often limited product line operating history market and/or financial resource may dependent one key person management susceptible loss investor farther retirement risk fund may invest much investment designed ensure capital conservation current income may prevent investor meeting retirement goal investing future delivery contract underlying fund may enter contract to-be-announced contract mortgage dollar roll involve underlying fund selling mortgage-related security simultaneously contracting repurchase similar security delivery future date predetermined price example often difficult value dispose small company stock difficult obtain information smaller company larger company msci® country world ex usa index represents portion equity security outside u.s. certain underlying fund may invest\n",
      "Index sequences : [459, 159, 4, 202, 125, 99, 489, 228, 229, 6, 57, 58, 48, 305, 2, 306, 141, 291, 490, 25, 432, 43, 18, 863, 215, 8, 1, 2, 39, 491, 5, 126, 763, 31, 678, 162, 14, 2, 803, 18, 433, 215, 864, 82, 11, 146, 12, 29, 1, 2, 413, 12, 353, 573, 574, 12, 74, 292, 575, 414, 29, 1, 177, 74, 122, 3, 608, 609, 264, 83, 3, 146, 11, 45, 610, 17, 246, 202, 255, 15, 549, 163, 4, 10, 255, 550, 24, 159, 4, 322, 4, 804, 97, 166, 611, 805, 9, 612, 363, 55, 3, 415, 37, 40, 47, 29, 1, 2, 39]\n"
     ]
    }
   ],
   "source": [
    "num_words = 2500 # Size of the vocabulary used. we only consider the 2500 most common words. The other words are removed from the texts.\n",
    "maxlen = 100 # Number of word considered for each document. we cut or lengthen the texts to have texts of 150 words.\n",
    "word_dimension = 50 # dimension of our word vectors.\n",
    "\n",
    "word2vec_g = load_word2vec(glove_word2vec)\n",
    "\n",
    "# The Tokenizer provided by the Keras library allows to perform such transformation.\n",
    "keras_tokenizer = Tokenizer(num_words=num_words)\n",
    "keras_tokenizer.fit_on_texts(X_train)\n",
    "# word_index is the dictionary that contains the index of each words in our 2500 long vocabulary.\n",
    "word_index = keras_tokenizer.word_index\n",
    "sequences_train = keras_tokenizer.texts_to_sequences(X_train)\n",
    "sequences_test = keras_tokenizer.texts_to_sequences(X_test)\n",
    "\n",
    "print('Text : '+X_train[0])\n",
    "print('Index sequences : ' +str(sequences_train[0]))"
   ]
  },
  {
   "cell_type": "code",
   "execution_count": 129,
   "metadata": {},
   "outputs": [],
   "source": [
    "feature_train = pad_sequences(sequences_train, maxlen=maxlen, dtype=float, padding='post', truncating='post')\n",
    "feature_test = pad_sequences(sequences_test, maxlen=maxlen, dtype=float, padding='post', truncating='post')"
   ]
  },
  {
   "cell_type": "code",
   "execution_count": 130,
   "metadata": {},
   "outputs": [
    {
     "name": "stdout",
     "output_type": "stream",
     "text": [
      "length of the first sequence : 109\n",
      "length of the paded first sequence : 100\n"
     ]
    }
   ],
   "source": [
    "print ('length of the first sequence : '+str(len(sequences_train[0])) )\n",
    "print ('length of the paded first sequence : '+str(len(feature_train[0])) )"
   ]
  },
  {
   "cell_type": "code",
   "execution_count": 131,
   "metadata": {},
   "outputs": [],
   "source": [
    "embedding_matrix = np.zeros((len(word_index) + 1, word_dimension))\n",
    "for word, i in word_index.items():\n",
    "    #embedding_vector = word2vec_g.get(word)\n",
    "    embedding_vector = word2vec.get(word)   # uncomment to use our own word2vec\n",
    "    if embedding_vector is not None:\n",
    "        embedding_matrix[i] = embedding_vector"
   ]
  },
  {
   "cell_type": "code",
   "execution_count": 132,
   "metadata": {},
   "outputs": [],
   "source": [
    "def create_RNN_model():\n",
    "    RNN = Sequential()\n",
    "    RNN.add(Embedding(len(word_index) + 1, word_dimension, weights=[embedding_matrix], input_length = maxlen, trainable=False))\n",
    "\n",
    "    RNN.add(Bidirectional(LSTM(word_dimension)))\n",
    "    RNN.add(Dense(word_dimension, activation='relu'))\n",
    "    RNN.add(Dense(4, activation='sigmoid'))\n",
    "    RNN.compile(loss='categorical_crossentropy', optimizer='Adam', metrics=['accuracy'])\n",
    "    \n",
    "    return RNN"
   ]
  },
  {
   "cell_type": "code",
   "execution_count": 135,
   "metadata": {},
   "outputs": [
    {
     "name": "stdout",
     "output_type": "stream",
     "text": [
      "Epoch 1/100\n",
      "93/93 [==============================] - 9s 40ms/step - loss: 1.2509 - accuracy: 0.2285 - val_loss: 1.2529 - val_accuracy: 0.1398\n",
      "Epoch 2/100\n",
      "93/93 [==============================] - 2s 23ms/step - loss: 1.1893 - accuracy: 0.3360 - val_loss: 1.1847 - val_accuracy: 0.4946\n",
      "Epoch 3/100\n",
      "93/93 [==============================] - 2s 23ms/step - loss: 1.1156 - accuracy: 0.2742 - val_loss: 1.2278 - val_accuracy: 0.1935\n",
      "Epoch 4/100\n",
      "93/93 [==============================] - 2s 23ms/step - loss: 1.1211 - accuracy: 0.2957 - val_loss: 1.2105 - val_accuracy: 0.5484\n",
      "Epoch 5/100\n",
      "93/93 [==============================] - 2s 22ms/step - loss: 1.0786 - accuracy: 0.3790 - val_loss: 1.2621 - val_accuracy: 0.2688\n",
      "Epoch 6/100\n",
      "93/93 [==============================] - 2s 23ms/step - loss: 1.0852 - accuracy: 0.4140 - val_loss: 1.2543 - val_accuracy: 0.4194\n",
      "Epoch 7/100\n",
      "93/93 [==============================] - 2s 22ms/step - loss: 1.0890 - accuracy: 0.2769 - val_loss: 1.2345 - val_accuracy: 0.5269\n",
      "Epoch 8/100\n",
      "93/93 [==============================] - 2s 23ms/step - loss: 1.0587 - accuracy: 0.4866 - val_loss: 1.2443 - val_accuracy: 0.4731\n",
      "Epoch 9/100\n",
      "93/93 [==============================] - 2s 23ms/step - loss: 1.0763 - accuracy: 0.4435 - val_loss: 1.2533 - val_accuracy: 0.3656\n",
      "Epoch 10/100\n",
      "93/93 [==============================] - 2s 23ms/step - loss: 1.0611 - accuracy: 0.4462 - val_loss: 1.2701 - val_accuracy: 0.4946\n",
      "Epoch 11/100\n",
      "93/93 [==============================] - 2s 22ms/step - loss: 1.0583 - accuracy: 0.4435 - val_loss: 1.2716 - val_accuracy: 0.4624\n",
      "Epoch 12/100\n",
      "93/93 [==============================] - 2s 23ms/step - loss: 1.0587 - accuracy: 0.4597 - val_loss: 1.2812 - val_accuracy: 0.4301\n",
      "Epoch 13/100\n",
      "93/93 [==============================] - 2s 22ms/step - loss: 1.0503 - accuracy: 0.4570 - val_loss: 1.2756 - val_accuracy: 0.5054\n",
      "Epoch 14/100\n",
      "93/93 [==============================] - 2s 22ms/step - loss: 1.0560 - accuracy: 0.4435 - val_loss: 1.2959 - val_accuracy: 0.4624\n",
      "Epoch 15/100\n",
      "93/93 [==============================] - 2s 23ms/step - loss: 1.0347 - accuracy: 0.4731 - val_loss: 1.1985 - val_accuracy: 0.5269\n",
      "Epoch 16/100\n",
      "93/93 [==============================] - 2s 22ms/step - loss: 1.0739 - accuracy: 0.3629 - val_loss: 1.2714 - val_accuracy: 0.4516\n",
      "Epoch 17/100\n",
      "93/93 [==============================] - 2s 22ms/step - loss: 1.0454 - accuracy: 0.3656 - val_loss: 1.2463 - val_accuracy: 0.5269\n",
      "Epoch 18/100\n",
      "93/93 [==============================] - 2s 22ms/step - loss: 1.0361 - accuracy: 0.4543 - val_loss: 1.2800 - val_accuracy: 0.3333\n",
      "Epoch 19/100\n",
      "93/93 [==============================] - 2s 23ms/step - loss: 1.0367 - accuracy: 0.3790 - val_loss: 1.2674 - val_accuracy: 0.5161\n",
      "Epoch 20/100\n",
      "93/93 [==============================] - 2s 23ms/step - loss: 1.0316 - accuracy: 0.4677 - val_loss: 1.2757 - val_accuracy: 0.3978\n",
      "Epoch 21/100\n",
      "93/93 [==============================] - 2s 22ms/step - loss: 1.0258 - accuracy: 0.3844 - val_loss: 1.2439 - val_accuracy: 0.4516\n",
      "Epoch 22/100\n",
      "93/93 [==============================] - 2s 21ms/step - loss: 1.0878 - accuracy: 0.4274 - val_loss: 1.2647 - val_accuracy: 0.4946\n",
      "Epoch 23/100\n",
      "93/93 [==============================] - 2s 22ms/step - loss: 1.0220 - accuracy: 0.4973 - val_loss: 1.2657 - val_accuracy: 0.4624\n",
      "Epoch 24/100\n",
      "93/93 [==============================] - 2s 22ms/step - loss: 1.0175 - accuracy: 0.5000 - val_loss: 1.2796 - val_accuracy: 0.4624\n",
      "Epoch 25/100\n",
      "93/93 [==============================] - 2s 22ms/step - loss: 0.9589 - accuracy: 0.4919 - val_loss: 1.1929 - val_accuracy: 0.4409\n",
      "Epoch 26/100\n",
      "93/93 [==============================] - 2s 23ms/step - loss: 1.0493 - accuracy: 0.4866 - val_loss: 1.1832 - val_accuracy: 0.4946\n",
      "Epoch 27/100\n",
      "93/93 [==============================] - 2s 22ms/step - loss: 1.0481 - accuracy: 0.3844 - val_loss: 1.2513 - val_accuracy: 0.3763\n",
      "Epoch 28/100\n",
      "93/93 [==============================] - 2s 22ms/step - loss: 0.9890 - accuracy: 0.5134 - val_loss: 1.2234 - val_accuracy: 0.5054\n",
      "Epoch 29/100\n",
      "93/93 [==============================] - 2s 23ms/step - loss: 0.9203 - accuracy: 0.4220 - val_loss: 1.2056 - val_accuracy: 0.5376\n",
      "Epoch 30/100\n",
      "93/93 [==============================] - 2s 22ms/step - loss: 0.8960 - accuracy: 0.5349 - val_loss: 1.2074 - val_accuracy: 0.3763\n",
      "Epoch 31/100\n",
      "93/93 [==============================] - 2s 23ms/step - loss: 0.8349 - accuracy: 0.4946 - val_loss: 1.2589 - val_accuracy: 0.3226\n",
      "Epoch 32/100\n",
      "93/93 [==============================] - 2s 23ms/step - loss: 0.7909 - accuracy: 0.5000 - val_loss: 1.1031 - val_accuracy: 0.6129\n",
      "Epoch 33/100\n",
      "93/93 [==============================] - 2s 22ms/step - loss: 0.7733 - accuracy: 0.5376 - val_loss: 1.0778 - val_accuracy: 0.6129\n",
      "Epoch 34/100\n",
      "93/93 [==============================] - 2s 23ms/step - loss: 0.7235 - accuracy: 0.5457 - val_loss: 1.2026 - val_accuracy: 0.3763\n",
      "Epoch 35/100\n",
      "93/93 [==============================] - 2s 22ms/step - loss: 0.6784 - accuracy: 0.5968 - val_loss: 1.3166 - val_accuracy: 0.3871\n",
      "Epoch 36/100\n",
      "93/93 [==============================] - 2s 22ms/step - loss: 0.6860 - accuracy: 0.5376 - val_loss: 1.1402 - val_accuracy: 0.5484\n",
      "Epoch 37/100\n",
      "93/93 [==============================] - 2s 22ms/step - loss: 0.7177 - accuracy: 0.5780 - val_loss: 1.0802 - val_accuracy: 0.5054\n",
      "Epoch 38/100\n",
      "93/93 [==============================] - 2s 23ms/step - loss: 0.6398 - accuracy: 0.5645 - val_loss: 1.0675 - val_accuracy: 0.5484\n",
      "Epoch 39/100\n",
      "93/93 [==============================] - 2s 23ms/step - loss: 0.6137 - accuracy: 0.6022 - val_loss: 1.0366 - val_accuracy: 0.5376\n",
      "Epoch 40/100\n",
      "93/93 [==============================] - 2s 22ms/step - loss: 0.5846 - accuracy: 0.6156 - val_loss: 1.0729 - val_accuracy: 0.5484\n",
      "Epoch 41/100\n",
      "93/93 [==============================] - 2s 23ms/step - loss: 0.5813 - accuracy: 0.5995 - val_loss: 1.0732 - val_accuracy: 0.5914\n",
      "Epoch 42/100\n",
      "93/93 [==============================] - 2s 23ms/step - loss: 0.5534 - accuracy: 0.6022 - val_loss: 1.1385 - val_accuracy: 0.5376\n",
      "Epoch 43/100\n",
      "93/93 [==============================] - 2s 22ms/step - loss: 0.5656 - accuracy: 0.6156 - val_loss: 1.0983 - val_accuracy: 0.4839\n",
      "Epoch 44/100\n",
      "93/93 [==============================] - 2s 22ms/step - loss: 0.5209 - accuracy: 0.6398 - val_loss: 1.0224 - val_accuracy: 0.6022\n",
      "Epoch 45/100\n",
      "93/93 [==============================] - 2s 24ms/step - loss: 0.4991 - accuracy: 0.6586 - val_loss: 1.0661 - val_accuracy: 0.5161\n",
      "Epoch 46/100\n",
      "93/93 [==============================] - 2s 22ms/step - loss: 0.4869 - accuracy: 0.6801 - val_loss: 1.0397 - val_accuracy: 0.5054\n",
      "Epoch 47/100\n",
      "93/93 [==============================] - 2s 24ms/step - loss: 0.4784 - accuracy: 0.6747 - val_loss: 1.0752 - val_accuracy: 0.5054\n",
      "Epoch 48/100\n",
      "93/93 [==============================] - 2s 23ms/step - loss: 0.5250 - accuracy: 0.6774 - val_loss: 1.0069 - val_accuracy: 0.4624\n",
      "Epoch 49/100\n",
      "93/93 [==============================] - 2s 23ms/step - loss: 0.4629 - accuracy: 0.7070 - val_loss: 1.0239 - val_accuracy: 0.4731\n",
      "Epoch 50/100\n",
      "93/93 [==============================] - 2s 23ms/step - loss: 0.4215 - accuracy: 0.7151 - val_loss: 1.2889 - val_accuracy: 0.4946\n",
      "Epoch 51/100\n",
      "93/93 [==============================] - 2s 23ms/step - loss: 0.4407 - accuracy: 0.7070 - val_loss: 0.9596 - val_accuracy: 0.6237\n",
      "Epoch 52/100\n",
      "93/93 [==============================] - 2s 23ms/step - loss: 0.4012 - accuracy: 0.7285 - val_loss: 0.9510 - val_accuracy: 0.5484\n",
      "Epoch 53/100\n",
      "93/93 [==============================] - 2s 24ms/step - loss: 0.4044 - accuracy: 0.7392 - val_loss: 1.0050 - val_accuracy: 0.5699\n",
      "Epoch 54/100\n",
      "93/93 [==============================] - 2s 24ms/step - loss: 0.3658 - accuracy: 0.7661 - val_loss: 0.9314 - val_accuracy: 0.6452\n",
      "Epoch 55/100\n",
      "93/93 [==============================] - 2s 22ms/step - loss: 0.3622 - accuracy: 0.7688 - val_loss: 1.0710 - val_accuracy: 0.5484\n",
      "Epoch 56/100\n",
      "93/93 [==============================] - 2s 22ms/step - loss: 0.3331 - accuracy: 0.7984 - val_loss: 0.9993 - val_accuracy: 0.6774\n",
      "Epoch 57/100\n",
      "93/93 [==============================] - 2s 22ms/step - loss: 0.3291 - accuracy: 0.8065 - val_loss: 1.0173 - val_accuracy: 0.6022\n",
      "Epoch 58/100\n",
      "93/93 [==============================] - 2s 21ms/step - loss: 0.3348 - accuracy: 0.7930 - val_loss: 0.9994 - val_accuracy: 0.6344\n",
      "Epoch 59/100\n",
      "93/93 [==============================] - 2s 22ms/step - loss: 0.3001 - accuracy: 0.8387 - val_loss: 1.0670 - val_accuracy: 0.6237\n",
      "Epoch 60/100\n",
      "93/93 [==============================] - 2s 22ms/step - loss: 0.2951 - accuracy: 0.8306 - val_loss: 0.9993 - val_accuracy: 0.6344\n",
      "Epoch 61/100\n",
      "93/93 [==============================] - 2s 20ms/step - loss: 0.2627 - accuracy: 0.8495 - val_loss: 1.0634 - val_accuracy: 0.6237\n",
      "Epoch 62/100\n",
      "93/93 [==============================] - 2s 22ms/step - loss: 0.2419 - accuracy: 0.8763 - val_loss: 1.0390 - val_accuracy: 0.6129\n",
      "Epoch 63/100\n",
      "93/93 [==============================] - 2s 22ms/step - loss: 0.2327 - accuracy: 0.8871 - val_loss: 0.9929 - val_accuracy: 0.6452\n",
      "Epoch 64/100\n",
      "93/93 [==============================] - 2s 21ms/step - loss: 0.2355 - accuracy: 0.8629 - val_loss: 1.0629 - val_accuracy: 0.6452\n",
      "Epoch 65/100\n",
      "93/93 [==============================] - 2s 21ms/step - loss: 0.2280 - accuracy: 0.8629 - val_loss: 1.2174 - val_accuracy: 0.6022\n",
      "Epoch 66/100\n",
      "93/93 [==============================] - 2s 22ms/step - loss: 0.2393 - accuracy: 0.8575 - val_loss: 1.0637 - val_accuracy: 0.6452\n",
      "Epoch 67/100\n",
      "93/93 [==============================] - 2s 22ms/step - loss: 0.1959 - accuracy: 0.9059 - val_loss: 1.0413 - val_accuracy: 0.6559\n",
      "Epoch 68/100\n",
      "93/93 [==============================] - 2s 21ms/step - loss: 0.1724 - accuracy: 0.9005 - val_loss: 1.0907 - val_accuracy: 0.6344\n",
      "Epoch 69/100\n",
      "93/93 [==============================] - 2s 22ms/step - loss: 0.1782 - accuracy: 0.9005 - val_loss: 1.1698 - val_accuracy: 0.6559\n",
      "Epoch 70/100\n",
      "93/93 [==============================] - 2s 21ms/step - loss: 0.2021 - accuracy: 0.8898 - val_loss: 1.2224 - val_accuracy: 0.6129\n",
      "Epoch 71/100\n",
      "93/93 [==============================] - 2s 22ms/step - loss: 0.1581 - accuracy: 0.9140 - val_loss: 1.1018 - val_accuracy: 0.7312\n",
      "Epoch 72/100\n",
      "93/93 [==============================] - 2s 21ms/step - loss: 0.1227 - accuracy: 0.9355 - val_loss: 1.1159 - val_accuracy: 0.6989\n",
      "Epoch 73/100\n",
      "93/93 [==============================] - 2s 21ms/step - loss: 0.1198 - accuracy: 0.9382 - val_loss: 1.1046 - val_accuracy: 0.6882\n",
      "Epoch 74/100\n",
      "93/93 [==============================] - 2s 22ms/step - loss: 0.1302 - accuracy: 0.9301 - val_loss: 1.1572 - val_accuracy: 0.7527\n",
      "Epoch 75/100\n",
      "93/93 [==============================] - 2s 21ms/step - loss: 0.1372 - accuracy: 0.9140 - val_loss: 1.3942 - val_accuracy: 0.6452\n",
      "Epoch 76/100\n",
      "93/93 [==============================] - 2s 21ms/step - loss: 0.1735 - accuracy: 0.9005 - val_loss: 1.1698 - val_accuracy: 0.7097\n",
      "Epoch 77/100\n",
      "93/93 [==============================] - 2s 21ms/step - loss: 0.0937 - accuracy: 0.9543 - val_loss: 1.1709 - val_accuracy: 0.6882\n",
      "Epoch 78/100\n",
      "93/93 [==============================] - 2s 21ms/step - loss: 0.1101 - accuracy: 0.9328 - val_loss: 1.3792 - val_accuracy: 0.6882\n",
      "Epoch 79/100\n",
      "93/93 [==============================] - 2s 21ms/step - loss: 0.0776 - accuracy: 0.9677 - val_loss: 1.2602 - val_accuracy: 0.7097\n",
      "Epoch 80/100\n",
      "93/93 [==============================] - 2s 21ms/step - loss: 0.0724 - accuracy: 0.9704 - val_loss: 1.6071 - val_accuracy: 0.6237\n",
      "Epoch 81/100\n",
      "93/93 [==============================] - 2s 21ms/step - loss: 0.2628 - accuracy: 0.8790 - val_loss: 1.2927 - val_accuracy: 0.6237\n",
      "Epoch 82/100\n",
      "93/93 [==============================] - 2s 21ms/step - loss: 0.1390 - accuracy: 0.9220 - val_loss: 1.2117 - val_accuracy: 0.6667\n",
      "Epoch 83/100\n",
      "93/93 [==============================] - 2s 21ms/step - loss: 0.1049 - accuracy: 0.9409 - val_loss: 1.3223 - val_accuracy: 0.6667\n",
      "Epoch 84/100\n",
      "93/93 [==============================] - 2s 21ms/step - loss: 0.0908 - accuracy: 0.9516 - val_loss: 1.4610 - val_accuracy: 0.6559\n",
      "Epoch 85/100\n",
      "93/93 [==============================] - 2s 22ms/step - loss: 0.1175 - accuracy: 0.9247 - val_loss: 1.1761 - val_accuracy: 0.6989\n",
      "Epoch 86/100\n",
      "93/93 [==============================] - 2s 22ms/step - loss: 0.0744 - accuracy: 0.9570 - val_loss: 1.2774 - val_accuracy: 0.6989\n",
      "Epoch 87/100\n",
      "93/93 [==============================] - 2s 22ms/step - loss: 0.0507 - accuracy: 0.9812 - val_loss: 1.2765 - val_accuracy: 0.7312\n",
      "Epoch 88/100\n",
      "93/93 [==============================] - 2s 22ms/step - loss: 0.0463 - accuracy: 0.9866 - val_loss: 1.3265 - val_accuracy: 0.7097\n",
      "Epoch 89/100\n",
      "93/93 [==============================] - 2s 22ms/step - loss: 0.0395 - accuracy: 0.9892 - val_loss: 1.2841 - val_accuracy: 0.7097\n",
      "Epoch 90/100\n",
      "93/93 [==============================] - 2s 22ms/step - loss: 0.0341 - accuracy: 0.9892 - val_loss: 1.3731 - val_accuracy: 0.7097\n",
      "Epoch 91/100\n",
      "93/93 [==============================] - 2s 20ms/step - loss: 0.0340 - accuracy: 0.9866 - val_loss: 1.3403 - val_accuracy: 0.7097\n",
      "Epoch 92/100\n",
      "93/93 [==============================] - 2s 21ms/step - loss: 0.0498 - accuracy: 0.9731 - val_loss: 1.3735 - val_accuracy: 0.7419\n",
      "Epoch 93/100\n",
      "93/93 [==============================] - 2s 21ms/step - loss: 0.0356 - accuracy: 0.9919 - val_loss: 1.4627 - val_accuracy: 0.7097\n",
      "Epoch 94/100\n",
      "93/93 [==============================] - 2s 22ms/step - loss: 0.0367 - accuracy: 0.9866 - val_loss: 1.4806 - val_accuracy: 0.7312\n",
      "Epoch 95/100\n",
      "93/93 [==============================] - 2s 21ms/step - loss: 0.0279 - accuracy: 0.9919 - val_loss: 1.5204 - val_accuracy: 0.7527\n",
      "Epoch 96/100\n",
      "93/93 [==============================] - 2s 22ms/step - loss: 0.0233 - accuracy: 0.9946 - val_loss: 1.5085 - val_accuracy: 0.7312\n",
      "Epoch 97/100\n",
      "93/93 [==============================] - 2s 22ms/step - loss: 0.0162 - accuracy: 0.9973 - val_loss: 1.5136 - val_accuracy: 0.7204\n",
      "Epoch 98/100\n",
      "93/93 [==============================] - 2s 21ms/step - loss: 0.0156 - accuracy: 0.9973 - val_loss: 1.5775 - val_accuracy: 0.7312\n",
      "Epoch 99/100\n",
      "93/93 [==============================] - 2s 21ms/step - loss: 0.0477 - accuracy: 0.9704 - val_loss: 1.7758 - val_accuracy: 0.6667\n",
      "Epoch 100/100\n",
      "93/93 [==============================] - 2s 23ms/step - loss: 0.1289 - accuracy: 0.9301 - val_loss: 1.7848 - val_accuracy: 0.6774\n"
     ]
    }
   ],
   "source": [
    "RNN_model = create_RNN_model()\n",
    "RNN_history = RNN_model.fit(feature_train, y_train, epochs=100, batch_size=4, validation_data=(feature_test, y_test),class_weight=class_weights)"
   ]
  },
  {
   "cell_type": "code",
   "execution_count": 136,
   "metadata": {},
   "outputs": [
    {
     "data": {
      "image/png": "[encoded data removed]",
      "text/plain": [
       "<Figure size 432x288 with 1 Axes>"
      ]
     },
     "metadata": {
      "needs_background": "light"
     },
     "output_type": "display_data"
    }
   ],
   "source": [
    "# Plot training & validation accuracy values\n",
    "plt.plot(RNN_history.history['accuracy'])\n",
    "plt.plot(RNN_history.history['val_accuracy'])\n",
    "plt.title('Model accuracy')\n",
    "plt.ylabel('Accuracy')\n",
    "plt.xlabel('Epoch')\n",
    "plt.legend(['Train', 'Test'], loc='upper left')\n",
    "plt.show()"
   ]
  },
  {
   "cell_type": "code",
   "execution_count": 137,
   "metadata": {},
   "outputs": [
    {
     "data": {
      "image/png": "[encoded data removed]",
      "text/plain": [
       "<Figure size 432x288 with 1 Axes>"
      ]
     },
     "metadata": {
      "needs_background": "light"
     },
     "output_type": "display_data"
    }
   ],
   "source": [
    "# Plot training & validation loss values\n",
    "plt.plot(RNN_history.history['loss'])\n",
    "plt.plot(RNN_history.history['val_loss'])\n",
    "plt.title('Model loss')\n",
    "plt.ylabel('Loss')\n",
    "plt.xlabel('Epoch')\n",
    "plt.legend(['Train', 'Test'], loc='upper left')\n",
    "plt.show()"
   ]
  },
  {
   "cell_type": "code",
   "execution_count": 138,
   "metadata": {},
   "outputs": [
    {
     "name": "stdout",
     "output_type": "stream",
     "text": [
      "Test loss: 1.7848471403121948\n",
      "Test accuracy: 0.6774193644523621\n"
     ]
    }
   ],
   "source": [
    "y_pred_RNN = RNN_model.predict(feature_test)\n",
    "score = RNN_model.evaluate(feature_test, y_test, verbose=0)\n",
    "print('Test loss:', score[0])\n",
    "print('Test accuracy:', score[1])\n",
    "results = [np.argmax(y_pred_RNN[i]) for i in range(len(y_pred_RNN))]"
   ]
  },
  {
   "cell_type": "code",
   "execution_count": 139,
   "metadata": {},
   "outputs": [
    {
     "data": {
      "text/plain": [
       "[0,\n",
       " 1,\n",
       " 0,\n",
       " 1,\n",
       " 2,\n",
       " 1,\n",
       " 2,\n",
       " 1,\n",
       " 0,\n",
       " 0,\n",
       " 0,\n",
       " 1,\n",
       " 1,\n",
       " 2,\n",
       " 2,\n",
       " 1,\n",
       " 1,\n",
       " 1,\n",
       " 1,\n",
       " 0,\n",
       " 1,\n",
       " 2,\n",
       " 2,\n",
       " 2,\n",
       " 1,\n",
       " 0,\n",
       " 0,\n",
       " 1,\n",
       " 0,\n",
       " 1,\n",
       " 1,\n",
       " 1,\n",
       " 1,\n",
       " 1,\n",
       " 0,\n",
       " 0,\n",
       " 1,\n",
       " 1,\n",
       " 1,\n",
       " 1,\n",
       " 2,\n",
       " 2,\n",
       " 2,\n",
       " 2,\n",
       " 1,\n",
       " 2,\n",
       " 0,\n",
       " 1,\n",
       " 0,\n",
       " 2,\n",
       " 1,\n",
       " 0,\n",
       " 1,\n",
       " 2,\n",
       " 2,\n",
       " 1,\n",
       " 1,\n",
       " 2,\n",
       " 1,\n",
       " 2,\n",
       " 2,\n",
       " 1,\n",
       " 0,\n",
       " 1,\n",
       " 2,\n",
       " 1,\n",
       " 1,\n",
       " 1,\n",
       " 1,\n",
       " 1,\n",
       " 1,\n",
       " 2,\n",
       " 0,\n",
       " 0,\n",
       " 1,\n",
       " 2,\n",
       " 1,\n",
       " 1,\n",
       " 2,\n",
       " 2,\n",
       " 0,\n",
       " 2,\n",
       " 1,\n",
       " 2,\n",
       " 0,\n",
       " 2,\n",
       " 0,\n",
       " 1,\n",
       " 1,\n",
       " 0,\n",
       " 1,\n",
       " 1,\n",
       " 2]"
      ]
     },
     "execution_count": 139,
     "metadata": {},
     "output_type": "execute_result"
    }
   ],
   "source": [
    "results"
   ]
  },
  {
   "cell_type": "code",
   "execution_count": null,
   "metadata": {},
   "outputs": [],
   "source": []
  }
 ],
 "metadata": {
  "interpreter": {
   "hash": "8d86c190dfcadcdaa67edec4a1ea82702241987b5b1f320c920d3d4ca36fee5b"
  },
  "kernelspec": {
   "display_name": "Python 3 (ipykernel)",
   "language": "python",
   "name": "python3"
  },
  "language_info": {
   "codemirror_mode": {
    "name": "ipython",
    "version": 3
   },
   "file_extension": ".py",
   "mimetype": "text/x-python",
   "name": "python",
   "nbconvert_exporter": "python",
   "pygments_lexer": "ipython3",
   "version": "3.7.11"
  }
 },
 "nbformat": 4,
 "nbformat_minor": 2
}
