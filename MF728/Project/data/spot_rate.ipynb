{
 "cells": [
  {
   "cell_type": "code",
   "execution_count": 220,
   "id": "87ba1a47",
   "metadata": {},
   "outputs": [],
   "source": [
    "import pandas as pd\n",
    "import numpy as np"
   ]
  },
  {
   "cell_type": "code",
   "execution_count": 240,
   "id": "428aca3b",
   "metadata": {},
   "outputs": [],
   "source": [
    "data = pd.read_csv('data.csv',index_col='Date')"
   ]
  },
  {
   "cell_type": "code",
   "execution_count": 241,
   "id": "8e6d946b",
   "metadata": {},
   "outputs": [
    {
     "data": {
      "text/html": [
       "<div>\n",
       "<style scoped>\n",
       "    .dataframe tbody tr th:only-of-type {\n",
       "        vertical-align: middle;\n",
       "    }\n",
       "\n",
       "    .dataframe tbody tr th {\n",
       "        vertical-align: top;\n",
       "    }\n",
       "\n",
       "    .dataframe thead th {\n",
       "        text-align: right;\n",
       "    }\n",
       "</style>\n",
       "<table border=\"1\" class=\"dataframe\">\n",
       "  <thead>\n",
       "    <tr style=\"text-align: right;\">\n",
       "      <th></th>\n",
       "      <th>ticker</th>\n",
       "      <th>Name</th>\n",
       "      <th>Par</th>\n",
       "      <th>CoupRt</th>\n",
       "      <th>Freq</th>\n",
       "      <th>Maturity</th>\n",
       "      <th>YrsTMat</th>\n",
       "      <th>Close Price</th>\n",
       "    </tr>\n",
       "    <tr>\n",
       "      <th>Date</th>\n",
       "      <th></th>\n",
       "      <th></th>\n",
       "      <th></th>\n",
       "      <th></th>\n",
       "      <th></th>\n",
       "      <th></th>\n",
       "      <th></th>\n",
       "      <th></th>\n",
       "    </tr>\n",
       "  </thead>\n",
       "  <tbody>\n",
       "    <tr>\n",
       "      <th>2018/1/31</th>\n",
       "      <td>G170009</td>\n",
       "      <td>17附息国债09</td>\n",
       "      <td>100</td>\n",
       "      <td>3.32</td>\n",
       "      <td>0</td>\n",
       "      <td>1</td>\n",
       "      <td>0.254795</td>\n",
       "      <td>100.00</td>\n",
       "    </tr>\n",
       "    <tr>\n",
       "      <th>2018/1/31</th>\n",
       "      <td>G170017</td>\n",
       "      <td>17附息国债17</td>\n",
       "      <td>100</td>\n",
       "      <td>3.33</td>\n",
       "      <td>0</td>\n",
       "      <td>1</td>\n",
       "      <td>0.504110</td>\n",
       "      <td>99.90</td>\n",
       "    </tr>\n",
       "    <tr>\n",
       "      <th>2018/1/31</th>\n",
       "      <td>G170024</td>\n",
       "      <td>17附息国债24</td>\n",
       "      <td>100</td>\n",
       "      <td>3.54</td>\n",
       "      <td>0</td>\n",
       "      <td>1</td>\n",
       "      <td>0.753425</td>\n",
       "      <td>100.00</td>\n",
       "    </tr>\n",
       "    <tr>\n",
       "      <th>2018/1/31</th>\n",
       "      <td>G170007</td>\n",
       "      <td>17附息国债07</td>\n",
       "      <td>100</td>\n",
       "      <td>3.13</td>\n",
       "      <td>1</td>\n",
       "      <td>5</td>\n",
       "      <td>4.197260</td>\n",
       "      <td>96.68</td>\n",
       "    </tr>\n",
       "    <tr>\n",
       "      <th>2018/1/31</th>\n",
       "      <td>G170014</td>\n",
       "      <td>17附息国债14</td>\n",
       "      <td>100</td>\n",
       "      <td>3.47</td>\n",
       "      <td>1</td>\n",
       "      <td>5</td>\n",
       "      <td>4.446575</td>\n",
       "      <td>97.95</td>\n",
       "    </tr>\n",
       "    <tr>\n",
       "      <th>...</th>\n",
       "      <td>...</td>\n",
       "      <td>...</td>\n",
       "      <td>...</td>\n",
       "      <td>...</td>\n",
       "      <td>...</td>\n",
       "      <td>...</td>\n",
       "      <td>...</td>\n",
       "      <td>...</td>\n",
       "    </tr>\n",
       "    <tr>\n",
       "      <th>2022/3/31</th>\n",
       "      <td>G170015</td>\n",
       "      <td>17附息国债15</td>\n",
       "      <td>100</td>\n",
       "      <td>4.05</td>\n",
       "      <td>2</td>\n",
       "      <td>30</td>\n",
       "      <td>25.315068</td>\n",
       "      <td>110.92</td>\n",
       "    </tr>\n",
       "    <tr>\n",
       "      <th>2022/3/31</th>\n",
       "      <td>G180017</td>\n",
       "      <td>18附息国债17</td>\n",
       "      <td>100</td>\n",
       "      <td>3.97</td>\n",
       "      <td>2</td>\n",
       "      <td>30</td>\n",
       "      <td>26.313541</td>\n",
       "      <td>109.01</td>\n",
       "    </tr>\n",
       "    <tr>\n",
       "      <th>2022/3/31</th>\n",
       "      <td>G190010</td>\n",
       "      <td>19附息国债10</td>\n",
       "      <td>100</td>\n",
       "      <td>3.86</td>\n",
       "      <td>2</td>\n",
       "      <td>30</td>\n",
       "      <td>27.309589</td>\n",
       "      <td>107.80</td>\n",
       "    </tr>\n",
       "    <tr>\n",
       "      <th>2022/3/31</th>\n",
       "      <td>G200004</td>\n",
       "      <td>20附息国债04</td>\n",
       "      <td>100</td>\n",
       "      <td>3.39</td>\n",
       "      <td>2</td>\n",
       "      <td>30</td>\n",
       "      <td>27.958904</td>\n",
       "      <td>99.05</td>\n",
       "    </tr>\n",
       "    <tr>\n",
       "      <th>2022/3/31</th>\n",
       "      <td>G190008</td>\n",
       "      <td>19附息国债08</td>\n",
       "      <td>100</td>\n",
       "      <td>4.00</td>\n",
       "      <td>2</td>\n",
       "      <td>50</td>\n",
       "      <td>47.232877</td>\n",
       "      <td>112.48</td>\n",
       "    </tr>\n",
       "  </tbody>\n",
       "</table>\n",
       "<p>452 rows × 8 columns</p>\n",
       "</div>"
      ],
      "text/plain": [
       "            ticker      Name  Par  CoupRt  Freq  Maturity    YrsTMat  \\\n",
       "Date                                                                   \n",
       "2018/1/31  G170009  17附息国债09  100    3.32     0         1   0.254795   \n",
       "2018/1/31  G170017  17附息国债17  100    3.33     0         1   0.504110   \n",
       "2018/1/31  G170024  17附息国债24  100    3.54     0         1   0.753425   \n",
       "2018/1/31  G170007  17附息国债07  100    3.13     1         5   4.197260   \n",
       "2018/1/31  G170014  17附息国债14  100    3.47     1         5   4.446575   \n",
       "...            ...       ...  ...     ...   ...       ...        ...   \n",
       "2022/3/31  G170015  17附息国债15  100    4.05     2        30  25.315068   \n",
       "2022/3/31  G180017  18附息国债17  100    3.97     2        30  26.313541   \n",
       "2022/3/31  G190010  19附息国债10  100    3.86     2        30  27.309589   \n",
       "2022/3/31  G200004  20附息国债04  100    3.39     2        30  27.958904   \n",
       "2022/3/31  G190008  19附息国债08  100    4.00     2        50  47.232877   \n",
       "\n",
       "           Close Price  \n",
       "Date                    \n",
       "2018/1/31       100.00  \n",
       "2018/1/31        99.90  \n",
       "2018/1/31       100.00  \n",
       "2018/1/31        96.68  \n",
       "2018/1/31        97.95  \n",
       "...                ...  \n",
       "2022/3/31       110.92  \n",
       "2022/3/31       109.01  \n",
       "2022/3/31       107.80  \n",
       "2022/3/31        99.05  \n",
       "2022/3/31       112.48  \n",
       "\n",
       "[452 rows x 8 columns]"
      ]
     },
     "execution_count": 241,
     "metadata": {},
     "output_type": "execute_result"
    }
   ],
   "source": [
    "data"
   ]
  },
  {
   "cell_type": "code",
   "execution_count": 242,
   "id": "f69a3c85",
   "metadata": {},
   "outputs": [
    {
     "data": {
      "text/plain": [
       "0.0019866573377025354"
      ]
     },
     "execution_count": 242,
     "metadata": {},
     "output_type": "execute_result"
    }
   ],
   "source": [
    "i = 1\n",
    "((data.iloc[i,2])/data.iloc[i,7])**(1/data.iloc[i,6])-1"
   ]
  },
  {
   "cell_type": "code",
   "execution_count": 259,
   "id": "8bae670c",
   "metadata": {},
   "outputs": [],
   "source": [
    "from scipy.optimize import root\n",
    "def compute_rate(coup,t,price):\n",
    "    if t >=1 :\n",
    "        \n",
    "        def func(x):\n",
    "            return coup/(1+x)**(t-int(t)) * ((1-(1/(1+x)**int(t)))/(1-1/(1+x))) + (coup+100)/(1+x)**t - price\n",
    "        sol = root(func, 0.0001)\n",
    "    elif t < 1:\n",
    "        def func(x):\n",
    "            return (coup+100) / (1+x)**t - price\n",
    "        sol = root(func,0.0001)\n",
    "    return sol.x\n",
    "def spot_rate(data):\n",
    "    spot_lst = []\n",
    "    for i in range(len(data)):\n",
    "        \n",
    "        if data.iloc[i,4] == 0 :\n",
    "            spot_r = ((data.iloc[i,2])/data.iloc[i,7])**(1/data.iloc[i,6])-1\n",
    "        elif data.iloc[i,4] == 1 :\n",
    "            spot_r = compute_rate(data.iloc[i,3],data.iloc[i,6],data.iloc[i,7])[0]\n",
    "        elif data.iloc[i,4] == 2 :\n",
    "            spot_r = compute_rate(data.iloc[i,3]/2,data.iloc[i,6]*2,data.iloc[i,7])[0] *2\n",
    "        \n",
    "        spot_lst += [spot_r]\n",
    "    data['spot_rate'] = spot_lst\n",
    "    return data, spot_lst"
   ]
  },
  {
   "cell_type": "code",
   "execution_count": 260,
   "id": "87068f95",
   "metadata": {},
   "outputs": [],
   "source": [
    "df,spot_lst = spot_rate(data)"
   ]
  },
  {
   "cell_type": "code",
   "execution_count": 278,
   "id": "583d85d2",
   "metadata": {},
   "outputs": [],
   "source": [
    "t = df[df.index=='2018/1/31']['YrsTMat']\n",
    "y = df[df.index=='2018/1/31']['spot_rate']"
   ]
  },
  {
   "cell_type": "code",
   "execution_count": 279,
   "id": "e2d12e01",
   "metadata": {},
   "outputs": [],
   "source": [
    "t = t.tolist()\n",
    "y = y.tolist()"
   ]
  },
  {
   "cell_type": "code",
   "execution_count": 280,
   "id": "a77759df",
   "metadata": {},
   "outputs": [
    {
     "data": {
      "text/plain": [
       "[-0.006922751150812423,\n",
       " -0.0033289231759415783,\n",
       " -0.003731380541152407,\n",
       " -0.0026005024674797816,\n",
       " 0.04076948600330515,\n",
       " 0.022338369958340255,\n",
       " 0.2658896634628665,\n",
       " 0.028593447627006403,\n",
       " 0.026169400674463432,\n",
       " 0.029574714522610984,\n",
       " 0.033858148421748835,\n",
       " 0.03398121142110848,\n",
       " 0.03462455039160985,\n",
       " 0.03445562064949971,\n",
       " 0.03437401112547125]"
      ]
     },
     "execution_count": 280,
     "metadata": {},
     "output_type": "execute_result"
    }
   ],
   "source": [
    "y"
   ]
  },
  {
   "cell_type": "code",
   "execution_count": 281,
   "id": "a5003579",
   "metadata": {},
   "outputs": [
    {
     "data": {
      "text/plain": [
       "[0.230137,\n",
       " 0.479452,\n",
       " 0.747945,\n",
       " 0.958904,\n",
       " 0.539726,\n",
       " 0.865753,\n",
       " 0.10411,\n",
       " 3.194521,\n",
       " 3.605479,\n",
       " 8.463014,\n",
       " 25.484932,\n",
       " 26.483404,\n",
       " 26.732038,\n",
       " 28.128767,\n",
       " 47.40274]"
      ]
     },
     "execution_count": 281,
     "metadata": {},
     "output_type": "execute_result"
    }
   ],
   "source": [
    "t"
   ]
  },
  {
   "cell_type": "code",
   "execution_count": 282,
   "id": "491d749c",
   "metadata": {},
   "outputs": [
    {
     "data": {
      "text/html": [
       "<div>\n",
       "<style scoped>\n",
       "    .dataframe tbody tr th:only-of-type {\n",
       "        vertical-align: middle;\n",
       "    }\n",
       "\n",
       "    .dataframe tbody tr th {\n",
       "        vertical-align: top;\n",
       "    }\n",
       "\n",
       "    .dataframe thead th {\n",
       "        text-align: right;\n",
       "    }\n",
       "</style>\n",
       "<table border=\"1\" class=\"dataframe\">\n",
       "  <thead>\n",
       "    <tr style=\"text-align: right;\">\n",
       "      <th></th>\n",
       "      <th>ticker</th>\n",
       "      <th>Name</th>\n",
       "      <th>Par</th>\n",
       "      <th>CoupRt</th>\n",
       "      <th>Freq</th>\n",
       "      <th>Maturity</th>\n",
       "      <th>YrsTMat</th>\n",
       "      <th>Close Price</th>\n",
       "      <th>spot_rate</th>\n",
       "    </tr>\n",
       "    <tr>\n",
       "      <th>Date</th>\n",
       "      <th></th>\n",
       "      <th></th>\n",
       "      <th></th>\n",
       "      <th></th>\n",
       "      <th></th>\n",
       "      <th></th>\n",
       "      <th></th>\n",
       "      <th></th>\n",
       "      <th></th>\n",
       "    </tr>\n",
       "  </thead>\n",
       "  <tbody>\n",
       "    <tr>\n",
       "      <th>2018/1/31</th>\n",
       "      <td>G170009</td>\n",
       "      <td>17附息国债09</td>\n",
       "      <td>100</td>\n",
       "      <td>3.32</td>\n",
       "      <td>0</td>\n",
       "      <td>1</td>\n",
       "      <td>0.254795</td>\n",
       "      <td>100.00</td>\n",
       "      <td>0.000000</td>\n",
       "    </tr>\n",
       "    <tr>\n",
       "      <th>2018/1/31</th>\n",
       "      <td>G170017</td>\n",
       "      <td>17附息国债17</td>\n",
       "      <td>100</td>\n",
       "      <td>3.33</td>\n",
       "      <td>0</td>\n",
       "      <td>1</td>\n",
       "      <td>0.504110</td>\n",
       "      <td>99.90</td>\n",
       "      <td>0.001987</td>\n",
       "    </tr>\n",
       "    <tr>\n",
       "      <th>2018/1/31</th>\n",
       "      <td>G170024</td>\n",
       "      <td>17附息国债24</td>\n",
       "      <td>100</td>\n",
       "      <td>3.54</td>\n",
       "      <td>0</td>\n",
       "      <td>1</td>\n",
       "      <td>0.753425</td>\n",
       "      <td>100.00</td>\n",
       "      <td>0.000000</td>\n",
       "    </tr>\n",
       "    <tr>\n",
       "      <th>2018/1/31</th>\n",
       "      <td>G170007</td>\n",
       "      <td>17附息国债07</td>\n",
       "      <td>100</td>\n",
       "      <td>3.13</td>\n",
       "      <td>1</td>\n",
       "      <td>5</td>\n",
       "      <td>4.197260</td>\n",
       "      <td>96.68</td>\n",
       "      <td>0.046901</td>\n",
       "    </tr>\n",
       "    <tr>\n",
       "      <th>2018/1/31</th>\n",
       "      <td>G170014</td>\n",
       "      <td>17附息国债14</td>\n",
       "      <td>100</td>\n",
       "      <td>3.47</td>\n",
       "      <td>1</td>\n",
       "      <td>5</td>\n",
       "      <td>4.446575</td>\n",
       "      <td>97.95</td>\n",
       "      <td>0.044696</td>\n",
       "    </tr>\n",
       "    <tr>\n",
       "      <th>...</th>\n",
       "      <td>...</td>\n",
       "      <td>...</td>\n",
       "      <td>...</td>\n",
       "      <td>...</td>\n",
       "      <td>...</td>\n",
       "      <td>...</td>\n",
       "      <td>...</td>\n",
       "      <td>...</td>\n",
       "      <td>...</td>\n",
       "    </tr>\n",
       "    <tr>\n",
       "      <th>2022/3/31</th>\n",
       "      <td>G170015</td>\n",
       "      <td>17附息国债15</td>\n",
       "      <td>100</td>\n",
       "      <td>4.05</td>\n",
       "      <td>2</td>\n",
       "      <td>30</td>\n",
       "      <td>25.315068</td>\n",
       "      <td>110.92</td>\n",
       "      <td>0.034444</td>\n",
       "    </tr>\n",
       "    <tr>\n",
       "      <th>2022/3/31</th>\n",
       "      <td>G180017</td>\n",
       "      <td>18附息国债17</td>\n",
       "      <td>100</td>\n",
       "      <td>3.97</td>\n",
       "      <td>2</td>\n",
       "      <td>30</td>\n",
       "      <td>26.313541</td>\n",
       "      <td>109.01</td>\n",
       "      <td>0.034870</td>\n",
       "    </tr>\n",
       "    <tr>\n",
       "      <th>2022/3/31</th>\n",
       "      <td>G190010</td>\n",
       "      <td>19附息国债10</td>\n",
       "      <td>100</td>\n",
       "      <td>3.86</td>\n",
       "      <td>2</td>\n",
       "      <td>30</td>\n",
       "      <td>27.309589</td>\n",
       "      <td>107.80</td>\n",
       "      <td>0.034579</td>\n",
       "    </tr>\n",
       "    <tr>\n",
       "      <th>2022/3/31</th>\n",
       "      <td>G200004</td>\n",
       "      <td>20附息国债04</td>\n",
       "      <td>100</td>\n",
       "      <td>3.39</td>\n",
       "      <td>2</td>\n",
       "      <td>30</td>\n",
       "      <td>27.958904</td>\n",
       "      <td>99.05</td>\n",
       "      <td>0.034510</td>\n",
       "    </tr>\n",
       "    <tr>\n",
       "      <th>2022/3/31</th>\n",
       "      <td>G190008</td>\n",
       "      <td>19附息国债08</td>\n",
       "      <td>100</td>\n",
       "      <td>4.00</td>\n",
       "      <td>2</td>\n",
       "      <td>50</td>\n",
       "      <td>47.232877</td>\n",
       "      <td>112.48</td>\n",
       "      <td>0.035038</td>\n",
       "    </tr>\n",
       "  </tbody>\n",
       "</table>\n",
       "<p>452 rows × 9 columns</p>\n",
       "</div>"
      ],
      "text/plain": [
       "            ticker      Name  Par  CoupRt  Freq  Maturity    YrsTMat  \\\n",
       "Date                                                                   \n",
       "2018/1/31  G170009  17附息国债09  100    3.32     0         1   0.254795   \n",
       "2018/1/31  G170017  17附息国债17  100    3.33     0         1   0.504110   \n",
       "2018/1/31  G170024  17附息国债24  100    3.54     0         1   0.753425   \n",
       "2018/1/31  G170007  17附息国债07  100    3.13     1         5   4.197260   \n",
       "2018/1/31  G170014  17附息国债14  100    3.47     1         5   4.446575   \n",
       "...            ...       ...  ...     ...   ...       ...        ...   \n",
       "2022/3/31  G170015  17附息国债15  100    4.05     2        30  25.315068   \n",
       "2022/3/31  G180017  18附息国债17  100    3.97     2        30  26.313541   \n",
       "2022/3/31  G190010  19附息国债10  100    3.86     2        30  27.309589   \n",
       "2022/3/31  G200004  20附息国债04  100    3.39     2        30  27.958904   \n",
       "2022/3/31  G190008  19附息国债08  100    4.00     2        50  47.232877   \n",
       "\n",
       "           Close Price  spot_rate  \n",
       "Date                               \n",
       "2018/1/31       100.00   0.000000  \n",
       "2018/1/31        99.90   0.001987  \n",
       "2018/1/31       100.00   0.000000  \n",
       "2018/1/31        96.68   0.046901  \n",
       "2018/1/31        97.95   0.044696  \n",
       "...                ...        ...  \n",
       "2022/3/31       110.92   0.034444  \n",
       "2022/3/31       109.01   0.034870  \n",
       "2022/3/31       107.80   0.034579  \n",
       "2022/3/31        99.05   0.034510  \n",
       "2022/3/31       112.48   0.035038  \n",
       "\n",
       "[452 rows x 9 columns]"
      ]
     },
     "execution_count": 282,
     "metadata": {},
     "output_type": "execute_result"
    }
   ],
   "source": [
    "df"
   ]
  },
  {
   "cell_type": "code",
   "execution_count": 288,
   "id": "50f4a375",
   "metadata": {},
   "outputs": [
    {
     "data": {
      "text/plain": [
       "array([-0.00692275, -0.00332892, -0.00373138, -0.0026005 ,  0.04076949,\n",
       "        0.02233837,  0.26588966,  0.02859345,  0.0261694 ,  0.02957471,\n",
       "        0.03385815,  0.03398121,  0.03462455,  0.03445562,  0.03437401])"
      ]
     },
     "execution_count": 288,
     "metadata": {},
     "output_type": "execute_result"
    }
   ],
   "source": [
    "y"
   ]
  },
  {
   "cell_type": "code",
   "execution_count": 283,
   "id": "ad0e763b",
   "metadata": {},
   "outputs": [
    {
     "data": {
      "text/plain": [
       "0.23889240855234806"
      ]
     },
     "execution_count": 283,
     "metadata": {},
     "output_type": "execute_result"
    }
   ],
   "source": [
    "\n",
    "((103.22/100)**(1/0.147945)-1)"
   ]
  },
  {
   "cell_type": "code",
   "execution_count": 284,
   "id": "c5573ccd",
   "metadata": {},
   "outputs": [],
   "source": [
    "from nelson_siegel_svensson import NelsonSiegelSvenssonCurve\n",
    "from nelson_siegel_svensson.calibrate import calibrate_nss_ols\n",
    "import matplotlib.pyplot as plt\n",
    "from nelson_siegel_svensson.calibrate import calibrate_ns_ols"
   ]
  },
  {
   "cell_type": "code",
   "execution_count": 285,
   "id": "b43c2ebc",
   "metadata": {},
   "outputs": [
    {
     "name": "stdout",
     "output_type": "stream",
     "text": [
      "NelsonSiegelCurve(beta0=0.03191146682473641, beta1=4.074472901204506, beta2=-4.3834113073889025, tau=0.041004318240657325)\n"
     ]
    },
    {
     "data": {
      "text/plain": [
       "[<matplotlib.lines.Line2D at 0x7f99d8cf6820>]"
      ]
     },
     "execution_count": 285,
     "metadata": {},
     "output_type": "execute_result"
    },
    {
     "data": {
      "image/png": "[encoded data removed]",
      "text/plain": [
       "<Figure size 432x288 with 1 Axes>"
      ]
     },
     "metadata": {
      "needs_background": "light"
     },
     "output_type": "display_data"
    }
   ],
   "source": [
    "t = np.array(t)\n",
    "y = np.array(y)\n",
    "\n",
    "curve, status = calibrate_ns_ols(t, y, tau0=1.0)  # starting value of 1.0 for the optimization of tau\n",
    "assert status.success\n",
    "print(curve)\n",
    "T =  np.linspace(0, 50, 100)\n",
    "plt.plot(t, y, \"bo\")\n",
    "plt.plot(T, curve(T), \"r\")\n",
    "#Nelso-Siegel Model:"
   ]
  },
  {
   "cell_type": "code",
   "execution_count": 286,
   "id": "3b38b757",
   "metadata": {},
   "outputs": [
    {
     "name": "stderr",
     "output_type": "stream",
     "text": [
      "/Users/liuxuyang/opt/anaconda3/lib/python3.8/site-packages/nelson_siegel_svensson/nss.py:42: RuntimeWarning: overflow encountered in exp\n",
      "  exp_tt1 = exp(-T/tau1)\n",
      "/Users/liuxuyang/opt/anaconda3/lib/python3.8/site-packages/nelson_siegel_svensson/nss.py:45: RuntimeWarning: invalid value encountered in subtract\n",
      "  factor2 = factor1 - exp_tt1\n"
     ]
    },
    {
     "ename": "LinAlgError",
     "evalue": "SVD did not converge in Linear Least Squares",
     "output_type": "error",
     "traceback": [
      "\u001b[0;31m---------------------------------------------------------------------------\u001b[0m",
      "\u001b[0;31mLinAlgError\u001b[0m                               Traceback (most recent call last)",
      "\u001b[0;32m/var/folders/jp/bc6syfnn06nd5vh0zytf1ry80000gn/T/ipykernel_92364/1111982650.py\u001b[0m in \u001b[0;36m<module>\u001b[0;34m\u001b[0m\n\u001b[0;32m----> 1\u001b[0;31m \u001b[0mcurve\u001b[0m\u001b[0;34m,\u001b[0m \u001b[0mstatus\u001b[0m \u001b[0;34m=\u001b[0m \u001b[0mcalibrate_nss_ols\u001b[0m\u001b[0;34m(\u001b[0m\u001b[0mt\u001b[0m\u001b[0;34m,\u001b[0m \u001b[0my\u001b[0m\u001b[0;34m)\u001b[0m\u001b[0;34m\u001b[0m\u001b[0;34m\u001b[0m\u001b[0m\n\u001b[0m\u001b[1;32m      2\u001b[0m \u001b[0;32massert\u001b[0m \u001b[0mstatus\u001b[0m\u001b[0;34m.\u001b[0m\u001b[0msuccess\u001b[0m\u001b[0;34m\u001b[0m\u001b[0;34m\u001b[0m\u001b[0m\n\u001b[1;32m      3\u001b[0m \u001b[0mprint\u001b[0m\u001b[0;34m(\u001b[0m\u001b[0mcurve\u001b[0m\u001b[0;34m)\u001b[0m\u001b[0;34m\u001b[0m\u001b[0;34m\u001b[0m\u001b[0m\n\u001b[1;32m      4\u001b[0m \u001b[0mT\u001b[0m \u001b[0;34m=\u001b[0m  \u001b[0mnp\u001b[0m\u001b[0;34m.\u001b[0m\u001b[0mlinspace\u001b[0m\u001b[0;34m(\u001b[0m\u001b[0;36m0\u001b[0m\u001b[0;34m,\u001b[0m \u001b[0;36m50\u001b[0m\u001b[0;34m,\u001b[0m \u001b[0;36m100\u001b[0m\u001b[0;34m)\u001b[0m\u001b[0;34m\u001b[0m\u001b[0;34m\u001b[0m\u001b[0m\n\u001b[1;32m      5\u001b[0m \u001b[0mplt\u001b[0m\u001b[0;34m.\u001b[0m\u001b[0mplot\u001b[0m\u001b[0;34m(\u001b[0m\u001b[0mt\u001b[0m\u001b[0;34m,\u001b[0m \u001b[0my\u001b[0m\u001b[0;34m,\u001b[0m \u001b[0;34m\"bo\"\u001b[0m\u001b[0;34m)\u001b[0m\u001b[0;34m\u001b[0m\u001b[0;34m\u001b[0m\u001b[0m\n",
      "\u001b[0;32m~/opt/anaconda3/lib/python3.8/site-packages/nelson_siegel_svensson/calibrate.py\u001b[0m in \u001b[0;36mcalibrate_nss_ols\u001b[0;34m(t, y, tau0)\u001b[0m\n\u001b[1;32m    100\u001b[0m     \u001b[0m_assert_same_shape\u001b[0m\u001b[0;34m(\u001b[0m\u001b[0mt\u001b[0m\u001b[0;34m,\u001b[0m \u001b[0my\u001b[0m\u001b[0;34m)\u001b[0m\u001b[0;34m\u001b[0m\u001b[0;34m\u001b[0m\u001b[0m\n\u001b[1;32m    101\u001b[0m     \u001b[0mtau0\u001b[0m \u001b[0;34m=\u001b[0m \u001b[0mnp\u001b[0m\u001b[0;34m.\u001b[0m\u001b[0marray\u001b[0m\u001b[0;34m(\u001b[0m\u001b[0mtau0\u001b[0m\u001b[0;34m)\u001b[0m\u001b[0;34m\u001b[0m\u001b[0;34m\u001b[0m\u001b[0m\n\u001b[0;32m--> 102\u001b[0;31m     \u001b[0mopt_res\u001b[0m \u001b[0;34m=\u001b[0m \u001b[0mminimize\u001b[0m\u001b[0;34m(\u001b[0m\u001b[0merrorfn_nss_ols\u001b[0m\u001b[0;34m,\u001b[0m \u001b[0mx0\u001b[0m\u001b[0;34m=\u001b[0m\u001b[0mtau0\u001b[0m\u001b[0;34m,\u001b[0m \u001b[0margs\u001b[0m\u001b[0;34m=\u001b[0m\u001b[0;34m(\u001b[0m\u001b[0mt\u001b[0m\u001b[0;34m,\u001b[0m \u001b[0my\u001b[0m\u001b[0;34m)\u001b[0m\u001b[0;34m)\u001b[0m\u001b[0;34m\u001b[0m\u001b[0;34m\u001b[0m\u001b[0m\n\u001b[0m\u001b[1;32m    103\u001b[0m     \u001b[0mcurve\u001b[0m\u001b[0;34m,\u001b[0m \u001b[0mlstsq_res\u001b[0m \u001b[0;34m=\u001b[0m \u001b[0mbetas_nss_ols\u001b[0m\u001b[0;34m(\u001b[0m\u001b[0mopt_res\u001b[0m\u001b[0;34m.\u001b[0m\u001b[0mx\u001b[0m\u001b[0;34m,\u001b[0m \u001b[0mt\u001b[0m\u001b[0;34m,\u001b[0m \u001b[0my\u001b[0m\u001b[0;34m)\u001b[0m\u001b[0;34m\u001b[0m\u001b[0;34m\u001b[0m\u001b[0m\n\u001b[1;32m    104\u001b[0m     \u001b[0;32mreturn\u001b[0m \u001b[0mcurve\u001b[0m\u001b[0;34m,\u001b[0m \u001b[0mopt_res\u001b[0m\u001b[0;34m\u001b[0m\u001b[0;34m\u001b[0m\u001b[0m\n",
      "\u001b[0;32m~/opt/anaconda3/lib/python3.8/site-packages/scipy/optimize/_minimize.py\u001b[0m in \u001b[0;36mminimize\u001b[0;34m(fun, x0, args, method, jac, hess, hessp, bounds, constraints, tol, callback, options)\u001b[0m\n\u001b[1;32m    674\u001b[0m         \u001b[0mres\u001b[0m \u001b[0;34m=\u001b[0m \u001b[0m_minimize_cg\u001b[0m\u001b[0;34m(\u001b[0m\u001b[0mfun\u001b[0m\u001b[0;34m,\u001b[0m \u001b[0mx0\u001b[0m\u001b[0;34m,\u001b[0m \u001b[0margs\u001b[0m\u001b[0;34m,\u001b[0m \u001b[0mjac\u001b[0m\u001b[0;34m,\u001b[0m \u001b[0mcallback\u001b[0m\u001b[0;34m,\u001b[0m \u001b[0;34m**\u001b[0m\u001b[0moptions\u001b[0m\u001b[0;34m)\u001b[0m\u001b[0;34m\u001b[0m\u001b[0;34m\u001b[0m\u001b[0m\n\u001b[1;32m    675\u001b[0m     \u001b[0;32melif\u001b[0m \u001b[0mmeth\u001b[0m \u001b[0;34m==\u001b[0m \u001b[0;34m'bfgs'\u001b[0m\u001b[0;34m:\u001b[0m\u001b[0;34m\u001b[0m\u001b[0;34m\u001b[0m\u001b[0m\n\u001b[0;32m--> 676\u001b[0;31m         \u001b[0mres\u001b[0m \u001b[0;34m=\u001b[0m \u001b[0m_minimize_bfgs\u001b[0m\u001b[0;34m(\u001b[0m\u001b[0mfun\u001b[0m\u001b[0;34m,\u001b[0m \u001b[0mx0\u001b[0m\u001b[0;34m,\u001b[0m \u001b[0margs\u001b[0m\u001b[0;34m,\u001b[0m \u001b[0mjac\u001b[0m\u001b[0;34m,\u001b[0m \u001b[0mcallback\u001b[0m\u001b[0;34m,\u001b[0m \u001b[0;34m**\u001b[0m\u001b[0moptions\u001b[0m\u001b[0;34m)\u001b[0m\u001b[0;34m\u001b[0m\u001b[0;34m\u001b[0m\u001b[0m\n\u001b[0m\u001b[1;32m    677\u001b[0m     \u001b[0;32melif\u001b[0m \u001b[0mmeth\u001b[0m \u001b[0;34m==\u001b[0m \u001b[0;34m'newton-cg'\u001b[0m\u001b[0;34m:\u001b[0m\u001b[0;34m\u001b[0m\u001b[0;34m\u001b[0m\u001b[0m\n\u001b[1;32m    678\u001b[0m         res = _minimize_newtoncg(fun, x0, args, jac, hess, hessp, callback,\n",
      "\u001b[0;32m~/opt/anaconda3/lib/python3.8/site-packages/scipy/optimize/_optimize.py\u001b[0m in \u001b[0;36m_minimize_bfgs\u001b[0;34m(fun, x0, args, jac, callback, gtol, norm, eps, maxiter, disp, return_all, finite_diff_rel_step, **unknown_options)\u001b[0m\n\u001b[1;32m   1320\u001b[0m         \u001b[0;32mtry\u001b[0m\u001b[0;34m:\u001b[0m\u001b[0;34m\u001b[0m\u001b[0;34m\u001b[0m\u001b[0m\n\u001b[1;32m   1321\u001b[0m             \u001b[0malpha_k\u001b[0m\u001b[0;34m,\u001b[0m \u001b[0mfc\u001b[0m\u001b[0;34m,\u001b[0m \u001b[0mgc\u001b[0m\u001b[0;34m,\u001b[0m \u001b[0mold_fval\u001b[0m\u001b[0;34m,\u001b[0m \u001b[0mold_old_fval\u001b[0m\u001b[0;34m,\u001b[0m \u001b[0mgfkp1\u001b[0m \u001b[0;34m=\u001b[0m\u001b[0;31m \u001b[0m\u001b[0;31m\\\u001b[0m\u001b[0;34m\u001b[0m\u001b[0;34m\u001b[0m\u001b[0m\n\u001b[0;32m-> 1322\u001b[0;31m                      _line_search_wolfe12(f, myfprime, xk, pk, gfk,\n\u001b[0m\u001b[1;32m   1323\u001b[0m                                           old_fval, old_old_fval, amin=1e-100, amax=1e100)\n\u001b[1;32m   1324\u001b[0m         \u001b[0;32mexcept\u001b[0m \u001b[0m_LineSearchError\u001b[0m\u001b[0;34m:\u001b[0m\u001b[0;34m\u001b[0m\u001b[0;34m\u001b[0m\u001b[0m\n",
      "\u001b[0;32m~/opt/anaconda3/lib/python3.8/site-packages/scipy/optimize/_optimize.py\u001b[0m in \u001b[0;36m_line_search_wolfe12\u001b[0;34m(f, fprime, xk, pk, gfk, old_fval, old_old_fval, **kwargs)\u001b[0m\n\u001b[1;32m   1098\u001b[0m     \u001b[0mextra_condition\u001b[0m \u001b[0;34m=\u001b[0m \u001b[0mkwargs\u001b[0m\u001b[0;34m.\u001b[0m\u001b[0mpop\u001b[0m\u001b[0;34m(\u001b[0m\u001b[0;34m'extra_condition'\u001b[0m\u001b[0;34m,\u001b[0m \u001b[0;32mNone\u001b[0m\u001b[0;34m)\u001b[0m\u001b[0;34m\u001b[0m\u001b[0;34m\u001b[0m\u001b[0m\n\u001b[1;32m   1099\u001b[0m \u001b[0;34m\u001b[0m\u001b[0m\n\u001b[0;32m-> 1100\u001b[0;31m     ret = line_search_wolfe1(f, fprime, xk, pk, gfk,\n\u001b[0m\u001b[1;32m   1101\u001b[0m                              \u001b[0mold_fval\u001b[0m\u001b[0;34m,\u001b[0m \u001b[0mold_old_fval\u001b[0m\u001b[0;34m,\u001b[0m\u001b[0;34m\u001b[0m\u001b[0;34m\u001b[0m\u001b[0m\n\u001b[1;32m   1102\u001b[0m                              **kwargs)\n",
      "\u001b[0;32m~/opt/anaconda3/lib/python3.8/site-packages/scipy/optimize/_linesearch.py\u001b[0m in \u001b[0;36mline_search_wolfe1\u001b[0;34m(f, fprime, xk, pk, gfk, old_fval, old_old_fval, args, c1, c2, amax, amin, xtol)\u001b[0m\n\u001b[1;32m     82\u001b[0m     \u001b[0mderphi0\u001b[0m \u001b[0;34m=\u001b[0m \u001b[0mnp\u001b[0m\u001b[0;34m.\u001b[0m\u001b[0mdot\u001b[0m\u001b[0;34m(\u001b[0m\u001b[0mgfk\u001b[0m\u001b[0;34m,\u001b[0m \u001b[0mpk\u001b[0m\u001b[0;34m)\u001b[0m\u001b[0;34m\u001b[0m\u001b[0;34m\u001b[0m\u001b[0m\n\u001b[1;32m     83\u001b[0m \u001b[0;34m\u001b[0m\u001b[0m\n\u001b[0;32m---> 84\u001b[0;31m     stp, fval, old_fval = scalar_search_wolfe1(\n\u001b[0m\u001b[1;32m     85\u001b[0m             \u001b[0mphi\u001b[0m\u001b[0;34m,\u001b[0m \u001b[0mderphi\u001b[0m\u001b[0;34m,\u001b[0m \u001b[0mold_fval\u001b[0m\u001b[0;34m,\u001b[0m \u001b[0mold_old_fval\u001b[0m\u001b[0;34m,\u001b[0m \u001b[0mderphi0\u001b[0m\u001b[0;34m,\u001b[0m\u001b[0;34m\u001b[0m\u001b[0;34m\u001b[0m\u001b[0m\n\u001b[1;32m     86\u001b[0m             c1=c1, c2=c2, amax=amax, amin=amin, xtol=xtol)\n",
      "\u001b[0;32m~/opt/anaconda3/lib/python3.8/site-packages/scipy/optimize/_linesearch.py\u001b[0m in \u001b[0;36mscalar_search_wolfe1\u001b[0;34m(phi, derphi, phi0, old_phi0, derphi0, c1, c2, amax, amin, xtol)\u001b[0m\n\u001b[1;32m    158\u001b[0m         \u001b[0;32mif\u001b[0m \u001b[0mtask\u001b[0m\u001b[0;34m[\u001b[0m\u001b[0;34m:\u001b[0m\u001b[0;36m2\u001b[0m\u001b[0;34m]\u001b[0m \u001b[0;34m==\u001b[0m \u001b[0;34mb'FG'\u001b[0m\u001b[0;34m:\u001b[0m\u001b[0;34m\u001b[0m\u001b[0;34m\u001b[0m\u001b[0m\n\u001b[1;32m    159\u001b[0m             \u001b[0malpha1\u001b[0m \u001b[0;34m=\u001b[0m \u001b[0mstp\u001b[0m\u001b[0;34m\u001b[0m\u001b[0;34m\u001b[0m\u001b[0m\n\u001b[0;32m--> 160\u001b[0;31m             \u001b[0mphi1\u001b[0m \u001b[0;34m=\u001b[0m \u001b[0mphi\u001b[0m\u001b[0;34m(\u001b[0m\u001b[0mstp\u001b[0m\u001b[0;34m)\u001b[0m\u001b[0;34m\u001b[0m\u001b[0;34m\u001b[0m\u001b[0m\n\u001b[0m\u001b[1;32m    161\u001b[0m             \u001b[0mderphi1\u001b[0m \u001b[0;34m=\u001b[0m \u001b[0mderphi\u001b[0m\u001b[0;34m(\u001b[0m\u001b[0mstp\u001b[0m\u001b[0;34m)\u001b[0m\u001b[0;34m\u001b[0m\u001b[0;34m\u001b[0m\u001b[0m\n\u001b[1;32m    162\u001b[0m         \u001b[0;32melse\u001b[0m\u001b[0;34m:\u001b[0m\u001b[0;34m\u001b[0m\u001b[0;34m\u001b[0m\u001b[0m\n",
      "\u001b[0;32m~/opt/anaconda3/lib/python3.8/site-packages/scipy/optimize/_linesearch.py\u001b[0m in \u001b[0;36mphi\u001b[0;34m(s)\u001b[0m\n\u001b[1;32m     73\u001b[0m     \u001b[0;32mdef\u001b[0m \u001b[0mphi\u001b[0m\u001b[0;34m(\u001b[0m\u001b[0ms\u001b[0m\u001b[0;34m)\u001b[0m\u001b[0;34m:\u001b[0m\u001b[0;34m\u001b[0m\u001b[0;34m\u001b[0m\u001b[0m\n\u001b[1;32m     74\u001b[0m         \u001b[0mfc\u001b[0m\u001b[0;34m[\u001b[0m\u001b[0;36m0\u001b[0m\u001b[0;34m]\u001b[0m \u001b[0;34m+=\u001b[0m \u001b[0;36m1\u001b[0m\u001b[0;34m\u001b[0m\u001b[0;34m\u001b[0m\u001b[0m\n\u001b[0;32m---> 75\u001b[0;31m         \u001b[0;32mreturn\u001b[0m \u001b[0mf\u001b[0m\u001b[0;34m(\u001b[0m\u001b[0mxk\u001b[0m \u001b[0;34m+\u001b[0m \u001b[0ms\u001b[0m\u001b[0;34m*\u001b[0m\u001b[0mpk\u001b[0m\u001b[0;34m,\u001b[0m \u001b[0;34m*\u001b[0m\u001b[0margs\u001b[0m\u001b[0;34m)\u001b[0m\u001b[0;34m\u001b[0m\u001b[0;34m\u001b[0m\u001b[0m\n\u001b[0m\u001b[1;32m     76\u001b[0m \u001b[0;34m\u001b[0m\u001b[0m\n\u001b[1;32m     77\u001b[0m     \u001b[0;32mdef\u001b[0m \u001b[0mderphi\u001b[0m\u001b[0;34m(\u001b[0m\u001b[0ms\u001b[0m\u001b[0;34m)\u001b[0m\u001b[0;34m:\u001b[0m\u001b[0;34m\u001b[0m\u001b[0;34m\u001b[0m\u001b[0m\n",
      "\u001b[0;32m~/opt/anaconda3/lib/python3.8/site-packages/scipy/optimize/_differentiable_functions.py\u001b[0m in \u001b[0;36mfun\u001b[0;34m(self, x)\u001b[0m\n\u001b[1;32m    265\u001b[0m         \u001b[0;32mif\u001b[0m \u001b[0;32mnot\u001b[0m \u001b[0mnp\u001b[0m\u001b[0;34m.\u001b[0m\u001b[0marray_equal\u001b[0m\u001b[0;34m(\u001b[0m\u001b[0mx\u001b[0m\u001b[0;34m,\u001b[0m \u001b[0mself\u001b[0m\u001b[0;34m.\u001b[0m\u001b[0mx\u001b[0m\u001b[0;34m)\u001b[0m\u001b[0;34m:\u001b[0m\u001b[0;34m\u001b[0m\u001b[0;34m\u001b[0m\u001b[0m\n\u001b[1;32m    266\u001b[0m             \u001b[0mself\u001b[0m\u001b[0;34m.\u001b[0m\u001b[0m_update_x_impl\u001b[0m\u001b[0;34m(\u001b[0m\u001b[0mx\u001b[0m\u001b[0;34m)\u001b[0m\u001b[0;34m\u001b[0m\u001b[0;34m\u001b[0m\u001b[0m\n\u001b[0;32m--> 267\u001b[0;31m         \u001b[0mself\u001b[0m\u001b[0;34m.\u001b[0m\u001b[0m_update_fun\u001b[0m\u001b[0;34m(\u001b[0m\u001b[0;34m)\u001b[0m\u001b[0;34m\u001b[0m\u001b[0;34m\u001b[0m\u001b[0m\n\u001b[0m\u001b[1;32m    268\u001b[0m         \u001b[0;32mreturn\u001b[0m \u001b[0mself\u001b[0m\u001b[0;34m.\u001b[0m\u001b[0mf\u001b[0m\u001b[0;34m\u001b[0m\u001b[0;34m\u001b[0m\u001b[0m\n\u001b[1;32m    269\u001b[0m \u001b[0;34m\u001b[0m\u001b[0m\n",
      "\u001b[0;32m~/opt/anaconda3/lib/python3.8/site-packages/scipy/optimize/_differentiable_functions.py\u001b[0m in \u001b[0;36m_update_fun\u001b[0;34m(self)\u001b[0m\n\u001b[1;32m    249\u001b[0m     \u001b[0;32mdef\u001b[0m \u001b[0m_update_fun\u001b[0m\u001b[0;34m(\u001b[0m\u001b[0mself\u001b[0m\u001b[0;34m)\u001b[0m\u001b[0;34m:\u001b[0m\u001b[0;34m\u001b[0m\u001b[0;34m\u001b[0m\u001b[0m\n\u001b[1;32m    250\u001b[0m         \u001b[0;32mif\u001b[0m \u001b[0;32mnot\u001b[0m \u001b[0mself\u001b[0m\u001b[0;34m.\u001b[0m\u001b[0mf_updated\u001b[0m\u001b[0;34m:\u001b[0m\u001b[0;34m\u001b[0m\u001b[0;34m\u001b[0m\u001b[0m\n\u001b[0;32m--> 251\u001b[0;31m             \u001b[0mself\u001b[0m\u001b[0;34m.\u001b[0m\u001b[0m_update_fun_impl\u001b[0m\u001b[0;34m(\u001b[0m\u001b[0;34m)\u001b[0m\u001b[0;34m\u001b[0m\u001b[0;34m\u001b[0m\u001b[0m\n\u001b[0m\u001b[1;32m    252\u001b[0m             \u001b[0mself\u001b[0m\u001b[0;34m.\u001b[0m\u001b[0mf_updated\u001b[0m \u001b[0;34m=\u001b[0m \u001b[0;32mTrue\u001b[0m\u001b[0;34m\u001b[0m\u001b[0;34m\u001b[0m\u001b[0m\n\u001b[1;32m    253\u001b[0m \u001b[0;34m\u001b[0m\u001b[0m\n",
      "\u001b[0;32m~/opt/anaconda3/lib/python3.8/site-packages/scipy/optimize/_differentiable_functions.py\u001b[0m in \u001b[0;36mupdate_fun\u001b[0;34m()\u001b[0m\n\u001b[1;32m    153\u001b[0m \u001b[0;34m\u001b[0m\u001b[0m\n\u001b[1;32m    154\u001b[0m         \u001b[0;32mdef\u001b[0m \u001b[0mupdate_fun\u001b[0m\u001b[0;34m(\u001b[0m\u001b[0;34m)\u001b[0m\u001b[0;34m:\u001b[0m\u001b[0;34m\u001b[0m\u001b[0;34m\u001b[0m\u001b[0m\n\u001b[0;32m--> 155\u001b[0;31m             \u001b[0mself\u001b[0m\u001b[0;34m.\u001b[0m\u001b[0mf\u001b[0m \u001b[0;34m=\u001b[0m \u001b[0mfun_wrapped\u001b[0m\u001b[0;34m(\u001b[0m\u001b[0mself\u001b[0m\u001b[0;34m.\u001b[0m\u001b[0mx\u001b[0m\u001b[0;34m)\u001b[0m\u001b[0;34m\u001b[0m\u001b[0;34m\u001b[0m\u001b[0m\n\u001b[0m\u001b[1;32m    156\u001b[0m \u001b[0;34m\u001b[0m\u001b[0m\n\u001b[1;32m    157\u001b[0m         \u001b[0mself\u001b[0m\u001b[0;34m.\u001b[0m\u001b[0m_update_fun_impl\u001b[0m \u001b[0;34m=\u001b[0m \u001b[0mupdate_fun\u001b[0m\u001b[0;34m\u001b[0m\u001b[0;34m\u001b[0m\u001b[0m\n",
      "\u001b[0;32m~/opt/anaconda3/lib/python3.8/site-packages/scipy/optimize/_differentiable_functions.py\u001b[0m in \u001b[0;36mfun_wrapped\u001b[0;34m(x)\u001b[0m\n\u001b[1;32m    135\u001b[0m             \u001b[0;31m# Overwriting results in undefined behaviour because\u001b[0m\u001b[0;34m\u001b[0m\u001b[0;34m\u001b[0m\u001b[0;34m\u001b[0m\u001b[0m\n\u001b[1;32m    136\u001b[0m             \u001b[0;31m# fun(self.x) will change self.x, with the two no longer linked.\u001b[0m\u001b[0;34m\u001b[0m\u001b[0;34m\u001b[0m\u001b[0;34m\u001b[0m\u001b[0m\n\u001b[0;32m--> 137\u001b[0;31m             \u001b[0mfx\u001b[0m \u001b[0;34m=\u001b[0m \u001b[0mfun\u001b[0m\u001b[0;34m(\u001b[0m\u001b[0mnp\u001b[0m\u001b[0;34m.\u001b[0m\u001b[0mcopy\u001b[0m\u001b[0;34m(\u001b[0m\u001b[0mx\u001b[0m\u001b[0;34m)\u001b[0m\u001b[0;34m,\u001b[0m \u001b[0;34m*\u001b[0m\u001b[0margs\u001b[0m\u001b[0;34m)\u001b[0m\u001b[0;34m\u001b[0m\u001b[0;34m\u001b[0m\u001b[0m\n\u001b[0m\u001b[1;32m    138\u001b[0m             \u001b[0;31m# Make sure the function returns a true scalar\u001b[0m\u001b[0;34m\u001b[0m\u001b[0;34m\u001b[0m\u001b[0;34m\u001b[0m\u001b[0m\n\u001b[1;32m    139\u001b[0m             \u001b[0;32mif\u001b[0m \u001b[0;32mnot\u001b[0m \u001b[0mnp\u001b[0m\u001b[0;34m.\u001b[0m\u001b[0misscalar\u001b[0m\u001b[0;34m(\u001b[0m\u001b[0mfx\u001b[0m\u001b[0;34m)\u001b[0m\u001b[0;34m:\u001b[0m\u001b[0;34m\u001b[0m\u001b[0;34m\u001b[0m\u001b[0m\n",
      "\u001b[0;32m~/opt/anaconda3/lib/python3.8/site-packages/nelson_siegel_svensson/calibrate.py\u001b[0m in \u001b[0;36merrorfn_nss_ols\u001b[0;34m(tau, t, y)\u001b[0m\n\u001b[1;32m     86\u001b[0m     '''\n\u001b[1;32m     87\u001b[0m     \u001b[0m_assert_same_shape\u001b[0m\u001b[0;34m(\u001b[0m\u001b[0mt\u001b[0m\u001b[0;34m,\u001b[0m \u001b[0my\u001b[0m\u001b[0;34m)\u001b[0m\u001b[0;34m\u001b[0m\u001b[0;34m\u001b[0m\u001b[0m\n\u001b[0;32m---> 88\u001b[0;31m     \u001b[0mcurve\u001b[0m\u001b[0;34m,\u001b[0m \u001b[0mlstsq_res\u001b[0m \u001b[0;34m=\u001b[0m \u001b[0mbetas_nss_ols\u001b[0m\u001b[0;34m(\u001b[0m\u001b[0mtau\u001b[0m\u001b[0;34m,\u001b[0m \u001b[0mt\u001b[0m\u001b[0;34m,\u001b[0m \u001b[0my\u001b[0m\u001b[0;34m)\u001b[0m\u001b[0;34m\u001b[0m\u001b[0;34m\u001b[0m\u001b[0m\n\u001b[0m\u001b[1;32m     89\u001b[0m     \u001b[0;32mreturn\u001b[0m \u001b[0mnp\u001b[0m\u001b[0;34m.\u001b[0m\u001b[0msum\u001b[0m\u001b[0;34m(\u001b[0m\u001b[0;34m(\u001b[0m\u001b[0mcurve\u001b[0m\u001b[0;34m(\u001b[0m\u001b[0mt\u001b[0m\u001b[0;34m)\u001b[0m \u001b[0;34m-\u001b[0m \u001b[0my\u001b[0m\u001b[0;34m)\u001b[0m\u001b[0;34m**\u001b[0m\u001b[0;36m2\u001b[0m\u001b[0;34m)\u001b[0m\u001b[0;34m\u001b[0m\u001b[0;34m\u001b[0m\u001b[0m\n\u001b[1;32m     90\u001b[0m \u001b[0;34m\u001b[0m\u001b[0m\n",
      "\u001b[0;32m~/opt/anaconda3/lib/python3.8/site-packages/nelson_siegel_svensson/calibrate.py\u001b[0m in \u001b[0;36mbetas_nss_ols\u001b[0;34m(tau, t, y)\u001b[0m\n\u001b[1;32m     72\u001b[0m     \u001b[0mcurve\u001b[0m \u001b[0;34m=\u001b[0m \u001b[0mNelsonSiegelSvenssonCurve\u001b[0m\u001b[0;34m(\u001b[0m\u001b[0;36m0\u001b[0m\u001b[0;34m,\u001b[0m \u001b[0;36m0\u001b[0m\u001b[0;34m,\u001b[0m \u001b[0;36m0\u001b[0m\u001b[0;34m,\u001b[0m \u001b[0;36m0\u001b[0m\u001b[0;34m,\u001b[0m \u001b[0mtau\u001b[0m\u001b[0;34m[\u001b[0m\u001b[0;36m0\u001b[0m\u001b[0;34m]\u001b[0m\u001b[0;34m,\u001b[0m \u001b[0mtau\u001b[0m\u001b[0;34m[\u001b[0m\u001b[0;36m1\u001b[0m\u001b[0;34m]\u001b[0m\u001b[0;34m)\u001b[0m\u001b[0;34m\u001b[0m\u001b[0;34m\u001b[0m\u001b[0m\n\u001b[1;32m     73\u001b[0m     \u001b[0mfactors\u001b[0m \u001b[0;34m=\u001b[0m \u001b[0mcurve\u001b[0m\u001b[0;34m.\u001b[0m\u001b[0mfactor_matrix\u001b[0m\u001b[0;34m(\u001b[0m\u001b[0mt\u001b[0m\u001b[0;34m)\u001b[0m\u001b[0;34m\u001b[0m\u001b[0;34m\u001b[0m\u001b[0m\n\u001b[0;32m---> 74\u001b[0;31m     \u001b[0mlstsq_res\u001b[0m \u001b[0;34m=\u001b[0m \u001b[0mlstsq\u001b[0m\u001b[0;34m(\u001b[0m\u001b[0mfactors\u001b[0m\u001b[0;34m,\u001b[0m \u001b[0my\u001b[0m\u001b[0;34m,\u001b[0m \u001b[0mrcond\u001b[0m\u001b[0;34m=\u001b[0m\u001b[0;32mNone\u001b[0m\u001b[0;34m)\u001b[0m\u001b[0;34m\u001b[0m\u001b[0;34m\u001b[0m\u001b[0m\n\u001b[0m\u001b[1;32m     75\u001b[0m     \u001b[0mbeta\u001b[0m \u001b[0;34m=\u001b[0m \u001b[0mlstsq_res\u001b[0m\u001b[0;34m[\u001b[0m\u001b[0;36m0\u001b[0m\u001b[0;34m]\u001b[0m\u001b[0;34m\u001b[0m\u001b[0;34m\u001b[0m\u001b[0m\n\u001b[1;32m     76\u001b[0m     return NelsonSiegelSvenssonCurve(beta[0], beta[1], beta[2], beta[3],\n",
      "\u001b[0;32m<__array_function__ internals>\u001b[0m in \u001b[0;36mlstsq\u001b[0;34m(*args, **kwargs)\u001b[0m\n",
      "\u001b[0;32m~/opt/anaconda3/lib/python3.8/site-packages/numpy/linalg/linalg.py\u001b[0m in \u001b[0;36mlstsq\u001b[0;34m(a, b, rcond)\u001b[0m\n\u001b[1;32m   2303\u001b[0m         \u001b[0;31m# lapack can't handle n_rhs = 0 - so allocate the array one larger in that axis\u001b[0m\u001b[0;34m\u001b[0m\u001b[0;34m\u001b[0m\u001b[0;34m\u001b[0m\u001b[0m\n\u001b[1;32m   2304\u001b[0m         \u001b[0mb\u001b[0m \u001b[0;34m=\u001b[0m \u001b[0mzeros\u001b[0m\u001b[0;34m(\u001b[0m\u001b[0mb\u001b[0m\u001b[0;34m.\u001b[0m\u001b[0mshape\u001b[0m\u001b[0;34m[\u001b[0m\u001b[0;34m:\u001b[0m\u001b[0;34m-\u001b[0m\u001b[0;36m2\u001b[0m\u001b[0;34m]\u001b[0m \u001b[0;34m+\u001b[0m \u001b[0;34m(\u001b[0m\u001b[0mm\u001b[0m\u001b[0;34m,\u001b[0m \u001b[0mn_rhs\u001b[0m \u001b[0;34m+\u001b[0m \u001b[0;36m1\u001b[0m\u001b[0;34m)\u001b[0m\u001b[0;34m,\u001b[0m \u001b[0mdtype\u001b[0m\u001b[0;34m=\u001b[0m\u001b[0mb\u001b[0m\u001b[0;34m.\u001b[0m\u001b[0mdtype\u001b[0m\u001b[0;34m)\u001b[0m\u001b[0;34m\u001b[0m\u001b[0;34m\u001b[0m\u001b[0m\n\u001b[0;32m-> 2305\u001b[0;31m     \u001b[0mx\u001b[0m\u001b[0;34m,\u001b[0m \u001b[0mresids\u001b[0m\u001b[0;34m,\u001b[0m \u001b[0mrank\u001b[0m\u001b[0;34m,\u001b[0m \u001b[0ms\u001b[0m \u001b[0;34m=\u001b[0m \u001b[0mgufunc\u001b[0m\u001b[0;34m(\u001b[0m\u001b[0ma\u001b[0m\u001b[0;34m,\u001b[0m \u001b[0mb\u001b[0m\u001b[0;34m,\u001b[0m \u001b[0mrcond\u001b[0m\u001b[0;34m,\u001b[0m \u001b[0msignature\u001b[0m\u001b[0;34m=\u001b[0m\u001b[0msignature\u001b[0m\u001b[0;34m,\u001b[0m \u001b[0mextobj\u001b[0m\u001b[0;34m=\u001b[0m\u001b[0mextobj\u001b[0m\u001b[0;34m)\u001b[0m\u001b[0;34m\u001b[0m\u001b[0;34m\u001b[0m\u001b[0m\n\u001b[0m\u001b[1;32m   2306\u001b[0m     \u001b[0;32mif\u001b[0m \u001b[0mm\u001b[0m \u001b[0;34m==\u001b[0m \u001b[0;36m0\u001b[0m\u001b[0;34m:\u001b[0m\u001b[0;34m\u001b[0m\u001b[0;34m\u001b[0m\u001b[0m\n\u001b[1;32m   2307\u001b[0m         \u001b[0mx\u001b[0m\u001b[0;34m[\u001b[0m\u001b[0;34m...\u001b[0m\u001b[0;34m]\u001b[0m \u001b[0;34m=\u001b[0m \u001b[0;36m0\u001b[0m\u001b[0;34m\u001b[0m\u001b[0;34m\u001b[0m\u001b[0m\n",
      "\u001b[0;32m~/opt/anaconda3/lib/python3.8/site-packages/numpy/linalg/linalg.py\u001b[0m in \u001b[0;36m_raise_linalgerror_lstsq\u001b[0;34m(err, flag)\u001b[0m\n\u001b[1;32m     98\u001b[0m \u001b[0;34m\u001b[0m\u001b[0m\n\u001b[1;32m     99\u001b[0m \u001b[0;32mdef\u001b[0m \u001b[0m_raise_linalgerror_lstsq\u001b[0m\u001b[0;34m(\u001b[0m\u001b[0merr\u001b[0m\u001b[0;34m,\u001b[0m \u001b[0mflag\u001b[0m\u001b[0;34m)\u001b[0m\u001b[0;34m:\u001b[0m\u001b[0;34m\u001b[0m\u001b[0;34m\u001b[0m\u001b[0m\n\u001b[0;32m--> 100\u001b[0;31m     \u001b[0;32mraise\u001b[0m \u001b[0mLinAlgError\u001b[0m\u001b[0;34m(\u001b[0m\u001b[0;34m\"SVD did not converge in Linear Least Squares\"\u001b[0m\u001b[0;34m)\u001b[0m\u001b[0;34m\u001b[0m\u001b[0;34m\u001b[0m\u001b[0m\n\u001b[0m\u001b[1;32m    101\u001b[0m \u001b[0;34m\u001b[0m\u001b[0m\n\u001b[1;32m    102\u001b[0m \u001b[0;32mdef\u001b[0m \u001b[0mget_linalg_error_extobj\u001b[0m\u001b[0;34m(\u001b[0m\u001b[0mcallback\u001b[0m\u001b[0;34m)\u001b[0m\u001b[0;34m:\u001b[0m\u001b[0;34m\u001b[0m\u001b[0;34m\u001b[0m\u001b[0m\n",
      "\u001b[0;31mLinAlgError\u001b[0m: SVD did not converge in Linear Least Squares"
     ]
    }
   ],
   "source": [
    "curve, status = calibrate_nss_ols(t, y) \n",
    "assert status.success\n",
    "print(curve)\n",
    "T =  np.linspace(0, 50, 100)\n",
    "plt.plot(t, y, \"bo\")\n",
    "plt.plot(T, curve(T), \"r\")"
   ]
  },
  {
   "cell_type": "code",
   "execution_count": 287,
   "id": "76c4951c",
   "metadata": {},
   "outputs": [
    {
     "ename": "ValueError",
     "evalue": "x must be increasing if s > 0",
     "output_type": "error",
     "traceback": [
      "\u001b[0;31m---------------------------------------------------------------------------\u001b[0m",
      "\u001b[0;31mValueError\u001b[0m                                Traceback (most recent call last)",
      "\u001b[0;32m/var/folders/jp/bc6syfnn06nd5vh0zytf1ry80000gn/T/ipykernel_92364/2167563978.py\u001b[0m in \u001b[0;36m<module>\u001b[0;34m\u001b[0m\n\u001b[1;32m      1\u001b[0m \u001b[0;32mfrom\u001b[0m \u001b[0mscipy\u001b[0m \u001b[0;32mimport\u001b[0m \u001b[0minterpolate\u001b[0m\u001b[0;34m\u001b[0m\u001b[0;34m\u001b[0m\u001b[0m\n\u001b[0;32m----> 2\u001b[0;31m \u001b[0mspl\u001b[0m \u001b[0;34m=\u001b[0m \u001b[0minterpolate\u001b[0m\u001b[0;34m.\u001b[0m\u001b[0mUnivariateSpline\u001b[0m\u001b[0;34m(\u001b[0m\u001b[0mt\u001b[0m\u001b[0;34m,\u001b[0m \u001b[0my\u001b[0m\u001b[0;34m)\u001b[0m\u001b[0;34m\u001b[0m\u001b[0;34m\u001b[0m\u001b[0m\n\u001b[0m\u001b[1;32m      3\u001b[0m \u001b[0mplt\u001b[0m\u001b[0;34m.\u001b[0m\u001b[0mplot\u001b[0m\u001b[0;34m(\u001b[0m\u001b[0mt\u001b[0m\u001b[0;34m,\u001b[0m \u001b[0my\u001b[0m\u001b[0;34m,\u001b[0m \u001b[0;34m\"bo\"\u001b[0m\u001b[0;34m)\u001b[0m\u001b[0;34m\u001b[0m\u001b[0;34m\u001b[0m\u001b[0m\n\u001b[1;32m      4\u001b[0m \u001b[0mplt\u001b[0m\u001b[0;34m.\u001b[0m\u001b[0mplot\u001b[0m\u001b[0;34m(\u001b[0m\u001b[0mt\u001b[0m\u001b[0;34m,\u001b[0m \u001b[0mspl\u001b[0m\u001b[0;34m(\u001b[0m\u001b[0mt\u001b[0m\u001b[0;34m)\u001b[0m\u001b[0;34m,\u001b[0m \u001b[0;34m\"r\"\u001b[0m\u001b[0;34m)\u001b[0m\u001b[0;34m\u001b[0m\u001b[0;34m\u001b[0m\u001b[0m\n",
      "\u001b[0;32m~/opt/anaconda3/lib/python3.8/site-packages/scipy/interpolate/_fitpack2.py\u001b[0m in \u001b[0;36m__init__\u001b[0;34m(self, x, y, w, bbox, k, s, ext, check_finite)\u001b[0m\n\u001b[1;32m    197\u001b[0m                  ext=0, check_finite=False):\n\u001b[1;32m    198\u001b[0m \u001b[0;34m\u001b[0m\u001b[0m\n\u001b[0;32m--> 199\u001b[0;31m         x, y, w, bbox, self.ext = self.validate_input(x, y, w, bbox, k, s, ext,\n\u001b[0m\u001b[1;32m    200\u001b[0m                                                       check_finite)\n\u001b[1;32m    201\u001b[0m \u001b[0;34m\u001b[0m\u001b[0m\n",
      "\u001b[0;32m~/opt/anaconda3/lib/python3.8/site-packages/scipy/interpolate/_fitpack2.py\u001b[0m in \u001b[0;36mvalidate_input\u001b[0;34m(x, y, w, bbox, k, s, ext, check_finite)\u001b[0m\n\u001b[1;32m    222\u001b[0m         \u001b[0;32mif\u001b[0m \u001b[0ms\u001b[0m \u001b[0;32mis\u001b[0m \u001b[0;32mNone\u001b[0m \u001b[0;32mor\u001b[0m \u001b[0ms\u001b[0m \u001b[0;34m>\u001b[0m \u001b[0;36m0\u001b[0m\u001b[0;34m:\u001b[0m\u001b[0;34m\u001b[0m\u001b[0;34m\u001b[0m\u001b[0m\n\u001b[1;32m    223\u001b[0m             \u001b[0;32mif\u001b[0m \u001b[0;32mnot\u001b[0m \u001b[0mnp\u001b[0m\u001b[0;34m.\u001b[0m\u001b[0mall\u001b[0m\u001b[0;34m(\u001b[0m\u001b[0mdiff\u001b[0m\u001b[0;34m(\u001b[0m\u001b[0mx\u001b[0m\u001b[0;34m)\u001b[0m \u001b[0;34m>=\u001b[0m \u001b[0;36m0.0\u001b[0m\u001b[0;34m)\u001b[0m\u001b[0;34m:\u001b[0m\u001b[0;34m\u001b[0m\u001b[0;34m\u001b[0m\u001b[0m\n\u001b[0;32m--> 224\u001b[0;31m                 \u001b[0;32mraise\u001b[0m \u001b[0mValueError\u001b[0m\u001b[0;34m(\u001b[0m\u001b[0;34m\"x must be increasing if s > 0\"\u001b[0m\u001b[0;34m)\u001b[0m\u001b[0;34m\u001b[0m\u001b[0;34m\u001b[0m\u001b[0m\n\u001b[0m\u001b[1;32m    225\u001b[0m         \u001b[0;32melse\u001b[0m\u001b[0;34m:\u001b[0m\u001b[0;34m\u001b[0m\u001b[0;34m\u001b[0m\u001b[0m\n\u001b[1;32m    226\u001b[0m             \u001b[0;32mif\u001b[0m \u001b[0;32mnot\u001b[0m \u001b[0mnp\u001b[0m\u001b[0;34m.\u001b[0m\u001b[0mall\u001b[0m\u001b[0;34m(\u001b[0m\u001b[0mdiff\u001b[0m\u001b[0;34m(\u001b[0m\u001b[0mx\u001b[0m\u001b[0;34m)\u001b[0m \u001b[0;34m>\u001b[0m \u001b[0;36m0.0\u001b[0m\u001b[0;34m)\u001b[0m\u001b[0;34m:\u001b[0m\u001b[0;34m\u001b[0m\u001b[0;34m\u001b[0m\u001b[0m\n",
      "\u001b[0;31mValueError\u001b[0m: x must be increasing if s > 0"
     ]
    }
   ],
   "source": [
    "from scipy import interpolate\n",
    "spl = interpolate.UnivariateSpline(t, y)\n",
    "plt.plot(t, y, \"bo\")\n",
    "plt.plot(t, spl(t), \"r\")"
   ]
  },
  {
   "cell_type": "code",
   "execution_count": 258,
   "id": "6716419f",
   "metadata": {},
   "outputs": [
    {
     "data": {
      "text/plain": [
       "2021/6/30     17\n",
       "2020/9/29     16\n",
       "2022/1/28     15\n",
       "2021/12/31    15\n",
       "2021/9/30     15\n",
       "2021/8/31     15\n",
       "2021/7/30     15\n",
       "2021/5/31     14\n",
       "2022/3/31     13\n",
       "2022/2/28     12\n",
       "2021/10/29    12\n",
       "2020/3/23     12\n",
       "2019/10/29    12\n",
       "2020/7/24     11\n",
       "2020/8/26     11\n",
       "2021/4/30     11\n",
       "2021/2/26     11\n",
       "2021/3/31     11\n",
       "2021/11/30    11\n",
       "2020/10/29    10\n",
       "2021/1/29     10\n",
       "2019/12/31    10\n",
       "2020/12/31     9\n",
       "2020/11/30     9\n",
       "2018/1/31      9\n",
       "2019/11/21     9\n",
       "2020/2/26      7\n",
       "2019/3/29      7\n",
       "2018/6/29      7\n",
       "2020/6/30      7\n",
       "2019/9/27      7\n",
       "2018/11/27     6\n",
       "2019/1/30      6\n",
       "2020/1/23      6\n",
       "2019/2/27      6\n",
       "2019/6/28      6\n",
       "2019/7/31      6\n",
       "2019/8/29      6\n",
       "2020/5/28      5\n",
       "2018/10/31     5\n",
       "2018/9/28      5\n",
       "2018/7/26      5\n",
       "2020/4/30      5\n",
       "2018/5/30      5\n",
       "2018/3/30      5\n",
       "2018/2/28      5\n",
       "2019/5/30      4\n",
       "2019/4/29      4\n",
       "2018/12/28     4\n",
       "2018/8/27      4\n",
       "2018/4/20      4\n",
       "Name: Date, dtype: int64"
      ]
     },
     "execution_count": 258,
     "metadata": {},
     "output_type": "execute_result"
    }
   ],
   "source": [
    "df.index.value_counts()"
   ]
  },
  {
   "cell_type": "code",
   "execution_count": null,
   "id": "5d9bcfc1",
   "metadata": {},
   "outputs": [],
   "source": [
    "def func(x):\n",
    "    return (coup+100) / (1+x)**t - price\n",
    "\n",
    "sol = root(func,0.0001)"
   ]
  },
  {
   "cell_type": "code",
   "execution_count": null,
   "id": "e6b0605b",
   "metadata": {},
   "outputs": [],
   "source": []
  },
  {
   "cell_type": "code",
   "execution_count": null,
   "id": "698428ef",
   "metadata": {},
   "outputs": [],
   "source": []
  },
  {
   "cell_type": "code",
   "execution_count": null,
   "id": "1ed5caf1",
   "metadata": {},
   "outputs": [],
   "source": []
  }
 ],
 "metadata": {
  "kernelspec": {
   "display_name": "Python 3 (ipykernel)",
   "language": "python",
   "name": "python3"
  },
  "language_info": {
   "codemirror_mode": {
    "name": "ipython",
    "version": 3
   },
   "file_extension": ".py",
   "mimetype": "text/x-python",
   "name": "python",
   "nbconvert_exporter": "python",
   "pygments_lexer": "ipython3",
   "version": "3.8.8"
  }
 },
 "nbformat": 4,
 "nbformat_minor": 5
}
