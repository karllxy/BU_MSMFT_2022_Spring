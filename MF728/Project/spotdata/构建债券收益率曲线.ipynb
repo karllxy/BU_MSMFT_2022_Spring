{
 "cells": [
  {
   "cell_type": "markdown",
   "metadata": {},
   "source": [
    "## <div style=\"text-align: center\"><font color='#dc2624' face='微软雅黑'>案例分析 - 构建债券收益率曲线</font></div>\n",
    "\n",
    "## <font color='#dc2624' face='微软雅黑'>目录</font><a name='toc'></a>\n",
    "### 1. [**<font color='#dc2624' face='微软雅黑'>基本概念</font>**](#1)\n",
    "1. [<font color='#2b4750' face='微软雅黑'>收益率曲线 101</font>](#1.1)\n",
    "2. [<font color='#2b4750' face='微软雅黑'>债券 101</font>](#1.2)\n",
    "\n",
    "### 2. [**<font color='#dc2624' face='微软雅黑'>Nelson Siegel 模型</font>**](#2)\n",
    "1. [<font color='#2b4750' face='微软雅黑'>瞬时远期利率</font>](#2.1)\n",
    "2. [<font color='#2b4750' face='微软雅黑'>即期利率</font>](#2.2)\n",
    "3. [<font color='#2b4750' face='微软雅黑'>Svensson 模型</font>](#2.3)\n",
    "\n",
    "### 3. [**<font color='#dc2624' face='微软雅黑'>Nelson Siegel 实现</font>**](#3)\n",
    "1. [<font color='#2b4750' face='微软雅黑'>数据处理</font>](#3.1)\n",
    "2. [<font color='#2b4750' face='微软雅黑'>模型优化</font>](#3.2)\n",
    "3. [<font color='#2b4750' face='微软雅黑'>结果分析</font>](#3.3)\n",
    "---"
   ]
  },
  {
   "cell_type": "markdown",
   "metadata": {},
   "source": [
    "## <font color='#dc2624' face='微软雅黑'>目标</font>\n",
    "在固定收益 (fixed-income) 世界中，收益率曲线毫无疑问是最重要的概念。它表示给定发行人和给定时间点，投资**<font color='red'>收益率</font>** (yield) 和**<font color='red'>期限</font>** (tenor) 之间的关系。市场中没有单一的收益率曲线，在不同的**时间点** (time)，对不同的**货币** (currency)，对不同的**发行人** (issuer) 和不同的**信贷水平** (rating) 有一系列不同的收益率曲线。"
   ]
  },
  {
   "cell_type": "code",
   "execution_count": 1,
   "metadata": {},
   "outputs": [],
   "source": [
    "import numpy as np\n",
    "import pandas as pd\n",
    "import seaborn as sns\n",
    "import matplotlib as mpl\n",
    "import matplotlib.pyplot as plt\n",
    "%matplotlib inline\n",
    "\n",
    "from datetime import datetime, timedelta\n",
    "from datedelta import datedelta\n",
    "\n",
    "import scipy.optimize as spo"
   ]
  },
  {
   "cell_type": "code",
   "execution_count": 2,
   "metadata": {},
   "outputs": [],
   "source": [
    "np.random.seed(1031)\n",
    "mpl.rcParams['font.sans-serif']=['Microsoft YaHei']\n",
    "mpl.rcParams['axes.unicode_minus']=False"
   ]
  },
  {
   "cell_type": "code",
   "execution_count": 3,
   "metadata": {},
   "outputs": [
    {
     "data": {
      "text/html": [
       "        <script type=\"text/javascript\">\n",
       "        window.PlotlyConfig = {MathJaxConfig: 'local'};\n",
       "        if (window.MathJax) {MathJax.Hub.Config({SVG: {font: \"STIX-Web\"}});}\n",
       "        if (typeof require !== 'undefined') {\n",
       "        require.undef(\"plotly\");\n",
       "        requirejs.config({\n",
       "            paths: {\n",
       "                'plotly': ['https://cdn.plot.ly/plotly-latest.min']\n",
       "            }\n",
       "        });\n",
       "        require(['plotly'], function(Plotly) {\n",
       "            window._Plotly = Plotly;\n",
       "        });\n",
       "        }\n",
       "        </script>\n",
       "        "
      ]
     },
     "metadata": {},
     "output_type": "display_data"
    },
    {
     "data": {
      "text/html": [
       "        <script type=\"text/javascript\">\n",
       "        window.PlotlyConfig = {MathJaxConfig: 'local'};\n",
       "        if (window.MathJax) {MathJax.Hub.Config({SVG: {font: \"STIX-Web\"}});}\n",
       "        if (typeof require !== 'undefined') {\n",
       "        require.undef(\"plotly\");\n",
       "        requirejs.config({\n",
       "            paths: {\n",
       "                'plotly': ['https://cdn.plot.ly/plotly-latest.min']\n",
       "            }\n",
       "        });\n",
       "        require(['plotly'], function(Plotly) {\n",
       "            window._Plotly = Plotly;\n",
       "        });\n",
       "        }\n",
       "        </script>\n",
       "        "
      ]
     },
     "metadata": {},
     "output_type": "display_data"
    }
   ],
   "source": [
    "import cufflinks as cf\n",
    "cf.go_offline()\n",
    "\n",
    "color =  [ 'rgb(220,38,36)', 'rgb(43,71,80)', 'rgb(69,160,162)', \n",
    "           'rgb(232,122,89)', 'rgb(125,202,169)', 'rgb(100,158,125)', \n",
    "           'rgb(220,128,24)', 'rgb(200,159,145)', 'rgb(108,109,108)', \n",
    "           'rgb(79,98,104)', 'rgb(199,204,207)' ]"
   ]
  },
  {
   "cell_type": "markdown",
   "metadata": {},
   "source": [
    "# <font color='#dc2624' face='微软雅黑'>1. 基本概念</font><a name='1'></a>\n",
    "[<font color='black' face='微软雅黑'>回到目录</font>](#toc)\n",
    "### <font color='#2b4750' face='微软雅黑'>1.1 收益率曲线 101</font><a name='1.1'></a>\n",
    "[<font color='black' face='微软雅黑'>回到章首</font>](#1)\n",
    "\n",
    "收益率曲线是核心概念，我们来看看 **2020 年 10 月 16 日** 的美国国债曲线长得是什么样的。首先从 csv 文件中读取。"
   ]
  },
  {
   "cell_type": "code",
   "execution_count": 4,
   "metadata": {},
   "outputs": [
    {
     "data": {
      "text/html": [
       "<div>\n",
       "<style scoped>\n",
       "    .dataframe tbody tr th:only-of-type {\n",
       "        vertical-align: middle;\n",
       "    }\n",
       "\n",
       "    .dataframe tbody tr th {\n",
       "        vertical-align: top;\n",
       "    }\n",
       "\n",
       "    .dataframe thead th {\n",
       "        text-align: right;\n",
       "    }\n",
       "</style>\n",
       "<table border=\"1\" class=\"dataframe\">\n",
       "  <thead>\n",
       "    <tr style=\"text-align: right;\">\n",
       "      <th></th>\n",
       "      <th>Yield (%)</th>\n",
       "    </tr>\n",
       "    <tr>\n",
       "      <th>Peirod</th>\n",
       "      <th></th>\n",
       "    </tr>\n",
       "  </thead>\n",
       "  <tbody>\n",
       "    <tr>\n",
       "      <th>1M</th>\n",
       "      <td>0.09</td>\n",
       "    </tr>\n",
       "    <tr>\n",
       "      <th>3M</th>\n",
       "      <td>0.11</td>\n",
       "    </tr>\n",
       "    <tr>\n",
       "      <th>1Y</th>\n",
       "      <td>0.12</td>\n",
       "    </tr>\n",
       "    <tr>\n",
       "      <th>2Y</th>\n",
       "      <td>0.14</td>\n",
       "    </tr>\n",
       "    <tr>\n",
       "      <th>3Y</th>\n",
       "      <td>0.18</td>\n",
       "    </tr>\n",
       "    <tr>\n",
       "      <th>5Y</th>\n",
       "      <td>0.32</td>\n",
       "    </tr>\n",
       "    <tr>\n",
       "      <th>7Y</th>\n",
       "      <td>0.53</td>\n",
       "    </tr>\n",
       "    <tr>\n",
       "      <th>10Y</th>\n",
       "      <td>0.76</td>\n",
       "    </tr>\n",
       "    <tr>\n",
       "      <th>20Y</th>\n",
       "      <td>1.30</td>\n",
       "    </tr>\n",
       "    <tr>\n",
       "      <th>30Y</th>\n",
       "      <td>1.52</td>\n",
       "    </tr>\n",
       "  </tbody>\n",
       "</table>\n",
       "</div>"
      ],
      "text/plain": [
       "        Yield (%)\n",
       "Peirod           \n",
       "1M           0.09\n",
       "3M           0.11\n",
       "1Y           0.12\n",
       "2Y           0.14\n",
       "3Y           0.18\n",
       "5Y           0.32\n",
       "7Y           0.53\n",
       "10Y          0.76\n",
       "20Y          1.30\n",
       "30Y          1.52"
      ]
     },
     "execution_count": 4,
     "metadata": {},
     "output_type": "execute_result"
    }
   ],
   "source": [
    "UST = pd.read_csv( 'US Treasury Curve (10-16-2020).csv', index_col=0 )\n",
    "UST"
   ]
  },
  {
   "cell_type": "code",
   "execution_count": 5,
   "metadata": {},
   "outputs": [
    {
     "data": {
      "application/vnd.plotly.v1+json": {
       "config": {
        "linkText": "Export to plot.ly",
        "plotlyServerURL": "https://plot.ly",
        "showLink": true
       },
       "data": [
        {
         "line": {
          "color": "rgba(220, 38, 36, 1.0)",
          "dash": "solid",
          "shape": "linear",
          "width": 1.3
         },
         "marker": {
          "size": 10,
          "symbol": "circle"
         },
         "mode": "lines+markers",
         "name": "Yield (%)",
         "text": "",
         "type": "scatter",
         "x": [
          "1M",
          "3M",
          "1Y",
          "2Y",
          "3Y",
          "5Y",
          "7Y",
          "10Y",
          "20Y",
          "30Y"
         ],
         "y": [
          0.09,
          0.11,
          0.12,
          0.14,
          0.18,
          0.32,
          0.53,
          0.76,
          1.3,
          1.52
         ]
        }
       ],
       "layout": {
        "legend": {
         "bgcolor": "#151516",
         "font": {
          "color": "#D9D9D9"
         }
        },
        "paper_bgcolor": "#151516",
        "plot_bgcolor": "#151516",
        "template": {
         "data": {
          "bar": [
           {
            "error_x": {
             "color": "#2a3f5f"
            },
            "error_y": {
             "color": "#2a3f5f"
            },
            "marker": {
             "line": {
              "color": "#E5ECF6",
              "width": 0.5
             }
            },
            "type": "bar"
           }
          ],
          "barpolar": [
           {
            "marker": {
             "line": {
              "color": "#E5ECF6",
              "width": 0.5
             }
            },
            "type": "barpolar"
           }
          ],
          "carpet": [
           {
            "aaxis": {
             "endlinecolor": "#2a3f5f",
             "gridcolor": "white",
             "linecolor": "white",
             "minorgridcolor": "white",
             "startlinecolor": "#2a3f5f"
            },
            "baxis": {
             "endlinecolor": "#2a3f5f",
             "gridcolor": "white",
             "linecolor": "white",
             "minorgridcolor": "white",
             "startlinecolor": "#2a3f5f"
            },
            "type": "carpet"
           }
          ],
          "choropleth": [
           {
            "colorbar": {
             "outlinewidth": 0,
             "ticks": ""
            },
            "type": "choropleth"
           }
          ],
          "contour": [
           {
            "colorbar": {
             "outlinewidth": 0,
             "ticks": ""
            },
            "colorscale": [
             [
              0,
              "#0d0887"
             ],
             [
              0.1111111111111111,
              "#46039f"
             ],
             [
              0.2222222222222222,
              "#7201a8"
             ],
             [
              0.3333333333333333,
              "#9c179e"
             ],
             [
              0.4444444444444444,
              "#bd3786"
             ],
             [
              0.5555555555555556,
              "#d8576b"
             ],
             [
              0.6666666666666666,
              "#ed7953"
             ],
             [
              0.7777777777777778,
              "#fb9f3a"
             ],
             [
              0.8888888888888888,
              "#fdca26"
             ],
             [
              1,
              "#f0f921"
             ]
            ],
            "type": "contour"
           }
          ],
          "contourcarpet": [
           {
            "colorbar": {
             "outlinewidth": 0,
             "ticks": ""
            },
            "type": "contourcarpet"
           }
          ],
          "heatmap": [
           {
            "colorbar": {
             "outlinewidth": 0,
             "ticks": ""
            },
            "colorscale": [
             [
              0,
              "#0d0887"
             ],
             [
              0.1111111111111111,
              "#46039f"
             ],
             [
              0.2222222222222222,
              "#7201a8"
             ],
             [
              0.3333333333333333,
              "#9c179e"
             ],
             [
              0.4444444444444444,
              "#bd3786"
             ],
             [
              0.5555555555555556,
              "#d8576b"
             ],
             [
              0.6666666666666666,
              "#ed7953"
             ],
             [
              0.7777777777777778,
              "#fb9f3a"
             ],
             [
              0.8888888888888888,
              "#fdca26"
             ],
             [
              1,
              "#f0f921"
             ]
            ],
            "type": "heatmap"
           }
          ],
          "heatmapgl": [
           {
            "colorbar": {
             "outlinewidth": 0,
             "ticks": ""
            },
            "colorscale": [
             [
              0,
              "#0d0887"
             ],
             [
              0.1111111111111111,
              "#46039f"
             ],
             [
              0.2222222222222222,
              "#7201a8"
             ],
             [
              0.3333333333333333,
              "#9c179e"
             ],
             [
              0.4444444444444444,
              "#bd3786"
             ],
             [
              0.5555555555555556,
              "#d8576b"
             ],
             [
              0.6666666666666666,
              "#ed7953"
             ],
             [
              0.7777777777777778,
              "#fb9f3a"
             ],
             [
              0.8888888888888888,
              "#fdca26"
             ],
             [
              1,
              "#f0f921"
             ]
            ],
            "type": "heatmapgl"
           }
          ],
          "histogram": [
           {
            "marker": {
             "colorbar": {
              "outlinewidth": 0,
              "ticks": ""
             }
            },
            "type": "histogram"
           }
          ],
          "histogram2d": [
           {
            "colorbar": {
             "outlinewidth": 0,
             "ticks": ""
            },
            "colorscale": [
             [
              0,
              "#0d0887"
             ],
             [
              0.1111111111111111,
              "#46039f"
             ],
             [
              0.2222222222222222,
              "#7201a8"
             ],
             [
              0.3333333333333333,
              "#9c179e"
             ],
             [
              0.4444444444444444,
              "#bd3786"
             ],
             [
              0.5555555555555556,
              "#d8576b"
             ],
             [
              0.6666666666666666,
              "#ed7953"
             ],
             [
              0.7777777777777778,
              "#fb9f3a"
             ],
             [
              0.8888888888888888,
              "#fdca26"
             ],
             [
              1,
              "#f0f921"
             ]
            ],
            "type": "histogram2d"
           }
          ],
          "histogram2dcontour": [
           {
            "colorbar": {
             "outlinewidth": 0,
             "ticks": ""
            },
            "colorscale": [
             [
              0,
              "#0d0887"
             ],
             [
              0.1111111111111111,
              "#46039f"
             ],
             [
              0.2222222222222222,
              "#7201a8"
             ],
             [
              0.3333333333333333,
              "#9c179e"
             ],
             [
              0.4444444444444444,
              "#bd3786"
             ],
             [
              0.5555555555555556,
              "#d8576b"
             ],
             [
              0.6666666666666666,
              "#ed7953"
             ],
             [
              0.7777777777777778,
              "#fb9f3a"
             ],
             [
              0.8888888888888888,
              "#fdca26"
             ],
             [
              1,
              "#f0f921"
             ]
            ],
            "type": "histogram2dcontour"
           }
          ],
          "mesh3d": [
           {
            "colorbar": {
             "outlinewidth": 0,
             "ticks": ""
            },
            "type": "mesh3d"
           }
          ],
          "parcoords": [
           {
            "line": {
             "colorbar": {
              "outlinewidth": 0,
              "ticks": ""
             }
            },
            "type": "parcoords"
           }
          ],
          "pie": [
           {
            "automargin": true,
            "type": "pie"
           }
          ],
          "scatter": [
           {
            "marker": {
             "colorbar": {
              "outlinewidth": 0,
              "ticks": ""
             }
            },
            "type": "scatter"
           }
          ],
          "scatter3d": [
           {
            "line": {
             "colorbar": {
              "outlinewidth": 0,
              "ticks": ""
             }
            },
            "marker": {
             "colorbar": {
              "outlinewidth": 0,
              "ticks": ""
             }
            },
            "type": "scatter3d"
           }
          ],
          "scattercarpet": [
           {
            "marker": {
             "colorbar": {
              "outlinewidth": 0,
              "ticks": ""
             }
            },
            "type": "scattercarpet"
           }
          ],
          "scattergeo": [
           {
            "marker": {
             "colorbar": {
              "outlinewidth": 0,
              "ticks": ""
             }
            },
            "type": "scattergeo"
           }
          ],
          "scattergl": [
           {
            "marker": {
             "colorbar": {
              "outlinewidth": 0,
              "ticks": ""
             }
            },
            "type": "scattergl"
           }
          ],
          "scattermapbox": [
           {
            "marker": {
             "colorbar": {
              "outlinewidth": 0,
              "ticks": ""
             }
            },
            "type": "scattermapbox"
           }
          ],
          "scatterpolar": [
           {
            "marker": {
             "colorbar": {
              "outlinewidth": 0,
              "ticks": ""
             }
            },
            "type": "scatterpolar"
           }
          ],
          "scatterpolargl": [
           {
            "marker": {
             "colorbar": {
              "outlinewidth": 0,
              "ticks": ""
             }
            },
            "type": "scatterpolargl"
           }
          ],
          "scatterternary": [
           {
            "marker": {
             "colorbar": {
              "outlinewidth": 0,
              "ticks": ""
             }
            },
            "type": "scatterternary"
           }
          ],
          "surface": [
           {
            "colorbar": {
             "outlinewidth": 0,
             "ticks": ""
            },
            "colorscale": [
             [
              0,
              "#0d0887"
             ],
             [
              0.1111111111111111,
              "#46039f"
             ],
             [
              0.2222222222222222,
              "#7201a8"
             ],
             [
              0.3333333333333333,
              "#9c179e"
             ],
             [
              0.4444444444444444,
              "#bd3786"
             ],
             [
              0.5555555555555556,
              "#d8576b"
             ],
             [
              0.6666666666666666,
              "#ed7953"
             ],
             [
              0.7777777777777778,
              "#fb9f3a"
             ],
             [
              0.8888888888888888,
              "#fdca26"
             ],
             [
              1,
              "#f0f921"
             ]
            ],
            "type": "surface"
           }
          ],
          "table": [
           {
            "cells": {
             "fill": {
              "color": "#EBF0F8"
             },
             "line": {
              "color": "white"
             }
            },
            "header": {
             "fill": {
              "color": "#C8D4E3"
             },
             "line": {
              "color": "white"
             }
            },
            "type": "table"
           }
          ]
         },
         "layout": {
          "annotationdefaults": {
           "arrowcolor": "#2a3f5f",
           "arrowhead": 0,
           "arrowwidth": 1
          },
          "autotypenumbers": "strict",
          "coloraxis": {
           "colorbar": {
            "outlinewidth": 0,
            "ticks": ""
           }
          },
          "colorscale": {
           "diverging": [
            [
             0,
             "#8e0152"
            ],
            [
             0.1,
             "#c51b7d"
            ],
            [
             0.2,
             "#de77ae"
            ],
            [
             0.3,
             "#f1b6da"
            ],
            [
             0.4,
             "#fde0ef"
            ],
            [
             0.5,
             "#f7f7f7"
            ],
            [
             0.6,
             "#e6f5d0"
            ],
            [
             0.7,
             "#b8e186"
            ],
            [
             0.8,
             "#7fbc41"
            ],
            [
             0.9,
             "#4d9221"
            ],
            [
             1,
             "#276419"
            ]
           ],
           "sequential": [
            [
             0,
             "#0d0887"
            ],
            [
             0.1111111111111111,
             "#46039f"
            ],
            [
             0.2222222222222222,
             "#7201a8"
            ],
            [
             0.3333333333333333,
             "#9c179e"
            ],
            [
             0.4444444444444444,
             "#bd3786"
            ],
            [
             0.5555555555555556,
             "#d8576b"
            ],
            [
             0.6666666666666666,
             "#ed7953"
            ],
            [
             0.7777777777777778,
             "#fb9f3a"
            ],
            [
             0.8888888888888888,
             "#fdca26"
            ],
            [
             1,
             "#f0f921"
            ]
           ],
           "sequentialminus": [
            [
             0,
             "#0d0887"
            ],
            [
             0.1111111111111111,
             "#46039f"
            ],
            [
             0.2222222222222222,
             "#7201a8"
            ],
            [
             0.3333333333333333,
             "#9c179e"
            ],
            [
             0.4444444444444444,
             "#bd3786"
            ],
            [
             0.5555555555555556,
             "#d8576b"
            ],
            [
             0.6666666666666666,
             "#ed7953"
            ],
            [
             0.7777777777777778,
             "#fb9f3a"
            ],
            [
             0.8888888888888888,
             "#fdca26"
            ],
            [
             1,
             "#f0f921"
            ]
           ]
          },
          "colorway": [
           "#636efa",
           "#EF553B",
           "#00cc96",
           "#ab63fa",
           "#FFA15A",
           "#19d3f3",
           "#FF6692",
           "#B6E880",
           "#FF97FF",
           "#FECB52"
          ],
          "font": {
           "color": "#2a3f5f"
          },
          "geo": {
           "bgcolor": "white",
           "lakecolor": "white",
           "landcolor": "#E5ECF6",
           "showlakes": true,
           "showland": true,
           "subunitcolor": "white"
          },
          "hoverlabel": {
           "align": "left"
          },
          "hovermode": "closest",
          "mapbox": {
           "style": "light"
          },
          "paper_bgcolor": "white",
          "plot_bgcolor": "#E5ECF6",
          "polar": {
           "angularaxis": {
            "gridcolor": "white",
            "linecolor": "white",
            "ticks": ""
           },
           "bgcolor": "#E5ECF6",
           "radialaxis": {
            "gridcolor": "white",
            "linecolor": "white",
            "ticks": ""
           }
          },
          "scene": {
           "xaxis": {
            "backgroundcolor": "#E5ECF6",
            "gridcolor": "white",
            "gridwidth": 2,
            "linecolor": "white",
            "showbackground": true,
            "ticks": "",
            "zerolinecolor": "white"
           },
           "yaxis": {
            "backgroundcolor": "#E5ECF6",
            "gridcolor": "white",
            "gridwidth": 2,
            "linecolor": "white",
            "showbackground": true,
            "ticks": "",
            "zerolinecolor": "white"
           },
           "zaxis": {
            "backgroundcolor": "#E5ECF6",
            "gridcolor": "white",
            "gridwidth": 2,
            "linecolor": "white",
            "showbackground": true,
            "ticks": "",
            "zerolinecolor": "white"
           }
          },
          "shapedefaults": {
           "line": {
            "color": "#2a3f5f"
           }
          },
          "ternary": {
           "aaxis": {
            "gridcolor": "white",
            "linecolor": "white",
            "ticks": ""
           },
           "baxis": {
            "gridcolor": "white",
            "linecolor": "white",
            "ticks": ""
           },
           "bgcolor": "#E5ECF6",
           "caxis": {
            "gridcolor": "white",
            "linecolor": "white",
            "ticks": ""
           }
          },
          "title": {
           "x": 0.05
          },
          "xaxis": {
           "automargin": true,
           "gridcolor": "white",
           "linecolor": "white",
           "ticks": "",
           "title": {
            "standoff": 15
           },
           "zerolinecolor": "white",
           "zerolinewidth": 2
          },
          "yaxis": {
           "automargin": true,
           "gridcolor": "white",
           "linecolor": "white",
           "ticks": "",
           "title": {
            "standoff": 15
           },
           "zerolinecolor": "white",
           "zerolinewidth": 2
          }
         }
        },
        "title": {
         "font": {
          "color": "#D9D9D9"
         },
         "text": "2020 年 10 月 16 日美国国债收益率曲线"
        },
        "xaxis": {
         "gridcolor": "#434343",
         "showgrid": true,
         "tickfont": {
          "color": "#C2C2C2"
         },
         "title": {
          "font": {
           "color": "#D9D9D9"
          },
          "text": "期限"
         },
         "zerolinecolor": "#666570"
        },
        "yaxis": {
         "gridcolor": "#434343",
         "showgrid": true,
         "tickfont": {
          "color": "#C2C2C2"
         },
         "title": {
          "font": {
           "color": "#D9D9D9"
          },
          "text": "收益率 (%)"
         },
         "zerolinecolor": "#666570"
        }
       }
      },
      "text/html": [
       "<div>                            <div id=\"e962ba34-9a62-4eb7-9855-105bc4fa033f\" class=\"plotly-graph-div\" style=\"height:525px; width:100%;\"></div>            <script type=\"text/javascript\">                require([\"plotly\"], function(Plotly) {                    window.PLOTLYENV=window.PLOTLYENV || {};\n",
       "                    window.PLOTLYENV.BASE_URL='https://plot.ly';                                    if (document.getElementById(\"e962ba34-9a62-4eb7-9855-105bc4fa033f\")) {                    Plotly.newPlot(                        \"e962ba34-9a62-4eb7-9855-105bc4fa033f\",                        [{\"line\": {\"color\": \"rgba(220, 38, 36, 1.0)\", \"dash\": \"solid\", \"shape\": \"linear\", \"width\": 1.3}, \"marker\": {\"size\": 10, \"symbol\": \"circle\"}, \"mode\": \"lines+markers\", \"name\": \"Yield (%)\", \"text\": \"\", \"type\": \"scatter\", \"x\": [\"1M\", \"3M\", \"1Y\", \"2Y\", \"3Y\", \"5Y\", \"7Y\", \"10Y\", \"20Y\", \"30Y\"], \"y\": [0.09, 0.11, 0.12, 0.14, 0.18, 0.32, 0.53, 0.76, 1.3, 1.52]}],                        {\"legend\": {\"bgcolor\": \"#151516\", \"font\": {\"color\": \"#D9D9D9\"}}, \"paper_bgcolor\": \"#151516\", \"plot_bgcolor\": \"#151516\", \"template\": {\"data\": {\"bar\": [{\"error_x\": {\"color\": \"#2a3f5f\"}, \"error_y\": {\"color\": \"#2a3f5f\"}, \"marker\": {\"line\": {\"color\": \"#E5ECF6\", \"width\": 0.5}}, \"type\": \"bar\"}], \"barpolar\": [{\"marker\": {\"line\": {\"color\": \"#E5ECF6\", \"width\": 0.5}}, \"type\": \"barpolar\"}], \"carpet\": [{\"aaxis\": {\"endlinecolor\": \"#2a3f5f\", \"gridcolor\": \"white\", \"linecolor\": \"white\", \"minorgridcolor\": \"white\", \"startlinecolor\": \"#2a3f5f\"}, \"baxis\": {\"endlinecolor\": \"#2a3f5f\", \"gridcolor\": \"white\", \"linecolor\": \"white\", \"minorgridcolor\": \"white\", \"startlinecolor\": \"#2a3f5f\"}, \"type\": \"carpet\"}], \"choropleth\": [{\"colorbar\": {\"outlinewidth\": 0, \"ticks\": \"\"}, \"type\": \"choropleth\"}], \"contour\": [{\"colorbar\": {\"outlinewidth\": 0, \"ticks\": \"\"}, \"colorscale\": [[0.0, \"#0d0887\"], [0.1111111111111111, \"#46039f\"], [0.2222222222222222, \"#7201a8\"], [0.3333333333333333, \"#9c179e\"], [0.4444444444444444, \"#bd3786\"], [0.5555555555555556, \"#d8576b\"], [0.6666666666666666, \"#ed7953\"], [0.7777777777777778, \"#fb9f3a\"], [0.8888888888888888, \"#fdca26\"], [1.0, \"#f0f921\"]], \"type\": \"contour\"}], \"contourcarpet\": [{\"colorbar\": {\"outlinewidth\": 0, \"ticks\": \"\"}, \"type\": \"contourcarpet\"}], \"heatmap\": [{\"colorbar\": {\"outlinewidth\": 0, \"ticks\": \"\"}, \"colorscale\": [[0.0, \"#0d0887\"], [0.1111111111111111, \"#46039f\"], [0.2222222222222222, \"#7201a8\"], [0.3333333333333333, \"#9c179e\"], [0.4444444444444444, \"#bd3786\"], [0.5555555555555556, \"#d8576b\"], [0.6666666666666666, \"#ed7953\"], [0.7777777777777778, \"#fb9f3a\"], [0.8888888888888888, \"#fdca26\"], [1.0, \"#f0f921\"]], \"type\": \"heatmap\"}], \"heatmapgl\": [{\"colorbar\": {\"outlinewidth\": 0, \"ticks\": \"\"}, \"colorscale\": [[0.0, \"#0d0887\"], [0.1111111111111111, \"#46039f\"], [0.2222222222222222, \"#7201a8\"], [0.3333333333333333, \"#9c179e\"], [0.4444444444444444, \"#bd3786\"], [0.5555555555555556, \"#d8576b\"], [0.6666666666666666, \"#ed7953\"], [0.7777777777777778, \"#fb9f3a\"], [0.8888888888888888, \"#fdca26\"], [1.0, \"#f0f921\"]], \"type\": \"heatmapgl\"}], \"histogram\": [{\"marker\": {\"colorbar\": {\"outlinewidth\": 0, \"ticks\": \"\"}}, \"type\": \"histogram\"}], \"histogram2d\": [{\"colorbar\": {\"outlinewidth\": 0, \"ticks\": \"\"}, \"colorscale\": [[0.0, \"#0d0887\"], [0.1111111111111111, \"#46039f\"], [0.2222222222222222, \"#7201a8\"], [0.3333333333333333, \"#9c179e\"], [0.4444444444444444, \"#bd3786\"], [0.5555555555555556, \"#d8576b\"], [0.6666666666666666, \"#ed7953\"], [0.7777777777777778, \"#fb9f3a\"], [0.8888888888888888, \"#fdca26\"], [1.0, \"#f0f921\"]], \"type\": \"histogram2d\"}], \"histogram2dcontour\": [{\"colorbar\": {\"outlinewidth\": 0, \"ticks\": \"\"}, \"colorscale\": [[0.0, \"#0d0887\"], [0.1111111111111111, \"#46039f\"], [0.2222222222222222, \"#7201a8\"], [0.3333333333333333, \"#9c179e\"], [0.4444444444444444, \"#bd3786\"], [0.5555555555555556, \"#d8576b\"], [0.6666666666666666, \"#ed7953\"], [0.7777777777777778, \"#fb9f3a\"], [0.8888888888888888, \"#fdca26\"], [1.0, \"#f0f921\"]], \"type\": \"histogram2dcontour\"}], \"mesh3d\": [{\"colorbar\": {\"outlinewidth\": 0, \"ticks\": \"\"}, \"type\": \"mesh3d\"}], \"parcoords\": [{\"line\": {\"colorbar\": {\"outlinewidth\": 0, \"ticks\": \"\"}}, \"type\": \"parcoords\"}], \"pie\": [{\"automargin\": true, \"type\": \"pie\"}], \"scatter\": [{\"marker\": {\"colorbar\": {\"outlinewidth\": 0, \"ticks\": \"\"}}, \"type\": \"scatter\"}], \"scatter3d\": [{\"line\": {\"colorbar\": {\"outlinewidth\": 0, \"ticks\": \"\"}}, \"marker\": {\"colorbar\": {\"outlinewidth\": 0, \"ticks\": \"\"}}, \"type\": \"scatter3d\"}], \"scattercarpet\": [{\"marker\": {\"colorbar\": {\"outlinewidth\": 0, \"ticks\": \"\"}}, \"type\": \"scattercarpet\"}], \"scattergeo\": [{\"marker\": {\"colorbar\": {\"outlinewidth\": 0, \"ticks\": \"\"}}, \"type\": \"scattergeo\"}], \"scattergl\": [{\"marker\": {\"colorbar\": {\"outlinewidth\": 0, \"ticks\": \"\"}}, \"type\": \"scattergl\"}], \"scattermapbox\": [{\"marker\": {\"colorbar\": {\"outlinewidth\": 0, \"ticks\": \"\"}}, \"type\": \"scattermapbox\"}], \"scatterpolar\": [{\"marker\": {\"colorbar\": {\"outlinewidth\": 0, \"ticks\": \"\"}}, \"type\": \"scatterpolar\"}], \"scatterpolargl\": [{\"marker\": {\"colorbar\": {\"outlinewidth\": 0, \"ticks\": \"\"}}, \"type\": \"scatterpolargl\"}], \"scatterternary\": [{\"marker\": {\"colorbar\": {\"outlinewidth\": 0, \"ticks\": \"\"}}, \"type\": \"scatterternary\"}], \"surface\": [{\"colorbar\": {\"outlinewidth\": 0, \"ticks\": \"\"}, \"colorscale\": [[0.0, \"#0d0887\"], [0.1111111111111111, \"#46039f\"], [0.2222222222222222, \"#7201a8\"], [0.3333333333333333, \"#9c179e\"], [0.4444444444444444, \"#bd3786\"], [0.5555555555555556, \"#d8576b\"], [0.6666666666666666, \"#ed7953\"], [0.7777777777777778, \"#fb9f3a\"], [0.8888888888888888, \"#fdca26\"], [1.0, \"#f0f921\"]], \"type\": \"surface\"}], \"table\": [{\"cells\": {\"fill\": {\"color\": \"#EBF0F8\"}, \"line\": {\"color\": \"white\"}}, \"header\": {\"fill\": {\"color\": \"#C8D4E3\"}, \"line\": {\"color\": \"white\"}}, \"type\": \"table\"}]}, \"layout\": {\"annotationdefaults\": {\"arrowcolor\": \"#2a3f5f\", \"arrowhead\": 0, \"arrowwidth\": 1}, \"autotypenumbers\": \"strict\", \"coloraxis\": {\"colorbar\": {\"outlinewidth\": 0, \"ticks\": \"\"}}, \"colorscale\": {\"diverging\": [[0, \"#8e0152\"], [0.1, \"#c51b7d\"], [0.2, \"#de77ae\"], [0.3, \"#f1b6da\"], [0.4, \"#fde0ef\"], [0.5, \"#f7f7f7\"], [0.6, \"#e6f5d0\"], [0.7, \"#b8e186\"], [0.8, \"#7fbc41\"], [0.9, \"#4d9221\"], [1, \"#276419\"]], \"sequential\": [[0.0, \"#0d0887\"], [0.1111111111111111, \"#46039f\"], [0.2222222222222222, \"#7201a8\"], [0.3333333333333333, \"#9c179e\"], [0.4444444444444444, \"#bd3786\"], [0.5555555555555556, \"#d8576b\"], [0.6666666666666666, \"#ed7953\"], [0.7777777777777778, \"#fb9f3a\"], [0.8888888888888888, \"#fdca26\"], [1.0, \"#f0f921\"]], \"sequentialminus\": [[0.0, \"#0d0887\"], [0.1111111111111111, \"#46039f\"], [0.2222222222222222, \"#7201a8\"], [0.3333333333333333, \"#9c179e\"], [0.4444444444444444, \"#bd3786\"], [0.5555555555555556, \"#d8576b\"], [0.6666666666666666, \"#ed7953\"], [0.7777777777777778, \"#fb9f3a\"], [0.8888888888888888, \"#fdca26\"], [1.0, \"#f0f921\"]]}, \"colorway\": [\"#636efa\", \"#EF553B\", \"#00cc96\", \"#ab63fa\", \"#FFA15A\", \"#19d3f3\", \"#FF6692\", \"#B6E880\", \"#FF97FF\", \"#FECB52\"], \"font\": {\"color\": \"#2a3f5f\"}, \"geo\": {\"bgcolor\": \"white\", \"lakecolor\": \"white\", \"landcolor\": \"#E5ECF6\", \"showlakes\": true, \"showland\": true, \"subunitcolor\": \"white\"}, \"hoverlabel\": {\"align\": \"left\"}, \"hovermode\": \"closest\", \"mapbox\": {\"style\": \"light\"}, \"paper_bgcolor\": \"white\", \"plot_bgcolor\": \"#E5ECF6\", \"polar\": {\"angularaxis\": {\"gridcolor\": \"white\", \"linecolor\": \"white\", \"ticks\": \"\"}, \"bgcolor\": \"#E5ECF6\", \"radialaxis\": {\"gridcolor\": \"white\", \"linecolor\": \"white\", \"ticks\": \"\"}}, \"scene\": {\"xaxis\": {\"backgroundcolor\": \"#E5ECF6\", \"gridcolor\": \"white\", \"gridwidth\": 2, \"linecolor\": \"white\", \"showbackground\": true, \"ticks\": \"\", \"zerolinecolor\": \"white\"}, \"yaxis\": {\"backgroundcolor\": \"#E5ECF6\", \"gridcolor\": \"white\", \"gridwidth\": 2, \"linecolor\": \"white\", \"showbackground\": true, \"ticks\": \"\", \"zerolinecolor\": \"white\"}, \"zaxis\": {\"backgroundcolor\": \"#E5ECF6\", \"gridcolor\": \"white\", \"gridwidth\": 2, \"linecolor\": \"white\", \"showbackground\": true, \"ticks\": \"\", \"zerolinecolor\": \"white\"}}, \"shapedefaults\": {\"line\": {\"color\": \"#2a3f5f\"}}, \"ternary\": {\"aaxis\": {\"gridcolor\": \"white\", \"linecolor\": \"white\", \"ticks\": \"\"}, \"baxis\": {\"gridcolor\": \"white\", \"linecolor\": \"white\", \"ticks\": \"\"}, \"bgcolor\": \"#E5ECF6\", \"caxis\": {\"gridcolor\": \"white\", \"linecolor\": \"white\", \"ticks\": \"\"}}, \"title\": {\"x\": 0.05}, \"xaxis\": {\"automargin\": true, \"gridcolor\": \"white\", \"linecolor\": \"white\", \"ticks\": \"\", \"title\": {\"standoff\": 15}, \"zerolinecolor\": \"white\", \"zerolinewidth\": 2}, \"yaxis\": {\"automargin\": true, \"gridcolor\": \"white\", \"linecolor\": \"white\", \"ticks\": \"\", \"title\": {\"standoff\": 15}, \"zerolinecolor\": \"white\", \"zerolinewidth\": 2}}}, \"title\": {\"font\": {\"color\": \"#D9D9D9\"}, \"text\": \"2020 \\u5e74 10 \\u6708 16 \\u65e5\\u7f8e\\u56fd\\u56fd\\u503a\\u6536\\u76ca\\u7387\\u66f2\\u7ebf\"}, \"xaxis\": {\"gridcolor\": \"#434343\", \"showgrid\": true, \"tickfont\": {\"color\": \"#C2C2C2\"}, \"title\": {\"font\": {\"color\": \"#D9D9D9\"}, \"text\": \"\\u671f\\u9650\"}, \"zerolinecolor\": \"#666570\"}, \"yaxis\": {\"gridcolor\": \"#434343\", \"showgrid\": true, \"tickfont\": {\"color\": \"#C2C2C2\"}, \"title\": {\"font\": {\"color\": \"#D9D9D9\"}, \"text\": \"\\u6536\\u76ca\\u7387 (%)\"}, \"zerolinecolor\": \"#666570\"}},                        {\"showLink\": true, \"linkText\": \"Export to plot.ly\", \"plotlyServerURL\": \"https://plot.ly\", \"responsive\": true}                    ).then(function(){\n",
       "                            \n",
       "var gd = document.getElementById('e962ba34-9a62-4eb7-9855-105bc4fa033f');\n",
       "var x = new MutationObserver(function (mutations, observer) {{\n",
       "        var display = window.getComputedStyle(gd).display;\n",
       "        if (!display || display === 'none') {{\n",
       "            console.log([gd, 'removed!']);\n",
       "            Plotly.purge(gd);\n",
       "            observer.disconnect();\n",
       "        }}\n",
       "}});\n",
       "\n",
       "// Listen for the removal of the full notebook cells\n",
       "var notebookContainer = gd.closest('#notebook-container');\n",
       "if (notebookContainer) {{\n",
       "    x.observe(notebookContainer, {childList: true});\n",
       "}}\n",
       "\n",
       "// Listen for the clearing of the current output cell\n",
       "var outputEl = gd.closest('.output');\n",
       "if (outputEl) {{\n",
       "    x.observe(outputEl, {childList: true});\n",
       "}}\n",
       "\n",
       "                        })                };                });            </script>        </div>"
      ]
     },
     "metadata": {},
     "output_type": "display_data"
    }
   ],
   "source": [
    "UST.iplot( kind='scatter', mode='lines+markers', size=10, \n",
    "           title='2020 年 10 月 16 日美国国债收益率曲线', xTitle='期限', yTitle='收益率 (%)', \n",
    "           color=color, theme='solar' )"
   ]
  },
  {
   "cell_type": "markdown",
   "metadata": {},
   "source": [
    "解释上图\n",
    "\n",
    "- 水平轴描述了该日期每种已发行美国国债的<font color='red'>期限</font> (maturity)。\n",
    "- 垂直轴是观察到的国债对应的<font color='red'>收益率</font> (yield %)。\n",
    "\n",
    "不难发现，较短期限的债券比期限较长的美国国债的收益率低，一般来说，收益率曲线都是**向上倾斜**的 (upward-sloping)。"
   ]
  },
  {
   "cell_type": "markdown",
   "metadata": {},
   "source": [
    "用符号 <font color='blue'>$T$</font> 和 <font color='blue'>$y$</font> 来表示期限和收益率，那么它们之间的关系可抽象的写成：\n",
    "\n",
    "<br>\n",
    "<font color='blue'>\n",
    "\\begin{equation}\n",
    "y = f(T)\n",
    "\\end{equation}\n",
    "</font>\n",
    "\n",
    "其中 <font color='blue'>$f(\\cdot)$</font> 就是想要找到收益率和期限之间的对应关系。\n",
    "\n",
    "当我们谈论收益曲线模型时，有两种情况：\n",
    "\n",
    "1. 在给定时间点的收益率曲线的形式 (at a point of time)\n",
    "2. 收益率曲线随时间变化的动态 (through time)\n",
    "\n",
    "<img src=\"yield curve modeling.PNG\" style=\"width:700px;height:350px;\">"
   ]
  },
  {
   "cell_type": "markdown",
   "metadata": {},
   "source": [
    "### <font color='#2b4750' face='微软雅黑'>1.2 债券 101</font><a name='1.2'></a>\n",
    "[<font color='black' face='微软雅黑'>回到章首</font>](#1)\n",
    "\n",
    "债券分固定利率和浮动利率，用于构建收益率曲线的绝大部分都是固定债，每期支付利息 (coupon)，到期归还本金。支付频率可以是每年、每半年、每季度和每月。固定债券的支付结构图如下：\n",
    "\n",
    "<img src=\"fixed rate bond no AI.PNG\" style=\"width:500px;height:250px;\">\n",
    "\n",
    "计算债券的现值公式：\n",
    "\n",
    "<br>\n",
    "<font color='blue'>\n",
    "\\begin{equation}\n",
    "V(t)=\\sum_{n=1}^{N} \\frac{\\frac{c}{f}}{(1+\\frac{y}{f})^{f\\cdot n}}+\\frac{1}{(1+\\frac{y}{f})^{f\\cdot N}}\n",
    "\\end{equation}\n",
    "</font>"
   ]
  },
  {
   "cell_type": "markdown",
   "metadata": {},
   "source": [
    "一般估值日不会刚好落在债券的付息日，如下图所示：\n",
    "\n",
    "<img src=\"fixed rate bond.PNG\" style=\"width:800px;height:280px;\">\n",
    "\n",
    "计算债券的现值公式：\n",
    "\n",
    "<br>\n",
    "<font color='blue'>\n",
    "\\begin{equation}\n",
    "V(t)=\\sum_{n=1}^{N} \\frac{\\frac{c}{f}}{(1+\\frac{y}{f})^{f\\cdot (T_n - t)}}+\\frac{1}{(1+\\frac{y}{f})^{f\\cdot (T_N - t)}}\n",
    "\\end{equation}\n",
    "</font>\n",
    "\n",
    "上面计算的债券价值称为**全价** (dirty price)，但其实市场上债券报价的都是**净价** (clean price)，两者之间相差一个**累计利息** (accrued interest)，如上图所示：\n",
    "\n",
    "<br>\n",
    "<font color='blue'>\n",
    "\\begin{equation}\n",
    "V_{\\text{CP}}(t)=V_{\\text{DP}}(t) - \\text{AI} = \\sum_{n=1}^{N} \\frac{\\frac{c}{f}}{(1+\\frac{y}{f})^{f\\cdot (T_n - t)}}+\\frac{1}{(1+\\frac{y}{f})^{f\\cdot (T_N - t)}} - \\frac{T_1 - t}{T_1 - T_0}\\times\\frac{c}{f}\n",
    "\\end{equation}\n",
    "</font>"
   ]
  },
  {
   "cell_type": "markdown",
   "metadata": {},
   "source": [
    "# <font color='#dc2624' face='微软雅黑'>2. Nelson-Siegel 模型</font><a name='2'></a>\n",
    "[<font color='black' face='微软雅黑'>回到目录</font>](#toc)\n",
    "\n",
    "Nelson-Siegel (NS) 模型最早由 Nelson 和 Siegel 于 1987 年提出，该模型适用于利率期限结构分析。NS 模型中有四个参数，每个都有自身的经济含义，而且不同参数值能描述不同情境下的利率曲线的变动情况。\n",
    "\n",
    "### <font color='#2b4750' face='微软雅黑'>2.1 瞬时远期利率</font><a name='2.1'></a>\n",
    "[<font color='black' face='微软雅黑'>回到章首</font>](#2)\n",
    "\n",
    "首先 NS 模型制定了瞬时远期利率（instantaneous forward rates）的形式：\n",
    "\n",
    "<br>\n",
    "<font color='blue'>\n",
    "\\begin{equation}\n",
    "f(T-t)=f(t, T)=\\beta_{0}+\\beta_{1} e^{-\\frac{\\tau}{\\lambda}}+\\beta_{2} \\frac{\\tau}{\\lambda} e^{-\\frac{\\tau}{\\lambda}}\n",
    "\\end{equation}\n",
    "</font>\n",
    "\n",
    "该模型有四个参数 $\\beta_0$, $\\beta_1$, $\\beta_2$, $\\lambda$，其中 $\\tau=T-t$ 是到期年限，$\\lambda>0$。\n",
    "\n",
    "瞬时远期利率 $f(t,T)$ 里面有三项：\n",
    "\n",
    "- 第一项 $\\beta_0$ 是当 $\\tau$ 趋近无穷大时的远期利率，因此 <font color='blue'>$f(\\infty) = \\beta_0$</font>。\n",
    "- 第二项是个 $\\tau$ 的单调函数，当 $\\beta_1>0$ 时递减，当 $\\beta_1<0$ 时递增。\n",
    "- 第三项是个 $\\tau$ 的非单调函数，可以产生驼峰 (hump)。\n",
    "\n",
    "当 $\\tau$ 趋近零时，第二项趋近于 $\\beta_1$，第三项趋近于 $0$，因此 <font color='blue'>$f(0)=\\beta_0+\\beta_1$</font>。\n",
    "\n",
    "用下图来分解 NS 模型中的三项：\n",
    "\n",
    "<img src=\"NS visualization.PNG\" style=\"width:800px;height:400px;\">\n",
    "\n",
    "注意 $\\beta_1$ 是负数，因此第二项是增函数，注意蓝线缓缓向上。$\\beta_2$ 也是负数，因此第三项是先减后增，有个谷底，而不是峰顶。"
   ]
  },
  {
   "cell_type": "markdown",
   "metadata": {},
   "source": [
    "### <font color='#2b4750' face='微软雅黑'>2.2 即期利率</font><a name='2.2'></a>\n",
    "[<font color='black' face='微软雅黑'>回到章首</font>](#2)\n",
    "    \n",
    "根据即期利率和瞬时远期利率之间的关系，我们求积分得到\n",
    "\n",
    "<br>\n",
    "<font color='blue'>\n",
    "\\begin{equation}\n",
    "\\begin{aligned}\n",
    "R(T-t)=R(t, T) &=\\frac{1}{T-t} \\int_{t}^{T} f(t,u) du \\\\\n",
    "&=\\frac{1}{T-t} \\int_{t}^{T}\\left(\\beta_{0}+\\beta_{1} e^{-\\frac{u-t}{\\lambda}}+\\beta_{2} \\frac{u-t}{\\lambda} e^{-\\frac{u-t}{\\lambda}}\\right) du \\\\\n",
    "&=\\beta_{0}+\\beta_{1}\\left(\\frac{1-e^{-\\frac{T-t}{\\lambda}}}{\\frac{T-t}{\\lambda}}\\right)+\\beta_{2}\\left(\\frac{1-e^{-\\frac{T-t}{\\lambda}}}{\\frac{T-t}{\\lambda}}-e^{-\\frac{T-t}{\\lambda}}\\right) \\\\\n",
    "&=\\beta_{0}+\\beta_{1}\\left(\\frac{1-e^{-\\frac{\\tau}{\\lambda}}}{\\frac{\\tau}{\\lambda}}\\right)+\\beta_{2}\\left(\\frac{1-e^{-\\frac{\\tau}{\\lambda}}}{\\frac{\\tau}{\\lambda}}-e^{-\\frac{\\tau}{\\lambda}}\\right)\n",
    "\\end{aligned}\n",
    "\\end{equation}\n",
    "</font>\n",
    "\n",
    "即期利率 $R(T-t)$ 里面也有三项。\n",
    "\n",
    "- 第一项 $\\beta_0$ 是当 $\\tau$ 趋近无穷大时的即期利率，因此 <font color='blue'>$R(\\infty) = \\beta_0$</font>。\n",
    "- 第二项是个 $\\tau$ 的单调函数，当 $\\beta_1>0$ 时递减，当 $\\beta_1<0$ 时递增。\n",
    "- 第三项是个 $\\tau$ 的非单调函数，可以产生驼峰 (hump)。\n",
    "\n",
    "当 $\\tau$ 趋近零时，第二项趋近于 $\\beta_1$，第三项趋近于 $0$，因此 <font color='blue'>$R(0)=\\beta_0+\\beta_1$</font>。\n",
    "\n",
    "将上面等式写成因子形式\n",
    "\n",
    "<br>\n",
    "<font color='blue'>\n",
    "\\begin{equation}\n",
    "R(T-t)=\\beta_{0} \\cdot 1+\\beta_{1} \\cdot\\left(\\frac{1-e^{-\\frac{\\tau}{\\lambda}}}{\\frac{\\tau}{\\lambda}}\\right)+\\beta_{2} \\cdot\\left(\\frac{1-e^{-\\frac{\\tau}{\\lambda}}}{\\frac{\\tau}{\\lambda}}-e^{-\\frac{\\tau}{\\lambda}}\\right)\n",
    "\\end{equation}\n",
    "</font>\n",
    "\n",
    "上式包含四个重点：\n",
    "\n",
    "- <font color='red'>$\\beta_0$</font> 的因子载荷是**<font color='red'>常数</font>**，对于对所有期限利率的影响是相同的，因此 $\\beta_0$ 可控制**<font color='red'>利率水平</font>** (level)，它的变动会使得收益率曲线发生水平上下移动。\n",
    "\n",
    "\n",
    "- <font color='blue'>$\\beta_1$</font> 的因子载荷是**<font color='blue'>单调递减</font>**，从 1 很快的衰减到 0，这表明 $\\beta_1$ 对短端利率的影响较大，因此 $\\beta_1$ 可控制曲线**<font color='blue'>斜率</font>** (slope)，影响着利率曲线的斜率程度。\n",
    "\n",
    "\n",
    "- <font color='green'>$\\beta_2$</font> 的因子载荷**<font color='green'>先增后减</font>**，从 0 增到 1 再减到 0，这表明 $\\beta_2$ 对利率曲线的短端和长端影响较弱，对中端的影响较大，因此 $\\beta_2$ 控制曲线**<font color='green'>曲率</font>** (curvature)。\n",
    "\n",
    "\n",
    "- $\\lambda$ 是 $\\beta_1$ 和 $\\beta_2$ 的因子载荷的衰减速度，该值越小衰减越快。"
   ]
  },
  {
   "cell_type": "markdown",
   "metadata": {},
   "source": [
    "### <font color='#2b4750' face='微软雅黑'>2.3 Svensson 模型</font><a name='2.3'></a>\n",
    "[<font color='black' face='微软雅黑'>回到章首</font>](#2)\n",
    "\n",
    "NS 模型可以模拟利率曲线的最基本的三种形式：**平移**、**斜率**和**曲率**。在 NS 基础上，Svensson 在 1994 年做了改进，为了能多模拟一个 驼峰 (hump) 形状而增加了两个参数。该模型下的瞬时远期利率的形式为:\n",
    "\n",
    "<br>\n",
    "<font color='blue'>\n",
    "\\begin{equation}\n",
    "f(T-t)=f(t, T)=\\beta_{0}+\\beta_{1} e^{-\\frac{\\tau}{\\lambda_{1}}}+\\beta_{2} \\frac{\\tau}{\\lambda_{1}} e^{-\\frac{\\tau}{\\lambda_{1}}}+\\beta_{3} \\frac{\\tau}{\\lambda_{2}} e^{-\\frac{\\tau}{\\lambda_{2}}}\n",
    "\\end{equation}\n",
    "</font>\n",
    "    \n",
    "该模型有六个参数 $\\beta_0$, $\\beta_1$, $\\beta_2$, $\\beta_3$, $\\lambda_1$, $\\lambda_2$，其中 $\\tau=T-t$ 是到期年限，$\\lambda_1 >0$, $\\lambda_2>0$。\n",
    "\n",
    "同样求积分我们可得到即期利率:\n",
    "\n",
    "<br>\n",
    "<font color='blue'>\n",
    "\\begin{equation}\n",
    "R(T-t)=R(t, T)=\\beta_{0}+\\beta_{1}\\left(\\frac{1-e^{-\\frac{\\tau}{\\lambda_{1}}}}{\\frac{\\tau}{\\lambda_{1}}}\\right)+\\beta_{2}\\left(\\frac{1-e^{-\\frac{\\tau}{\\lambda_{1}}}}{\\frac{\\tau}{\\lambda_{1}}}-e^{-\\frac{\\tau}{\\lambda_{1}}}\\right)+\\beta_{3}\\left(\\frac{1-e^{-\\frac{\\tau}{\\lambda_{2}}}}{\\frac{\\tau}{\\lambda_{2}}}-e^{-\\frac{\\tau}{\\lambda_{2}}}\\right)\n",
    "\\end{equation}\n",
    "</font>\n",
    "\n",
    "Svensson 模型可以处理两个驼峰，模型表达能力更强了，但是对于简单类型的利率曲线也更容易过拟合。根据我在实际操作中没有发现它显著强于 NS 模型，而且在拟合 10 年的历史数据的债券收益率曲线时，Svensson 模型更容易发生参数跳跃的情形，这不是我们希望看到的结果。因此我还是偏向于用 NS 模型。"
   ]
  },
  {
   "cell_type": "markdown",
   "metadata": {},
   "source": [
    "# <font color='#dc2624' face='微软雅黑'>3. Nelson-Siegel 实现</font><a name='3'></a>\n",
    "[<font color='black' face='微软雅黑'>回到目录</font>](#toc)\n",
    "\n",
    "### <font color='#2b4750' face='微软雅黑'>3.1 数据处理</font><a name='3.1'></a>\n",
    "[<font color='black' face='微软雅黑'>回到章首</font>](#3)"
   ]
  },
  {
   "cell_type": "markdown",
   "metadata": {},
   "source": [
    "在某个行业某个评级下都有一系列交易的债券，根据其市场价格或收益率可以拟合出来一条收益率曲线。在某个观测日 **2018 年 1 月 24 日**，拿欧元区 AA 金融行业 (EUR Financial AA) 举例，读取数据，将债券发行日和到期日用 pd.to_datetime() 转成专门的日期格式。"
   ]
  },
  {
   "cell_type": "code",
   "execution_count": 6,
   "metadata": {},
   "outputs": [
    {
     "data": {
      "text/plain": [
       "datetime.datetime(2018, 1, 24, 0, 0)"
      ]
     },
     "execution_count": 6,
     "metadata": {},
     "output_type": "execute_result"
    }
   ],
   "source": [
    "eval_date = datetime(2018, 1, 24)\n",
    "eval_date"
   ]
  },
  {
   "cell_type": "markdown",
   "metadata": {},
   "source": [
    "在用 NS 模型对收益率曲线建模时不需要知道每笔债券具体本金数额大小，因此为了简便，设定债券本金为 100。"
   ]
  },
  {
   "cell_type": "code",
   "execution_count": 7,
   "metadata": {},
   "outputs": [],
   "source": [
    "notional = 100"
   ]
  },
  {
   "cell_type": "code",
   "execution_count": 8,
   "metadata": {
    "scrolled": true
   },
   "outputs": [
    {
     "data": {
      "text/html": [
       "<div>\n",
       "<style scoped>\n",
       "    .dataframe tbody tr th:only-of-type {\n",
       "        vertical-align: middle;\n",
       "    }\n",
       "\n",
       "    .dataframe tbody tr th {\n",
       "        vertical-align: top;\n",
       "    }\n",
       "\n",
       "    .dataframe thead th {\n",
       "        text-align: right;\n",
       "    }\n",
       "</style>\n",
       "<table border=\"1\" class=\"dataframe\">\n",
       "  <thead>\n",
       "    <tr style=\"text-align: right;\">\n",
       "      <th></th>\n",
       "      <th>Issue Date</th>\n",
       "      <th>Maturity Date</th>\n",
       "      <th>Yield</th>\n",
       "      <th>Coupon Rate</th>\n",
       "      <th>Coupon Frequency</th>\n",
       "      <th>Clean Price</th>\n",
       "    </tr>\n",
       "    <tr>\n",
       "      <th>ISIN</th>\n",
       "      <th></th>\n",
       "      <th></th>\n",
       "      <th></th>\n",
       "      <th></th>\n",
       "      <th></th>\n",
       "      <th></th>\n",
       "    </tr>\n",
       "  </thead>\n",
       "  <tbody>\n",
       "    <tr>\n",
       "      <th>XS0881511868</th>\n",
       "      <td>2017-02-04</td>\n",
       "      <td>2019-02-04</td>\n",
       "      <td>-0.002626</td>\n",
       "      <td>0.01625</td>\n",
       "      <td>Annual</td>\n",
       "      <td>101.931396</td>\n",
       "    </tr>\n",
       "    <tr>\n",
       "      <th>XS1045283766</th>\n",
       "      <td>2017-03-18</td>\n",
       "      <td>2019-03-18</td>\n",
       "      <td>-0.002167</td>\n",
       "      <td>0.01500</td>\n",
       "      <td>Annual</td>\n",
       "      <td>101.968803</td>\n",
       "    </tr>\n",
       "    <tr>\n",
       "      <th>FR0000583155</th>\n",
       "      <td>2017-06-01</td>\n",
       "      <td>2019-06-01</td>\n",
       "      <td>0.003497</td>\n",
       "      <td>0.07750</td>\n",
       "      <td>Annual</td>\n",
       "      <td>109.878998</td>\n",
       "    </tr>\n",
       "    <tr>\n",
       "      <th>XS1077588017</th>\n",
       "      <td>2017-06-17</td>\n",
       "      <td>2019-06-17</td>\n",
       "      <td>-0.001604</td>\n",
       "      <td>0.01125</td>\n",
       "      <td>Annual</td>\n",
       "      <td>101.805000</td>\n",
       "    </tr>\n",
       "    <tr>\n",
       "      <th>XS0728763938</th>\n",
       "      <td>2017-07-11</td>\n",
       "      <td>2019-07-11</td>\n",
       "      <td>-0.001915</td>\n",
       "      <td>0.04000</td>\n",
       "      <td>Annual</td>\n",
       "      <td>106.104401</td>\n",
       "    </tr>\n",
       "    <tr>\n",
       "      <th>XS1689535000</th>\n",
       "      <td>2017-09-27</td>\n",
       "      <td>2027-09-27</td>\n",
       "      <td>0.010684</td>\n",
       "      <td>0.01125</td>\n",
       "      <td>Annual</td>\n",
       "      <td>100.526604</td>\n",
       "    </tr>\n",
       "    <tr>\n",
       "      <th>DE000A1HG1K6</th>\n",
       "      <td>2017-03-13</td>\n",
       "      <td>2028-03-13</td>\n",
       "      <td>0.010146</td>\n",
       "      <td>0.03000</td>\n",
       "      <td>Annual</td>\n",
       "      <td>119.108803</td>\n",
       "    </tr>\n",
       "    <tr>\n",
       "      <th>XS1411401083</th>\n",
       "      <td>2017-05-12</td>\n",
       "      <td>2028-05-12</td>\n",
       "      <td>0.010534</td>\n",
       "      <td>0.01250</td>\n",
       "      <td>Annual</td>\n",
       "      <td>102.013000</td>\n",
       "    </tr>\n",
       "    <tr>\n",
       "      <th>XS1476654584</th>\n",
       "      <td>2017-08-15</td>\n",
       "      <td>2028-08-15</td>\n",
       "      <td>0.011153</td>\n",
       "      <td>0.00750</td>\n",
       "      <td>Annual</td>\n",
       "      <td>96.569000</td>\n",
       "    </tr>\n",
       "    <tr>\n",
       "      <th>XS1001594065</th>\n",
       "      <td>2017-12-05</td>\n",
       "      <td>2033-12-05</td>\n",
       "      <td>0.017231</td>\n",
       "      <td>0.03500</td>\n",
       "      <td>Annual</td>\n",
       "      <td>125.127998</td>\n",
       "    </tr>\n",
       "  </tbody>\n",
       "</table>\n",
       "</div>"
      ],
      "text/plain": [
       "             Issue Date Maturity Date     Yield  Coupon Rate Coupon Frequency  \\\n",
       "ISIN                                                                            \n",
       "XS0881511868 2017-02-04    2019-02-04 -0.002626      0.01625           Annual   \n",
       "XS1045283766 2017-03-18    2019-03-18 -0.002167      0.01500           Annual   \n",
       "FR0000583155 2017-06-01    2019-06-01  0.003497      0.07750           Annual   \n",
       "XS1077588017 2017-06-17    2019-06-17 -0.001604      0.01125           Annual   \n",
       "XS0728763938 2017-07-11    2019-07-11 -0.001915      0.04000           Annual   \n",
       "XS1689535000 2017-09-27    2027-09-27  0.010684      0.01125           Annual   \n",
       "DE000A1HG1K6 2017-03-13    2028-03-13  0.010146      0.03000           Annual   \n",
       "XS1411401083 2017-05-12    2028-05-12  0.010534      0.01250           Annual   \n",
       "XS1476654584 2017-08-15    2028-08-15  0.011153      0.00750           Annual   \n",
       "XS1001594065 2017-12-05    2033-12-05  0.017231      0.03500           Annual   \n",
       "\n",
       "              Clean Price  \n",
       "ISIN                       \n",
       "XS0881511868   101.931396  \n",
       "XS1045283766   101.968803  \n",
       "FR0000583155   109.878998  \n",
       "XS1077588017   101.805000  \n",
       "XS0728763938   106.104401  \n",
       "XS1689535000   100.526604  \n",
       "DE000A1HG1K6   119.108803  \n",
       "XS1411401083   102.013000  \n",
       "XS1476654584    96.569000  \n",
       "XS1001594065   125.127998  "
      ]
     },
     "execution_count": 8,
     "metadata": {},
     "output_type": "execute_result"
    }
   ],
   "source": [
    "BOND = pd.read_csv( 'Bond data.csv', index_col=0, dayfirst=True )\n",
    "BOND['Issue Date'] = pd.to_datetime(BOND['Issue Date'], dayfirst=True)\n",
    "BOND['Maturity Date'] = pd.to_datetime(BOND['Maturity Date'], dayfirst=True)\n",
    "BOND.head().append(BOND.tail())"
   ]
  },
  {
   "cell_type": "code",
   "execution_count": 9,
   "metadata": {},
   "outputs": [
    {
     "name": "stdout",
     "output_type": "stream",
     "text": [
      "<class 'pandas.core.frame.DataFrame'>\n",
      "Index: 85 entries, XS0881511868 to XS1001594065\n",
      "Data columns (total 6 columns):\n",
      " #   Column            Non-Null Count  Dtype         \n",
      "---  ------            --------------  -----         \n",
      " 0   Issue Date        85 non-null     datetime64[ns]\n",
      " 1   Maturity Date     85 non-null     datetime64[ns]\n",
      " 2   Yield             85 non-null     float64       \n",
      " 3   Coupon Rate       85 non-null     float64       \n",
      " 4   Coupon Frequency  85 non-null     object        \n",
      " 5   Clean Price       85 non-null     float64       \n",
      "dtypes: datetime64[ns](2), float64(3), object(1)\n",
      "memory usage: 4.6+ KB\n"
     ]
    }
   ],
   "source": [
    "BOND.info()"
   ]
  },
  {
   "cell_type": "markdown",
   "metadata": {},
   "source": [
    "对于零息债券 (zero-coupon bond)，没有 `Coupon Frequency` 字段下为空，用 -1 填充。"
   ]
  },
  {
   "cell_type": "code",
   "execution_count": 10,
   "metadata": {},
   "outputs": [],
   "source": [
    "idx_NaN = BOND['Coupon Frequency'].isna()\n",
    "BOND.loc[idx_NaN, 'Coupon Frequency'] = BOND.loc[idx_NaN, 'Coupon Frequency'].fillna(-1)"
   ]
  },
  {
   "cell_type": "markdown",
   "metadata": {},
   "source": [
    "生成每个债券的付息日需要下面两个函数：\n",
    "\n",
    "    get_freq 的参数是字符串格式比如 Annual, Semiannual, Quarter 等，转换成数值形式，返回一个元组，第一个元素是“每年的期数”，第二个元素是“每期的月数”\n",
    "    \n",
    "    date_generator 的参数包括债券的发行日、到期日、息票率、付息频率和估值日，返回债券的有效付息日"
   ]
  },
  {
   "cell_type": "code",
   "execution_count": 11,
   "metadata": {},
   "outputs": [],
   "source": [
    "def get_freq(f):\n",
    "    if isinstance(f, str): \n",
    "        n_of_period_per_year = {'a':1, 's':2, 'q':4, 'm':12}\n",
    "        n_of_month_per_period = {'a':12, 's':6, 'q':3, 'm':1}\n",
    "        output = ( n_of_period_per_year[f[0].lower()], n_of_month_per_period[f[0].lower()] )\n",
    "    else:\n",
    "        output = (int(f), int(12/f))\n",
    "    return output\n",
    "\n",
    "def date_generator( issue_date, maturity_date, coupon, freq, eval_date ):\n",
    "    # Generate all dates between issue date and maturity date    \n",
    "    bond_dates = []\n",
    "    \n",
    "    for date_s, date_e, c, f in zip(issue_date, maturity_date, coupon, freq):\n",
    "        if f == -1: # zero-coupon bond\n",
    "            date_array = np.array([date_s, date_e])\n",
    "        else: # coupon-bearing bond\n",
    "            (n_of_prd, n_of_mth) = get_freq(f)\n",
    "            n_of_yr = np.ceil((date_e-date_s).days/365.25)\n",
    "            date_array = np.array( [date_s+datedelta(months=n_of_mth*i) for i in np.arange(n_of_prd*n_of_yr+1)])\n",
    "        cutoff = date_array < eval_date\n",
    "        how_many = np.sum(cutoff)\n",
    "        if how_many == 0: # the bond is not effective yet\n",
    "            bond_dates.append( date_array )\n",
    "        else: # the bond is effective, include the first bond date less than evaluation date \n",
    "            bond_dates.append( date_array[how_many-1:] )\n",
    "    \n",
    "    return bond_dates"
   ]
  },
  {
   "cell_type": "code",
   "execution_count": 12,
   "metadata": {},
   "outputs": [
    {
     "data": {
      "text/plain": [
       "[array([Timestamp('2017-02-04 00:00:00'), Timestamp('2018-02-04 00:00:00'),\n",
       "        Timestamp('2019-02-04 00:00:00')], dtype=object),\n",
       " array([Timestamp('2017-03-18 00:00:00'), Timestamp('2018-03-18 00:00:00'),\n",
       "        Timestamp('2019-03-18 00:00:00')], dtype=object),\n",
       " array([Timestamp('2017-06-01 00:00:00'), Timestamp('2018-06-01 00:00:00'),\n",
       "        Timestamp('2019-06-01 00:00:00')], dtype=object),\n",
       " array([Timestamp('2017-06-17 00:00:00'), Timestamp('2018-06-17 00:00:00'),\n",
       "        Timestamp('2019-06-17 00:00:00')], dtype=object),\n",
       " array([Timestamp('2017-07-11 00:00:00'), Timestamp('2018-07-11 00:00:00'),\n",
       "        Timestamp('2019-07-11 00:00:00')], dtype=object),\n",
       " array([Timestamp('2017-07-22 00:00:00'), Timestamp('2018-07-22 00:00:00'),\n",
       "        Timestamp('2019-07-22 00:00:00')], dtype=object),\n",
       " array([Timestamp('2017-09-30 00:00:00'), Timestamp('2018-09-30 00:00:00'),\n",
       "        Timestamp('2019-09-30 00:00:00')], dtype=object),\n",
       " array([Timestamp('2018-01-14 00:00:00'), Timestamp('2019-01-14 00:00:00'),\n",
       "        Timestamp('2020-01-14 00:00:00')], dtype=object),\n",
       " array([Timestamp('2018-01-21 00:00:00'), Timestamp('2019-01-21 00:00:00'),\n",
       "        Timestamp('2020-01-21 00:00:00')], dtype=object),\n",
       " array([Timestamp('2018-01-16 00:00:00'), Timestamp('2019-01-16 00:00:00'),\n",
       "        Timestamp('2020-01-16 00:00:00')], dtype=object),\n",
       " array([Timestamp('2017-02-25 00:00:00'), Timestamp('2018-02-25 00:00:00'),\n",
       "        Timestamp('2019-02-25 00:00:00'), Timestamp('2020-02-25 00:00:00')],\n",
       "       dtype=object),\n",
       " array([Timestamp('2017-06-29 00:00:00'), Timestamp('2018-06-29 00:00:00'),\n",
       "        Timestamp('2019-06-29 00:00:00'), Timestamp('2020-06-29 00:00:00'),\n",
       "        Timestamp('2021-06-29 00:00:00')], dtype=object),\n",
       " array([Timestamp('2017-06-29 00:00:00'), Timestamp('2018-06-29 00:00:00'),\n",
       "        Timestamp('2019-06-29 00:00:00'), Timestamp('2020-06-29 00:00:00'),\n",
       "        Timestamp('2021-06-29 00:00:00')], dtype=object),\n",
       " array([Timestamp('2017-07-13 00:00:00'), Timestamp('2018-07-13 00:00:00'),\n",
       "        Timestamp('2019-07-13 00:00:00'), Timestamp('2020-07-13 00:00:00'),\n",
       "        Timestamp('2021-07-13 00:00:00')], dtype=object),\n",
       " array([Timestamp('2017-08-27 00:00:00'), Timestamp('2018-08-27 00:00:00'),\n",
       "        Timestamp('2019-08-27 00:00:00'), Timestamp('2020-08-27 00:00:00'),\n",
       "        Timestamp('2021-08-27 00:00:00')], dtype=object),\n",
       " array([Timestamp('2017-11-12 00:00:00'), Timestamp('2018-11-12 00:00:00'),\n",
       "        Timestamp('2019-11-12 00:00:00'), Timestamp('2020-11-12 00:00:00'),\n",
       "        Timestamp('2021-11-12 00:00:00')], dtype=object),\n",
       " array([Timestamp('2017-12-03 00:00:00'), Timestamp('2018-12-03 00:00:00'),\n",
       "        Timestamp('2019-12-03 00:00:00'), Timestamp('2020-12-03 00:00:00'),\n",
       "        Timestamp('2021-12-03 00:00:00')], dtype=object),\n",
       " array([Timestamp('2018-01-12 00:00:00'), Timestamp('2019-01-12 00:00:00'),\n",
       "        Timestamp('2020-01-12 00:00:00'), Timestamp('2021-01-12 00:00:00')],\n",
       "       dtype=object),\n",
       " array([Timestamp('2018-01-15 00:00:00'), Timestamp('2019-01-15 00:00:00'),\n",
       "        Timestamp('2020-01-15 00:00:00'), Timestamp('2021-01-15 00:00:00')],\n",
       "       dtype=object),\n",
       " array([Timestamp('2018-01-04 00:00:00'), Timestamp('2019-01-04 00:00:00'),\n",
       "        Timestamp('2020-01-04 00:00:00'), Timestamp('2021-01-04 00:00:00')],\n",
       "       dtype=object),\n",
       " array([Timestamp('2017-02-24 00:00:00'), Timestamp('2018-02-24 00:00:00'),\n",
       "        Timestamp('2019-02-24 00:00:00'), Timestamp('2020-02-24 00:00:00'),\n",
       "        Timestamp('2021-02-24 00:00:00')], dtype=object),\n",
       " array([Timestamp('2017-02-17 00:00:00'), Timestamp('2018-02-17 00:00:00'),\n",
       "        Timestamp('2019-02-17 00:00:00'), Timestamp('2020-02-17 00:00:00'),\n",
       "        Timestamp('2021-02-17 00:00:00')], dtype=object),\n",
       " array([Timestamp('2017-02-16 00:00:00'), Timestamp('2018-02-16 00:00:00'),\n",
       "        Timestamp('2019-02-16 00:00:00'), Timestamp('2020-02-16 00:00:00'),\n",
       "        Timestamp('2021-02-16 00:00:00')], dtype=object),\n",
       " array([Timestamp('2017-03-03 00:00:00'), Timestamp('2018-03-03 00:00:00'),\n",
       "        Timestamp('2019-03-03 00:00:00'), Timestamp('2020-03-03 00:00:00'),\n",
       "        Timestamp('2021-03-03 00:00:00')], dtype=object),\n",
       " array([Timestamp('2017-03-08 00:00:00'), Timestamp('2018-03-08 00:00:00'),\n",
       "        Timestamp('2019-03-08 00:00:00'), Timestamp('2020-03-08 00:00:00'),\n",
       "        Timestamp('2021-03-08 00:00:00')], dtype=object),\n",
       " array([Timestamp('2017-03-24 00:00:00'), Timestamp('2018-03-24 00:00:00'),\n",
       "        Timestamp('2019-03-24 00:00:00'), Timestamp('2020-03-24 00:00:00'),\n",
       "        Timestamp('2021-03-24 00:00:00')], dtype=object),\n",
       " array([Timestamp('2017-06-07 00:00:00'), Timestamp('2018-06-07 00:00:00'),\n",
       "        Timestamp('2019-06-07 00:00:00'), Timestamp('2020-06-07 00:00:00'),\n",
       "        Timestamp('2021-06-07 00:00:00')], dtype=object),\n",
       " array([Timestamp('2017-06-21 00:00:00'), Timestamp('2018-06-21 00:00:00'),\n",
       "        Timestamp('2019-06-21 00:00:00'), Timestamp('2020-06-21 00:00:00'),\n",
       "        Timestamp('2021-06-21 00:00:00')], dtype=object),\n",
       " array([Timestamp('2017-09-17 00:00:00'), Timestamp('2018-09-17 00:00:00'),\n",
       "        Timestamp('2019-09-17 00:00:00'), Timestamp('2020-09-17 00:00:00'),\n",
       "        Timestamp('2021-09-17 00:00:00')], dtype=object),\n",
       " array([Timestamp('2017-10-20 00:00:00'), Timestamp('2018-10-20 00:00:00'),\n",
       "        Timestamp('2019-10-20 00:00:00'), Timestamp('2020-10-20 00:00:00'),\n",
       "        Timestamp('2021-10-20 00:00:00')], dtype=object),\n",
       " array([Timestamp('2017-11-18 00:00:00'), Timestamp('2018-11-18 00:00:00'),\n",
       "        Timestamp('2019-11-18 00:00:00'), Timestamp('2020-11-18 00:00:00'),\n",
       "        Timestamp('2021-11-18 00:00:00')], dtype=object),\n",
       " array([Timestamp('2017-10-11 00:00:00'), Timestamp('2018-10-11 00:00:00'),\n",
       "        Timestamp('2019-10-11 00:00:00'), Timestamp('2020-10-11 00:00:00'),\n",
       "        Timestamp('2021-10-11 00:00:00')], dtype=object),\n",
       " array([Timestamp('2018-01-11 00:00:00'), Timestamp('2019-01-11 00:00:00'),\n",
       "        Timestamp('2020-01-11 00:00:00'), Timestamp('2021-01-11 00:00:00'),\n",
       "        Timestamp('2022-01-11 00:00:00')], dtype=object),\n",
       " array([Timestamp('2018-01-18 00:00:00'), Timestamp('2019-01-18 00:00:00'),\n",
       "        Timestamp('2020-01-18 00:00:00'), Timestamp('2021-01-18 00:00:00'),\n",
       "        Timestamp('2022-01-18 00:00:00')], dtype=object),\n",
       " array([Timestamp('2018-01-20 00:00:00'), Timestamp('2019-01-20 00:00:00'),\n",
       "        Timestamp('2020-01-20 00:00:00'), Timestamp('2021-01-20 00:00:00'),\n",
       "        Timestamp('2022-01-20 00:00:00')], dtype=object),\n",
       " array([Timestamp('2018-01-20 00:00:00'), Timestamp('2019-01-20 00:00:00'),\n",
       "        Timestamp('2020-01-20 00:00:00'), Timestamp('2021-01-20 00:00:00'),\n",
       "        Timestamp('2022-01-20 00:00:00')], dtype=object),\n",
       " array([Timestamp('2018-01-17 00:00:00'), Timestamp('2019-01-17 00:00:00'),\n",
       "        Timestamp('2020-01-17 00:00:00'), Timestamp('2021-01-17 00:00:00'),\n",
       "        Timestamp('2022-01-17 00:00:00')], dtype=object),\n",
       " array([Timestamp('2017-02-14 00:00:00'), Timestamp('2018-02-14 00:00:00'),\n",
       "        Timestamp('2019-02-14 00:00:00'), Timestamp('2020-02-14 00:00:00'),\n",
       "        Timestamp('2021-02-14 00:00:00'), Timestamp('2022-02-14 00:00:00')],\n",
       "       dtype=object),\n",
       " array([Timestamp('2017-03-03 00:00:00'), Timestamp('2018-03-03 00:00:00'),\n",
       "        Timestamp('2019-03-03 00:00:00'), Timestamp('2020-03-03 00:00:00'),\n",
       "        Timestamp('2021-03-03 00:00:00'), Timestamp('2022-03-03 00:00:00')],\n",
       "       dtype=object),\n",
       " array([Timestamp('2017-02-28 00:00:00'), Timestamp('2018-02-28 00:00:00'),\n",
       "        Timestamp('2019-02-28 00:00:00'), Timestamp('2020-02-28 00:00:00'),\n",
       "        Timestamp('2021-02-28 00:00:00'), Timestamp('2022-02-28 00:00:00')],\n",
       "       dtype=object),\n",
       " array([Timestamp('2017-03-15 00:00:00'), Timestamp('2018-03-15 00:00:00'),\n",
       "        Timestamp('2019-03-15 00:00:00'), Timestamp('2020-03-15 00:00:00'),\n",
       "        Timestamp('2021-03-15 00:00:00'), Timestamp('2022-03-15 00:00:00')],\n",
       "       dtype=object),\n",
       " array([Timestamp('2017-04-06 00:00:00'), Timestamp('2018-04-06 00:00:00'),\n",
       "        Timestamp('2019-04-06 00:00:00'), Timestamp('2020-04-06 00:00:00'),\n",
       "        Timestamp('2021-04-06 00:00:00'), Timestamp('2022-04-06 00:00:00')],\n",
       "       dtype=object),\n",
       " array([Timestamp('2017-06-06 00:00:00'), Timestamp('2018-06-06 00:00:00'),\n",
       "        Timestamp('2019-06-06 00:00:00'), Timestamp('2020-06-06 00:00:00'),\n",
       "        Timestamp('2021-06-06 00:00:00'), Timestamp('2022-06-06 00:00:00')],\n",
       "       dtype=object),\n",
       " array([Timestamp('2017-06-01 00:00:00'), Timestamp('2018-06-01 00:00:00'),\n",
       "        Timestamp('2019-06-01 00:00:00'), Timestamp('2020-06-01 00:00:00'),\n",
       "        Timestamp('2021-06-01 00:00:00'), Timestamp('2022-06-01 00:00:00')],\n",
       "       dtype=object),\n",
       " array([Timestamp('2017-07-05 00:00:00'), Timestamp('2018-07-05 00:00:00'),\n",
       "        Timestamp('2019-07-05 00:00:00'), Timestamp('2020-07-05 00:00:00'),\n",
       "        Timestamp('2021-07-05 00:00:00'), Timestamp('2022-07-05 00:00:00')],\n",
       "       dtype=object),\n",
       " array([Timestamp('2017-06-30 00:00:00'), Timestamp('2018-06-30 00:00:00'),\n",
       "        Timestamp('2019-06-30 00:00:00'), Timestamp('2020-06-30 00:00:00'),\n",
       "        Timestamp('2021-06-30 00:00:00'), Timestamp('2022-06-30 00:00:00')],\n",
       "       dtype=object),\n",
       " array([Timestamp('2017-07-11 00:00:00'), Timestamp('2018-07-11 00:00:00'),\n",
       "        Timestamp('2019-07-11 00:00:00'), Timestamp('2020-07-11 00:00:00'),\n",
       "        Timestamp('2021-07-11 00:00:00'), Timestamp('2022-07-11 00:00:00')],\n",
       "       dtype=object),\n",
       " array([Timestamp('2017-08-08 00:00:00'), Timestamp('2018-08-08 00:00:00'),\n",
       "        Timestamp('2019-08-08 00:00:00'), Timestamp('2020-08-08 00:00:00'),\n",
       "        Timestamp('2021-08-08 00:00:00'), Timestamp('2022-08-08 00:00:00')],\n",
       "       dtype=object),\n",
       " array([Timestamp('2017-08-23 00:00:00'), Timestamp('2018-08-23 00:00:00'),\n",
       "        Timestamp('2019-08-23 00:00:00'), Timestamp('2020-08-23 00:00:00'),\n",
       "        Timestamp('2021-08-23 00:00:00'), Timestamp('2022-08-23 00:00:00')],\n",
       "       dtype=object),\n",
       " array([Timestamp('2017-09-06 00:00:00'), Timestamp('2018-09-06 00:00:00'),\n",
       "        Timestamp('2019-09-06 00:00:00'), Timestamp('2020-09-06 00:00:00'),\n",
       "        Timestamp('2021-09-06 00:00:00'), Timestamp('2022-09-06 00:00:00')],\n",
       "       dtype=object),\n",
       " array([Timestamp('2017-09-07 00:00:00'), Timestamp('2018-09-07 00:00:00'),\n",
       "        Timestamp('2019-09-07 00:00:00'), Timestamp('2020-09-07 00:00:00'),\n",
       "        Timestamp('2021-09-07 00:00:00'), Timestamp('2022-09-07 00:00:00')],\n",
       "       dtype=object),\n",
       " array([Timestamp('2017-10-05 00:00:00'), Timestamp('2018-10-05 00:00:00'),\n",
       "        Timestamp('2019-10-05 00:00:00'), Timestamp('2020-10-05 00:00:00'),\n",
       "        Timestamp('2021-10-05 00:00:00'), Timestamp('2022-10-05 00:00:00')],\n",
       "       dtype=object),\n",
       " array([Timestamp('2017-10-11 00:00:00'), Timestamp('2018-10-11 00:00:00'),\n",
       "        Timestamp('2019-10-11 00:00:00'), Timestamp('2020-10-11 00:00:00'),\n",
       "        Timestamp('2021-10-11 00:00:00'), Timestamp('2022-10-11 00:00:00')],\n",
       "       dtype=object),\n",
       " array([Timestamp('2017-11-07 00:00:00'), Timestamp('2018-11-07 00:00:00'),\n",
       "        Timestamp('2019-11-07 00:00:00'), Timestamp('2020-11-07 00:00:00'),\n",
       "        Timestamp('2021-11-07 00:00:00'), Timestamp('2022-11-07 00:00:00')],\n",
       "       dtype=object),\n",
       " array([Timestamp('2017-12-14 00:00:00'), Timestamp('2018-12-14 00:00:00'),\n",
       "        Timestamp('2019-12-14 00:00:00'), Timestamp('2020-12-14 00:00:00'),\n",
       "        Timestamp('2021-12-14 00:00:00'), Timestamp('2022-12-14 00:00:00')],\n",
       "       dtype=object),\n",
       " array([Timestamp('2017-12-06 00:00:00'), Timestamp('2018-12-06 00:00:00'),\n",
       "        Timestamp('2019-12-06 00:00:00'), Timestamp('2020-12-06 00:00:00'),\n",
       "        Timestamp('2021-12-06 00:00:00'), Timestamp('2022-12-06 00:00:00')],\n",
       "       dtype=object),\n",
       " array([Timestamp('2018-01-11 00:00:00'), Timestamp('2019-01-11 00:00:00'),\n",
       "        Timestamp('2020-01-11 00:00:00'), Timestamp('2021-01-11 00:00:00'),\n",
       "        Timestamp('2022-01-11 00:00:00'), Timestamp('2023-01-11 00:00:00')],\n",
       "       dtype=object),\n",
       " array([Timestamp('2017-02-22 00:00:00'), Timestamp('2018-02-22 00:00:00'),\n",
       "        Timestamp('2019-02-22 00:00:00'), Timestamp('2020-02-22 00:00:00'),\n",
       "        Timestamp('2021-02-22 00:00:00'), Timestamp('2022-02-22 00:00:00'),\n",
       "        Timestamp('2023-02-22 00:00:00')], dtype=object),\n",
       " array([Timestamp('2017-03-01 00:00:00'), Timestamp('2018-03-01 00:00:00'),\n",
       "        Timestamp('2019-03-01 00:00:00'), Timestamp('2020-03-01 00:00:00'),\n",
       "        Timestamp('2021-03-01 00:00:00'), Timestamp('2022-03-01 00:00:00'),\n",
       "        Timestamp('2023-03-01 00:00:00')], dtype=object),\n",
       " array([Timestamp('2017-03-05 00:00:00'), Timestamp('2018-03-05 00:00:00'),\n",
       "        Timestamp('2019-03-05 00:00:00'), Timestamp('2020-03-05 00:00:00'),\n",
       "        Timestamp('2021-03-05 00:00:00'), Timestamp('2022-03-05 00:00:00'),\n",
       "        Timestamp('2023-03-05 00:00:00')], dtype=object),\n",
       " array([Timestamp('2017-05-12 00:00:00'), Timestamp('2018-05-12 00:00:00'),\n",
       "        Timestamp('2019-05-12 00:00:00'), Timestamp('2020-05-12 00:00:00'),\n",
       "        Timestamp('2021-05-12 00:00:00'), Timestamp('2022-05-12 00:00:00'),\n",
       "        Timestamp('2023-05-12 00:00:00')], dtype=object),\n",
       " array([Timestamp('2017-05-22 00:00:00'), Timestamp('2018-05-22 00:00:00'),\n",
       "        Timestamp('2019-05-22 00:00:00'), Timestamp('2020-05-22 00:00:00'),\n",
       "        Timestamp('2021-05-22 00:00:00'), Timestamp('2022-05-22 00:00:00'),\n",
       "        Timestamp('2023-05-22 00:00:00')], dtype=object),\n",
       " array([Timestamp('2017-11-10 00:00:00'), Timestamp('2018-11-10 00:00:00'),\n",
       "        Timestamp('2019-11-10 00:00:00'), Timestamp('2020-11-10 00:00:00'),\n",
       "        Timestamp('2021-11-10 00:00:00'), Timestamp('2022-11-10 00:00:00'),\n",
       "        Timestamp('2023-11-10 00:00:00')], dtype=object),\n",
       " array([Timestamp('2017-05-12 00:00:00'), Timestamp('2018-05-12 00:00:00'),\n",
       "        Timestamp('2019-05-12 00:00:00'), Timestamp('2020-05-12 00:00:00'),\n",
       "        Timestamp('2021-05-12 00:00:00'), Timestamp('2022-05-12 00:00:00'),\n",
       "        Timestamp('2023-05-12 00:00:00'), Timestamp('2024-05-12 00:00:00'),\n",
       "        Timestamp('2025-05-12 00:00:00')], dtype=object),\n",
       " array([Timestamp('2017-09-18 00:00:00'), Timestamp('2018-09-18 00:00:00'),\n",
       "        Timestamp('2019-09-18 00:00:00'), Timestamp('2020-09-18 00:00:00'),\n",
       "        Timestamp('2021-09-18 00:00:00'), Timestamp('2022-09-18 00:00:00'),\n",
       "        Timestamp('2023-09-18 00:00:00'), Timestamp('2024-09-18 00:00:00'),\n",
       "        Timestamp('2025-09-18 00:00:00')], dtype=object),\n",
       " array([Timestamp('2017-11-22 00:00:00'), Timestamp('2018-11-22 00:00:00'),\n",
       "        Timestamp('2019-11-22 00:00:00'), Timestamp('2020-11-22 00:00:00'),\n",
       "        Timestamp('2021-11-22 00:00:00'), Timestamp('2022-11-22 00:00:00'),\n",
       "        Timestamp('2023-11-22 00:00:00'), Timestamp('2024-11-22 00:00:00'),\n",
       "        Timestamp('2025-11-22 00:00:00')], dtype=object),\n",
       " array([Timestamp('2017-02-12 00:00:00'), Timestamp('2018-02-12 00:00:00'),\n",
       "        Timestamp('2019-02-12 00:00:00'), Timestamp('2020-02-12 00:00:00'),\n",
       "        Timestamp('2021-02-12 00:00:00'), Timestamp('2022-02-12 00:00:00'),\n",
       "        Timestamp('2023-02-12 00:00:00'), Timestamp('2024-02-12 00:00:00'),\n",
       "        Timestamp('2025-02-12 00:00:00')], dtype=object),\n",
       " array([Timestamp('2017-02-15 00:00:00'), Timestamp('2018-02-15 00:00:00'),\n",
       "        Timestamp('2019-02-15 00:00:00'), Timestamp('2020-02-15 00:00:00'),\n",
       "        Timestamp('2021-02-15 00:00:00'), Timestamp('2022-02-15 00:00:00'),\n",
       "        Timestamp('2023-02-15 00:00:00'), Timestamp('2024-02-15 00:00:00'),\n",
       "        Timestamp('2025-02-15 00:00:00')], dtype=object),\n",
       " array([Timestamp('2017-07-14 00:00:00'), Timestamp('2018-07-14 00:00:00'),\n",
       "        Timestamp('2019-07-14 00:00:00'), Timestamp('2020-07-14 00:00:00'),\n",
       "        Timestamp('2021-07-14 00:00:00'), Timestamp('2022-07-14 00:00:00'),\n",
       "        Timestamp('2023-07-14 00:00:00'), Timestamp('2024-07-14 00:00:00'),\n",
       "        Timestamp('2025-07-14 00:00:00')], dtype=object),\n",
       " array([Timestamp('2017-09-15 00:00:00'), Timestamp('2018-09-15 00:00:00'),\n",
       "        Timestamp('2019-09-15 00:00:00'), Timestamp('2020-09-15 00:00:00'),\n",
       "        Timestamp('2021-09-15 00:00:00'), Timestamp('2022-09-15 00:00:00'),\n",
       "        Timestamp('2023-09-15 00:00:00'), Timestamp('2024-09-15 00:00:00'),\n",
       "        Timestamp('2025-09-15 00:00:00')], dtype=object),\n",
       " array([Timestamp('2017-10-08 00:00:00'), Timestamp('2018-10-08 00:00:00'),\n",
       "        Timestamp('2019-10-08 00:00:00'), Timestamp('2020-10-08 00:00:00'),\n",
       "        Timestamp('2021-10-08 00:00:00'), Timestamp('2022-10-08 00:00:00'),\n",
       "        Timestamp('2023-10-08 00:00:00'), Timestamp('2024-10-08 00:00:00'),\n",
       "        Timestamp('2025-10-08 00:00:00')], dtype=object),\n",
       " array([Timestamp('2017-03-24 00:00:00'), Timestamp('2018-03-24 00:00:00'),\n",
       "        Timestamp('2019-03-24 00:00:00'), Timestamp('2020-03-24 00:00:00'),\n",
       "        Timestamp('2021-03-24 00:00:00'), Timestamp('2022-03-24 00:00:00'),\n",
       "        Timestamp('2023-03-24 00:00:00'), Timestamp('2024-03-24 00:00:00'),\n",
       "        Timestamp('2025-03-24 00:00:00'), Timestamp('2026-03-24 00:00:00')],\n",
       "       dtype=object),\n",
       " array([Timestamp('2017-03-23 00:00:00'), Timestamp('2018-03-23 00:00:00'),\n",
       "        Timestamp('2019-03-23 00:00:00'), Timestamp('2020-03-23 00:00:00'),\n",
       "        Timestamp('2021-03-23 00:00:00'), Timestamp('2022-03-23 00:00:00'),\n",
       "        Timestamp('2023-03-23 00:00:00'), Timestamp('2024-03-23 00:00:00'),\n",
       "        Timestamp('2025-03-23 00:00:00'), Timestamp('2026-03-23 00:00:00')],\n",
       "       dtype=object),\n",
       " array([Timestamp('2017-05-18 00:00:00'), Timestamp('2018-05-18 00:00:00'),\n",
       "        Timestamp('2019-05-18 00:00:00'), Timestamp('2020-05-18 00:00:00'),\n",
       "        Timestamp('2021-05-18 00:00:00'), Timestamp('2022-05-18 00:00:00'),\n",
       "        Timestamp('2023-05-18 00:00:00'), Timestamp('2024-05-18 00:00:00'),\n",
       "        Timestamp('2025-05-18 00:00:00'), Timestamp('2026-05-18 00:00:00')],\n",
       "       dtype=object),\n",
       " array([Timestamp('2017-09-29 00:00:00'), Timestamp('2018-09-29 00:00:00'),\n",
       "        Timestamp('2019-09-29 00:00:00'), Timestamp('2020-09-29 00:00:00'),\n",
       "        Timestamp('2021-09-29 00:00:00'), Timestamp('2022-09-29 00:00:00'),\n",
       "        Timestamp('2023-09-29 00:00:00'), Timestamp('2024-09-29 00:00:00'),\n",
       "        Timestamp('2025-09-29 00:00:00'), Timestamp('2026-09-29 00:00:00')],\n",
       "       dtype=object),\n",
       " array([Timestamp('2017-12-07 00:00:00'), Timestamp('2018-12-07 00:00:00'),\n",
       "        Timestamp('2019-12-07 00:00:00'), Timestamp('2020-12-07 00:00:00'),\n",
       "        Timestamp('2021-12-07 00:00:00'), Timestamp('2022-12-07 00:00:00'),\n",
       "        Timestamp('2023-12-07 00:00:00'), Timestamp('2024-12-07 00:00:00'),\n",
       "        Timestamp('2025-12-07 00:00:00'), Timestamp('2026-12-07 00:00:00')],\n",
       "       dtype=object),\n",
       " array([Timestamp('2018-01-20 00:00:00'), Timestamp('2019-01-20 00:00:00'),\n",
       "        Timestamp('2020-01-20 00:00:00'), Timestamp('2021-01-20 00:00:00'),\n",
       "        Timestamp('2022-01-20 00:00:00'), Timestamp('2023-01-20 00:00:00'),\n",
       "        Timestamp('2024-01-20 00:00:00'), Timestamp('2025-01-20 00:00:00'),\n",
       "        Timestamp('2026-01-20 00:00:00'), Timestamp('2027-01-20 00:00:00')],\n",
       "       dtype=object),\n",
       " array([Timestamp('2017-02-03 00:00:00'), Timestamp('2018-02-03 00:00:00'),\n",
       "        Timestamp('2019-02-03 00:00:00'), Timestamp('2020-02-03 00:00:00'),\n",
       "        Timestamp('2021-02-03 00:00:00'), Timestamp('2022-02-03 00:00:00'),\n",
       "        Timestamp('2023-02-03 00:00:00'), Timestamp('2024-02-03 00:00:00'),\n",
       "        Timestamp('2025-02-03 00:00:00'), Timestamp('2026-02-03 00:00:00'),\n",
       "        Timestamp('2027-02-03 00:00:00')], dtype=object),\n",
       " array([Timestamp('2017-04-17 00:00:00'), Timestamp('2018-04-17 00:00:00'),\n",
       "        Timestamp('2019-04-17 00:00:00'), Timestamp('2020-04-17 00:00:00'),\n",
       "        Timestamp('2021-04-17 00:00:00'), Timestamp('2022-04-17 00:00:00'),\n",
       "        Timestamp('2023-04-17 00:00:00'), Timestamp('2024-04-17 00:00:00'),\n",
       "        Timestamp('2025-04-17 00:00:00'), Timestamp('2026-04-17 00:00:00'),\n",
       "        Timestamp('2027-04-17 00:00:00')], dtype=object),\n",
       " array([Timestamp('2017-09-05 00:00:00'), Timestamp('2018-09-05 00:00:00'),\n",
       "        Timestamp('2019-09-05 00:00:00'), Timestamp('2020-09-05 00:00:00'),\n",
       "        Timestamp('2021-09-05 00:00:00'), Timestamp('2022-09-05 00:00:00'),\n",
       "        Timestamp('2023-09-05 00:00:00'), Timestamp('2024-09-05 00:00:00'),\n",
       "        Timestamp('2025-09-05 00:00:00'), Timestamp('2026-09-05 00:00:00'),\n",
       "        Timestamp('2027-09-05 00:00:00')], dtype=object),\n",
       " array([Timestamp('2017-09-27 00:00:00'), Timestamp('2018-09-27 00:00:00'),\n",
       "        Timestamp('2019-09-27 00:00:00'), Timestamp('2020-09-27 00:00:00'),\n",
       "        Timestamp('2021-09-27 00:00:00'), Timestamp('2022-09-27 00:00:00'),\n",
       "        Timestamp('2023-09-27 00:00:00'), Timestamp('2024-09-27 00:00:00'),\n",
       "        Timestamp('2025-09-27 00:00:00'), Timestamp('2026-09-27 00:00:00'),\n",
       "        Timestamp('2027-09-27 00:00:00')], dtype=object),\n",
       " array([Timestamp('2017-03-13 00:00:00'), Timestamp('2018-03-13 00:00:00'),\n",
       "        Timestamp('2019-03-13 00:00:00'), Timestamp('2020-03-13 00:00:00'),\n",
       "        Timestamp('2021-03-13 00:00:00'), Timestamp('2022-03-13 00:00:00'),\n",
       "        Timestamp('2023-03-13 00:00:00'), Timestamp('2024-03-13 00:00:00'),\n",
       "        Timestamp('2025-03-13 00:00:00'), Timestamp('2026-03-13 00:00:00'),\n",
       "        Timestamp('2027-03-13 00:00:00'), Timestamp('2028-03-13 00:00:00'),\n",
       "        Timestamp('2029-03-13 00:00:00')], dtype=object),\n",
       " array([Timestamp('2017-05-12 00:00:00'), Timestamp('2018-05-12 00:00:00'),\n",
       "        Timestamp('2019-05-12 00:00:00'), Timestamp('2020-05-12 00:00:00'),\n",
       "        Timestamp('2021-05-12 00:00:00'), Timestamp('2022-05-12 00:00:00'),\n",
       "        Timestamp('2023-05-12 00:00:00'), Timestamp('2024-05-12 00:00:00'),\n",
       "        Timestamp('2025-05-12 00:00:00'), Timestamp('2026-05-12 00:00:00'),\n",
       "        Timestamp('2027-05-12 00:00:00'), Timestamp('2028-05-12 00:00:00'),\n",
       "        Timestamp('2029-05-12 00:00:00')], dtype=object),\n",
       " array([Timestamp('2017-08-15 00:00:00'), Timestamp('2018-08-15 00:00:00'),\n",
       "        Timestamp('2019-08-15 00:00:00'), Timestamp('2020-08-15 00:00:00'),\n",
       "        Timestamp('2021-08-15 00:00:00'), Timestamp('2022-08-15 00:00:00'),\n",
       "        Timestamp('2023-08-15 00:00:00'), Timestamp('2024-08-15 00:00:00'),\n",
       "        Timestamp('2025-08-15 00:00:00'), Timestamp('2026-08-15 00:00:00'),\n",
       "        Timestamp('2027-08-15 00:00:00'), Timestamp('2028-08-15 00:00:00'),\n",
       "        Timestamp('2029-08-15 00:00:00')], dtype=object),\n",
       " array([Timestamp('2017-12-05 00:00:00'), Timestamp('2018-12-05 00:00:00'),\n",
       "        Timestamp('2019-12-05 00:00:00'), Timestamp('2020-12-05 00:00:00'),\n",
       "        Timestamp('2021-12-05 00:00:00'), Timestamp('2022-12-05 00:00:00'),\n",
       "        Timestamp('2023-12-05 00:00:00'), Timestamp('2024-12-05 00:00:00'),\n",
       "        Timestamp('2025-12-05 00:00:00'), Timestamp('2026-12-05 00:00:00'),\n",
       "        Timestamp('2027-12-05 00:00:00'), Timestamp('2028-12-05 00:00:00'),\n",
       "        Timestamp('2029-12-05 00:00:00'), Timestamp('2030-12-05 00:00:00'),\n",
       "        Timestamp('2031-12-05 00:00:00'), Timestamp('2032-12-05 00:00:00'),\n",
       "        Timestamp('2033-12-05 00:00:00')], dtype=object)]"
      ]
     },
     "execution_count": 12,
     "metadata": {},
     "output_type": "execute_result"
    }
   ],
   "source": [
    "coupon = BOND['Coupon Rate']\n",
    "freq = BOND['Coupon Frequency']\n",
    "date_issue = BOND['Issue Date']\n",
    "date_mature = BOND['Maturity Date']\n",
    "\n",
    "bond_dates = date_generator( date_issue, date_mature, coupon, freq, eval_date )\n",
    "bond_dates"
   ]
  },
  {
   "cell_type": "code",
   "execution_count": 13,
   "metadata": {},
   "outputs": [
    {
     "data": {
      "text/plain": [
       "[array([0.03013699, 1.03013699]),\n",
       " array([0.14520548, 1.14520548]),\n",
       " array([0.35068493, 1.35068493]),\n",
       " array([0.39452055, 1.39452055]),\n",
       " array([0.46027397, 1.46027397]),\n",
       " array([0.49041096, 1.49041096]),\n",
       " array([0.68219178, 1.68219178]),\n",
       " array([0.97260274, 1.97260274]),\n",
       " array([0.99178082, 1.99178082]),\n",
       " array([0.97808219, 1.97808219]),\n",
       " array([0.08767123, 1.08767123, 2.08767123]),\n",
       " array([0.42739726, 1.42739726, 2.43013699, 3.43013699]),\n",
       " array([0.42739726, 1.42739726, 2.43013699, 3.43013699]),\n",
       " array([0.46575342, 1.46575342, 2.46849315, 3.46849315]),\n",
       " array([0.5890411 , 1.5890411 , 2.59178082, 3.59178082]),\n",
       " array([0.8       , 1.8       , 2.80273973, 3.80273973]),\n",
       " array([0.85753425, 1.85753425, 2.86027397, 3.86027397]),\n",
       " array([0.96712329, 1.96712329, 2.96986301]),\n",
       " array([0.97534247, 1.97534247, 2.97808219]),\n",
       " array([0.94520548, 1.94520548, 2.94794521]),\n",
       " array([0.08493151, 1.08493151, 2.08493151, 3.08767123]),\n",
       " array([0.06575342, 1.06575342, 2.06575342, 3.06849315]),\n",
       " array([0.0630137 , 1.0630137 , 2.0630137 , 3.06575342]),\n",
       " array([0.10410959, 1.10410959, 2.10684932, 3.10684932]),\n",
       " array([0.11780822, 1.11780822, 2.12054795, 3.12054795]),\n",
       " array([0.16164384, 1.16164384, 2.16438356, 3.16438356]),\n",
       " array([0.36712329, 1.36712329, 2.36986301, 3.36986301]),\n",
       " array([0.40547945, 1.40547945, 2.40821918, 3.40821918]),\n",
       " array([0.64657534, 1.64657534, 2.64931507, 3.64931507]),\n",
       " array([0.7369863 , 1.7369863 , 2.73972603, 3.73972603]),\n",
       " array([0.81643836, 1.81643836, 2.81917808, 3.81917808]),\n",
       " array([0.71232877, 1.71232877, 2.71506849, 3.71506849]),\n",
       " array([0.96438356, 1.96438356, 2.96712329, 3.96712329]),\n",
       " array([0.98356164, 1.98356164, 2.98630137, 3.98630137]),\n",
       " array([0.9890411 , 1.9890411 , 2.99178082, 3.99178082]),\n",
       " array([0.9890411 , 1.9890411 , 2.99178082, 3.99178082]),\n",
       " array([0.98082192, 1.98082192, 2.98356164, 3.98356164]),\n",
       " array([0.05753425, 1.05753425, 2.05753425, 3.06027397, 4.06027397]),\n",
       " array([0.10410959, 1.10410959, 2.10684932, 3.10684932, 4.10684932]),\n",
       " array([0.09589041, 1.09589041, 2.09589041, 3.09863014, 4.09863014]),\n",
       " array([0.1369863 , 1.1369863 , 2.13972603, 3.13972603, 4.13972603]),\n",
       " array([0.19726027, 1.19726027, 2.2       , 3.2       , 4.2       ]),\n",
       " array([0.36438356, 1.36438356, 2.36712329, 3.36712329, 4.36712329]),\n",
       " array([0.35068493, 1.35068493, 2.35342466, 3.35342466, 4.35342466]),\n",
       " array([0.44383562, 1.44383562, 2.44657534, 3.44657534, 4.44657534]),\n",
       " array([0.43013699, 1.43013699, 2.43287671, 3.43287671, 4.43287671]),\n",
       " array([0.46027397, 1.46027397, 2.4630137 , 3.4630137 , 4.4630137 ]),\n",
       " array([0.5369863 , 1.5369863 , 2.53972603, 3.53972603, 4.53972603]),\n",
       " array([0.57808219, 1.57808219, 2.58082192, 3.58082192, 4.58082192]),\n",
       " array([0.61643836, 1.61643836, 2.61917808, 3.61917808, 4.61917808]),\n",
       " array([0.61917808, 1.61917808, 2.62191781, 3.62191781, 4.62191781]),\n",
       " array([0.69589041, 1.69589041, 2.69863014, 3.69863014, 4.69863014]),\n",
       " array([0.71232877, 1.71232877, 2.71506849, 3.71506849, 4.71506849]),\n",
       " array([0.78630137, 1.78630137, 2.7890411 , 3.7890411 , 4.7890411 ]),\n",
       " array([0.88767123, 1.88767123, 2.89041096, 3.89041096, 4.89041096]),\n",
       " array([0.86575342, 1.86575342, 2.86849315, 3.86849315, 4.86849315]),\n",
       " array([0.96438356, 1.96438356, 2.96712329, 3.96712329, 4.96712329]),\n",
       " array([0.07945205, 1.07945205, 2.07945205, 3.08219178, 4.08219178,\n",
       "        5.08219178]),\n",
       " array([0.09863014, 1.09863014, 2.10136986, 3.10136986, 4.10136986,\n",
       "        5.10136986]),\n",
       " array([0.10958904, 1.10958904, 2.11232877, 3.11232877, 4.11232877,\n",
       "        5.11232877]),\n",
       " array([0.29589041, 1.29589041, 2.29863014, 3.29863014, 4.29863014,\n",
       "        5.29863014]),\n",
       " array([0.32328767, 1.32328767, 2.3260274 , 3.3260274 , 4.3260274 ,\n",
       "        5.3260274 ]),\n",
       " array([0.79452055, 1.79452055, 2.79726027, 3.79726027, 4.79726027,\n",
       "        5.79726027]),\n",
       " array([0.29589041, 1.29589041, 2.29863014, 3.29863014, 4.29863014,\n",
       "        5.29863014, 6.30136986, 7.30136986]),\n",
       " array([0.64931507, 1.64931507, 2.65205479, 3.65205479, 4.65205479,\n",
       "        5.65205479, 6.65479452, 7.65479452]),\n",
       " array([0.82739726, 1.82739726, 2.83013699, 3.83013699, 4.83013699,\n",
       "        5.83013699, 6.83287671, 7.83287671]),\n",
       " array([0.05205479, 1.05205479, 2.05205479, 3.05479452, 4.05479452,\n",
       "        5.05479452, 6.05479452, 7.05753425]),\n",
       " array([0.06027397, 1.06027397, 2.06027397, 3.0630137 , 4.0630137 ,\n",
       "        5.0630137 , 6.0630137 , 7.06575342]),\n",
       " array([0.46849315, 1.46849315, 2.47123288, 3.47123288, 4.47123288,\n",
       "        5.47123288, 6.4739726 , 7.4739726 ]),\n",
       " array([0.64109589, 1.64109589, 2.64383562, 3.64383562, 4.64383562,\n",
       "        5.64383562, 6.64657534, 7.64657534]),\n",
       " array([0.70410959, 1.70410959, 2.70684932, 3.70684932, 4.70684932,\n",
       "        5.70684932, 6.70958904, 7.70958904]),\n",
       " array([0.16164384, 1.16164384, 2.16438356, 3.16438356, 4.16438356,\n",
       "        5.16438356, 6.16712329, 7.16712329, 8.16712329]),\n",
       " array([0.15890411, 1.15890411, 2.16164384, 3.16164384, 4.16164384,\n",
       "        5.16164384, 6.16438356, 7.16438356, 8.16438356]),\n",
       " array([0.31232877, 1.31232877, 2.31506849, 3.31506849, 4.31506849,\n",
       "        5.31506849, 6.31780822, 7.31780822, 8.31780822]),\n",
       " array([0.67945205, 1.67945205, 2.68219178, 3.68219178, 4.68219178,\n",
       "        5.68219178, 6.68493151, 7.68493151, 8.68493151]),\n",
       " array([0.86849315, 1.86849315, 2.87123288, 3.87123288, 4.87123288,\n",
       "        5.87123288, 6.8739726 , 7.8739726 , 8.8739726 ]),\n",
       " array([0.9890411 , 1.9890411 , 2.99178082, 3.99178082, 4.99178082,\n",
       "        5.99178082, 6.99452055, 7.99452055, 8.99452055]),\n",
       " array([0.02739726, 1.02739726, 2.02739726, 3.03013699, 4.03013699,\n",
       "        5.03013699, 6.03013699, 7.03287671, 8.03287671, 9.03287671]),\n",
       " array([0.22739726, 1.22739726, 2.23013699, 3.23013699, 4.23013699,\n",
       "        5.23013699, 6.23287671, 7.23287671, 8.23287671, 9.23287671]),\n",
       " array([0.61369863, 1.61369863, 2.61643836, 3.61643836, 4.61643836,\n",
       "        5.61643836, 6.61917808, 7.61917808, 8.61917808, 9.61917808]),\n",
       " array([0.6739726 , 1.6739726 , 2.67671233, 3.67671233, 4.67671233,\n",
       "        5.67671233, 6.67945205, 7.67945205, 8.67945205, 9.67945205]),\n",
       " array([ 0.13150685,  1.13150685,  2.13424658,  3.13424658,  4.13424658,\n",
       "         5.13424658,  6.1369863 ,  7.1369863 ,  8.1369863 ,  9.1369863 ,\n",
       "        10.13972603, 11.13972603]),\n",
       " array([ 0.29589041,  1.29589041,  2.29863014,  3.29863014,  4.29863014,\n",
       "         5.29863014,  6.30136986,  7.30136986,  8.30136986,  9.30136986,\n",
       "        10.30410959, 11.30410959]),\n",
       " array([ 0.55616438,  1.55616438,  2.55890411,  3.55890411,  4.55890411,\n",
       "         5.55890411,  6.56164384,  7.56164384,  8.56164384,  9.56164384,\n",
       "        10.56438356, 11.56438356]),\n",
       " array([ 0.8630137 ,  1.8630137 ,  2.86575342,  3.86575342,  4.86575342,\n",
       "         5.86575342,  6.86849315,  7.86849315,  8.86849315,  9.86849315,\n",
       "        10.87123288, 11.87123288, 12.87123288, 13.87123288, 14.8739726 ,\n",
       "        15.8739726 ])]"
      ]
     },
     "execution_count": 13,
     "metadata": {},
     "output_type": "execute_result"
    }
   ],
   "source": [
    "# tenor from payment dates to evaluation dates: act/365\n",
    "T = [ \n",
    "        np.array(list(map(lambda x:x.days/365, diff))) \n",
    "        for diff in [d[1:]-eval_date for d in bond_dates]\n",
    "    ]\n",
    "T"
   ]
  },
  {
   "cell_type": "code",
   "execution_count": 14,
   "metadata": {
    "scrolled": true
   },
   "outputs": [
    {
     "data": {
      "text/plain": [
       "[1.5979166666666667,\n",
       " 1.3,\n",
       " 5.102083333333334,\n",
       " 0.690625,\n",
       " 2.188888888888889,\n",
       " 2.454166666666667,\n",
       " 0.7652777777777778,\n",
       " 0.11458333333333333,\n",
       " 0.03670833333333333,\n",
       " 0.04166666666666667,\n",
       " 4.046875,\n",
       " 2.3222222222222224,\n",
       " 2.249652777777778,\n",
       " 2.1666666666666665,\n",
       " 0.9375,\n",
       " 0.40555555555555556,\n",
       " 0.09027777777777778,\n",
       " 0.1375,\n",
       " 0.1,\n",
       " 0.034722222222222224,\n",
       " 4.059027777777778,\n",
       " 1.8944444444444444,\n",
       " 0.83125,\n",
       " 1.8166666666666669,\n",
       " 0.5590277777777778,\n",
       " 1.38125,\n",
       " 2.8072916666666665,\n",
       " 0.5274305555555555,\n",
       " 0.4479166666666667,\n",
       " 1.1666666666666665,\n",
       " 0.9072916666666666,\n",
       " 0.036458333333333336,\n",
       " 0.14444444444444443,\n",
       " 0.07083333333333333,\n",
       " 0.009722222222222222,\n",
       " 0.009722222222222222,\n",
       " 0.004861111111111111,\n",
       " 3.344444444444445,\n",
       " 0.68125,\n",
       " 0.22916666666666666,\n",
       " 1.09375,\n",
       " 0.8138888888888888,\n",
       " 3.0611111111111113,\n",
       " 0.6583333333333333,\n",
       " 1.832638888888889,\n",
       " 0.17333333333333334,\n",
       " 0.27361111111111114,\n",
       " 1.2909722222222222,\n",
       " 1.1229166666666666,\n",
       " 0.11666666666666668,\n",
       " 0.1351388888888889,\n",
       " 0.7322916666666667,\n",
       " 0.10937500000000001,\n",
       " 0.054166666666666675,\n",
       " 0.128125,\n",
       " 0.06805555555555555,\n",
       " 0.08576388888888888,\n",
       " 0.9333333333333335,\n",
       " 1.028125,\n",
       " 0.3385416666666667,\n",
       " 3.2125,\n",
       " 1.629513888888889,\n",
       " 0.13020833333333334,\n",
       " 0.5354166666666667,\n",
       " 0.2222222222222222,\n",
       " 0.10937499999999999,\n",
       " 1.0812499999999998,\n",
       " 0.3572916666666667,\n",
       " 2.222916666666667,\n",
       " 0.6822916666666666,\n",
       " 0.4875,\n",
       " 2.125,\n",
       " 1.0659722222222223,\n",
       " 0.8715277777777778,\n",
       " 0.24375,\n",
       " 0.15,\n",
       " 0.018055555555555557,\n",
       " 1.355902777777778,\n",
       " 0.6854166666666667,\n",
       " 0.44062499999999993,\n",
       " 0.37187499999999996,\n",
       " 2.6416666666666666,\n",
       " 0.8923611111111112,\n",
       " 0.3375,\n",
       " 0.4861111111111112]"
      ]
     },
     "execution_count": 14,
     "metadata": {},
     "output_type": "execute_result"
    }
   ],
   "source": [
    "# accrued interest\n",
    "AI = [ \n",
    "        (eval_date-d[0]).days/360 * c * notional\n",
    "        for d, c in zip(bond_dates, coupon)\n",
    "     ]\n",
    "AI"
   ]
  },
  {
   "cell_type": "code",
   "execution_count": 15,
   "metadata": {
    "scrolled": true
   },
   "outputs": [
    {
     "data": {
      "text/plain": [
       "[array([  1.625, 101.625]),\n",
       " array([  1.5, 101.5]),\n",
       " array([  7.75, 107.75]),\n",
       " array([  1.125, 101.125]),\n",
       " array([  4., 104.]),\n",
       " array([  4.75, 104.75]),\n",
       " array([  2.375, 102.375]),\n",
       " array([  4.125, 104.125]),\n",
       " array([  4.405, 104.405]),\n",
       " array([  1.875, 101.875]),\n",
       " array([  4.375,   4.375, 104.375]),\n",
       " array([  4.,   4.,   4., 104.]),\n",
       " array([  3.875,   3.875,   3.875, 103.875]),\n",
       " array([  4.,   4.,   4., 104.]),\n",
       " array([  2.25,   2.25,   2.25, 102.25]),\n",
       " array([  2.,   2.,   2., 102.]),\n",
       " array([  0.625,   0.625,   0.625, 100.625]),\n",
       " array([  4.125,   4.125, 104.125]),\n",
       " array([  4.,   4., 104.]),\n",
       " array([  0.625,   0.625, 100.625]),\n",
       " array([  4.375,   4.375,   4.375, 104.375]),\n",
       " array([  2.,   2.,   2., 102.]),\n",
       " array([  0.875,   0.875,   0.875, 100.875]),\n",
       " array([  2.,   2.,   2., 102.]),\n",
       " array([  0.625,   0.625,   0.625, 100.625]),\n",
       " array([  1.625,   1.625,   1.625, 101.625]),\n",
       " array([  4.375,   4.375,   4.375, 104.375]),\n",
       " array([  0.875,   0.875,   0.875, 100.875]),\n",
       " array([  1.25,   1.25,   1.25, 101.25]),\n",
       " array([  4.375,   4.375,   4.375, 104.375]),\n",
       " array([  4.875,   4.875,   4.875, 104.875]),\n",
       " array([  0.125,   0.125,   0.125, 100.125]),\n",
       " array([  4.,   4.,   4., 104.]),\n",
       " array([  4.25,   4.25,   4.25, 104.25]),\n",
       " array([  0.875,   0.875,   0.875, 100.875]),\n",
       " array([  0.875,   0.875,   0.875, 100.875]),\n",
       " array([  0.25,   0.25,   0.25, 100.25]),\n",
       " array([  3.5,   3.5,   3.5,   3.5, 103.5]),\n",
       " array([  0.75,   0.75,   0.75,   0.75, 100.75]),\n",
       " array([  0.25,   0.25,   0.25,   0.25, 100.25]),\n",
       " array([  1.25,   1.25,   1.25,   1.25, 101.25]),\n",
       " array([  1.,   1.,   1.,   1., 101.]),\n",
       " array([  4.75,   4.75,   4.75,   4.75, 104.75]),\n",
       " array([  1.,   1.,   1.,   1., 101.]),\n",
       " array([  3.25,   3.25,   3.25,   3.25, 103.25]),\n",
       " array([  0.3,   0.3,   0.3,   0.3, 100.3]),\n",
       " array([  0.5,   0.5,   0.5,   0.5, 100.5]),\n",
       " array([  2.75,   2.75,   2.75,   2.75, 102.75]),\n",
       " array([  2.625,   2.625,   2.625,   2.625, 102.625]),\n",
       " array([  0.3,   0.3,   0.3,   0.3, 100.3]),\n",
       " array([  0.35,   0.35,   0.35,   0.35, 100.35]),\n",
       " array([  2.375,   2.375,   2.375,   2.375, 102.375]),\n",
       " array([  0.375,   0.375,   0.375,   0.375, 100.375]),\n",
       " array([  0.25,   0.25,   0.25,   0.25, 100.25]),\n",
       " array([  1.125,   1.125,   1.125,   1.125, 101.125]),\n",
       " array([  0.5,   0.5,   0.5,   0.5, 100.5]),\n",
       " array([  2.375,   2.375,   2.375,   2.375, 102.375]),\n",
       " array([  1.,   1.,   1.,   1.,   1., 101.]),\n",
       " array([  1.125,   1.125,   1.125,   1.125,   1.125, 101.125]),\n",
       " array([  0.375,   0.375,   0.375,   0.375,   0.375, 100.375]),\n",
       " array([  4.5,   4.5,   4.5,   4.5,   4.5, 104.5]),\n",
       " array([  2.375,   2.375,   2.375,   2.375,   2.375, 102.375]),\n",
       " array([  0.625,   0.625,   0.625,   0.625,   0.625, 100.625]),\n",
       " array([  0.75,   0.75,   0.75,   0.75,   0.75,   0.75,   0.75, 100.75]),\n",
       " array([  0.625,   0.625,   0.625,   0.625,   0.625,   0.625,   0.625,\n",
       "        100.625]),\n",
       " array([  0.625,   0.625,   0.625,   0.625,   0.625,   0.625,   0.625,\n",
       "        100.625]),\n",
       " array([  1.125,   1.125,   1.125,   1.125,   1.125,   1.125,   1.125,\n",
       "        101.125]),\n",
       " array([  0.375,   0.375,   0.375,   0.375,   0.375,   0.375,   0.375,\n",
       "        100.375]),\n",
       " array([  4.125,   4.125,   4.125,   4.125,   4.125,   4.125,   4.125,\n",
       "        104.125]),\n",
       " array([  1.875,   1.875,   1.875,   1.875,   1.875,   1.875,   1.875,\n",
       "        101.875]),\n",
       " array([  1.625,   1.625,   1.625,   1.625,   1.625,   1.625,   1.625,\n",
       "        101.625]),\n",
       " array([  2.5,   2.5,   2.5,   2.5,   2.5,   2.5,   2.5,   2.5, 102.5]),\n",
       " array([  1.25,   1.25,   1.25,   1.25,   1.25,   1.25,   1.25,   1.25,\n",
       "        101.25]),\n",
       " array([  1.25,   1.25,   1.25,   1.25,   1.25,   1.25,   1.25,   1.25,\n",
       "        101.25]),\n",
       " array([  0.75,   0.75,   0.75,   0.75,   0.75,   0.75,   0.75,   0.75,\n",
       "        100.75]),\n",
       " array([  1.125,   1.125,   1.125,   1.125,   1.125,   1.125,   1.125,\n",
       "          1.125, 101.125]),\n",
       " array([  1.625,   1.625,   1.625,   1.625,   1.625,   1.625,   1.625,\n",
       "          1.625, 101.625]),\n",
       " array([  1.375,   1.375,   1.375,   1.375,   1.375,   1.375,   1.375,\n",
       "          1.375,   1.375, 101.375]),\n",
       " array([  0.875,   0.875,   0.875,   0.875,   0.875,   0.875,   0.875,\n",
       "          0.875,   0.875, 100.875]),\n",
       " array([  1.125,   1.125,   1.125,   1.125,   1.125,   1.125,   1.125,\n",
       "          1.125,   1.125, 101.125]),\n",
       " array([  1.125,   1.125,   1.125,   1.125,   1.125,   1.125,   1.125,\n",
       "          1.125,   1.125, 101.125]),\n",
       " array([  3.,   3.,   3.,   3.,   3.,   3.,   3.,   3.,   3.,   3.,   3.,\n",
       "        103.]),\n",
       " array([  1.25,   1.25,   1.25,   1.25,   1.25,   1.25,   1.25,   1.25,\n",
       "          1.25,   1.25,   1.25, 101.25]),\n",
       " array([  0.75,   0.75,   0.75,   0.75,   0.75,   0.75,   0.75,   0.75,\n",
       "          0.75,   0.75,   0.75, 100.75]),\n",
       " array([  3.5,   3.5,   3.5,   3.5,   3.5,   3.5,   3.5,   3.5,   3.5,\n",
       "          3.5,   3.5,   3.5,   3.5,   3.5,   3.5, 103.5])]"
      ]
     },
     "execution_count": 15,
     "metadata": {},
     "output_type": "execute_result"
    }
   ],
   "source": [
    "#Freq = [ get_freq(f)[0] for f in BOND['Coupon Frequency'] ]\n",
    "year_frac = [\n",
    "                np.ones(len(d)-1)*(1/get_freq(f)[0]) for d, f in zip(bond_dates, freq)\n",
    "            ]\n",
    "\n",
    "cashflows = [ \n",
    "                alpha * c * notional + (np.arange(len(alpha))==(len(alpha)-1)) * notional\n",
    "                for alpha, c in zip(year_frac, coupon)\n",
    "            ]\n",
    "cashflows"
   ]
  },
  {
   "cell_type": "code",
   "execution_count": 16,
   "metadata": {},
   "outputs": [],
   "source": [
    "# year fraction between consecutive payment dates: assuming date count convention act/360\n",
    "# year_frac = [ \n",
    "#                 np.array(list(map(lambda x:x.days/360, diff)))\n",
    "#                 for diff in [d[1:]-d[:-1] for d in bond_dates]\n",
    "#             ]\n",
    "# cashflows = [ \n",
    "#                 alpha * c * notional + (np.arange(len(alpha))==(len(alpha)-1)) * notional\n",
    "#                 for alpha, c in zip(year_frac, coupon)\n",
    "#             ]\n",
    "# cashflows"
   ]
  },
  {
   "cell_type": "code",
   "execution_count": 17,
   "metadata": {},
   "outputs": [],
   "source": [
    "BOND['Accrued Interest'] = AI\n",
    "BOND['Dirty Price'] = BOND['Accrued Interest'] + BOND['Clean Price']"
   ]
  },
  {
   "cell_type": "code",
   "execution_count": 18,
   "metadata": {},
   "outputs": [
    {
     "data": {
      "text/html": [
       "<div>\n",
       "<style scoped>\n",
       "    .dataframe tbody tr th:only-of-type {\n",
       "        vertical-align: middle;\n",
       "    }\n",
       "\n",
       "    .dataframe tbody tr th {\n",
       "        vertical-align: top;\n",
       "    }\n",
       "\n",
       "    .dataframe thead th {\n",
       "        text-align: right;\n",
       "    }\n",
       "</style>\n",
       "<table border=\"1\" class=\"dataframe\">\n",
       "  <thead>\n",
       "    <tr style=\"text-align: right;\">\n",
       "      <th></th>\n",
       "      <th>Issue Date</th>\n",
       "      <th>Maturity Date</th>\n",
       "      <th>Yield</th>\n",
       "      <th>Coupon Rate</th>\n",
       "      <th>Coupon Frequency</th>\n",
       "      <th>Clean Price</th>\n",
       "      <th>Accrued Interest</th>\n",
       "      <th>Dirty Price</th>\n",
       "    </tr>\n",
       "    <tr>\n",
       "      <th>ISIN</th>\n",
       "      <th></th>\n",
       "      <th></th>\n",
       "      <th></th>\n",
       "      <th></th>\n",
       "      <th></th>\n",
       "      <th></th>\n",
       "      <th></th>\n",
       "      <th></th>\n",
       "    </tr>\n",
       "  </thead>\n",
       "  <tbody>\n",
       "    <tr>\n",
       "      <th>XS0881511868</th>\n",
       "      <td>2017-02-04</td>\n",
       "      <td>2019-02-04</td>\n",
       "      <td>-0.002626</td>\n",
       "      <td>0.01625</td>\n",
       "      <td>Annual</td>\n",
       "      <td>101.931396</td>\n",
       "      <td>1.597917</td>\n",
       "      <td>103.529313</td>\n",
       "    </tr>\n",
       "    <tr>\n",
       "      <th>XS1045283766</th>\n",
       "      <td>2017-03-18</td>\n",
       "      <td>2019-03-18</td>\n",
       "      <td>-0.002167</td>\n",
       "      <td>0.01500</td>\n",
       "      <td>Annual</td>\n",
       "      <td>101.968803</td>\n",
       "      <td>1.300000</td>\n",
       "      <td>103.268803</td>\n",
       "    </tr>\n",
       "    <tr>\n",
       "      <th>FR0000583155</th>\n",
       "      <td>2017-06-01</td>\n",
       "      <td>2019-06-01</td>\n",
       "      <td>0.003497</td>\n",
       "      <td>0.07750</td>\n",
       "      <td>Annual</td>\n",
       "      <td>109.878998</td>\n",
       "      <td>5.102083</td>\n",
       "      <td>114.981081</td>\n",
       "    </tr>\n",
       "    <tr>\n",
       "      <th>XS1077588017</th>\n",
       "      <td>2017-06-17</td>\n",
       "      <td>2019-06-17</td>\n",
       "      <td>-0.001604</td>\n",
       "      <td>0.01125</td>\n",
       "      <td>Annual</td>\n",
       "      <td>101.805000</td>\n",
       "      <td>0.690625</td>\n",
       "      <td>102.495625</td>\n",
       "    </tr>\n",
       "    <tr>\n",
       "      <th>XS0728763938</th>\n",
       "      <td>2017-07-11</td>\n",
       "      <td>2019-07-11</td>\n",
       "      <td>-0.001915</td>\n",
       "      <td>0.04000</td>\n",
       "      <td>Annual</td>\n",
       "      <td>106.104401</td>\n",
       "      <td>2.188889</td>\n",
       "      <td>108.293290</td>\n",
       "    </tr>\n",
       "    <tr>\n",
       "      <th>XS1689535000</th>\n",
       "      <td>2017-09-27</td>\n",
       "      <td>2027-09-27</td>\n",
       "      <td>0.010684</td>\n",
       "      <td>0.01125</td>\n",
       "      <td>Annual</td>\n",
       "      <td>100.526604</td>\n",
       "      <td>0.371875</td>\n",
       "      <td>100.898479</td>\n",
       "    </tr>\n",
       "    <tr>\n",
       "      <th>DE000A1HG1K6</th>\n",
       "      <td>2017-03-13</td>\n",
       "      <td>2028-03-13</td>\n",
       "      <td>0.010146</td>\n",
       "      <td>0.03000</td>\n",
       "      <td>Annual</td>\n",
       "      <td>119.108803</td>\n",
       "      <td>2.641667</td>\n",
       "      <td>121.750470</td>\n",
       "    </tr>\n",
       "    <tr>\n",
       "      <th>XS1411401083</th>\n",
       "      <td>2017-05-12</td>\n",
       "      <td>2028-05-12</td>\n",
       "      <td>0.010534</td>\n",
       "      <td>0.01250</td>\n",
       "      <td>Annual</td>\n",
       "      <td>102.013000</td>\n",
       "      <td>0.892361</td>\n",
       "      <td>102.905361</td>\n",
       "    </tr>\n",
       "    <tr>\n",
       "      <th>XS1476654584</th>\n",
       "      <td>2017-08-15</td>\n",
       "      <td>2028-08-15</td>\n",
       "      <td>0.011153</td>\n",
       "      <td>0.00750</td>\n",
       "      <td>Annual</td>\n",
       "      <td>96.569000</td>\n",
       "      <td>0.337500</td>\n",
       "      <td>96.906500</td>\n",
       "    </tr>\n",
       "    <tr>\n",
       "      <th>XS1001594065</th>\n",
       "      <td>2017-12-05</td>\n",
       "      <td>2033-12-05</td>\n",
       "      <td>0.017231</td>\n",
       "      <td>0.03500</td>\n",
       "      <td>Annual</td>\n",
       "      <td>125.127998</td>\n",
       "      <td>0.486111</td>\n",
       "      <td>125.614109</td>\n",
       "    </tr>\n",
       "  </tbody>\n",
       "</table>\n",
       "</div>"
      ],
      "text/plain": [
       "             Issue Date Maturity Date     Yield  Coupon Rate Coupon Frequency  \\\n",
       "ISIN                                                                            \n",
       "XS0881511868 2017-02-04    2019-02-04 -0.002626      0.01625           Annual   \n",
       "XS1045283766 2017-03-18    2019-03-18 -0.002167      0.01500           Annual   \n",
       "FR0000583155 2017-06-01    2019-06-01  0.003497      0.07750           Annual   \n",
       "XS1077588017 2017-06-17    2019-06-17 -0.001604      0.01125           Annual   \n",
       "XS0728763938 2017-07-11    2019-07-11 -0.001915      0.04000           Annual   \n",
       "XS1689535000 2017-09-27    2027-09-27  0.010684      0.01125           Annual   \n",
       "DE000A1HG1K6 2017-03-13    2028-03-13  0.010146      0.03000           Annual   \n",
       "XS1411401083 2017-05-12    2028-05-12  0.010534      0.01250           Annual   \n",
       "XS1476654584 2017-08-15    2028-08-15  0.011153      0.00750           Annual   \n",
       "XS1001594065 2017-12-05    2033-12-05  0.017231      0.03500           Annual   \n",
       "\n",
       "              Clean Price  Accrued Interest  Dirty Price  \n",
       "ISIN                                                      \n",
       "XS0881511868   101.931396          1.597917   103.529313  \n",
       "XS1045283766   101.968803          1.300000   103.268803  \n",
       "FR0000583155   109.878998          5.102083   114.981081  \n",
       "XS1077588017   101.805000          0.690625   102.495625  \n",
       "XS0728763938   106.104401          2.188889   108.293290  \n",
       "XS1689535000   100.526604          0.371875   100.898479  \n",
       "DE000A1HG1K6   119.108803          2.641667   121.750470  \n",
       "XS1411401083   102.013000          0.892361   102.905361  \n",
       "XS1476654584    96.569000          0.337500    96.906500  \n",
       "XS1001594065   125.127998          0.486111   125.614109  "
      ]
     },
     "execution_count": 18,
     "metadata": {},
     "output_type": "execute_result"
    }
   ],
   "source": [
    "BOND.head().append(BOND.tail())"
   ]
  },
  {
   "cell_type": "code",
   "execution_count": 19,
   "metadata": {},
   "outputs": [],
   "source": [
    "# modified duration\n",
    "Freq = [ get_freq(f)[0] for f in BOND['Coupon Frequency'] ]\n",
    "\n",
    "MD = [\n",
    "        np.sum((cf/f*t)/(1+y/f)**(f*t) / (DP*(1+y/f)))\n",
    "        for y, f, cf, t, DP in zip(BOND['Yield'], Freq, cashflows, T, BOND['Dirty Price'])\n",
    "     ]\n",
    "\n",
    "BOND['Modified Duration'] = MD"
   ]
  },
  {
   "cell_type": "code",
   "execution_count": 20,
   "metadata": {},
   "outputs": [
    {
     "data": {
      "text/html": [
       "<div>\n",
       "<style scoped>\n",
       "    .dataframe tbody tr th:only-of-type {\n",
       "        vertical-align: middle;\n",
       "    }\n",
       "\n",
       "    .dataframe tbody tr th {\n",
       "        vertical-align: top;\n",
       "    }\n",
       "\n",
       "    .dataframe thead th {\n",
       "        text-align: right;\n",
       "    }\n",
       "</style>\n",
       "<table border=\"1\" class=\"dataframe\">\n",
       "  <thead>\n",
       "    <tr style=\"text-align: right;\">\n",
       "      <th></th>\n",
       "      <th>Issue Date</th>\n",
       "      <th>Maturity Date</th>\n",
       "      <th>Yield</th>\n",
       "      <th>Coupon Rate</th>\n",
       "      <th>Coupon Frequency</th>\n",
       "      <th>Clean Price</th>\n",
       "      <th>Accrued Interest</th>\n",
       "      <th>Dirty Price</th>\n",
       "      <th>Modified Duration</th>\n",
       "    </tr>\n",
       "    <tr>\n",
       "      <th>ISIN</th>\n",
       "      <th></th>\n",
       "      <th></th>\n",
       "      <th></th>\n",
       "      <th></th>\n",
       "      <th></th>\n",
       "      <th></th>\n",
       "      <th></th>\n",
       "      <th></th>\n",
       "      <th></th>\n",
       "    </tr>\n",
       "  </thead>\n",
       "  <tbody>\n",
       "    <tr>\n",
       "      <th>XS0881511868</th>\n",
       "      <td>2017-02-04</td>\n",
       "      <td>2019-02-04</td>\n",
       "      <td>-0.002626</td>\n",
       "      <td>0.01625</td>\n",
       "      <td>Annual</td>\n",
       "      <td>101.931396</td>\n",
       "      <td>1.597917</td>\n",
       "      <td>103.529313</td>\n",
       "      <td>1.017075</td>\n",
       "    </tr>\n",
       "    <tr>\n",
       "      <th>XS1045283766</th>\n",
       "      <td>2017-03-18</td>\n",
       "      <td>2019-03-18</td>\n",
       "      <td>-0.002167</td>\n",
       "      <td>0.01500</td>\n",
       "      <td>Annual</td>\n",
       "      <td>101.968803</td>\n",
       "      <td>1.300000</td>\n",
       "      <td>103.268803</td>\n",
       "      <td>1.132955</td>\n",
       "    </tr>\n",
       "    <tr>\n",
       "      <th>FR0000583155</th>\n",
       "      <td>2017-06-01</td>\n",
       "      <td>2019-06-01</td>\n",
       "      <td>0.003497</td>\n",
       "      <td>0.07750</td>\n",
       "      <td>Annual</td>\n",
       "      <td>109.878998</td>\n",
       "      <td>5.102083</td>\n",
       "      <td>114.981081</td>\n",
       "      <td>1.278923</td>\n",
       "    </tr>\n",
       "    <tr>\n",
       "      <th>XS1077588017</th>\n",
       "      <td>2017-06-17</td>\n",
       "      <td>2019-06-17</td>\n",
       "      <td>-0.001604</td>\n",
       "      <td>0.01125</td>\n",
       "      <td>Annual</td>\n",
       "      <td>101.805000</td>\n",
       "      <td>0.690625</td>\n",
       "      <td>102.495625</td>\n",
       "      <td>1.385511</td>\n",
       "    </tr>\n",
       "    <tr>\n",
       "      <th>XS0728763938</th>\n",
       "      <td>2017-07-11</td>\n",
       "      <td>2019-07-11</td>\n",
       "      <td>-0.001915</td>\n",
       "      <td>0.04000</td>\n",
       "      <td>Annual</td>\n",
       "      <td>106.104401</td>\n",
       "      <td>2.188889</td>\n",
       "      <td>108.293290</td>\n",
       "      <td>1.426059</td>\n",
       "    </tr>\n",
       "    <tr>\n",
       "      <th>XS1689535000</th>\n",
       "      <td>2017-09-27</td>\n",
       "      <td>2027-09-27</td>\n",
       "      <td>0.010684</td>\n",
       "      <td>0.01125</td>\n",
       "      <td>Annual</td>\n",
       "      <td>100.526604</td>\n",
       "      <td>0.371875</td>\n",
       "      <td>100.898479</td>\n",
       "      <td>9.095653</td>\n",
       "    </tr>\n",
       "    <tr>\n",
       "      <th>DE000A1HG1K6</th>\n",
       "      <td>2017-03-13</td>\n",
       "      <td>2028-03-13</td>\n",
       "      <td>0.010146</td>\n",
       "      <td>0.03000</td>\n",
       "      <td>Annual</td>\n",
       "      <td>119.108803</td>\n",
       "      <td>2.641667</td>\n",
       "      <td>121.750470</td>\n",
       "      <td>9.620373</td>\n",
       "    </tr>\n",
       "    <tr>\n",
       "      <th>XS1411401083</th>\n",
       "      <td>2017-05-12</td>\n",
       "      <td>2028-05-12</td>\n",
       "      <td>0.010534</td>\n",
       "      <td>0.01250</td>\n",
       "      <td>Annual</td>\n",
       "      <td>102.013000</td>\n",
       "      <td>0.892361</td>\n",
       "      <td>102.905361</td>\n",
       "      <td>10.426957</td>\n",
       "    </tr>\n",
       "    <tr>\n",
       "      <th>XS1476654584</th>\n",
       "      <td>2017-08-15</td>\n",
       "      <td>2028-08-15</td>\n",
       "      <td>0.011153</td>\n",
       "      <td>0.00750</td>\n",
       "      <td>Annual</td>\n",
       "      <td>96.569000</td>\n",
       "      <td>0.337500</td>\n",
       "      <td>96.906500</td>\n",
       "      <td>10.890676</td>\n",
       "    </tr>\n",
       "    <tr>\n",
       "      <th>XS1001594065</th>\n",
       "      <td>2017-12-05</td>\n",
       "      <td>2033-12-05</td>\n",
       "      <td>0.017231</td>\n",
       "      <td>0.03500</td>\n",
       "      <td>Annual</td>\n",
       "      <td>125.127998</td>\n",
       "      <td>0.486111</td>\n",
       "      <td>125.614109</td>\n",
       "      <td>12.522657</td>\n",
       "    </tr>\n",
       "  </tbody>\n",
       "</table>\n",
       "</div>"
      ],
      "text/plain": [
       "             Issue Date Maturity Date     Yield  Coupon Rate Coupon Frequency  \\\n",
       "ISIN                                                                            \n",
       "XS0881511868 2017-02-04    2019-02-04 -0.002626      0.01625           Annual   \n",
       "XS1045283766 2017-03-18    2019-03-18 -0.002167      0.01500           Annual   \n",
       "FR0000583155 2017-06-01    2019-06-01  0.003497      0.07750           Annual   \n",
       "XS1077588017 2017-06-17    2019-06-17 -0.001604      0.01125           Annual   \n",
       "XS0728763938 2017-07-11    2019-07-11 -0.001915      0.04000           Annual   \n",
       "XS1689535000 2017-09-27    2027-09-27  0.010684      0.01125           Annual   \n",
       "DE000A1HG1K6 2017-03-13    2028-03-13  0.010146      0.03000           Annual   \n",
       "XS1411401083 2017-05-12    2028-05-12  0.010534      0.01250           Annual   \n",
       "XS1476654584 2017-08-15    2028-08-15  0.011153      0.00750           Annual   \n",
       "XS1001594065 2017-12-05    2033-12-05  0.017231      0.03500           Annual   \n",
       "\n",
       "              Clean Price  Accrued Interest  Dirty Price  Modified Duration  \n",
       "ISIN                                                                         \n",
       "XS0881511868   101.931396          1.597917   103.529313           1.017075  \n",
       "XS1045283766   101.968803          1.300000   103.268803           1.132955  \n",
       "FR0000583155   109.878998          5.102083   114.981081           1.278923  \n",
       "XS1077588017   101.805000          0.690625   102.495625           1.385511  \n",
       "XS0728763938   106.104401          2.188889   108.293290           1.426059  \n",
       "XS1689535000   100.526604          0.371875   100.898479           9.095653  \n",
       "DE000A1HG1K6   119.108803          2.641667   121.750470           9.620373  \n",
       "XS1411401083   102.013000          0.892361   102.905361          10.426957  \n",
       "XS1476654584    96.569000          0.337500    96.906500          10.890676  \n",
       "XS1001594065   125.127998          0.486111   125.614109          12.522657  "
      ]
     },
     "execution_count": 20,
     "metadata": {},
     "output_type": "execute_result"
    }
   ],
   "source": [
    "BOND.head().append(BOND.tail())"
   ]
  },
  {
   "cell_type": "markdown",
   "metadata": {},
   "source": [
    "### <font color='#2b4750' face='微软雅黑'>3.2 模型优化</font><a name='3.2'></a>\n",
    "[<font color='black' face='微软雅黑'>回到章首</font>](#3)\n",
    "\n",
    "编写 NS 模型下的核心函数，包括\n",
    "\n",
    "    计算瞬时远期利率 NS_instantaneous_forward_rate\n",
    "    计算即期利率 NS_spot_rate\n",
    "    计算折现因子 NS_discount\n",
    "    计算离散远期利率 NS_forward_rate"
   ]
  },
  {
   "cell_type": "code",
   "execution_count": 21,
   "metadata": {},
   "outputs": [],
   "source": [
    "def NS_instantaneous_forward_rate( beta0, beta1, beta2, lbd, t, T ):\n",
    "    tau = T - t\n",
    "    A = tau / lbd\n",
    "    B = np.exp(-A)\n",
    "    f = beta0 + beta1*B + beta2*B*A\n",
    "    f[tau==0] = beta0 + beta1\n",
    "    return f\n",
    "\n",
    "def NS_spot_rate( beta0, beta1, beta2, lbd, t, T ):\n",
    "    tau = T - t\n",
    "    A = tau / lbd\n",
    "    B = (1-np.exp(-A)) / A\n",
    "    R = beta0 + beta1*B + beta2*(B-np.exp(-A))\n",
    "    R[tau==0] = beta0 + beta1\n",
    "    return R\n",
    "\n",
    "def NS_discount(beta0, beta1, beta2, lbd, t, T ):\n",
    "    R = NS_spot_rate( beta0, beta1, beta2, lbd, t, T )\n",
    "    DF = np.exp(-R*(T-t))\n",
    "    return DF\n",
    "\n",
    "def NS_forward_rate(beta0, beta1, beta2, lbd, t, T1, T2 ):\n",
    "    DF1 = NS_discount( beta0, beta1, beta2, lbd, t, T1 )\n",
    "    DF2 = NS_discount( beta0, beta1, beta2, lbd, t, T2 )\n",
    "    F = 1/(T2-T1) * (DF1/DF2 - 1)\n",
    "    return F"
   ]
  },
  {
   "cell_type": "markdown",
   "metadata": {},
   "source": [
    "拟合曲线就是最小化以下的目标函数，它是所有 n 个交易债券的市场价格和模型价格之差的加权平方：\n",
    "\n",
    "<br>\n",
    "<font color='blue'>\n",
    "\\begin{equation}\n",
    "\\min _{\\beta_{0}, \\beta_{1}, \\beta_{2}, \\lambda} \\sum_{i=1}^{n}\\left(\\omega_{i} \\times \\frac{\\mathrm{D} \\mathrm{P}_{i}^{\\mathrm{mkt}}-\\mathrm{D} \\mathrm{P}_{i}^{\\mathrm{mdl}}}{\\mathrm{DP}_{i}^{\\mathrm{mkt}}}\\right)^{2}\n",
    "\\end{equation}\n",
    "</font>\n",
    "    \n",
    "其中\n",
    "\n",
    "- <font color='blue'>$\\mathrm{DP}_i^{\\mathrm{mkt}}$</font> 是债券的市场**全价** (dirty price)，它等于市场**净价** (clean price) 加上**累计利息** (accrued interest)。\n",
    "\n",
    "<br>\n",
    "<font color='blue'>\n",
    "\\begin{equation}\n",
    "\\mathrm{DP}_{i}^{\\mathrm{mkt}} = \\mathrm{CP}_{i}^{\\mathrm{mkt}} + \\mathrm{AI}_{i}\n",
    "\\end{equation}\n",
    "</font>\n",
    "\n",
    "- <font color='blue'>$\\mathrm{DP}_i^{\\mathrm{mdl}}$</font> 是债券的模型全价，其表达式为\n",
    "\n",
    "<br>\n",
    "<font color='blue'>\n",
    "\\begin{equation}\n",
    "\\mathrm{DP}_{i}^{\\mathrm{mdl}}=c \\times \\sum_{k=1}^{i_{n}} P^{\\mathrm{mdl}}\\left(t, T_{k}\\right)+100 \\times P^{\\mathrm{mdl}}\\left(t, T_{i_{n}}\\right)\n",
    "\\end{equation}\n",
    "</font>\n",
    "\n",
    "    其中折现因子为\n",
    "\n",
    "<br>\n",
    "<font color='blue'>\n",
    "\\begin{equation}\n",
    "P^{\\mathrm{mdl}}(t,T)=e^{-R(t,T)(T-t)}=\\exp \\left(-\\left(\\beta_{0} \\cdot 1+\\beta_{1} \\cdot\\left(\\frac{1-e^{-\\frac{\\tau}{\\lambda}}}{\\frac{\\tau}{\\lambda}}\\right)+\\beta_{2} \\cdot\\left(\\frac{1-e^{-\\frac{\\tau}{\\lambda}}}{\\frac{\\tau}{\\lambda}}-e^{-\\frac{\\tau}{\\lambda}}\\right)\\right) \\times \\tau\\right)\n",
    "\\end{equation}\n",
    "</font>\n",
    "\n",
    "- <font color='blue'>$\\omega_{i}$</font> 是权重，它可以是等权重，也可以是**修正久期** (modified duration) <font color='blue'>$D_{i}^{\\mathrm{mod}}$</font>的倒数：\n",
    "\n",
    "<br>\n",
    "<font color='blue'>\n",
    "\\begin{equation}\n",
    "\\omega_{i}=\\left\\{\\begin{array}{cc}\n",
    "\\frac{1}{n}, & \\text { 等权重 } \\\\\n",
    "\\frac{1}{D_{i}^{\\bmod }} & \\text { 不等权重 }\n",
    "\\end{array}\\right.\n",
    "\\end{equation}\n",
    "</font>\n",
    "\n",
    "而修正久期等于**麦考利久期** (Macaulay duration) <font color='blue'>$D_{i}^{\\mathrm{mac}}$</font> 除以 1 加上到期收益率\n",
    "\n",
    "<br>\n",
    "<font color='blue'>\n",
    "\\begin{equation}\n",
    "D_{i}^{\\mathrm{mod}}=\\frac{D_{i}^{\\operatorname{mac}}}{1+\\frac{y_{i}}{f_i}}=\\frac{1}{1+\\frac{y_{i}}{f_i}} \\times \\frac{\\sum_{k=1}^{i_{n}} \\frac{\\frac{c_i}{f_i}}{\\left(1+\\frac{y_{i}}{f_i}\\right)^{f_i\\times(T_{k}-t)}} \\times (T_{k}-t)+\\frac{100}{\\left(1+\\frac{y_{i}}{f_i}\\right)^{f_i\\times(T_{i_{n}}-t)}} \\times (T_{i_{n}}-t)}{\\mathrm{DP}_{i}^{\\mathrm{mkt}}}\n",
    "\\end{equation}\n",
    "</font>\n",
    "    \n",
    "定义目标函数，用修正久期的倒数加权。"
   ]
  },
  {
   "cell_type": "code",
   "execution_count": 22,
   "metadata": {},
   "outputs": [],
   "source": [
    "def objfun( beta0, beta1, beta2, lbd, T, CF, DP, MD ):\n",
    "    DF = [ NS_discount(beta0, beta1, beta2, lbd, 0, t) for t in T ]\n",
    "    NS_DP = np.array( [np.sum(df*cf) for df, cf in zip(DF,CF)] )\n",
    "    distance = np.sum( ((1/MD)*(1 - NS_DP/DP))**2 )\n",
    "    return distance"
   ]
  },
  {
   "cell_type": "markdown",
   "metadata": {},
   "source": [
    "编写核心 NS 模型拟合函数 `NS_fitting`，用 `scipy.optimize.minimize` 解决优化问题整个思路很简单，难点在于如何取好的初始值。一些选取初始值的技巧包括：\n",
    "\n",
    "- 根据 <font color='blue'>$R(\\infty)=\\beta_0, R(0)=\\beta_0+\\beta_1$</font>，我们可以找出交易债券中到期最短和最长的两个收益率 $y_S$ 和 $y_L$\n",
    "\n",
    "    1. 将 $\\beta_0$ 的初始值设置为 $y_L$\n",
    "    2. 将 $\\beta_1$ 的初始值设置为 $y_S-y_L$。\n",
    "\n",
    "\n",
    "- 假设曲线一开始没有驼峰，将 $\\beta_2$ 的初始值设置为 0。\n",
    "\n",
    "\n",
    "- 对于 $\\lambda$ 创建一个初始值网格 (grid)，在上下界 $[\\lambda_{\\text{min}},\\lambda_{\\text{max}}]$ 中平均分成 5 段，$\\lambda_{\\text{min}}$ 通常可定为 1/30，而 $\\lambda_{\\text{max}}$ 是在最长到期日 $\\tau_L$ 下的驼峰对应极值。"
   ]
  },
  {
   "cell_type": "code",
   "execution_count": 23,
   "metadata": {},
   "outputs": [],
   "source": [
    "def NS_fitting( T, CF, DP, MD, Y ):\n",
    "    \n",
    "    beta0_0 = Y[-1]            # yield at longest maturity\n",
    "    beta1_0 = Y[0] - beta0_0   # yield at shortest maturity\n",
    "    beta2_0 = 0\n",
    "    lbd_0 = 1/0.6 \n",
    "    \n",
    "    x0 = (beta0_0, beta1_0, beta2_0, lbd_0)\n",
    "    \n",
    "    maxT = np.minimum( 0.5*T[-1][-1], 10 )\n",
    "\n",
    "    lbd_obj = lambda lbd: -1*((1-np.exp(-maxT/lbd))/(maxT/lbd) - np.exp(-maxT/lbd))    \n",
    "    lbd_ub = spo.minimize( lbd_obj, lbd_0, method='SLSQP', tol=1e-10 )\n",
    "    lbd_ub = lbd_ub.x[0]\n",
    "    lbd_lb = 1/30\n",
    "    \n",
    "    # objective function\n",
    "    obj = lambda x: objfun( x[0], x[1], x[2], x[3], T, CF, DP, MD )\n",
    "\n",
    "    # bounds\n",
    "    bnds = ((None, None), (None, None), (None, None), (lbd_lb, lbd_ub))\n",
    "    result = spo.minimize( obj, x0, method='SLSQP', bounds=bnds, tol=1e-10 )\n",
    "    \n",
    "    return result"
   ]
  },
  {
   "cell_type": "markdown",
   "metadata": {},
   "source": [
    "运行结果。"
   ]
  },
  {
   "cell_type": "code",
   "execution_count": 24,
   "metadata": {},
   "outputs": [
    {
     "data": {
      "text/plain": [
       "     fun: 0.0003060013853808605\n",
       "     jac: array([-1.16885712e-06, -1.36845483e-06,  2.07295670e-07, -1.88971899e-06])\n",
       " message: 'Optimization terminated successfully'\n",
       "    nfev: 149\n",
       "     nit: 29\n",
       "    njev: 29\n",
       "  status: 0\n",
       " success: True\n",
       "       x: array([ 0.02977988, -0.03266316, -0.02088604,  4.42592532])"
      ]
     },
     "execution_count": 24,
     "metadata": {},
     "output_type": "execute_result"
    }
   ],
   "source": [
    "CF = cashflows\n",
    "Y = BOND['Yield'].values\n",
    "DP = BOND['Dirty Price'].values\n",
    "MD = BOND['Modified Duration'].values\n",
    "\n",
    "result = NS_fitting( T, CF, DP, MD, Y )\n",
    "result"
   ]
  },
  {
   "cell_type": "markdown",
   "metadata": {},
   "source": [
    "### <font color='#2b4750' face='微软雅黑'>3.3 结果分析</font><a name='3.3'></a>\n",
    "[<font color='black' face='微软雅黑'>回到章首</font>](#3)"
   ]
  },
  {
   "cell_type": "markdown",
   "metadata": {},
   "source": [
    "可视化 NS 模型下瞬时远期利率的拆分。"
   ]
  },
  {
   "cell_type": "code",
   "execution_count": 25,
   "metadata": {},
   "outputs": [],
   "source": [
    "def NS_visualizer( beta0, beta1, beta2, lbd, t, T ):\n",
    "    \n",
    "    fig = plt.figure(figsize=(12,6), dpi=150)\n",
    "    \n",
    "    tau = T - t\n",
    "    A = tau / lbd\n",
    "    idx = (A == 0)\n",
    "    B = np.exp(-A)\n",
    "    \n",
    "    (f1, f2, f3) = (beta0*np.ones(tau.shape), beta1*B, beta2*B*A)\n",
    "    f = f1 + f2 + f3\n",
    "    \n",
    "    ax1 = fig.add_subplot(1,1,1)\n",
    "    \n",
    "    ax1.plot( T, f1, '#dc2624', linestyle=\"--\", linewidth=2, label=\"利率水平\" )\n",
    "    ax1.plot( T, f2, '#2b4750', linestyle=\"--\", linewidth=2, label=\"利率斜率\" )\n",
    "    ax1.plot( T, f3, '#45a0a2', linestyle=\"--\", linewidth=2, label=\"利率曲率\" )\n",
    "    ax1.plot( T, f, 'k', linewidth=2, label=\"瞬时远期利率\" )\n",
    "    \n",
    "    n = len(T)\n",
    "    u = 0.003\n",
    "    (i1, i2, i3, i) = (int(n/5), int(2*n/5), int(3*n/5), int(4*n/5))\n",
    "    (x1, x2, x3, x) = T[[i1, i2, i3, i]]\n",
    "    (y1, y2, y3, y) = (f1[i1], f2[i1], f3[i3], f[i])\n",
    "    \n",
    "    ax1.annotate( r\"第一项：$\\beta_0$\", \n",
    "                  xy=(x1, y1+u),\n",
    "                  xytext=(x1, y1+4*u),\n",
    "                  arrowprops=dict( facecolor='#dc2624',\n",
    "                                   edgecolor='#dc2624', \n",
    "                                   headwidth=4,\n",
    "                                   width=1,\n",
    "                                   headlength=6 ),\n",
    "                  horizontalalignment='center',\n",
    "                  verticalalignment='top' )\n",
    "    \n",
    "    ax1.annotate( r\"第二项：$\\beta_1exp\\left({-\\frac{\\tau}{\\lambda}}\\right)$\",\n",
    "                  xy=(x2, y2+u),\n",
    "                  xytext=(x2, y2+4*u),\n",
    "                  arrowprops=dict( facecolor='#2b4750',\n",
    "                                   edgecolor='#2b4750',\n",
    "                                   headwidth=4, \n",
    "                                   width=1,\n",
    "                                   headlength=6 ),\n",
    "                  horizontalalignment='center', verticalalignment='top' )\n",
    "    \n",
    "    ax1.annotate( r\"第三项：$\\beta_2\\frac{\\tau}{\\lambda}exp\\left({-\\frac{\\tau}{\\lambda}}\\right)$\",\n",
    "                  xy=(x3, y3+u),\n",
    "                  xytext=(x3, y3+4*u),\n",
    "                  arrowprops=dict( facecolor='#45a0a2',\n",
    "                                   edgecolor='#45a0a2',\n",
    "                                   headwidth=4, \n",
    "                                   width=1,\n",
    "                                   headlength=6 ),\n",
    "                  horizontalalignment='center', verticalalignment='top' )\n",
    "    \n",
    "    ax1.annotate( r\"$\\beta_0+\\beta_1exp\\left({-\\frac{\\tau}{\\lambda}}\\right)+\\beta_2\\frac{\\tau}{\\lambda}exp\\left({-\\frac{\\tau}{\\lambda}}\\right)$\",\n",
    "                  xy=(x, y+u),\n",
    "                  xytext=(x, y+4*u),\n",
    "                  arrowprops=dict( facecolor='k',\n",
    "                                   edgecolor='k',\n",
    "                                   headwidth=4, \n",
    "                                   width=1,\n",
    "                                   headlength=6 ),\n",
    "                  horizontalalignment='center', verticalalignment='top' )\n",
    "    \n",
    "    \n",
    "    # hump 峰值或谷底\n",
    "    s = \"峰顶\" if beta2 > 0 else \"谷底\"\n",
    "    u = u if beta2 > 0 else -u\n",
    "    (x_m, y_m) = (lbd, beta2*np.exp(-1))\n",
    "    ax1.scatter( x_m, y_m, marker=\"s\", fc=\"#45a0a2\", ec=\"k\", )\n",
    "    ax1.annotate( s,\n",
    "                  xy=(x_m, y_m),\n",
    "                  xytext=(x_m, y_m+u) )\n",
    "    \n",
    "    \n",
    "    ax1.set_ylim(top=f.max()*2)\n",
    "    ax1.legend(loc=4)\n",
    "    \n",
    "    ax1.set_xlabel(\"年限\")\n",
    "    ax1.set_ylabel(\"利率 (%)\")\n",
    "    ax1.set_title(\"Nelson-Siegel 模型的瞬时远期利率的分解\")\n",
    "    \n",
    "    plt.show()"
   ]
  },
  {
   "cell_type": "code",
   "execution_count": 26,
   "metadata": {
    "scrolled": false
   },
   "outputs": [
    {
     "data": {
      "image/png": "[encoded data removed]",
      "text/plain": [
       "<Figure size 1800x900 with 1 Axes>"
      ]
     },
     "metadata": {
      "needs_background": "light"
     },
     "output_type": "display_data"
    }
   ],
   "source": [
    "(beta0, beta1, beta2, lbd) = result.x\n",
    "NS_visualizer( beta0, beta1, beta2, lbd, 0, np.linspace(0,30,100) )"
   ]
  },
  {
   "cell_type": "markdown",
   "metadata": {},
   "source": [
    "可视化构建出来的**瞬时远期利率**和**即期利率**曲线。"
   ]
  },
  {
   "cell_type": "code",
   "execution_count": 27,
   "metadata": {},
   "outputs": [],
   "source": [
    "beta0, beta1, beta2, lbd = result.x\n",
    "maxT = np.ceil((BOND['Maturity Date'].max() - eval_date).days/365)\n",
    "maturity_vec = np.arange(1/365, maxT, 0.1)\n",
    "spot_rate = NS_spot_rate( beta0, beta1, beta2, lbd, 0, maturity_vec )\n",
    "instfwd_rate = NS_instantaneous_forward_rate( beta0, beta1, beta2, lbd, 0, maturity_vec )"
   ]
  },
  {
   "cell_type": "code",
   "execution_count": 28,
   "metadata": {},
   "outputs": [
    {
     "data": {
      "application/vnd.plotly.v1+json": {
       "config": {
        "linkText": "Export to plot.ly",
        "plotlyServerURL": "https://plot.ly",
        "showLink": true
       },
       "data": [
        {
         "line": {
          "color": "rgba(255, 153, 51, 1.0)",
          "dash": "solid",
          "shape": "linear",
          "width": 1.3
         },
         "marker": {
          "size": 3,
          "symbol": "circle"
         },
         "mode": "lines+markers",
         "name": "瞬时远期利率",
         "text": "",
         "type": "scatter",
         "x": [
          0.0027397260273972603,
          0.10273972602739727,
          0.20273972602739726,
          0.3027397260273973,
          0.40273972602739727,
          0.5027397260273972,
          0.6027397260273973,
          0.7027397260273973,
          0.8027397260273973,
          0.9027397260273973,
          1.0027397260273974,
          1.1027397260273974,
          1.2027397260273975,
          1.3027397260273974,
          1.4027397260273975,
          1.5027397260273974,
          1.6027397260273974,
          1.7027397260273975,
          1.8027397260273974,
          1.9027397260273975,
          2.0027397260273974,
          2.1027397260273974,
          2.2027397260273975,
          2.3027397260273976,
          2.4027397260273977,
          2.5027397260273974,
          2.6027397260273974,
          2.7027397260273975,
          2.8027397260273976,
          2.9027397260273977,
          3.0027397260273974,
          3.1027397260273974,
          3.2027397260273975,
          3.3027397260273976,
          3.4027397260273977,
          3.5027397260273974,
          3.6027397260273974,
          3.7027397260273975,
          3.8027397260273976,
          3.9027397260273977,
          4.002739726027397,
          4.102739726027398,
          4.2027397260273975,
          4.302739726027397,
          4.402739726027398,
          4.502739726027397,
          4.602739726027398,
          4.7027397260273975,
          4.802739726027398,
          4.902739726027398,
          5.002739726027397,
          5.102739726027398,
          5.2027397260273975,
          5.302739726027398,
          5.402739726027398,
          5.502739726027397,
          5.602739726027398,
          5.7027397260273975,
          5.802739726027398,
          5.902739726027398,
          6.002739726027397,
          6.102739726027398,
          6.2027397260273975,
          6.302739726027398,
          6.402739726027398,
          6.502739726027397,
          6.602739726027398,
          6.7027397260273975,
          6.802739726027398,
          6.902739726027398,
          7.002739726027397,
          7.102739726027398,
          7.2027397260273975,
          7.302739726027398,
          7.402739726027398,
          7.502739726027397,
          7.602739726027398,
          7.7027397260273975,
          7.802739726027398,
          7.902739726027398,
          8.002739726027396,
          8.102739726027396,
          8.202739726027398,
          8.302739726027397,
          8.402739726027397,
          8.502739726027396,
          8.602739726027396,
          8.702739726027398,
          8.802739726027397,
          8.902739726027397,
          9.002739726027396,
          9.102739726027396,
          9.202739726027398,
          9.302739726027397,
          9.402739726027397,
          9.502739726027396,
          9.602739726027398,
          9.702739726027398,
          9.802739726027397,
          9.902739726027397,
          10.002739726027396,
          10.102739726027398,
          10.202739726027398,
          10.302739726027397,
          10.402739726027397,
          10.502739726027396,
          10.602739726027398,
          10.702739726027398,
          10.802739726027397,
          10.902739726027397,
          11.002739726027396,
          11.102739726027398,
          11.202739726027398,
          11.302739726027397,
          11.402739726027397,
          11.502739726027396,
          11.602739726027398,
          11.702739726027398,
          11.802739726027397,
          11.902739726027397,
          12.002739726027396,
          12.102739726027398,
          12.202739726027398,
          12.302739726027397,
          12.402739726027397,
          12.502739726027396,
          12.602739726027398,
          12.702739726027398,
          12.802739726027397,
          12.902739726027397,
          13.002739726027396,
          13.102739726027398,
          13.202739726027398,
          13.302739726027397,
          13.402739726027397,
          13.502739726027396,
          13.602739726027398,
          13.702739726027398,
          13.802739726027397,
          13.902739726027397,
          14.002739726027396,
          14.102739726027398,
          14.202739726027398,
          14.302739726027397,
          14.402739726027397,
          14.502739726027396,
          14.602739726027398,
          14.702739726027398,
          14.802739726027397,
          14.902739726027397,
          15.002739726027396,
          15.102739726027398,
          15.202739726027398,
          15.302739726027397,
          15.402739726027397,
          15.502739726027396,
          15.602739726027398,
          15.702739726027398,
          15.802739726027397,
          15.902739726027397
         ],
         "y": [
          -0.2875983364318268,
          -0.26074988852490644,
          -0.23347118012212584,
          -0.20579483633478618,
          -0.1777522392794868,
          -0.14937356733356177,
          -0.12068783325691612,
          -0.09172292121131702,
          -0.0625056227073732,
          -0.03306167150864542,
          -0.0034157775215397455,
          0.026408340301124072,
          0.05638792201570478,
          0.0865011356760691,
          0.11672704722891156,
          0.14704559129103645,
          0.17743754278419893,
          0.20788448940379128,
          0.23836880489826237,
          0.2688736231367934,
          0.29938281294334357,
          0.3298809536757626,
          0.3603533115292491,
          0.39078581654396793,
          0.42116504029719953,
          0.4514781742609039,
          0.48171300880610995,
          0.5118579128360174,
          0.541901814030217,
          0.5718341796828745,
          0.6016449981181979,
          0.6313247606669755,
          0.6608644441883699,
          0.6902554941216136,
          0.7194898080526483,
          0.7485597197811595,
          0.777457983873853,
          0.8061777606901922,
          0.8347126018672015,
          0.8630564362502974,
          0.8912035562574614,
          0.9191486046644142,
          0.9468865617987827,
          0.9744127331315932,
          1.0017227372547126,
          1.0288124942331969,
          1.055678214321795,
          1.0823163870351464,
          1.1087237705615036,
          1.1348973815100836,
          1.160834484982431,
          1.186532584958419,
          1.2119894149878037,
          1.2372029291784592,
          1.2621712934726992,
          1.2868928772032984,
          1.3113662449210781,
          1.3355901484861326,
          1.3595635194149958,
          1.3832854614762655,
          1.4067552435273927,
          1.4299722925855647,
          1.4529361871257933,
          1.4756466505995167,
          1.4981035451672078,
          1.5203068656386567,
          1.5422567336147825,
          1.5639533918249915,
          1.5853971986542668,
          1.6065886228543418,
          1.6275282384334608,
          1.6482167197193878,
          1.668654836590475,
          1.688843449869741,
          1.7087835068770614,
          1.7284760371347032,
          1.7479221482215708,
          1.7671230217716594,
          1.7860799096123516,
          1.8047941300382928,
          1.8232670642167281,
          1.8415001527202726,
          1.859494892183229,
          1.8772528320776538,
          1.8947755716054913,
          1.9120647567032047,
          1.9291220771554194,
          1.945949263814211,
          1.962548085920754,
          1.978920348526145,
          1.9950678900083099,
          2.0109925796819828,
          2.0266963154988464,
          2.042181021834987,
          2.057448647362921,
          2.07250116300551,
          2.08734055996918,
          2.101968847853899,
          2.116388052837497,
          2.130600215931923,
          2.1446073913091412,
          2.1584116446944304,
          2.1720150518248986,
          2.1854196969711146,
          2.1986276715197888,
          2.211641072615534,
          2.224462001859756,
          2.237092564064803,
          2.2495348660615666,
          2.2617910155587535,
          2.273863120052114,
          2.2857532857819813,
          2.297463616737485,
          2.3089962137058917,
          2.320353173365544,
          2.331536587420924,
          2.342548541778419,
          2.3533911157613927,
          2.364066381363228,
          2.374576402537026,
          2.3849232345207043,
          2.395108923196258,
          2.4051355044820086,
          2.4150050037566717,
          2.4247194353141315,
          2.4342808018478412,
          2.4436910939637895,
          2.4529522897210208,
          2.462066354198718,
          2.471035239088891,
          2.479860882313744,
          2.4885452076668186,
          2.4970901244770483,
          2.505497527294869,
          2.513769295599581,
          2.521907293527158,
          2.52991336961774,
          2.5377893565820706,
          2.545537071086152,
          2.5531583135534204,
          2.5606548679837724,
          2.568028501788782,
          2.5752809656424787,
          2.582413993347073,
          2.589429301713033,
          2.596328590452943,
          2.603113542088585,
          2.6097858218707026,
          2.616347077710934,
          2.6227989401254064,
          2.6291430221895014,
          2.6353809195033264,
          2.641514210167435,
          2.647544454768349,
          2.653473196373471,
          2.6593019605349513,
          2.6650322553021444,
          2.6706655712422327,
          2.67620338146868,
          2.6816471416771273
         ]
        },
        {
         "line": {
          "color": "rgba(55, 128, 191, 1.0)",
          "dash": "solid",
          "shape": "linear",
          "width": 1.3
         },
         "marker": {
          "size": 3,
          "symbol": "circle"
         },
         "mode": "lines+markers",
         "name": "即期利率",
         "text": "",
         "type": "scatter",
         "x": [
          0.0027397260273972603,
          0.10273972602739727,
          0.20273972602739726,
          0.3027397260273973,
          0.40273972602739727,
          0.5027397260273972,
          0.6027397260273973,
          0.7027397260273973,
          0.8027397260273973,
          0.9027397260273973,
          1.0027397260273974,
          1.1027397260273974,
          1.2027397260273975,
          1.3027397260273974,
          1.4027397260273975,
          1.5027397260273974,
          1.6027397260273974,
          1.7027397260273975,
          1.8027397260273974,
          1.9027397260273975,
          2.0027397260273974,
          2.1027397260273974,
          2.2027397260273975,
          2.3027397260273976,
          2.4027397260273977,
          2.5027397260273974,
          2.6027397260273974,
          2.7027397260273975,
          2.8027397260273976,
          2.9027397260273977,
          3.0027397260273974,
          3.1027397260273974,
          3.2027397260273975,
          3.3027397260273976,
          3.4027397260273977,
          3.5027397260273974,
          3.6027397260273974,
          3.7027397260273975,
          3.8027397260273976,
          3.9027397260273977,
          4.002739726027397,
          4.102739726027398,
          4.2027397260273975,
          4.302739726027397,
          4.402739726027398,
          4.502739726027397,
          4.602739726027398,
          4.7027397260273975,
          4.802739726027398,
          4.902739726027398,
          5.002739726027397,
          5.102739726027398,
          5.2027397260273975,
          5.302739726027398,
          5.402739726027398,
          5.502739726027397,
          5.602739726027398,
          5.7027397260273975,
          5.802739726027398,
          5.902739726027398,
          6.002739726027397,
          6.102739726027398,
          6.2027397260273975,
          6.302739726027398,
          6.402739726027398,
          6.502739726027397,
          6.602739726027398,
          6.7027397260273975,
          6.802739726027398,
          6.902739726027398,
          7.002739726027397,
          7.102739726027398,
          7.2027397260273975,
          7.302739726027398,
          7.402739726027398,
          7.502739726027397,
          7.602739726027398,
          7.7027397260273975,
          7.802739726027398,
          7.902739726027398,
          8.002739726027396,
          8.102739726027396,
          8.202739726027398,
          8.302739726027397,
          8.402739726027397,
          8.502739726027396,
          8.602739726027396,
          8.702739726027398,
          8.802739726027397,
          8.902739726027397,
          9.002739726027396,
          9.102739726027396,
          9.202739726027398,
          9.302739726027397,
          9.402739726027397,
          9.502739726027396,
          9.602739726027398,
          9.702739726027398,
          9.802739726027397,
          9.902739726027397,
          10.002739726027396,
          10.102739726027398,
          10.202739726027398,
          10.302739726027397,
          10.402739726027397,
          10.502739726027396,
          10.602739726027398,
          10.702739726027398,
          10.802739726027397,
          10.902739726027397,
          11.002739726027396,
          11.102739726027398,
          11.202739726027398,
          11.302739726027397,
          11.402739726027397,
          11.502739726027396,
          11.602739726027398,
          11.702739726027398,
          11.802739726027397,
          11.902739726027397,
          12.002739726027396,
          12.102739726027398,
          12.202739726027398,
          12.302739726027397,
          12.402739726027397,
          12.502739726027396,
          12.602739726027398,
          12.702739726027398,
          12.802739726027397,
          12.902739726027397,
          13.002739726027396,
          13.102739726027398,
          13.202739726027398,
          13.302739726027397,
          13.402739726027397,
          13.502739726027396,
          13.602739726027398,
          13.702739726027398,
          13.802739726027397,
          13.902739726027397,
          14.002739726027396,
          14.102739726027398,
          14.202739726027398,
          14.302739726027397,
          14.402739726027397,
          14.502739726027396,
          14.602739726027398,
          14.702739726027398,
          14.802739726027397,
          14.902739726027397,
          15.002739726027396,
          15.102739726027398,
          15.202739726027398,
          15.302739726027397,
          15.402739726027397,
          15.502739726027396,
          15.602739726027398,
          15.702739726027398,
          15.802739726027397,
          15.902739726027397
         ],
         "y": [
          -0.287962964975353,
          -0.27457806990708805,
          -0.26104689880674115,
          -0.2473777047719344,
          -0.2335784895975494,
          -0.21965701038801916,
          -0.20562078600571532,
          -0.1914771033596423,
          -0.1772330235382243,
          -0.1628953877899333,
          -0.14847082335540696,
          -0.13396574915464093,
          -0.11938638133270185,
          -0.10473873866742134,
          -0.09002864784231224,
          -0.07526174858803122,
          -0.0604434986954866,
          -0.04557917890372844,
          -0.030673897665612793,
          -0.015732595794197078,
          -0.000760050992752899,
          0.014239117728826866,
          0.02926044574843418,
          0.04429961863433463,
          0.059352468053286686,
          0.07441496778167381,
          0.08948322981711171,
          0.10455350058815507,
          0.11962215725966341,
          0.13468570413155795,
          0.1497407691286829,
          0.16478410037955382,
          0.17981256288185055,
          0.19482313525253223,
          0.2098129065605324,
          0.22477907324000862,
          0.23971893608219558,
          0.2546298973039463,
          0.26950945769109197,
          0.28435521381479,
          0.29916485531909387,
          0.31393616227798615,
          0.3286670026201887,
          0.3433553296201031,
          0.35799917945323306,
          0.37259666881454356,
          0.3871459925981967,
          0.40164542163715833,
          0.41609330050122045,
          0.430488045351987,
          0.44482814185344066,
          0.4591121431367171,
          0.47333866781774464,
          0.48750639806646506,
          0.5016140777263578,
          0.5156605104830146,
          0.5296445580805755,
          0.5435651385848345,
          0.5574212246918528,
          0.5712118420809766,
          0.5849360678111325,
          0.5985930287593578,
          0.6121819001004932,
          0.6257019038270366,
          0.6391523073081464,
          0.6525324218868289,
          0.6658416015143647,
          0.6790792414210314,
          0.6922447768222407,
          0.7053376816591842,
          0.7183574673731448,
          0.7313036817126248,
          0.7441759075724673,
          0.7569737618641824,
          0.7696968944166801,
          0.7823449869066641,
          0.7949177518179332,
          0.8074149314288638,
          0.8198362968273695,
          0.832181646952648,
          0.8444508076630308,
          0.8566436308292898,
          0.8687599934527532,
          0.8807997968075967,
          0.8927629656067178,
          0.9046494471905735,
          0.9164592107384181,
          0.9281922465013609,
          0.939848565056697,
          0.9514281965829652,
          0.9629311901552138,
          0.9743576130599465,
          0.985707550129259,
          0.9969811030936703,
          1.008178389953171,
          1.0192995443660244,
          1.030344715054865,
          1.0413140652296464,
          1.052207772027015,
          1.0630260259656785,
          1.0737690304173602,
          1.084437001092941,
          1.0950301655433896,
          1.1055487626751084,
          1.11599304227931,
          1.1263632645750727,
          1.1366596997657146,
          1.1468826276081343,
          1.1570323369947983,
          1.1671091255480208,
          1.1771132992262392,
          1.1870451719419566,
          1.1969050651910507,
          1.2066933076931543,
          1.216410235042808,
          1.2260561893711153,
          1.2356315190176095,
          1.245136578212073,
          1.2545717267660432,
          1.2639373297737475,
          1.2732337573222177,
          1.2824613842103418,
          1.2916205896766193,
          1.300711757135375,
          1.3097352739212236,
          1.3186915310415501,
          1.3275809229367996,
          1.3364038472483635,
          1.3451607045938598,
          1.3538518983496082,
          1.362477834440104,
          1.3710389211343048,
          1.379535568848544,
          1.387968189955894,
          1.3963371986017936,
          1.4046430105257883,
          1.412886042889197,
          1.4210667141085505,
          1.4291854436946552,
          1.4372426520971033,
          1.4452387605541026,
          1.453174190947466,
          1.4610493656626224,
          1.468864707453512,
          1.4766206393122225,
          1.4843175843432443,
          1.4919559656422117,
          1.4995362061789956,
          1.5070587286850476,
          1.5145239555448486,
          1.5219323086913725,
          1.5292842095054289,
          1.5365800787187902,
          1.5438203363209921,
          1.5510054014696981,
          1.5581356924045298,
          1.5652116263642646,
          1.5722336195073028,
          1.5792020868353074,
          1.5861174421199318
         ]
        }
       ],
       "layout": {
        "legend": {
         "bgcolor": "#151516",
         "font": {
          "color": "#D9D9D9"
         }
        },
        "paper_bgcolor": "#151516",
        "plot_bgcolor": "#151516",
        "template": {
         "data": {
          "bar": [
           {
            "error_x": {
             "color": "#2a3f5f"
            },
            "error_y": {
             "color": "#2a3f5f"
            },
            "marker": {
             "line": {
              "color": "#E5ECF6",
              "width": 0.5
             }
            },
            "type": "bar"
           }
          ],
          "barpolar": [
           {
            "marker": {
             "line": {
              "color": "#E5ECF6",
              "width": 0.5
             }
            },
            "type": "barpolar"
           }
          ],
          "carpet": [
           {
            "aaxis": {
             "endlinecolor": "#2a3f5f",
             "gridcolor": "white",
             "linecolor": "white",
             "minorgridcolor": "white",
             "startlinecolor": "#2a3f5f"
            },
            "baxis": {
             "endlinecolor": "#2a3f5f",
             "gridcolor": "white",
             "linecolor": "white",
             "minorgridcolor": "white",
             "startlinecolor": "#2a3f5f"
            },
            "type": "carpet"
           }
          ],
          "choropleth": [
           {
            "colorbar": {
             "outlinewidth": 0,
             "ticks": ""
            },
            "type": "choropleth"
           }
          ],
          "contour": [
           {
            "colorbar": {
             "outlinewidth": 0,
             "ticks": ""
            },
            "colorscale": [
             [
              0,
              "#0d0887"
             ],
             [
              0.1111111111111111,
              "#46039f"
             ],
             [
              0.2222222222222222,
              "#7201a8"
             ],
             [
              0.3333333333333333,
              "#9c179e"
             ],
             [
              0.4444444444444444,
              "#bd3786"
             ],
             [
              0.5555555555555556,
              "#d8576b"
             ],
             [
              0.6666666666666666,
              "#ed7953"
             ],
             [
              0.7777777777777778,
              "#fb9f3a"
             ],
             [
              0.8888888888888888,
              "#fdca26"
             ],
             [
              1,
              "#f0f921"
             ]
            ],
            "type": "contour"
           }
          ],
          "contourcarpet": [
           {
            "colorbar": {
             "outlinewidth": 0,
             "ticks": ""
            },
            "type": "contourcarpet"
           }
          ],
          "heatmap": [
           {
            "colorbar": {
             "outlinewidth": 0,
             "ticks": ""
            },
            "colorscale": [
             [
              0,
              "#0d0887"
             ],
             [
              0.1111111111111111,
              "#46039f"
             ],
             [
              0.2222222222222222,
              "#7201a8"
             ],
             [
              0.3333333333333333,
              "#9c179e"
             ],
             [
              0.4444444444444444,
              "#bd3786"
             ],
             [
              0.5555555555555556,
              "#d8576b"
             ],
             [
              0.6666666666666666,
              "#ed7953"
             ],
             [
              0.7777777777777778,
              "#fb9f3a"
             ],
             [
              0.8888888888888888,
              "#fdca26"
             ],
             [
              1,
              "#f0f921"
             ]
            ],
            "type": "heatmap"
           }
          ],
          "heatmapgl": [
           {
            "colorbar": {
             "outlinewidth": 0,
             "ticks": ""
            },
            "colorscale": [
             [
              0,
              "#0d0887"
             ],
             [
              0.1111111111111111,
              "#46039f"
             ],
             [
              0.2222222222222222,
              "#7201a8"
             ],
             [
              0.3333333333333333,
              "#9c179e"
             ],
             [
              0.4444444444444444,
              "#bd3786"
             ],
             [
              0.5555555555555556,
              "#d8576b"
             ],
             [
              0.6666666666666666,
              "#ed7953"
             ],
             [
              0.7777777777777778,
              "#fb9f3a"
             ],
             [
              0.8888888888888888,
              "#fdca26"
             ],
             [
              1,
              "#f0f921"
             ]
            ],
            "type": "heatmapgl"
           }
          ],
          "histogram": [
           {
            "marker": {
             "colorbar": {
              "outlinewidth": 0,
              "ticks": ""
             }
            },
            "type": "histogram"
           }
          ],
          "histogram2d": [
           {
            "colorbar": {
             "outlinewidth": 0,
             "ticks": ""
            },
            "colorscale": [
             [
              0,
              "#0d0887"
             ],
             [
              0.1111111111111111,
              "#46039f"
             ],
             [
              0.2222222222222222,
              "#7201a8"
             ],
             [
              0.3333333333333333,
              "#9c179e"
             ],
             [
              0.4444444444444444,
              "#bd3786"
             ],
             [
              0.5555555555555556,
              "#d8576b"
             ],
             [
              0.6666666666666666,
              "#ed7953"
             ],
             [
              0.7777777777777778,
              "#fb9f3a"
             ],
             [
              0.8888888888888888,
              "#fdca26"
             ],
             [
              1,
              "#f0f921"
             ]
            ],
            "type": "histogram2d"
           }
          ],
          "histogram2dcontour": [
           {
            "colorbar": {
             "outlinewidth": 0,
             "ticks": ""
            },
            "colorscale": [
             [
              0,
              "#0d0887"
             ],
             [
              0.1111111111111111,
              "#46039f"
             ],
             [
              0.2222222222222222,
              "#7201a8"
             ],
             [
              0.3333333333333333,
              "#9c179e"
             ],
             [
              0.4444444444444444,
              "#bd3786"
             ],
             [
              0.5555555555555556,
              "#d8576b"
             ],
             [
              0.6666666666666666,
              "#ed7953"
             ],
             [
              0.7777777777777778,
              "#fb9f3a"
             ],
             [
              0.8888888888888888,
              "#fdca26"
             ],
             [
              1,
              "#f0f921"
             ]
            ],
            "type": "histogram2dcontour"
           }
          ],
          "mesh3d": [
           {
            "colorbar": {
             "outlinewidth": 0,
             "ticks": ""
            },
            "type": "mesh3d"
           }
          ],
          "parcoords": [
           {
            "line": {
             "colorbar": {
              "outlinewidth": 0,
              "ticks": ""
             }
            },
            "type": "parcoords"
           }
          ],
          "pie": [
           {
            "automargin": true,
            "type": "pie"
           }
          ],
          "scatter": [
           {
            "marker": {
             "colorbar": {
              "outlinewidth": 0,
              "ticks": ""
             }
            },
            "type": "scatter"
           }
          ],
          "scatter3d": [
           {
            "line": {
             "colorbar": {
              "outlinewidth": 0,
              "ticks": ""
             }
            },
            "marker": {
             "colorbar": {
              "outlinewidth": 0,
              "ticks": ""
             }
            },
            "type": "scatter3d"
           }
          ],
          "scattercarpet": [
           {
            "marker": {
             "colorbar": {
              "outlinewidth": 0,
              "ticks": ""
             }
            },
            "type": "scattercarpet"
           }
          ],
          "scattergeo": [
           {
            "marker": {
             "colorbar": {
              "outlinewidth": 0,
              "ticks": ""
             }
            },
            "type": "scattergeo"
           }
          ],
          "scattergl": [
           {
            "marker": {
             "colorbar": {
              "outlinewidth": 0,
              "ticks": ""
             }
            },
            "type": "scattergl"
           }
          ],
          "scattermapbox": [
           {
            "marker": {
             "colorbar": {
              "outlinewidth": 0,
              "ticks": ""
             }
            },
            "type": "scattermapbox"
           }
          ],
          "scatterpolar": [
           {
            "marker": {
             "colorbar": {
              "outlinewidth": 0,
              "ticks": ""
             }
            },
            "type": "scatterpolar"
           }
          ],
          "scatterpolargl": [
           {
            "marker": {
             "colorbar": {
              "outlinewidth": 0,
              "ticks": ""
             }
            },
            "type": "scatterpolargl"
           }
          ],
          "scatterternary": [
           {
            "marker": {
             "colorbar": {
              "outlinewidth": 0,
              "ticks": ""
             }
            },
            "type": "scatterternary"
           }
          ],
          "surface": [
           {
            "colorbar": {
             "outlinewidth": 0,
             "ticks": ""
            },
            "colorscale": [
             [
              0,
              "#0d0887"
             ],
             [
              0.1111111111111111,
              "#46039f"
             ],
             [
              0.2222222222222222,
              "#7201a8"
             ],
             [
              0.3333333333333333,
              "#9c179e"
             ],
             [
              0.4444444444444444,
              "#bd3786"
             ],
             [
              0.5555555555555556,
              "#d8576b"
             ],
             [
              0.6666666666666666,
              "#ed7953"
             ],
             [
              0.7777777777777778,
              "#fb9f3a"
             ],
             [
              0.8888888888888888,
              "#fdca26"
             ],
             [
              1,
              "#f0f921"
             ]
            ],
            "type": "surface"
           }
          ],
          "table": [
           {
            "cells": {
             "fill": {
              "color": "#EBF0F8"
             },
             "line": {
              "color": "white"
             }
            },
            "header": {
             "fill": {
              "color": "#C8D4E3"
             },
             "line": {
              "color": "white"
             }
            },
            "type": "table"
           }
          ]
         },
         "layout": {
          "annotationdefaults": {
           "arrowcolor": "#2a3f5f",
           "arrowhead": 0,
           "arrowwidth": 1
          },
          "autotypenumbers": "strict",
          "coloraxis": {
           "colorbar": {
            "outlinewidth": 0,
            "ticks": ""
           }
          },
          "colorscale": {
           "diverging": [
            [
             0,
             "#8e0152"
            ],
            [
             0.1,
             "#c51b7d"
            ],
            [
             0.2,
             "#de77ae"
            ],
            [
             0.3,
             "#f1b6da"
            ],
            [
             0.4,
             "#fde0ef"
            ],
            [
             0.5,
             "#f7f7f7"
            ],
            [
             0.6,
             "#e6f5d0"
            ],
            [
             0.7,
             "#b8e186"
            ],
            [
             0.8,
             "#7fbc41"
            ],
            [
             0.9,
             "#4d9221"
            ],
            [
             1,
             "#276419"
            ]
           ],
           "sequential": [
            [
             0,
             "#0d0887"
            ],
            [
             0.1111111111111111,
             "#46039f"
            ],
            [
             0.2222222222222222,
             "#7201a8"
            ],
            [
             0.3333333333333333,
             "#9c179e"
            ],
            [
             0.4444444444444444,
             "#bd3786"
            ],
            [
             0.5555555555555556,
             "#d8576b"
            ],
            [
             0.6666666666666666,
             "#ed7953"
            ],
            [
             0.7777777777777778,
             "#fb9f3a"
            ],
            [
             0.8888888888888888,
             "#fdca26"
            ],
            [
             1,
             "#f0f921"
            ]
           ],
           "sequentialminus": [
            [
             0,
             "#0d0887"
            ],
            [
             0.1111111111111111,
             "#46039f"
            ],
            [
             0.2222222222222222,
             "#7201a8"
            ],
            [
             0.3333333333333333,
             "#9c179e"
            ],
            [
             0.4444444444444444,
             "#bd3786"
            ],
            [
             0.5555555555555556,
             "#d8576b"
            ],
            [
             0.6666666666666666,
             "#ed7953"
            ],
            [
             0.7777777777777778,
             "#fb9f3a"
            ],
            [
             0.8888888888888888,
             "#fdca26"
            ],
            [
             1,
             "#f0f921"
            ]
           ]
          },
          "colorway": [
           "#636efa",
           "#EF553B",
           "#00cc96",
           "#ab63fa",
           "#FFA15A",
           "#19d3f3",
           "#FF6692",
           "#B6E880",
           "#FF97FF",
           "#FECB52"
          ],
          "font": {
           "color": "#2a3f5f"
          },
          "geo": {
           "bgcolor": "white",
           "lakecolor": "white",
           "landcolor": "#E5ECF6",
           "showlakes": true,
           "showland": true,
           "subunitcolor": "white"
          },
          "hoverlabel": {
           "align": "left"
          },
          "hovermode": "closest",
          "mapbox": {
           "style": "light"
          },
          "paper_bgcolor": "white",
          "plot_bgcolor": "#E5ECF6",
          "polar": {
           "angularaxis": {
            "gridcolor": "white",
            "linecolor": "white",
            "ticks": ""
           },
           "bgcolor": "#E5ECF6",
           "radialaxis": {
            "gridcolor": "white",
            "linecolor": "white",
            "ticks": ""
           }
          },
          "scene": {
           "xaxis": {
            "backgroundcolor": "#E5ECF6",
            "gridcolor": "white",
            "gridwidth": 2,
            "linecolor": "white",
            "showbackground": true,
            "ticks": "",
            "zerolinecolor": "white"
           },
           "yaxis": {
            "backgroundcolor": "#E5ECF6",
            "gridcolor": "white",
            "gridwidth": 2,
            "linecolor": "white",
            "showbackground": true,
            "ticks": "",
            "zerolinecolor": "white"
           },
           "zaxis": {
            "backgroundcolor": "#E5ECF6",
            "gridcolor": "white",
            "gridwidth": 2,
            "linecolor": "white",
            "showbackground": true,
            "ticks": "",
            "zerolinecolor": "white"
           }
          },
          "shapedefaults": {
           "line": {
            "color": "#2a3f5f"
           }
          },
          "ternary": {
           "aaxis": {
            "gridcolor": "white",
            "linecolor": "white",
            "ticks": ""
           },
           "baxis": {
            "gridcolor": "white",
            "linecolor": "white",
            "ticks": ""
           },
           "bgcolor": "#E5ECF6",
           "caxis": {
            "gridcolor": "white",
            "linecolor": "white",
            "ticks": ""
           }
          },
          "title": {
           "x": 0.05
          },
          "xaxis": {
           "automargin": true,
           "gridcolor": "white",
           "linecolor": "white",
           "ticks": "",
           "title": {
            "standoff": 15
           },
           "zerolinecolor": "white",
           "zerolinewidth": 2
          },
          "yaxis": {
           "automargin": true,
           "gridcolor": "white",
           "linecolor": "white",
           "ticks": "",
           "title": {
            "standoff": 15
           },
           "zerolinecolor": "white",
           "zerolinewidth": 2
          }
         }
        },
        "title": {
         "font": {
          "color": "#D9D9D9"
         },
         "text": "欧元区金融业 AA 评级信用债收益率曲线 (Nelson-Siegel 模型)"
        },
        "xaxis": {
         "gridcolor": "#434343",
         "showgrid": true,
         "tickfont": {
          "color": "#C2C2C2"
         },
         "title": {
          "font": {
           "color": "#D9D9D9"
          },
          "text": "年限"
         },
         "zerolinecolor": "#666570"
        },
        "yaxis": {
         "gridcolor": "#434343",
         "showgrid": true,
         "tickfont": {
          "color": "#C2C2C2"
         },
         "title": {
          "font": {
           "color": "#D9D9D9"
          },
          "text": "利率 (%)"
         },
         "zerolinecolor": "#666570"
        }
       }
      },
      "text/html": [
       "<div>                            <div id=\"7304ca76-7511-44ba-a1f0-ff8cf8a64ddf\" class=\"plotly-graph-div\" style=\"height:525px; width:100%;\"></div>            <script type=\"text/javascript\">                require([\"plotly\"], function(Plotly) {                    window.PLOTLYENV=window.PLOTLYENV || {};\n",
       "                    window.PLOTLYENV.BASE_URL='https://plot.ly';                                    if (document.getElementById(\"7304ca76-7511-44ba-a1f0-ff8cf8a64ddf\")) {                    Plotly.newPlot(                        \"7304ca76-7511-44ba-a1f0-ff8cf8a64ddf\",                        [{\"line\": {\"color\": \"rgba(255, 153, 51, 1.0)\", \"dash\": \"solid\", \"shape\": \"linear\", \"width\": 1.3}, \"marker\": {\"size\": 3, \"symbol\": \"circle\"}, \"mode\": \"lines+markers\", \"name\": \"\\u77ac\\u65f6\\u8fdc\\u671f\\u5229\\u7387\", \"text\": \"\", \"type\": \"scatter\", \"x\": [0.0027397260273972603, 0.10273972602739727, 0.20273972602739726, 0.3027397260273973, 0.40273972602739727, 0.5027397260273972, 0.6027397260273973, 0.7027397260273973, 0.8027397260273973, 0.9027397260273973, 1.0027397260273974, 1.1027397260273974, 1.2027397260273975, 1.3027397260273974, 1.4027397260273975, 1.5027397260273974, 1.6027397260273974, 1.7027397260273975, 1.8027397260273974, 1.9027397260273975, 2.0027397260273974, 2.1027397260273974, 2.2027397260273975, 2.3027397260273976, 2.4027397260273977, 2.5027397260273974, 2.6027397260273974, 2.7027397260273975, 2.8027397260273976, 2.9027397260273977, 3.0027397260273974, 3.1027397260273974, 3.2027397260273975, 3.3027397260273976, 3.4027397260273977, 3.5027397260273974, 3.6027397260273974, 3.7027397260273975, 3.8027397260273976, 3.9027397260273977, 4.002739726027397, 4.102739726027398, 4.2027397260273975, 4.302739726027397, 4.402739726027398, 4.502739726027397, 4.602739726027398, 4.7027397260273975, 4.802739726027398, 4.902739726027398, 5.002739726027397, 5.102739726027398, 5.2027397260273975, 5.302739726027398, 5.402739726027398, 5.502739726027397, 5.602739726027398, 5.7027397260273975, 5.802739726027398, 5.902739726027398, 6.002739726027397, 6.102739726027398, 6.2027397260273975, 6.302739726027398, 6.402739726027398, 6.502739726027397, 6.602739726027398, 6.7027397260273975, 6.802739726027398, 6.902739726027398, 7.002739726027397, 7.102739726027398, 7.2027397260273975, 7.302739726027398, 7.402739726027398, 7.502739726027397, 7.602739726027398, 7.7027397260273975, 7.802739726027398, 7.902739726027398, 8.002739726027396, 8.102739726027396, 8.202739726027398, 8.302739726027397, 8.402739726027397, 8.502739726027396, 8.602739726027396, 8.702739726027398, 8.802739726027397, 8.902739726027397, 9.002739726027396, 9.102739726027396, 9.202739726027398, 9.302739726027397, 9.402739726027397, 9.502739726027396, 9.602739726027398, 9.702739726027398, 9.802739726027397, 9.902739726027397, 10.002739726027396, 10.102739726027398, 10.202739726027398, 10.302739726027397, 10.402739726027397, 10.502739726027396, 10.602739726027398, 10.702739726027398, 10.802739726027397, 10.902739726027397, 11.002739726027396, 11.102739726027398, 11.202739726027398, 11.302739726027397, 11.402739726027397, 11.502739726027396, 11.602739726027398, 11.702739726027398, 11.802739726027397, 11.902739726027397, 12.002739726027396, 12.102739726027398, 12.202739726027398, 12.302739726027397, 12.402739726027397, 12.502739726027396, 12.602739726027398, 12.702739726027398, 12.802739726027397, 12.902739726027397, 13.002739726027396, 13.102739726027398, 13.202739726027398, 13.302739726027397, 13.402739726027397, 13.502739726027396, 13.602739726027398, 13.702739726027398, 13.802739726027397, 13.902739726027397, 14.002739726027396, 14.102739726027398, 14.202739726027398, 14.302739726027397, 14.402739726027397, 14.502739726027396, 14.602739726027398, 14.702739726027398, 14.802739726027397, 14.902739726027397, 15.002739726027396, 15.102739726027398, 15.202739726027398, 15.302739726027397, 15.402739726027397, 15.502739726027396, 15.602739726027398, 15.702739726027398, 15.802739726027397, 15.902739726027397], \"y\": [-0.2875983364318268, -0.26074988852490644, -0.23347118012212584, -0.20579483633478618, -0.1777522392794868, -0.14937356733356177, -0.12068783325691612, -0.09172292121131702, -0.0625056227073732, -0.03306167150864542, -0.0034157775215397455, 0.026408340301124072, 0.05638792201570478, 0.0865011356760691, 0.11672704722891156, 0.14704559129103645, 0.17743754278419893, 0.20788448940379128, 0.23836880489826237, 0.2688736231367934, 0.29938281294334357, 0.3298809536757626, 0.3603533115292491, 0.39078581654396793, 0.42116504029719953, 0.4514781742609039, 0.48171300880610995, 0.5118579128360174, 0.541901814030217, 0.5718341796828745, 0.6016449981181979, 0.6313247606669755, 0.6608644441883699, 0.6902554941216136, 0.7194898080526483, 0.7485597197811595, 0.777457983873853, 0.8061777606901922, 0.8347126018672015, 0.8630564362502974, 0.8912035562574614, 0.9191486046644142, 0.9468865617987827, 0.9744127331315932, 1.0017227372547126, 1.0288124942331969, 1.055678214321795, 1.0823163870351464, 1.1087237705615036, 1.1348973815100836, 1.160834484982431, 1.186532584958419, 1.2119894149878037, 1.2372029291784592, 1.2621712934726992, 1.2868928772032984, 1.3113662449210781, 1.3355901484861326, 1.3595635194149958, 1.3832854614762655, 1.4067552435273927, 1.4299722925855647, 1.4529361871257933, 1.4756466505995167, 1.4981035451672078, 1.5203068656386567, 1.5422567336147825, 1.5639533918249915, 1.5853971986542668, 1.6065886228543418, 1.6275282384334608, 1.6482167197193878, 1.668654836590475, 1.688843449869741, 1.7087835068770614, 1.7284760371347032, 1.7479221482215708, 1.7671230217716594, 1.7860799096123516, 1.8047941300382928, 1.8232670642167281, 1.8415001527202726, 1.859494892183229, 1.8772528320776538, 1.8947755716054913, 1.9120647567032047, 1.9291220771554194, 1.945949263814211, 1.962548085920754, 1.978920348526145, 1.9950678900083099, 2.0109925796819828, 2.0266963154988464, 2.042181021834987, 2.057448647362921, 2.07250116300551, 2.08734055996918, 2.101968847853899, 2.116388052837497, 2.130600215931923, 2.1446073913091412, 2.1584116446944304, 2.1720150518248986, 2.1854196969711146, 2.1986276715197888, 2.211641072615534, 2.224462001859756, 2.237092564064803, 2.2495348660615666, 2.2617910155587535, 2.273863120052114, 2.2857532857819813, 2.297463616737485, 2.3089962137058917, 2.320353173365544, 2.331536587420924, 2.342548541778419, 2.3533911157613927, 2.364066381363228, 2.374576402537026, 2.3849232345207043, 2.395108923196258, 2.4051355044820086, 2.4150050037566717, 2.4247194353141315, 2.4342808018478412, 2.4436910939637895, 2.4529522897210208, 2.462066354198718, 2.471035239088891, 2.479860882313744, 2.4885452076668186, 2.4970901244770483, 2.505497527294869, 2.513769295599581, 2.521907293527158, 2.52991336961774, 2.5377893565820706, 2.545537071086152, 2.5531583135534204, 2.5606548679837724, 2.568028501788782, 2.5752809656424787, 2.582413993347073, 2.589429301713033, 2.596328590452943, 2.603113542088585, 2.6097858218707026, 2.616347077710934, 2.6227989401254064, 2.6291430221895014, 2.6353809195033264, 2.641514210167435, 2.647544454768349, 2.653473196373471, 2.6593019605349513, 2.6650322553021444, 2.6706655712422327, 2.67620338146868, 2.6816471416771273]}, {\"line\": {\"color\": \"rgba(55, 128, 191, 1.0)\", \"dash\": \"solid\", \"shape\": \"linear\", \"width\": 1.3}, \"marker\": {\"size\": 3, \"symbol\": \"circle\"}, \"mode\": \"lines+markers\", \"name\": \"\\u5373\\u671f\\u5229\\u7387\", \"text\": \"\", \"type\": \"scatter\", \"x\": [0.0027397260273972603, 0.10273972602739727, 0.20273972602739726, 0.3027397260273973, 0.40273972602739727, 0.5027397260273972, 0.6027397260273973, 0.7027397260273973, 0.8027397260273973, 0.9027397260273973, 1.0027397260273974, 1.1027397260273974, 1.2027397260273975, 1.3027397260273974, 1.4027397260273975, 1.5027397260273974, 1.6027397260273974, 1.7027397260273975, 1.8027397260273974, 1.9027397260273975, 2.0027397260273974, 2.1027397260273974, 2.2027397260273975, 2.3027397260273976, 2.4027397260273977, 2.5027397260273974, 2.6027397260273974, 2.7027397260273975, 2.8027397260273976, 2.9027397260273977, 3.0027397260273974, 3.1027397260273974, 3.2027397260273975, 3.3027397260273976, 3.4027397260273977, 3.5027397260273974, 3.6027397260273974, 3.7027397260273975, 3.8027397260273976, 3.9027397260273977, 4.002739726027397, 4.102739726027398, 4.2027397260273975, 4.302739726027397, 4.402739726027398, 4.502739726027397, 4.602739726027398, 4.7027397260273975, 4.802739726027398, 4.902739726027398, 5.002739726027397, 5.102739726027398, 5.2027397260273975, 5.302739726027398, 5.402739726027398, 5.502739726027397, 5.602739726027398, 5.7027397260273975, 5.802739726027398, 5.902739726027398, 6.002739726027397, 6.102739726027398, 6.2027397260273975, 6.302739726027398, 6.402739726027398, 6.502739726027397, 6.602739726027398, 6.7027397260273975, 6.802739726027398, 6.902739726027398, 7.002739726027397, 7.102739726027398, 7.2027397260273975, 7.302739726027398, 7.402739726027398, 7.502739726027397, 7.602739726027398, 7.7027397260273975, 7.802739726027398, 7.902739726027398, 8.002739726027396, 8.102739726027396, 8.202739726027398, 8.302739726027397, 8.402739726027397, 8.502739726027396, 8.602739726027396, 8.702739726027398, 8.802739726027397, 8.902739726027397, 9.002739726027396, 9.102739726027396, 9.202739726027398, 9.302739726027397, 9.402739726027397, 9.502739726027396, 9.602739726027398, 9.702739726027398, 9.802739726027397, 9.902739726027397, 10.002739726027396, 10.102739726027398, 10.202739726027398, 10.302739726027397, 10.402739726027397, 10.502739726027396, 10.602739726027398, 10.702739726027398, 10.802739726027397, 10.902739726027397, 11.002739726027396, 11.102739726027398, 11.202739726027398, 11.302739726027397, 11.402739726027397, 11.502739726027396, 11.602739726027398, 11.702739726027398, 11.802739726027397, 11.902739726027397, 12.002739726027396, 12.102739726027398, 12.202739726027398, 12.302739726027397, 12.402739726027397, 12.502739726027396, 12.602739726027398, 12.702739726027398, 12.802739726027397, 12.902739726027397, 13.002739726027396, 13.102739726027398, 13.202739726027398, 13.302739726027397, 13.402739726027397, 13.502739726027396, 13.602739726027398, 13.702739726027398, 13.802739726027397, 13.902739726027397, 14.002739726027396, 14.102739726027398, 14.202739726027398, 14.302739726027397, 14.402739726027397, 14.502739726027396, 14.602739726027398, 14.702739726027398, 14.802739726027397, 14.902739726027397, 15.002739726027396, 15.102739726027398, 15.202739726027398, 15.302739726027397, 15.402739726027397, 15.502739726027396, 15.602739726027398, 15.702739726027398, 15.802739726027397, 15.902739726027397], \"y\": [-0.287962964975353, -0.27457806990708805, -0.26104689880674115, -0.2473777047719344, -0.2335784895975494, -0.21965701038801916, -0.20562078600571532, -0.1914771033596423, -0.1772330235382243, -0.1628953877899333, -0.14847082335540696, -0.13396574915464093, -0.11938638133270185, -0.10473873866742134, -0.09002864784231224, -0.07526174858803122, -0.0604434986954866, -0.04557917890372844, -0.030673897665612793, -0.015732595794197078, -0.000760050992752899, 0.014239117728826866, 0.02926044574843418, 0.04429961863433463, 0.059352468053286686, 0.07441496778167381, 0.08948322981711171, 0.10455350058815507, 0.11962215725966341, 0.13468570413155795, 0.1497407691286829, 0.16478410037955382, 0.17981256288185055, 0.19482313525253223, 0.2098129065605324, 0.22477907324000862, 0.23971893608219558, 0.2546298973039463, 0.26950945769109197, 0.28435521381479, 0.29916485531909387, 0.31393616227798615, 0.3286670026201887, 0.3433553296201031, 0.35799917945323306, 0.37259666881454356, 0.3871459925981967, 0.40164542163715833, 0.41609330050122045, 0.430488045351987, 0.44482814185344066, 0.4591121431367171, 0.47333866781774464, 0.48750639806646506, 0.5016140777263578, 0.5156605104830146, 0.5296445580805755, 0.5435651385848345, 0.5574212246918528, 0.5712118420809766, 0.5849360678111325, 0.5985930287593578, 0.6121819001004932, 0.6257019038270366, 0.6391523073081464, 0.6525324218868289, 0.6658416015143647, 0.6790792414210314, 0.6922447768222407, 0.7053376816591842, 0.7183574673731448, 0.7313036817126248, 0.7441759075724673, 0.7569737618641824, 0.7696968944166801, 0.7823449869066641, 0.7949177518179332, 0.8074149314288638, 0.8198362968273695, 0.832181646952648, 0.8444508076630308, 0.8566436308292898, 0.8687599934527532, 0.8807997968075967, 0.8927629656067178, 0.9046494471905735, 0.9164592107384181, 0.9281922465013609, 0.939848565056697, 0.9514281965829652, 0.9629311901552138, 0.9743576130599465, 0.985707550129259, 0.9969811030936703, 1.008178389953171, 1.0192995443660244, 1.030344715054865, 1.0413140652296464, 1.052207772027015, 1.0630260259656785, 1.0737690304173602, 1.084437001092941, 1.0950301655433896, 1.1055487626751084, 1.11599304227931, 1.1263632645750727, 1.1366596997657146, 1.1468826276081343, 1.1570323369947983, 1.1671091255480208, 1.1771132992262392, 1.1870451719419566, 1.1969050651910507, 1.2066933076931543, 1.216410235042808, 1.2260561893711153, 1.2356315190176095, 1.245136578212073, 1.2545717267660432, 1.2639373297737475, 1.2732337573222177, 1.2824613842103418, 1.2916205896766193, 1.300711757135375, 1.3097352739212236, 1.3186915310415501, 1.3275809229367996, 1.3364038472483635, 1.3451607045938598, 1.3538518983496082, 1.362477834440104, 1.3710389211343048, 1.379535568848544, 1.387968189955894, 1.3963371986017936, 1.4046430105257883, 1.412886042889197, 1.4210667141085505, 1.4291854436946552, 1.4372426520971033, 1.4452387605541026, 1.453174190947466, 1.4610493656626224, 1.468864707453512, 1.4766206393122225, 1.4843175843432443, 1.4919559656422117, 1.4995362061789956, 1.5070587286850476, 1.5145239555448486, 1.5219323086913725, 1.5292842095054289, 1.5365800787187902, 1.5438203363209921, 1.5510054014696981, 1.5581356924045298, 1.5652116263642646, 1.5722336195073028, 1.5792020868353074, 1.5861174421199318]}],                        {\"legend\": {\"bgcolor\": \"#151516\", \"font\": {\"color\": \"#D9D9D9\"}}, \"paper_bgcolor\": \"#151516\", \"plot_bgcolor\": \"#151516\", \"template\": {\"data\": {\"bar\": [{\"error_x\": {\"color\": \"#2a3f5f\"}, \"error_y\": {\"color\": \"#2a3f5f\"}, \"marker\": {\"line\": {\"color\": \"#E5ECF6\", \"width\": 0.5}}, \"type\": \"bar\"}], \"barpolar\": [{\"marker\": {\"line\": {\"color\": \"#E5ECF6\", \"width\": 0.5}}, \"type\": \"barpolar\"}], \"carpet\": [{\"aaxis\": {\"endlinecolor\": \"#2a3f5f\", \"gridcolor\": \"white\", \"linecolor\": \"white\", \"minorgridcolor\": \"white\", \"startlinecolor\": \"#2a3f5f\"}, \"baxis\": {\"endlinecolor\": \"#2a3f5f\", \"gridcolor\": \"white\", \"linecolor\": \"white\", \"minorgridcolor\": \"white\", \"startlinecolor\": \"#2a3f5f\"}, \"type\": \"carpet\"}], \"choropleth\": [{\"colorbar\": {\"outlinewidth\": 0, \"ticks\": \"\"}, \"type\": \"choropleth\"}], \"contour\": [{\"colorbar\": {\"outlinewidth\": 0, \"ticks\": \"\"}, \"colorscale\": [[0.0, \"#0d0887\"], [0.1111111111111111, \"#46039f\"], [0.2222222222222222, \"#7201a8\"], [0.3333333333333333, \"#9c179e\"], [0.4444444444444444, \"#bd3786\"], [0.5555555555555556, \"#d8576b\"], [0.6666666666666666, \"#ed7953\"], [0.7777777777777778, \"#fb9f3a\"], [0.8888888888888888, \"#fdca26\"], [1.0, \"#f0f921\"]], \"type\": \"contour\"}], \"contourcarpet\": [{\"colorbar\": {\"outlinewidth\": 0, \"ticks\": \"\"}, \"type\": \"contourcarpet\"}], \"heatmap\": [{\"colorbar\": {\"outlinewidth\": 0, \"ticks\": \"\"}, \"colorscale\": [[0.0, \"#0d0887\"], [0.1111111111111111, \"#46039f\"], [0.2222222222222222, \"#7201a8\"], [0.3333333333333333, \"#9c179e\"], [0.4444444444444444, \"#bd3786\"], [0.5555555555555556, \"#d8576b\"], [0.6666666666666666, \"#ed7953\"], [0.7777777777777778, \"#fb9f3a\"], [0.8888888888888888, \"#fdca26\"], [1.0, \"#f0f921\"]], \"type\": \"heatmap\"}], \"heatmapgl\": [{\"colorbar\": {\"outlinewidth\": 0, \"ticks\": \"\"}, \"colorscale\": [[0.0, \"#0d0887\"], [0.1111111111111111, \"#46039f\"], [0.2222222222222222, \"#7201a8\"], [0.3333333333333333, \"#9c179e\"], [0.4444444444444444, \"#bd3786\"], [0.5555555555555556, \"#d8576b\"], [0.6666666666666666, \"#ed7953\"], [0.7777777777777778, \"#fb9f3a\"], [0.8888888888888888, \"#fdca26\"], [1.0, \"#f0f921\"]], \"type\": \"heatmapgl\"}], \"histogram\": [{\"marker\": {\"colorbar\": {\"outlinewidth\": 0, \"ticks\": \"\"}}, \"type\": \"histogram\"}], \"histogram2d\": [{\"colorbar\": {\"outlinewidth\": 0, \"ticks\": \"\"}, \"colorscale\": [[0.0, \"#0d0887\"], [0.1111111111111111, \"#46039f\"], [0.2222222222222222, \"#7201a8\"], [0.3333333333333333, \"#9c179e\"], [0.4444444444444444, \"#bd3786\"], [0.5555555555555556, \"#d8576b\"], [0.6666666666666666, \"#ed7953\"], [0.7777777777777778, \"#fb9f3a\"], [0.8888888888888888, \"#fdca26\"], [1.0, \"#f0f921\"]], \"type\": \"histogram2d\"}], \"histogram2dcontour\": [{\"colorbar\": {\"outlinewidth\": 0, \"ticks\": \"\"}, \"colorscale\": [[0.0, \"#0d0887\"], [0.1111111111111111, \"#46039f\"], [0.2222222222222222, \"#7201a8\"], [0.3333333333333333, \"#9c179e\"], [0.4444444444444444, \"#bd3786\"], [0.5555555555555556, \"#d8576b\"], [0.6666666666666666, \"#ed7953\"], [0.7777777777777778, \"#fb9f3a\"], [0.8888888888888888, \"#fdca26\"], [1.0, \"#f0f921\"]], \"type\": \"histogram2dcontour\"}], \"mesh3d\": [{\"colorbar\": {\"outlinewidth\": 0, \"ticks\": \"\"}, \"type\": \"mesh3d\"}], \"parcoords\": [{\"line\": {\"colorbar\": {\"outlinewidth\": 0, \"ticks\": \"\"}}, \"type\": \"parcoords\"}], \"pie\": [{\"automargin\": true, \"type\": \"pie\"}], \"scatter\": [{\"marker\": {\"colorbar\": {\"outlinewidth\": 0, \"ticks\": \"\"}}, \"type\": \"scatter\"}], \"scatter3d\": [{\"line\": {\"colorbar\": {\"outlinewidth\": 0, \"ticks\": \"\"}}, \"marker\": {\"colorbar\": {\"outlinewidth\": 0, \"ticks\": \"\"}}, \"type\": \"scatter3d\"}], \"scattercarpet\": [{\"marker\": {\"colorbar\": {\"outlinewidth\": 0, \"ticks\": \"\"}}, \"type\": \"scattercarpet\"}], \"scattergeo\": [{\"marker\": {\"colorbar\": {\"outlinewidth\": 0, \"ticks\": \"\"}}, \"type\": \"scattergeo\"}], \"scattergl\": [{\"marker\": {\"colorbar\": {\"outlinewidth\": 0, \"ticks\": \"\"}}, \"type\": \"scattergl\"}], \"scattermapbox\": [{\"marker\": {\"colorbar\": {\"outlinewidth\": 0, \"ticks\": \"\"}}, \"type\": \"scattermapbox\"}], \"scatterpolar\": [{\"marker\": {\"colorbar\": {\"outlinewidth\": 0, \"ticks\": \"\"}}, \"type\": \"scatterpolar\"}], \"scatterpolargl\": [{\"marker\": {\"colorbar\": {\"outlinewidth\": 0, \"ticks\": \"\"}}, \"type\": \"scatterpolargl\"}], \"scatterternary\": [{\"marker\": {\"colorbar\": {\"outlinewidth\": 0, \"ticks\": \"\"}}, \"type\": \"scatterternary\"}], \"surface\": [{\"colorbar\": {\"outlinewidth\": 0, \"ticks\": \"\"}, \"colorscale\": [[0.0, \"#0d0887\"], [0.1111111111111111, \"#46039f\"], [0.2222222222222222, \"#7201a8\"], [0.3333333333333333, \"#9c179e\"], [0.4444444444444444, \"#bd3786\"], [0.5555555555555556, \"#d8576b\"], [0.6666666666666666, \"#ed7953\"], [0.7777777777777778, \"#fb9f3a\"], [0.8888888888888888, \"#fdca26\"], [1.0, \"#f0f921\"]], \"type\": \"surface\"}], \"table\": [{\"cells\": {\"fill\": {\"color\": \"#EBF0F8\"}, \"line\": {\"color\": \"white\"}}, \"header\": {\"fill\": {\"color\": \"#C8D4E3\"}, \"line\": {\"color\": \"white\"}}, \"type\": \"table\"}]}, \"layout\": {\"annotationdefaults\": {\"arrowcolor\": \"#2a3f5f\", \"arrowhead\": 0, \"arrowwidth\": 1}, \"autotypenumbers\": \"strict\", \"coloraxis\": {\"colorbar\": {\"outlinewidth\": 0, \"ticks\": \"\"}}, \"colorscale\": {\"diverging\": [[0, \"#8e0152\"], [0.1, \"#c51b7d\"], [0.2, \"#de77ae\"], [0.3, \"#f1b6da\"], [0.4, \"#fde0ef\"], [0.5, \"#f7f7f7\"], [0.6, \"#e6f5d0\"], [0.7, \"#b8e186\"], [0.8, \"#7fbc41\"], [0.9, \"#4d9221\"], [1, \"#276419\"]], \"sequential\": [[0.0, \"#0d0887\"], [0.1111111111111111, \"#46039f\"], [0.2222222222222222, \"#7201a8\"], [0.3333333333333333, \"#9c179e\"], [0.4444444444444444, \"#bd3786\"], [0.5555555555555556, \"#d8576b\"], [0.6666666666666666, \"#ed7953\"], [0.7777777777777778, \"#fb9f3a\"], [0.8888888888888888, \"#fdca26\"], [1.0, \"#f0f921\"]], \"sequentialminus\": [[0.0, \"#0d0887\"], [0.1111111111111111, \"#46039f\"], [0.2222222222222222, \"#7201a8\"], [0.3333333333333333, \"#9c179e\"], [0.4444444444444444, \"#bd3786\"], [0.5555555555555556, \"#d8576b\"], [0.6666666666666666, \"#ed7953\"], [0.7777777777777778, \"#fb9f3a\"], [0.8888888888888888, \"#fdca26\"], [1.0, \"#f0f921\"]]}, \"colorway\": [\"#636efa\", \"#EF553B\", \"#00cc96\", \"#ab63fa\", \"#FFA15A\", \"#19d3f3\", \"#FF6692\", \"#B6E880\", \"#FF97FF\", \"#FECB52\"], \"font\": {\"color\": \"#2a3f5f\"}, \"geo\": {\"bgcolor\": \"white\", \"lakecolor\": \"white\", \"landcolor\": \"#E5ECF6\", \"showlakes\": true, \"showland\": true, \"subunitcolor\": \"white\"}, \"hoverlabel\": {\"align\": \"left\"}, \"hovermode\": \"closest\", \"mapbox\": {\"style\": \"light\"}, \"paper_bgcolor\": \"white\", \"plot_bgcolor\": \"#E5ECF6\", \"polar\": {\"angularaxis\": {\"gridcolor\": \"white\", \"linecolor\": \"white\", \"ticks\": \"\"}, \"bgcolor\": \"#E5ECF6\", \"radialaxis\": {\"gridcolor\": \"white\", \"linecolor\": \"white\", \"ticks\": \"\"}}, \"scene\": {\"xaxis\": {\"backgroundcolor\": \"#E5ECF6\", \"gridcolor\": \"white\", \"gridwidth\": 2, \"linecolor\": \"white\", \"showbackground\": true, \"ticks\": \"\", \"zerolinecolor\": \"white\"}, \"yaxis\": {\"backgroundcolor\": \"#E5ECF6\", \"gridcolor\": \"white\", \"gridwidth\": 2, \"linecolor\": \"white\", \"showbackground\": true, \"ticks\": \"\", \"zerolinecolor\": \"white\"}, \"zaxis\": {\"backgroundcolor\": \"#E5ECF6\", \"gridcolor\": \"white\", \"gridwidth\": 2, \"linecolor\": \"white\", \"showbackground\": true, \"ticks\": \"\", \"zerolinecolor\": \"white\"}}, \"shapedefaults\": {\"line\": {\"color\": \"#2a3f5f\"}}, \"ternary\": {\"aaxis\": {\"gridcolor\": \"white\", \"linecolor\": \"white\", \"ticks\": \"\"}, \"baxis\": {\"gridcolor\": \"white\", \"linecolor\": \"white\", \"ticks\": \"\"}, \"bgcolor\": \"#E5ECF6\", \"caxis\": {\"gridcolor\": \"white\", \"linecolor\": \"white\", \"ticks\": \"\"}}, \"title\": {\"x\": 0.05}, \"xaxis\": {\"automargin\": true, \"gridcolor\": \"white\", \"linecolor\": \"white\", \"ticks\": \"\", \"title\": {\"standoff\": 15}, \"zerolinecolor\": \"white\", \"zerolinewidth\": 2}, \"yaxis\": {\"automargin\": true, \"gridcolor\": \"white\", \"linecolor\": \"white\", \"ticks\": \"\", \"title\": {\"standoff\": 15}, \"zerolinecolor\": \"white\", \"zerolinewidth\": 2}}}, \"title\": {\"font\": {\"color\": \"#D9D9D9\"}, \"text\": \"\\u6b27\\u5143\\u533a\\u91d1\\u878d\\u4e1a AA \\u8bc4\\u7ea7\\u4fe1\\u7528\\u503a\\u6536\\u76ca\\u7387\\u66f2\\u7ebf (Nelson-Siegel \\u6a21\\u578b)\"}, \"xaxis\": {\"gridcolor\": \"#434343\", \"showgrid\": true, \"tickfont\": {\"color\": \"#C2C2C2\"}, \"title\": {\"font\": {\"color\": \"#D9D9D9\"}, \"text\": \"\\u5e74\\u9650\"}, \"zerolinecolor\": \"#666570\"}, \"yaxis\": {\"gridcolor\": \"#434343\", \"showgrid\": true, \"tickfont\": {\"color\": \"#C2C2C2\"}, \"title\": {\"font\": {\"color\": \"#D9D9D9\"}, \"text\": \"\\u5229\\u7387 (%)\"}, \"zerolinecolor\": \"#666570\"}},                        {\"showLink\": true, \"linkText\": \"Export to plot.ly\", \"plotlyServerURL\": \"https://plot.ly\", \"responsive\": true}                    ).then(function(){\n",
       "                            \n",
       "var gd = document.getElementById('7304ca76-7511-44ba-a1f0-ff8cf8a64ddf');\n",
       "var x = new MutationObserver(function (mutations, observer) {{\n",
       "        var display = window.getComputedStyle(gd).display;\n",
       "        if (!display || display === 'none') {{\n",
       "            console.log([gd, 'removed!']);\n",
       "            Plotly.purge(gd);\n",
       "            observer.disconnect();\n",
       "        }}\n",
       "}});\n",
       "\n",
       "// Listen for the removal of the full notebook cells\n",
       "var notebookContainer = gd.closest('#notebook-container');\n",
       "if (notebookContainer) {{\n",
       "    x.observe(notebookContainer, {childList: true});\n",
       "}}\n",
       "\n",
       "// Listen for the clearing of the current output cell\n",
       "var outputEl = gd.closest('.output');\n",
       "if (outputEl) {{\n",
       "    x.observe(outputEl, {childList: true});\n",
       "}}\n",
       "\n",
       "                        })                };                });            </script>        </div>"
      ]
     },
     "metadata": {},
     "output_type": "display_data"
    }
   ],
   "source": [
    "df = pd.DataFrame( {'瞬时远期利率':instfwd_rate*100, '即期利率':spot_rate*100}, index=maturity_vec )\n",
    "df.iplot( kind='scatter', mode='lines+markers', size=3, \n",
    "          xTitle='年限', yTitle='利率 (%)', \n",
    "          title='欧元区金融业 AA 评级信用债收益率曲线 (Nelson-Siegel 模型)',\n",
    "          theme='solar' )"
   ]
  },
  {
   "cell_type": "code",
   "execution_count": 29,
   "metadata": {},
   "outputs": [],
   "source": [
    "def get_YTM( T, f, CF, V ):\n",
    "    x0 = 0\n",
    "    #obj = lambda x: np.sum( np.divide(CF, np.power(1+x,T)) ) - V \n",
    "    obj = lambda x: np.sum( CF/((1+x/f)**(f*T)) ) - V \n",
    "    x = spo.fsolve( obj, x0 )\n",
    "    return x[0]"
   ]
  },
  {
   "cell_type": "code",
   "execution_count": 30,
   "metadata": {},
   "outputs": [],
   "source": [
    "def NS_metrics( inst, beta0, beta1, beta2, lbd, eval_date ):\n",
    "    notional = 100\n",
    "    \n",
    "    coupon = BOND['Coupon Rate']\n",
    "    freq = BOND['Coupon Frequency']\n",
    "    date_issue = BOND['Issue Date']\n",
    "    date_mature = BOND['Maturity Date']\n",
    "\n",
    "    bond_dates = date_generator( date_issue, date_mature, coupon, freq, eval_date )\n",
    "    \n",
    "    T = [ \n",
    "        np.array(list(map(lambda x:x.days/365, diff))) \n",
    "        for diff in [d[1:]-eval_date for d in bond_dates]\n",
    "    ]\n",
    "    \n",
    "    year_frac = [\n",
    "                np.ones(len(d)-1)*(1/get_freq(f)[0]) for d, f in zip(bond_dates, freq)\n",
    "                ]\n",
    "    \n",
    "    cashflows = [ \n",
    "                alpha * c * notional + (np.arange(len(alpha))==(len(alpha)-1)) * notional\n",
    "                for alpha, c in zip(year_frac, coupon)\n",
    "            ]\n",
    "    \n",
    "    PV = []\n",
    "    YTM = []\n",
    "    \n",
    "    for t, f, CF in zip(T, freq, cashflows):\n",
    "        DF = NS_discount(beta0, beta1, beta2, lbd, 0, t )\n",
    "        V = np.sum(DF*CF)\n",
    "        f = get_freq(f)[0]\n",
    "        y = get_YTM( t, f, CF, V )\n",
    "        YTM.append(y)\n",
    "        PV.append(V)\n",
    "                \n",
    "    return np.array(PV), np.array(YTM)"
   ]
  },
  {
   "cell_type": "code",
   "execution_count": 31,
   "metadata": {},
   "outputs": [],
   "source": [
    "(beta0, beta1, beta2, lbd) = result.x\n",
    "NS_PV, NS_YTM = NS_metrics( BOND, beta0, beta1, beta2, lbd, eval_date )"
   ]
  },
  {
   "cell_type": "code",
   "execution_count": 32,
   "metadata": {},
   "outputs": [
    {
     "data": {
      "application/vnd.plotly.v1+json": {
       "config": {
        "linkText": "Export to plot.ly",
        "plotlyServerURL": "https://plot.ly",
        "showLink": true
       },
       "data": [
        {
         "line": {
          "color": "rgba(255, 153, 51, 1.0)",
          "dash": "solid",
          "shape": "linear",
          "width": 1.3
         },
         "marker": {
          "size": 8,
          "symbol": "circle"
         },
         "mode": "markers",
         "name": "市场价格",
         "text": "",
         "type": "scatter",
         "x": [
          "XS0881511868",
          "XS1045283766",
          "FR0000583155",
          "XS1077588017",
          "XS0728763938",
          "DE000A1AKHB8",
          "XS0834640541",
          "XS0478074924",
          "XS0478736654",
          "FR0011391580",
          "XS0490013801",
          "XS0520755488",
          "XS0522030310",
          "XS0525146907",
          "XS0965050197",
          "XS0993248052",
          "FR0013064755",
          "XS0576532054",
          "XS0526606537",
          "XS1328699878",
          "XS0595092098",
          "XS1032997568",
          "XS1333702691",
          "XS1040272533",
          "XS1375980197",
          "XS1048521733",
          "XS0256967869",
          "XS1347564970",
          "XS1110874820",
          "XS0693812355",
          "XS0466670345",
          "XS1502438820",
          "XS0728812495",
          "XS0732513972",
          "XS1170137746",
          "XS1167352613",
          "XS1506396974",
          "DE000A1G0RU9",
          "XS1196759010",
          "XS1571298139",
          "XS1292484323",
          "XS1135276332",
          "XS0304159576",
          "XS1239401216",
          "XS0801636902",
          "XS1640493372",
          "XS1594335363",
          "XS0813400305",
          "XS0819759571",
          "XS1573958409",
          "XS1575474371",
          "DE000A1RE1W1",
          "XS1595523066",
          "XS1711933033",
          "XS1333139746",
          "XS1642738816",
          "XS0873665706",
          "XS1368470156",
          "XS1371969483",
          "XS1676933937",
          "XS0625859516",
          "XS0933540527",
          "XS1517196272",
          "XS1411405662",
          "XS1685481332",
          "XS1722859532",
          "XS1189263400",
          "XS1476654238",
          "XS0525602339",
          "XS1292468045",
          "DE000A1684V3",
          "XS1048529041",
          "XS1382784509",
          "XS1412417617",
          "XS1496758092",
          "XS1529559525",
          "XS1135277140",
          "XS1180130939",
          "XS1506398244",
          "XS1676933853",
          "XS1689535000",
          "DE000A1HG1K6",
          "XS1411401083",
          "XS1476654584",
          "XS1001594065"
         ],
         "y": [
          103.52931266666666,
          103.268803,
          114.98108133333334,
          102.495625,
          108.29328988888888,
          109.81916466666667,
          104.96517577777779,
          108.47908533333333,
          108.84470733333333,
          103.90886966666667,
          113.325272,
          112.15222422222223,
          111.77655377777778,
          112.03366366666667,
          106.820702,
          105.89255555555556,
          101.73047577777777,
          112.167697,
          111.832399,
          101.76772422222223,
          117.27862477777776,
          107.76104444444445,
          103.280751,
          107.78266966666666,
          102.18202877777777,
          106.48485,
          117.18859366666668,
          103.08942655555555,
          103.86251366666667,
          116.87166866666668,
          118.96479466666666,
          100.00585633333333,
          115.17764744444445,
          116.22563333333333,
          101.86461922222222,
          102.26851922222222,
          99.76306311111111,
          116.67914644444446,
          102.620253,
          100.16086866666667,
          105.621948,
          104.32268588888888,
          122.57801011111111,
          103.71623233333334,
          114.7952398888889,
          100.15983733333334,
          100.7964081111111,
          111.96277122222222,
          111.39291366666667,
          99.88416866666667,
          99.8539418888889,
          111.05718966666667,
          100.09587900000001,
          99.36516366666666,
          103.62512699999999,
          100.61865355555555,
          108.8088628888889,
          103.70813633333334,
          104.462321,
          99.54054466666668,
          124.36900200000001,
          111.68931288888889,
          100.37020633333333,
          101.76061366666666,
          99.19281822222223,
          99.001373,
          103.805951,
          98.44309166666667,
          126.46971966666666,
          109.19989266666667,
          108.11649799999999,
          115.639,
          103.61317522222222,
          103.33432677777778,
          98.479353,
          100.95970000000001,
          106.17705255555555,
          104.53030277777778,
          99.77441366666666,
          101.305028,
          100.89847900000001,
          121.75046966666667,
          102.9053611111111,
          96.90650000000001,
          125.61410911111112
         ]
        },
        {
         "line": {
          "color": "rgba(55, 128, 191, 1.0)",
          "dash": "solid",
          "shape": "linear",
          "width": 1.3
         },
         "marker": {
          "size": 8,
          "symbol": "circle"
         },
         "mode": "markers",
         "name": "模型价格",
         "text": "",
         "type": "scatter",
         "x": [
          "XS0881511868",
          "XS1045283766",
          "FR0000583155",
          "XS1077588017",
          "XS0728763938",
          "DE000A1AKHB8",
          "XS0834640541",
          "XS0478074924",
          "XS0478736654",
          "FR0011391580",
          "XS0490013801",
          "XS0520755488",
          "XS0522030310",
          "XS0525146907",
          "XS0965050197",
          "XS0993248052",
          "FR0013064755",
          "XS0576532054",
          "XS0526606537",
          "XS1328699878",
          "XS0595092098",
          "XS1032997568",
          "XS1333702691",
          "XS1040272533",
          "XS1375980197",
          "XS1048521733",
          "XS0256967869",
          "XS1347564970",
          "XS1110874820",
          "XS0693812355",
          "XS0466670345",
          "XS1502438820",
          "XS0728812495",
          "XS0732513972",
          "XS1170137746",
          "XS1167352613",
          "XS1506396974",
          "DE000A1G0RU9",
          "XS1196759010",
          "XS1571298139",
          "XS1292484323",
          "XS1135276332",
          "XS0304159576",
          "XS1239401216",
          "XS0801636902",
          "XS1640493372",
          "XS1594335363",
          "XS0813400305",
          "XS0819759571",
          "XS1573958409",
          "XS1575474371",
          "DE000A1RE1W1",
          "XS1595523066",
          "XS1711933033",
          "XS1333139746",
          "XS1642738816",
          "XS0873665706",
          "XS1368470156",
          "XS1371969483",
          "XS1676933937",
          "XS0625859516",
          "XS0933540527",
          "XS1517196272",
          "XS1411405662",
          "XS1685481332",
          "XS1722859532",
          "XS1189263400",
          "XS1476654238",
          "XS0525602339",
          "XS1292468045",
          "DE000A1684V3",
          "XS1048529041",
          "XS1382784509",
          "XS1412417617",
          "XS1496758092",
          "XS1529559525",
          "XS1135277140",
          "XS1180130939",
          "XS1506398244",
          "XS1676933853",
          "XS1689535000",
          "DE000A1HG1K6",
          "XS1411401083",
          "XS1476654584",
          "XS1001594065"
         ],
         "y": [
          103.4015303631186,
          103.14922755303573,
          115.6488198337495,
          102.37979147216927,
          108.12806148309892,
          109.62557474377455,
          104.83694581897662,
          108.2669719043265,
          108.82155616489652,
          103.7617673522128,
          113.10644929327782,
          115.24238902603794,
          114.7432182854784,
          115.21275273523348,
          108.12921631586642,
          106.95723595040981,
          101.42457886147447,
          111.93483762785908,
          111.5550343236228,
          101.45719544736878,
          116.98401620904733,
          107.50457074155767,
          103.01009986179554,
          107.48008929089006,
          101.97643147889086,
          105.94407004461472,
          116.78573124473387,
          102.77908966354413,
          104.09220201334017,
          116.48543786548856,
          118.40913494421615,
          99.55045347033084,
          114.78384679486355,
          115.76210914376698,
          102.30644899760944,
          102.30644899760944,
          99.82286617896374,
          116.20341132198088,
          102.45414745719684,
          99.96989591404042,
          104.91519934750346,
          103.61265716132523,
          122.12019774010031,
          103.4635163838526,
          114.56831478177226,
          99.89956540748392,
          100.86465816288077,
          111.98014514557775,
          111.31362112483168,
          99.7087401561228,
          99.9545258117183,
          109.94011947965292,
          99.97986807152292,
          99.2785648338729,
          103.51230884593436,
          100.43290531761929,
          109.62934152945434,
          103.66924630828709,
          104.39158243900059,
          99.90842438464688,
          124.24875576187037,
          111.56005378422395,
          100.53504199622772,
          100.52088285653454,
          98.94914702002978,
          98.6445404817926,
          103.8700805392578,
          97.94964892002449,
          126.7327882137802,
          108.76290255474667,
          106.69148645905781,
          115.18860179000406,
          104.19097332756775,
          103.90966843405567,
          98.84173346352813,
          101.76679406310583,
          105.90072975809511,
          105.01766921513546,
          99.76829128208675,
          101.42847672095215,
          101.3071285257778,
          122.04844610768853,
          101.58247277612531,
          95.2950341956999,
          128.94527391744808
         ]
        }
       ],
       "layout": {
        "legend": {
         "bgcolor": "#151516",
         "font": {
          "color": "#D9D9D9"
         }
        },
        "paper_bgcolor": "#151516",
        "plot_bgcolor": "#151516",
        "template": {
         "data": {
          "bar": [
           {
            "error_x": {
             "color": "#2a3f5f"
            },
            "error_y": {
             "color": "#2a3f5f"
            },
            "marker": {
             "line": {
              "color": "#E5ECF6",
              "width": 0.5
             }
            },
            "type": "bar"
           }
          ],
          "barpolar": [
           {
            "marker": {
             "line": {
              "color": "#E5ECF6",
              "width": 0.5
             }
            },
            "type": "barpolar"
           }
          ],
          "carpet": [
           {
            "aaxis": {
             "endlinecolor": "#2a3f5f",
             "gridcolor": "white",
             "linecolor": "white",
             "minorgridcolor": "white",
             "startlinecolor": "#2a3f5f"
            },
            "baxis": {
             "endlinecolor": "#2a3f5f",
             "gridcolor": "white",
             "linecolor": "white",
             "minorgridcolor": "white",
             "startlinecolor": "#2a3f5f"
            },
            "type": "carpet"
           }
          ],
          "choropleth": [
           {
            "colorbar": {
             "outlinewidth": 0,
             "ticks": ""
            },
            "type": "choropleth"
           }
          ],
          "contour": [
           {
            "colorbar": {
             "outlinewidth": 0,
             "ticks": ""
            },
            "colorscale": [
             [
              0,
              "#0d0887"
             ],
             [
              0.1111111111111111,
              "#46039f"
             ],
             [
              0.2222222222222222,
              "#7201a8"
             ],
             [
              0.3333333333333333,
              "#9c179e"
             ],
             [
              0.4444444444444444,
              "#bd3786"
             ],
             [
              0.5555555555555556,
              "#d8576b"
             ],
             [
              0.6666666666666666,
              "#ed7953"
             ],
             [
              0.7777777777777778,
              "#fb9f3a"
             ],
             [
              0.8888888888888888,
              "#fdca26"
             ],
             [
              1,
              "#f0f921"
             ]
            ],
            "type": "contour"
           }
          ],
          "contourcarpet": [
           {
            "colorbar": {
             "outlinewidth": 0,
             "ticks": ""
            },
            "type": "contourcarpet"
           }
          ],
          "heatmap": [
           {
            "colorbar": {
             "outlinewidth": 0,
             "ticks": ""
            },
            "colorscale": [
             [
              0,
              "#0d0887"
             ],
             [
              0.1111111111111111,
              "#46039f"
             ],
             [
              0.2222222222222222,
              "#7201a8"
             ],
             [
              0.3333333333333333,
              "#9c179e"
             ],
             [
              0.4444444444444444,
              "#bd3786"
             ],
             [
              0.5555555555555556,
              "#d8576b"
             ],
             [
              0.6666666666666666,
              "#ed7953"
             ],
             [
              0.7777777777777778,
              "#fb9f3a"
             ],
             [
              0.8888888888888888,
              "#fdca26"
             ],
             [
              1,
              "#f0f921"
             ]
            ],
            "type": "heatmap"
           }
          ],
          "heatmapgl": [
           {
            "colorbar": {
             "outlinewidth": 0,
             "ticks": ""
            },
            "colorscale": [
             [
              0,
              "#0d0887"
             ],
             [
              0.1111111111111111,
              "#46039f"
             ],
             [
              0.2222222222222222,
              "#7201a8"
             ],
             [
              0.3333333333333333,
              "#9c179e"
             ],
             [
              0.4444444444444444,
              "#bd3786"
             ],
             [
              0.5555555555555556,
              "#d8576b"
             ],
             [
              0.6666666666666666,
              "#ed7953"
             ],
             [
              0.7777777777777778,
              "#fb9f3a"
             ],
             [
              0.8888888888888888,
              "#fdca26"
             ],
             [
              1,
              "#f0f921"
             ]
            ],
            "type": "heatmapgl"
           }
          ],
          "histogram": [
           {
            "marker": {
             "colorbar": {
              "outlinewidth": 0,
              "ticks": ""
             }
            },
            "type": "histogram"
           }
          ],
          "histogram2d": [
           {
            "colorbar": {
             "outlinewidth": 0,
             "ticks": ""
            },
            "colorscale": [
             [
              0,
              "#0d0887"
             ],
             [
              0.1111111111111111,
              "#46039f"
             ],
             [
              0.2222222222222222,
              "#7201a8"
             ],
             [
              0.3333333333333333,
              "#9c179e"
             ],
             [
              0.4444444444444444,
              "#bd3786"
             ],
             [
              0.5555555555555556,
              "#d8576b"
             ],
             [
              0.6666666666666666,
              "#ed7953"
             ],
             [
              0.7777777777777778,
              "#fb9f3a"
             ],
             [
              0.8888888888888888,
              "#fdca26"
             ],
             [
              1,
              "#f0f921"
             ]
            ],
            "type": "histogram2d"
           }
          ],
          "histogram2dcontour": [
           {
            "colorbar": {
             "outlinewidth": 0,
             "ticks": ""
            },
            "colorscale": [
             [
              0,
              "#0d0887"
             ],
             [
              0.1111111111111111,
              "#46039f"
             ],
             [
              0.2222222222222222,
              "#7201a8"
             ],
             [
              0.3333333333333333,
              "#9c179e"
             ],
             [
              0.4444444444444444,
              "#bd3786"
             ],
             [
              0.5555555555555556,
              "#d8576b"
             ],
             [
              0.6666666666666666,
              "#ed7953"
             ],
             [
              0.7777777777777778,
              "#fb9f3a"
             ],
             [
              0.8888888888888888,
              "#fdca26"
             ],
             [
              1,
              "#f0f921"
             ]
            ],
            "type": "histogram2dcontour"
           }
          ],
          "mesh3d": [
           {
            "colorbar": {
             "outlinewidth": 0,
             "ticks": ""
            },
            "type": "mesh3d"
           }
          ],
          "parcoords": [
           {
            "line": {
             "colorbar": {
              "outlinewidth": 0,
              "ticks": ""
             }
            },
            "type": "parcoords"
           }
          ],
          "pie": [
           {
            "automargin": true,
            "type": "pie"
           }
          ],
          "scatter": [
           {
            "marker": {
             "colorbar": {
              "outlinewidth": 0,
              "ticks": ""
             }
            },
            "type": "scatter"
           }
          ],
          "scatter3d": [
           {
            "line": {
             "colorbar": {
              "outlinewidth": 0,
              "ticks": ""
             }
            },
            "marker": {
             "colorbar": {
              "outlinewidth": 0,
              "ticks": ""
             }
            },
            "type": "scatter3d"
           }
          ],
          "scattercarpet": [
           {
            "marker": {
             "colorbar": {
              "outlinewidth": 0,
              "ticks": ""
             }
            },
            "type": "scattercarpet"
           }
          ],
          "scattergeo": [
           {
            "marker": {
             "colorbar": {
              "outlinewidth": 0,
              "ticks": ""
             }
            },
            "type": "scattergeo"
           }
          ],
          "scattergl": [
           {
            "marker": {
             "colorbar": {
              "outlinewidth": 0,
              "ticks": ""
             }
            },
            "type": "scattergl"
           }
          ],
          "scattermapbox": [
           {
            "marker": {
             "colorbar": {
              "outlinewidth": 0,
              "ticks": ""
             }
            },
            "type": "scattermapbox"
           }
          ],
          "scatterpolar": [
           {
            "marker": {
             "colorbar": {
              "outlinewidth": 0,
              "ticks": ""
             }
            },
            "type": "scatterpolar"
           }
          ],
          "scatterpolargl": [
           {
            "marker": {
             "colorbar": {
              "outlinewidth": 0,
              "ticks": ""
             }
            },
            "type": "scatterpolargl"
           }
          ],
          "scatterternary": [
           {
            "marker": {
             "colorbar": {
              "outlinewidth": 0,
              "ticks": ""
             }
            },
            "type": "scatterternary"
           }
          ],
          "surface": [
           {
            "colorbar": {
             "outlinewidth": 0,
             "ticks": ""
            },
            "colorscale": [
             [
              0,
              "#0d0887"
             ],
             [
              0.1111111111111111,
              "#46039f"
             ],
             [
              0.2222222222222222,
              "#7201a8"
             ],
             [
              0.3333333333333333,
              "#9c179e"
             ],
             [
              0.4444444444444444,
              "#bd3786"
             ],
             [
              0.5555555555555556,
              "#d8576b"
             ],
             [
              0.6666666666666666,
              "#ed7953"
             ],
             [
              0.7777777777777778,
              "#fb9f3a"
             ],
             [
              0.8888888888888888,
              "#fdca26"
             ],
             [
              1,
              "#f0f921"
             ]
            ],
            "type": "surface"
           }
          ],
          "table": [
           {
            "cells": {
             "fill": {
              "color": "#EBF0F8"
             },
             "line": {
              "color": "white"
             }
            },
            "header": {
             "fill": {
              "color": "#C8D4E3"
             },
             "line": {
              "color": "white"
             }
            },
            "type": "table"
           }
          ]
         },
         "layout": {
          "annotationdefaults": {
           "arrowcolor": "#2a3f5f",
           "arrowhead": 0,
           "arrowwidth": 1
          },
          "autotypenumbers": "strict",
          "coloraxis": {
           "colorbar": {
            "outlinewidth": 0,
            "ticks": ""
           }
          },
          "colorscale": {
           "diverging": [
            [
             0,
             "#8e0152"
            ],
            [
             0.1,
             "#c51b7d"
            ],
            [
             0.2,
             "#de77ae"
            ],
            [
             0.3,
             "#f1b6da"
            ],
            [
             0.4,
             "#fde0ef"
            ],
            [
             0.5,
             "#f7f7f7"
            ],
            [
             0.6,
             "#e6f5d0"
            ],
            [
             0.7,
             "#b8e186"
            ],
            [
             0.8,
             "#7fbc41"
            ],
            [
             0.9,
             "#4d9221"
            ],
            [
             1,
             "#276419"
            ]
           ],
           "sequential": [
            [
             0,
             "#0d0887"
            ],
            [
             0.1111111111111111,
             "#46039f"
            ],
            [
             0.2222222222222222,
             "#7201a8"
            ],
            [
             0.3333333333333333,
             "#9c179e"
            ],
            [
             0.4444444444444444,
             "#bd3786"
            ],
            [
             0.5555555555555556,
             "#d8576b"
            ],
            [
             0.6666666666666666,
             "#ed7953"
            ],
            [
             0.7777777777777778,
             "#fb9f3a"
            ],
            [
             0.8888888888888888,
             "#fdca26"
            ],
            [
             1,
             "#f0f921"
            ]
           ],
           "sequentialminus": [
            [
             0,
             "#0d0887"
            ],
            [
             0.1111111111111111,
             "#46039f"
            ],
            [
             0.2222222222222222,
             "#7201a8"
            ],
            [
             0.3333333333333333,
             "#9c179e"
            ],
            [
             0.4444444444444444,
             "#bd3786"
            ],
            [
             0.5555555555555556,
             "#d8576b"
            ],
            [
             0.6666666666666666,
             "#ed7953"
            ],
            [
             0.7777777777777778,
             "#fb9f3a"
            ],
            [
             0.8888888888888888,
             "#fdca26"
            ],
            [
             1,
             "#f0f921"
            ]
           ]
          },
          "colorway": [
           "#636efa",
           "#EF553B",
           "#00cc96",
           "#ab63fa",
           "#FFA15A",
           "#19d3f3",
           "#FF6692",
           "#B6E880",
           "#FF97FF",
           "#FECB52"
          ],
          "font": {
           "color": "#2a3f5f"
          },
          "geo": {
           "bgcolor": "white",
           "lakecolor": "white",
           "landcolor": "#E5ECF6",
           "showlakes": true,
           "showland": true,
           "subunitcolor": "white"
          },
          "hoverlabel": {
           "align": "left"
          },
          "hovermode": "closest",
          "mapbox": {
           "style": "light"
          },
          "paper_bgcolor": "white",
          "plot_bgcolor": "#E5ECF6",
          "polar": {
           "angularaxis": {
            "gridcolor": "white",
            "linecolor": "white",
            "ticks": ""
           },
           "bgcolor": "#E5ECF6",
           "radialaxis": {
            "gridcolor": "white",
            "linecolor": "white",
            "ticks": ""
           }
          },
          "scene": {
           "xaxis": {
            "backgroundcolor": "#E5ECF6",
            "gridcolor": "white",
            "gridwidth": 2,
            "linecolor": "white",
            "showbackground": true,
            "ticks": "",
            "zerolinecolor": "white"
           },
           "yaxis": {
            "backgroundcolor": "#E5ECF6",
            "gridcolor": "white",
            "gridwidth": 2,
            "linecolor": "white",
            "showbackground": true,
            "ticks": "",
            "zerolinecolor": "white"
           },
           "zaxis": {
            "backgroundcolor": "#E5ECF6",
            "gridcolor": "white",
            "gridwidth": 2,
            "linecolor": "white",
            "showbackground": true,
            "ticks": "",
            "zerolinecolor": "white"
           }
          },
          "shapedefaults": {
           "line": {
            "color": "#2a3f5f"
           }
          },
          "ternary": {
           "aaxis": {
            "gridcolor": "white",
            "linecolor": "white",
            "ticks": ""
           },
           "baxis": {
            "gridcolor": "white",
            "linecolor": "white",
            "ticks": ""
           },
           "bgcolor": "#E5ECF6",
           "caxis": {
            "gridcolor": "white",
            "linecolor": "white",
            "ticks": ""
           }
          },
          "title": {
           "x": 0.05
          },
          "xaxis": {
           "automargin": true,
           "gridcolor": "white",
           "linecolor": "white",
           "ticks": "",
           "title": {
            "standoff": 15
           },
           "zerolinecolor": "white",
           "zerolinewidth": 2
          },
          "yaxis": {
           "automargin": true,
           "gridcolor": "white",
           "linecolor": "white",
           "ticks": "",
           "title": {
            "standoff": 15
           },
           "zerolinecolor": "white",
           "zerolinewidth": 2
          }
         }
        },
        "title": {
         "font": {
          "color": "#D9D9D9"
         },
         "text": "构建曲线的债券市场价和模型价"
        },
        "xaxis": {
         "gridcolor": "#434343",
         "showgrid": true,
         "tickfont": {
          "color": "#C2C2C2"
         },
         "title": {
          "font": {
           "color": "#D9D9D9"
          },
          "text": "ISIN"
         },
         "zerolinecolor": "#666570"
        },
        "yaxis": {
         "gridcolor": "#434343",
         "showgrid": true,
         "tickfont": {
          "color": "#C2C2C2"
         },
         "title": {
          "font": {
           "color": "#D9D9D9"
          },
          "text": "价格 ($)"
         },
         "zerolinecolor": "#666570"
        }
       }
      },
      "text/html": [
       "<div>                            <div id=\"814393fb-9d5f-4fca-bcb1-a7bb93de1be2\" class=\"plotly-graph-div\" style=\"height:525px; width:100%;\"></div>            <script type=\"text/javascript\">                require([\"plotly\"], function(Plotly) {                    window.PLOTLYENV=window.PLOTLYENV || {};\n",
       "                    window.PLOTLYENV.BASE_URL='https://plot.ly';                                    if (document.getElementById(\"814393fb-9d5f-4fca-bcb1-a7bb93de1be2\")) {                    Plotly.newPlot(                        \"814393fb-9d5f-4fca-bcb1-a7bb93de1be2\",                        [{\"line\": {\"color\": \"rgba(255, 153, 51, 1.0)\", \"dash\": \"solid\", \"shape\": \"linear\", \"width\": 1.3}, \"marker\": {\"size\": 8, \"symbol\": \"circle\"}, \"mode\": \"markers\", \"name\": \"\\u5e02\\u573a\\u4ef7\\u683c\", \"text\": \"\", \"type\": \"scatter\", \"x\": [\"XS0881511868\", \"XS1045283766\", \"FR0000583155\", \"XS1077588017\", \"XS0728763938\", \"DE000A1AKHB8\", \"XS0834640541\", \"XS0478074924\", \"XS0478736654\", \"FR0011391580\", \"XS0490013801\", \"XS0520755488\", \"XS0522030310\", \"XS0525146907\", \"XS0965050197\", \"XS0993248052\", \"FR0013064755\", \"XS0576532054\", \"XS0526606537\", \"XS1328699878\", \"XS0595092098\", \"XS1032997568\", \"XS1333702691\", \"XS1040272533\", \"XS1375980197\", \"XS1048521733\", \"XS0256967869\", \"XS1347564970\", \"XS1110874820\", \"XS0693812355\", \"XS0466670345\", \"XS1502438820\", \"XS0728812495\", \"XS0732513972\", \"XS1170137746\", \"XS1167352613\", \"XS1506396974\", \"DE000A1G0RU9\", \"XS1196759010\", \"XS1571298139\", \"XS1292484323\", \"XS1135276332\", \"XS0304159576\", \"XS1239401216\", \"XS0801636902\", \"XS1640493372\", \"XS1594335363\", \"XS0813400305\", \"XS0819759571\", \"XS1573958409\", \"XS1575474371\", \"DE000A1RE1W1\", \"XS1595523066\", \"XS1711933033\", \"XS1333139746\", \"XS1642738816\", \"XS0873665706\", \"XS1368470156\", \"XS1371969483\", \"XS1676933937\", \"XS0625859516\", \"XS0933540527\", \"XS1517196272\", \"XS1411405662\", \"XS1685481332\", \"XS1722859532\", \"XS1189263400\", \"XS1476654238\", \"XS0525602339\", \"XS1292468045\", \"DE000A1684V3\", \"XS1048529041\", \"XS1382784509\", \"XS1412417617\", \"XS1496758092\", \"XS1529559525\", \"XS1135277140\", \"XS1180130939\", \"XS1506398244\", \"XS1676933853\", \"XS1689535000\", \"DE000A1HG1K6\", \"XS1411401083\", \"XS1476654584\", \"XS1001594065\"], \"y\": [103.52931266666666, 103.268803, 114.98108133333334, 102.495625, 108.29328988888888, 109.81916466666667, 104.96517577777779, 108.47908533333333, 108.84470733333333, 103.90886966666667, 113.325272, 112.15222422222223, 111.77655377777778, 112.03366366666667, 106.820702, 105.89255555555556, 101.73047577777777, 112.167697, 111.832399, 101.76772422222223, 117.27862477777776, 107.76104444444445, 103.280751, 107.78266966666666, 102.18202877777777, 106.48485, 117.18859366666668, 103.08942655555555, 103.86251366666667, 116.87166866666668, 118.96479466666666, 100.00585633333333, 115.17764744444445, 116.22563333333333, 101.86461922222222, 102.26851922222222, 99.76306311111111, 116.67914644444446, 102.620253, 100.16086866666667, 105.621948, 104.32268588888888, 122.57801011111111, 103.71623233333334, 114.7952398888889, 100.15983733333334, 100.7964081111111, 111.96277122222222, 111.39291366666667, 99.88416866666667, 99.8539418888889, 111.05718966666667, 100.09587900000001, 99.36516366666666, 103.62512699999999, 100.61865355555555, 108.8088628888889, 103.70813633333334, 104.462321, 99.54054466666668, 124.36900200000001, 111.68931288888889, 100.37020633333333, 101.76061366666666, 99.19281822222223, 99.001373, 103.805951, 98.44309166666667, 126.46971966666666, 109.19989266666667, 108.11649799999999, 115.639, 103.61317522222222, 103.33432677777778, 98.479353, 100.95970000000001, 106.17705255555555, 104.53030277777778, 99.77441366666666, 101.305028, 100.89847900000001, 121.75046966666667, 102.9053611111111, 96.90650000000001, 125.61410911111112]}, {\"line\": {\"color\": \"rgba(55, 128, 191, 1.0)\", \"dash\": \"solid\", \"shape\": \"linear\", \"width\": 1.3}, \"marker\": {\"size\": 8, \"symbol\": \"circle\"}, \"mode\": \"markers\", \"name\": \"\\u6a21\\u578b\\u4ef7\\u683c\", \"text\": \"\", \"type\": \"scatter\", \"x\": [\"XS0881511868\", \"XS1045283766\", \"FR0000583155\", \"XS1077588017\", \"XS0728763938\", \"DE000A1AKHB8\", \"XS0834640541\", \"XS0478074924\", \"XS0478736654\", \"FR0011391580\", \"XS0490013801\", \"XS0520755488\", \"XS0522030310\", \"XS0525146907\", \"XS0965050197\", \"XS0993248052\", \"FR0013064755\", \"XS0576532054\", \"XS0526606537\", \"XS1328699878\", \"XS0595092098\", \"XS1032997568\", \"XS1333702691\", \"XS1040272533\", \"XS1375980197\", \"XS1048521733\", \"XS0256967869\", \"XS1347564970\", \"XS1110874820\", \"XS0693812355\", \"XS0466670345\", \"XS1502438820\", \"XS0728812495\", \"XS0732513972\", \"XS1170137746\", \"XS1167352613\", \"XS1506396974\", \"DE000A1G0RU9\", \"XS1196759010\", \"XS1571298139\", \"XS1292484323\", \"XS1135276332\", \"XS0304159576\", \"XS1239401216\", \"XS0801636902\", \"XS1640493372\", \"XS1594335363\", \"XS0813400305\", \"XS0819759571\", \"XS1573958409\", \"XS1575474371\", \"DE000A1RE1W1\", \"XS1595523066\", \"XS1711933033\", \"XS1333139746\", \"XS1642738816\", \"XS0873665706\", \"XS1368470156\", \"XS1371969483\", \"XS1676933937\", \"XS0625859516\", \"XS0933540527\", \"XS1517196272\", \"XS1411405662\", \"XS1685481332\", \"XS1722859532\", \"XS1189263400\", \"XS1476654238\", \"XS0525602339\", \"XS1292468045\", \"DE000A1684V3\", \"XS1048529041\", \"XS1382784509\", \"XS1412417617\", \"XS1496758092\", \"XS1529559525\", \"XS1135277140\", \"XS1180130939\", \"XS1506398244\", \"XS1676933853\", \"XS1689535000\", \"DE000A1HG1K6\", \"XS1411401083\", \"XS1476654584\", \"XS1001594065\"], \"y\": [103.4015303631186, 103.14922755303573, 115.6488198337495, 102.37979147216927, 108.12806148309892, 109.62557474377455, 104.83694581897662, 108.2669719043265, 108.82155616489652, 103.7617673522128, 113.10644929327782, 115.24238902603794, 114.7432182854784, 115.21275273523348, 108.12921631586642, 106.95723595040981, 101.42457886147447, 111.93483762785908, 111.5550343236228, 101.45719544736878, 116.98401620904733, 107.50457074155767, 103.01009986179554, 107.48008929089006, 101.97643147889086, 105.94407004461472, 116.78573124473387, 102.77908966354413, 104.09220201334017, 116.48543786548856, 118.40913494421615, 99.55045347033084, 114.78384679486355, 115.76210914376698, 102.30644899760944, 102.30644899760944, 99.82286617896374, 116.20341132198088, 102.45414745719684, 99.96989591404042, 104.91519934750346, 103.61265716132523, 122.12019774010031, 103.4635163838526, 114.56831478177226, 99.89956540748392, 100.86465816288077, 111.98014514557775, 111.31362112483168, 99.7087401561228, 99.9545258117183, 109.94011947965292, 99.97986807152292, 99.2785648338729, 103.51230884593436, 100.43290531761929, 109.62934152945434, 103.66924630828709, 104.39158243900059, 99.90842438464688, 124.24875576187037, 111.56005378422395, 100.53504199622772, 100.52088285653454, 98.94914702002978, 98.6445404817926, 103.8700805392578, 97.94964892002449, 126.7327882137802, 108.76290255474667, 106.69148645905781, 115.18860179000406, 104.19097332756775, 103.90966843405567, 98.84173346352813, 101.76679406310583, 105.90072975809511, 105.01766921513546, 99.76829128208675, 101.42847672095215, 101.3071285257778, 122.04844610768853, 101.58247277612531, 95.2950341956999, 128.94527391744808]}],                        {\"legend\": {\"bgcolor\": \"#151516\", \"font\": {\"color\": \"#D9D9D9\"}}, \"paper_bgcolor\": \"#151516\", \"plot_bgcolor\": \"#151516\", \"template\": {\"data\": {\"bar\": [{\"error_x\": {\"color\": \"#2a3f5f\"}, \"error_y\": {\"color\": \"#2a3f5f\"}, \"marker\": {\"line\": {\"color\": \"#E5ECF6\", \"width\": 0.5}}, \"type\": \"bar\"}], \"barpolar\": [{\"marker\": {\"line\": {\"color\": \"#E5ECF6\", \"width\": 0.5}}, \"type\": \"barpolar\"}], \"carpet\": [{\"aaxis\": {\"endlinecolor\": \"#2a3f5f\", \"gridcolor\": \"white\", \"linecolor\": \"white\", \"minorgridcolor\": \"white\", \"startlinecolor\": \"#2a3f5f\"}, \"baxis\": {\"endlinecolor\": \"#2a3f5f\", \"gridcolor\": \"white\", \"linecolor\": \"white\", \"minorgridcolor\": \"white\", \"startlinecolor\": \"#2a3f5f\"}, \"type\": \"carpet\"}], \"choropleth\": [{\"colorbar\": {\"outlinewidth\": 0, \"ticks\": \"\"}, \"type\": \"choropleth\"}], \"contour\": [{\"colorbar\": {\"outlinewidth\": 0, \"ticks\": \"\"}, \"colorscale\": [[0.0, \"#0d0887\"], [0.1111111111111111, \"#46039f\"], [0.2222222222222222, \"#7201a8\"], [0.3333333333333333, \"#9c179e\"], [0.4444444444444444, \"#bd3786\"], [0.5555555555555556, \"#d8576b\"], [0.6666666666666666, \"#ed7953\"], [0.7777777777777778, \"#fb9f3a\"], [0.8888888888888888, \"#fdca26\"], [1.0, \"#f0f921\"]], \"type\": \"contour\"}], \"contourcarpet\": [{\"colorbar\": {\"outlinewidth\": 0, \"ticks\": \"\"}, \"type\": \"contourcarpet\"}], \"heatmap\": [{\"colorbar\": {\"outlinewidth\": 0, \"ticks\": \"\"}, \"colorscale\": [[0.0, \"#0d0887\"], [0.1111111111111111, \"#46039f\"], [0.2222222222222222, \"#7201a8\"], [0.3333333333333333, \"#9c179e\"], [0.4444444444444444, \"#bd3786\"], [0.5555555555555556, \"#d8576b\"], [0.6666666666666666, \"#ed7953\"], [0.7777777777777778, \"#fb9f3a\"], [0.8888888888888888, \"#fdca26\"], [1.0, \"#f0f921\"]], \"type\": \"heatmap\"}], \"heatmapgl\": [{\"colorbar\": {\"outlinewidth\": 0, \"ticks\": \"\"}, \"colorscale\": [[0.0, \"#0d0887\"], [0.1111111111111111, \"#46039f\"], [0.2222222222222222, \"#7201a8\"], [0.3333333333333333, \"#9c179e\"], [0.4444444444444444, \"#bd3786\"], [0.5555555555555556, \"#d8576b\"], [0.6666666666666666, \"#ed7953\"], [0.7777777777777778, \"#fb9f3a\"], [0.8888888888888888, \"#fdca26\"], [1.0, \"#f0f921\"]], \"type\": \"heatmapgl\"}], \"histogram\": [{\"marker\": {\"colorbar\": {\"outlinewidth\": 0, \"ticks\": \"\"}}, \"type\": \"histogram\"}], \"histogram2d\": [{\"colorbar\": {\"outlinewidth\": 0, \"ticks\": \"\"}, \"colorscale\": [[0.0, \"#0d0887\"], [0.1111111111111111, \"#46039f\"], [0.2222222222222222, \"#7201a8\"], [0.3333333333333333, \"#9c179e\"], [0.4444444444444444, \"#bd3786\"], [0.5555555555555556, \"#d8576b\"], [0.6666666666666666, \"#ed7953\"], [0.7777777777777778, \"#fb9f3a\"], [0.8888888888888888, \"#fdca26\"], [1.0, \"#f0f921\"]], \"type\": \"histogram2d\"}], \"histogram2dcontour\": [{\"colorbar\": {\"outlinewidth\": 0, \"ticks\": \"\"}, \"colorscale\": [[0.0, \"#0d0887\"], [0.1111111111111111, \"#46039f\"], [0.2222222222222222, \"#7201a8\"], [0.3333333333333333, \"#9c179e\"], [0.4444444444444444, \"#bd3786\"], [0.5555555555555556, \"#d8576b\"], [0.6666666666666666, \"#ed7953\"], [0.7777777777777778, \"#fb9f3a\"], [0.8888888888888888, \"#fdca26\"], [1.0, \"#f0f921\"]], \"type\": \"histogram2dcontour\"}], \"mesh3d\": [{\"colorbar\": {\"outlinewidth\": 0, \"ticks\": \"\"}, \"type\": \"mesh3d\"}], \"parcoords\": [{\"line\": {\"colorbar\": {\"outlinewidth\": 0, \"ticks\": \"\"}}, \"type\": \"parcoords\"}], \"pie\": [{\"automargin\": true, \"type\": \"pie\"}], \"scatter\": [{\"marker\": {\"colorbar\": {\"outlinewidth\": 0, \"ticks\": \"\"}}, \"type\": \"scatter\"}], \"scatter3d\": [{\"line\": {\"colorbar\": {\"outlinewidth\": 0, \"ticks\": \"\"}}, \"marker\": {\"colorbar\": {\"outlinewidth\": 0, \"ticks\": \"\"}}, \"type\": \"scatter3d\"}], \"scattercarpet\": [{\"marker\": {\"colorbar\": {\"outlinewidth\": 0, \"ticks\": \"\"}}, \"type\": \"scattercarpet\"}], \"scattergeo\": [{\"marker\": {\"colorbar\": {\"outlinewidth\": 0, \"ticks\": \"\"}}, \"type\": \"scattergeo\"}], \"scattergl\": [{\"marker\": {\"colorbar\": {\"outlinewidth\": 0, \"ticks\": \"\"}}, \"type\": \"scattergl\"}], \"scattermapbox\": [{\"marker\": {\"colorbar\": {\"outlinewidth\": 0, \"ticks\": \"\"}}, \"type\": \"scattermapbox\"}], \"scatterpolar\": [{\"marker\": {\"colorbar\": {\"outlinewidth\": 0, \"ticks\": \"\"}}, \"type\": \"scatterpolar\"}], \"scatterpolargl\": [{\"marker\": {\"colorbar\": {\"outlinewidth\": 0, \"ticks\": \"\"}}, \"type\": \"scatterpolargl\"}], \"scatterternary\": [{\"marker\": {\"colorbar\": {\"outlinewidth\": 0, \"ticks\": \"\"}}, \"type\": \"scatterternary\"}], \"surface\": [{\"colorbar\": {\"outlinewidth\": 0, \"ticks\": \"\"}, \"colorscale\": [[0.0, \"#0d0887\"], [0.1111111111111111, \"#46039f\"], [0.2222222222222222, \"#7201a8\"], [0.3333333333333333, \"#9c179e\"], [0.4444444444444444, \"#bd3786\"], [0.5555555555555556, \"#d8576b\"], [0.6666666666666666, \"#ed7953\"], [0.7777777777777778, \"#fb9f3a\"], [0.8888888888888888, \"#fdca26\"], [1.0, \"#f0f921\"]], \"type\": \"surface\"}], \"table\": [{\"cells\": {\"fill\": {\"color\": \"#EBF0F8\"}, \"line\": {\"color\": \"white\"}}, \"header\": {\"fill\": {\"color\": \"#C8D4E3\"}, \"line\": {\"color\": \"white\"}}, \"type\": \"table\"}]}, \"layout\": {\"annotationdefaults\": {\"arrowcolor\": \"#2a3f5f\", \"arrowhead\": 0, \"arrowwidth\": 1}, \"autotypenumbers\": \"strict\", \"coloraxis\": {\"colorbar\": {\"outlinewidth\": 0, \"ticks\": \"\"}}, \"colorscale\": {\"diverging\": [[0, \"#8e0152\"], [0.1, \"#c51b7d\"], [0.2, \"#de77ae\"], [0.3, \"#f1b6da\"], [0.4, \"#fde0ef\"], [0.5, \"#f7f7f7\"], [0.6, \"#e6f5d0\"], [0.7, \"#b8e186\"], [0.8, \"#7fbc41\"], [0.9, \"#4d9221\"], [1, \"#276419\"]], \"sequential\": [[0.0, \"#0d0887\"], [0.1111111111111111, \"#46039f\"], [0.2222222222222222, \"#7201a8\"], [0.3333333333333333, \"#9c179e\"], [0.4444444444444444, \"#bd3786\"], [0.5555555555555556, \"#d8576b\"], [0.6666666666666666, \"#ed7953\"], [0.7777777777777778, \"#fb9f3a\"], [0.8888888888888888, \"#fdca26\"], [1.0, \"#f0f921\"]], \"sequentialminus\": [[0.0, \"#0d0887\"], [0.1111111111111111, \"#46039f\"], [0.2222222222222222, \"#7201a8\"], [0.3333333333333333, \"#9c179e\"], [0.4444444444444444, \"#bd3786\"], [0.5555555555555556, \"#d8576b\"], [0.6666666666666666, \"#ed7953\"], [0.7777777777777778, \"#fb9f3a\"], [0.8888888888888888, \"#fdca26\"], [1.0, \"#f0f921\"]]}, \"colorway\": [\"#636efa\", \"#EF553B\", \"#00cc96\", \"#ab63fa\", \"#FFA15A\", \"#19d3f3\", \"#FF6692\", \"#B6E880\", \"#FF97FF\", \"#FECB52\"], \"font\": {\"color\": \"#2a3f5f\"}, \"geo\": {\"bgcolor\": \"white\", \"lakecolor\": \"white\", \"landcolor\": \"#E5ECF6\", \"showlakes\": true, \"showland\": true, \"subunitcolor\": \"white\"}, \"hoverlabel\": {\"align\": \"left\"}, \"hovermode\": \"closest\", \"mapbox\": {\"style\": \"light\"}, \"paper_bgcolor\": \"white\", \"plot_bgcolor\": \"#E5ECF6\", \"polar\": {\"angularaxis\": {\"gridcolor\": \"white\", \"linecolor\": \"white\", \"ticks\": \"\"}, \"bgcolor\": \"#E5ECF6\", \"radialaxis\": {\"gridcolor\": \"white\", \"linecolor\": \"white\", \"ticks\": \"\"}}, \"scene\": {\"xaxis\": {\"backgroundcolor\": \"#E5ECF6\", \"gridcolor\": \"white\", \"gridwidth\": 2, \"linecolor\": \"white\", \"showbackground\": true, \"ticks\": \"\", \"zerolinecolor\": \"white\"}, \"yaxis\": {\"backgroundcolor\": \"#E5ECF6\", \"gridcolor\": \"white\", \"gridwidth\": 2, \"linecolor\": \"white\", \"showbackground\": true, \"ticks\": \"\", \"zerolinecolor\": \"white\"}, \"zaxis\": {\"backgroundcolor\": \"#E5ECF6\", \"gridcolor\": \"white\", \"gridwidth\": 2, \"linecolor\": \"white\", \"showbackground\": true, \"ticks\": \"\", \"zerolinecolor\": \"white\"}}, \"shapedefaults\": {\"line\": {\"color\": \"#2a3f5f\"}}, \"ternary\": {\"aaxis\": {\"gridcolor\": \"white\", \"linecolor\": \"white\", \"ticks\": \"\"}, \"baxis\": {\"gridcolor\": \"white\", \"linecolor\": \"white\", \"ticks\": \"\"}, \"bgcolor\": \"#E5ECF6\", \"caxis\": {\"gridcolor\": \"white\", \"linecolor\": \"white\", \"ticks\": \"\"}}, \"title\": {\"x\": 0.05}, \"xaxis\": {\"automargin\": true, \"gridcolor\": \"white\", \"linecolor\": \"white\", \"ticks\": \"\", \"title\": {\"standoff\": 15}, \"zerolinecolor\": \"white\", \"zerolinewidth\": 2}, \"yaxis\": {\"automargin\": true, \"gridcolor\": \"white\", \"linecolor\": \"white\", \"ticks\": \"\", \"title\": {\"standoff\": 15}, \"zerolinecolor\": \"white\", \"zerolinewidth\": 2}}}, \"title\": {\"font\": {\"color\": \"#D9D9D9\"}, \"text\": \"\\u6784\\u5efa\\u66f2\\u7ebf\\u7684\\u503a\\u5238\\u5e02\\u573a\\u4ef7\\u548c\\u6a21\\u578b\\u4ef7\"}, \"xaxis\": {\"gridcolor\": \"#434343\", \"showgrid\": true, \"tickfont\": {\"color\": \"#C2C2C2\"}, \"title\": {\"font\": {\"color\": \"#D9D9D9\"}, \"text\": \"ISIN\"}, \"zerolinecolor\": \"#666570\"}, \"yaxis\": {\"gridcolor\": \"#434343\", \"showgrid\": true, \"tickfont\": {\"color\": \"#C2C2C2\"}, \"title\": {\"font\": {\"color\": \"#D9D9D9\"}, \"text\": \"\\u4ef7\\u683c ($)\"}, \"zerolinecolor\": \"#666570\"}},                        {\"showLink\": true, \"linkText\": \"Export to plot.ly\", \"plotlyServerURL\": \"https://plot.ly\", \"responsive\": true}                    ).then(function(){\n",
       "                            \n",
       "var gd = document.getElementById('814393fb-9d5f-4fca-bcb1-a7bb93de1be2');\n",
       "var x = new MutationObserver(function (mutations, observer) {{\n",
       "        var display = window.getComputedStyle(gd).display;\n",
       "        if (!display || display === 'none') {{\n",
       "            console.log([gd, 'removed!']);\n",
       "            Plotly.purge(gd);\n",
       "            observer.disconnect();\n",
       "        }}\n",
       "}});\n",
       "\n",
       "// Listen for the removal of the full notebook cells\n",
       "var notebookContainer = gd.closest('#notebook-container');\n",
       "if (notebookContainer) {{\n",
       "    x.observe(notebookContainer, {childList: true});\n",
       "}}\n",
       "\n",
       "// Listen for the clearing of the current output cell\n",
       "var outputEl = gd.closest('.output');\n",
       "if (outputEl) {{\n",
       "    x.observe(outputEl, {childList: true});\n",
       "}}\n",
       "\n",
       "                        })                };                });            </script>        </div>"
      ]
     },
     "metadata": {},
     "output_type": "display_data"
    }
   ],
   "source": [
    "df = pd.DataFrame( {'市场价格':BOND['Dirty Price'], '模型价格':NS_PV}, index=BOND.index )\n",
    "df.iplot( kind='scatter', mode='markers', size=8,\n",
    "          xTitle='ISIN', yTitle='价格 ($)', \n",
    "          title='构建曲线的债券市场价和模型价', theme='solar' )"
   ]
  },
  {
   "cell_type": "code",
   "execution_count": 33,
   "metadata": {},
   "outputs": [
    {
     "data": {
      "application/vnd.plotly.v1+json": {
       "config": {
        "linkText": "Export to plot.ly",
        "plotlyServerURL": "https://plot.ly",
        "showLink": true
       },
       "data": [
        {
         "line": {
          "color": "rgba(255, 153, 51, 1.0)",
          "dash": "solid",
          "shape": "linear",
          "width": 1.3
         },
         "marker": {
          "size": 8,
          "symbol": "circle"
         },
         "mode": "markers",
         "name": "市场收益率",
         "text": "",
         "type": "scatter",
         "x": [
          "XS0881511868",
          "XS1045283766",
          "FR0000583155",
          "XS1077588017",
          "XS0728763938",
          "DE000A1AKHB8",
          "XS0834640541",
          "XS0478074924",
          "XS0478736654",
          "FR0011391580",
          "XS0490013801",
          "XS0520755488",
          "XS0522030310",
          "XS0525146907",
          "XS0965050197",
          "XS0993248052",
          "FR0013064755",
          "XS0576532054",
          "XS0526606537",
          "XS1328699878",
          "XS0595092098",
          "XS1032997568",
          "XS1333702691",
          "XS1040272533",
          "XS1375980197",
          "XS1048521733",
          "XS0256967869",
          "XS1347564970",
          "XS1110874820",
          "XS0693812355",
          "XS0466670345",
          "XS1502438820",
          "XS0728812495",
          "XS0732513972",
          "XS1170137746",
          "XS1167352613",
          "XS1506396974",
          "DE000A1G0RU9",
          "XS1196759010",
          "XS1571298139",
          "XS1292484323",
          "XS1135276332",
          "XS0304159576",
          "XS1239401216",
          "XS0801636902",
          "XS1640493372",
          "XS1594335363",
          "XS0813400305",
          "XS0819759571",
          "XS1573958409",
          "XS1575474371",
          "DE000A1RE1W1",
          "XS1595523066",
          "XS1711933033",
          "XS1333139746",
          "XS1642738816",
          "XS0873665706",
          "XS1368470156",
          "XS1371969483",
          "XS1676933937",
          "XS0625859516",
          "XS0933540527",
          "XS1517196272",
          "XS1411405662",
          "XS1685481332",
          "XS1722859532",
          "XS1189263400",
          "XS1476654238",
          "XS0525602339",
          "XS1292468045",
          "DE000A1684V3",
          "XS1048529041",
          "XS1382784509",
          "XS1412417617",
          "XS1496758092",
          "XS1529559525",
          "XS1135277140",
          "XS1180130939",
          "XS1506398244",
          "XS1676933853",
          "XS1689535000",
          "DE000A1HG1K6",
          "XS1411401083",
          "XS1476654584",
          "XS1001594065"
         ],
         "y": [
          -0.26260000000000006,
          -0.2167,
          0.34969999999999996,
          -0.1604,
          -0.19149999999999998,
          -0.20679999999999998,
          -0.1273,
          -0.1351,
          -0.0439,
          -0.0904,
          -0.0814,
          -0.04410000000000001,
          -0.0436,
          0.0007000000000000001,
          -0.0126,
          0.0412,
          0.055900000000000005,
          0.0521,
          0.0395,
          0.037,
          0.0709,
          0.08,
          0.0756,
          0.074,
          0.1088,
          0.0131,
          0.0929,
          0.1305,
          0.3136,
          0.1537,
          0.1235,
          0.1413,
          0.1837,
          0.16949999999999998,
          0.4044,
          0.3034,
          0.3117,
          0.1888,
          0.2771,
          0.2711,
          0.1532,
          0.1649,
          0.2454,
          0.29850000000000004,
          0.31,
          0.312,
          0.38999999999999996,
          0.3763,
          0.36219999999999997,
          0.35840000000000005,
          0.4190999999999999,
          0.16829999999999998,
          0.3839,
          0.4004,
          0.40249999999999997,
          0.3883,
          0.5855,
          0.4468,
          0.4431,
          0.5364,
          0.44670000000000004,
          0.45999999999999996,
          0.5857,
          0.5545,
          0.7873,
          0.7935,
          0.7266,
          0.6529000000000001,
          0.7741,
          0.7281,
          0.6113000000000001,
          0.7843000000000001,
          0.9233,
          0.9409000000000001,
          0.9634,
          1.0288,
          0.9085,
          1.0048,
          0.9785,
          1.0312,
          1.0684,
          1.0146,
          1.0534,
          1.1153,
          1.7231
         ]
        },
        {
         "line": {
          "color": "rgba(55, 128, 191, 1.0)",
          "dash": "solid",
          "shape": "linear",
          "width": 1.3
         },
         "marker": {
          "size": 8,
          "symbol": "circle"
         },
         "mode": "markers",
         "name": "模型收益率",
         "text": "",
         "type": "scatter",
         "x": [
          "XS0881511868",
          "XS1045283766",
          "FR0000583155",
          "XS1077588017",
          "XS0728763938",
          "DE000A1AKHB8",
          "XS0834640541",
          "XS0478074924",
          "XS0478736654",
          "FR0011391580",
          "XS0490013801",
          "XS0520755488",
          "XS0522030310",
          "XS0525146907",
          "XS0965050197",
          "XS0993248052",
          "FR0013064755",
          "XS0576532054",
          "XS0526606537",
          "XS1328699878",
          "XS0595092098",
          "XS1032997568",
          "XS1333702691",
          "XS1040272533",
          "XS1375980197",
          "XS1048521733",
          "XS0256967869",
          "XS1347564970",
          "XS1110874820",
          "XS0693812355",
          "XS0466670345",
          "XS1502438820",
          "XS0728812495",
          "XS0732513972",
          "XS1170137746",
          "XS1167352613",
          "XS1506396974",
          "DE000A1G0RU9",
          "XS1196759010",
          "XS1571298139",
          "XS1292484323",
          "XS1135276332",
          "XS0304159576",
          "XS1239401216",
          "XS0801636902",
          "XS1640493372",
          "XS1594335363",
          "XS0813400305",
          "XS0819759571",
          "XS1573958409",
          "XS1575474371",
          "DE000A1RE1W1",
          "XS1595523066",
          "XS1711933033",
          "XS1333139746",
          "XS1642738816",
          "XS0873665706",
          "XS1368470156",
          "XS1371969483",
          "XS1676933937",
          "XS0625859516",
          "XS0933540527",
          "XS1517196272",
          "XS1411405662",
          "XS1685481332",
          "XS1722859532",
          "XS1189263400",
          "XS1476654238",
          "XS0525602339",
          "XS1292468045",
          "DE000A1684V3",
          "XS1048529041",
          "XS1382784509",
          "XS1412417617",
          "XS1496758092",
          "XS1529559525",
          "XS1135277140",
          "XS1180130939",
          "XS1506398244",
          "XS1676933853",
          "XS1689535000",
          "DE000A1HG1K6",
          "XS1411401083",
          "XS1476654584",
          "XS1001594065"
         ],
         "y": [
          -0.14446539697192637,
          -0.12796481465179185,
          -0.10026422514550798,
          -0.09164775953806452,
          -0.08322904043692148,
          -0.07917430115117571,
          -0.04998300032456055,
          -0.00810368864780885,
          -0.0054423483604176546,
          -0.0057862217748092725,
          0.00831816549023919,
          0.2035378579495543,
          0.20384263533393612,
          0.2090455343536677,
          0.23158512921197827,
          0.26319069750249935,
          0.2762336989241416,
          0.13734569514512612,
          0.13877044313014766,
          0.14038184850100735,
          0.15380672040411314,
          0.1556097565140539,
          0.15749637707609213,
          0.16122860786760865,
          0.16619858592883163,
          0.17048016115109177,
          0.19401598223866226,
          0.20840891713226833,
          0.24300572379605162,
          0.2469829516896005,
          0.25695279467848287,
          0.25637515982637576,
          0.28074053120223946,
          0.28272491856011067,
          0.29475927697189513,
          0.29475927697189513,
          0.2958332203340074,
          0.2954698936048563,
          0.31204292385137294,
          0.31281571514201023,
          0.31486679375266513,
          0.3246001030501953,
          0.33354414789411224,
          0.34683068080200535,
          0.3504315260426376,
          0.3616093374061109,
          0.36503725093246564,
          0.3656398813618917,
          0.37198275164535805,
          0.38871994196192394,
          0.38885769547733495,
          0.3897445844561283,
          0.4022101112711009,
          0.41357880305893335,
          0.4233009919004461,
          0.42362347835382663,
          0.4274883545074235,
          0.45113507582963397,
          0.45308203191832386,
          0.45917887660875245,
          0.4608747568787412,
          0.47654915630705164,
          0.5531893333920544,
          0.7503701030966013,
          0.7961553496631101,
          0.8181471744464226,
          0.7153151172973665,
          0.7247666452353321,
          0.7349589458117056,
          0.7794837555092057,
          0.7901259366410981,
          0.8332018894344206,
          0.8493976094796881,
          0.8673588539184599,
          0.9177214292429564,
          0.9332967388905874,
          0.938870821725301,
          0.9471017735462276,
          0.9776878630136931,
          1.0152299046358075,
          1.0216920063363062,
          1.1302086437400083,
          1.1822008614896569,
          1.2190696117173532,
          1.473171167219998
         ]
        }
       ],
       "layout": {
        "legend": {
         "bgcolor": "#151516",
         "font": {
          "color": "#D9D9D9"
         }
        },
        "paper_bgcolor": "#151516",
        "plot_bgcolor": "#151516",
        "template": {
         "data": {
          "bar": [
           {
            "error_x": {
             "color": "#2a3f5f"
            },
            "error_y": {
             "color": "#2a3f5f"
            },
            "marker": {
             "line": {
              "color": "#E5ECF6",
              "width": 0.5
             }
            },
            "type": "bar"
           }
          ],
          "barpolar": [
           {
            "marker": {
             "line": {
              "color": "#E5ECF6",
              "width": 0.5
             }
            },
            "type": "barpolar"
           }
          ],
          "carpet": [
           {
            "aaxis": {
             "endlinecolor": "#2a3f5f",
             "gridcolor": "white",
             "linecolor": "white",
             "minorgridcolor": "white",
             "startlinecolor": "#2a3f5f"
            },
            "baxis": {
             "endlinecolor": "#2a3f5f",
             "gridcolor": "white",
             "linecolor": "white",
             "minorgridcolor": "white",
             "startlinecolor": "#2a3f5f"
            },
            "type": "carpet"
           }
          ],
          "choropleth": [
           {
            "colorbar": {
             "outlinewidth": 0,
             "ticks": ""
            },
            "type": "choropleth"
           }
          ],
          "contour": [
           {
            "colorbar": {
             "outlinewidth": 0,
             "ticks": ""
            },
            "colorscale": [
             [
              0,
              "#0d0887"
             ],
             [
              0.1111111111111111,
              "#46039f"
             ],
             [
              0.2222222222222222,
              "#7201a8"
             ],
             [
              0.3333333333333333,
              "#9c179e"
             ],
             [
              0.4444444444444444,
              "#bd3786"
             ],
             [
              0.5555555555555556,
              "#d8576b"
             ],
             [
              0.6666666666666666,
              "#ed7953"
             ],
             [
              0.7777777777777778,
              "#fb9f3a"
             ],
             [
              0.8888888888888888,
              "#fdca26"
             ],
             [
              1,
              "#f0f921"
             ]
            ],
            "type": "contour"
           }
          ],
          "contourcarpet": [
           {
            "colorbar": {
             "outlinewidth": 0,
             "ticks": ""
            },
            "type": "contourcarpet"
           }
          ],
          "heatmap": [
           {
            "colorbar": {
             "outlinewidth": 0,
             "ticks": ""
            },
            "colorscale": [
             [
              0,
              "#0d0887"
             ],
             [
              0.1111111111111111,
              "#46039f"
             ],
             [
              0.2222222222222222,
              "#7201a8"
             ],
             [
              0.3333333333333333,
              "#9c179e"
             ],
             [
              0.4444444444444444,
              "#bd3786"
             ],
             [
              0.5555555555555556,
              "#d8576b"
             ],
             [
              0.6666666666666666,
              "#ed7953"
             ],
             [
              0.7777777777777778,
              "#fb9f3a"
             ],
             [
              0.8888888888888888,
              "#fdca26"
             ],
             [
              1,
              "#f0f921"
             ]
            ],
            "type": "heatmap"
           }
          ],
          "heatmapgl": [
           {
            "colorbar": {
             "outlinewidth": 0,
             "ticks": ""
            },
            "colorscale": [
             [
              0,
              "#0d0887"
             ],
             [
              0.1111111111111111,
              "#46039f"
             ],
             [
              0.2222222222222222,
              "#7201a8"
             ],
             [
              0.3333333333333333,
              "#9c179e"
             ],
             [
              0.4444444444444444,
              "#bd3786"
             ],
             [
              0.5555555555555556,
              "#d8576b"
             ],
             [
              0.6666666666666666,
              "#ed7953"
             ],
             [
              0.7777777777777778,
              "#fb9f3a"
             ],
             [
              0.8888888888888888,
              "#fdca26"
             ],
             [
              1,
              "#f0f921"
             ]
            ],
            "type": "heatmapgl"
           }
          ],
          "histogram": [
           {
            "marker": {
             "colorbar": {
              "outlinewidth": 0,
              "ticks": ""
             }
            },
            "type": "histogram"
           }
          ],
          "histogram2d": [
           {
            "colorbar": {
             "outlinewidth": 0,
             "ticks": ""
            },
            "colorscale": [
             [
              0,
              "#0d0887"
             ],
             [
              0.1111111111111111,
              "#46039f"
             ],
             [
              0.2222222222222222,
              "#7201a8"
             ],
             [
              0.3333333333333333,
              "#9c179e"
             ],
             [
              0.4444444444444444,
              "#bd3786"
             ],
             [
              0.5555555555555556,
              "#d8576b"
             ],
             [
              0.6666666666666666,
              "#ed7953"
             ],
             [
              0.7777777777777778,
              "#fb9f3a"
             ],
             [
              0.8888888888888888,
              "#fdca26"
             ],
             [
              1,
              "#f0f921"
             ]
            ],
            "type": "histogram2d"
           }
          ],
          "histogram2dcontour": [
           {
            "colorbar": {
             "outlinewidth": 0,
             "ticks": ""
            },
            "colorscale": [
             [
              0,
              "#0d0887"
             ],
             [
              0.1111111111111111,
              "#46039f"
             ],
             [
              0.2222222222222222,
              "#7201a8"
             ],
             [
              0.3333333333333333,
              "#9c179e"
             ],
             [
              0.4444444444444444,
              "#bd3786"
             ],
             [
              0.5555555555555556,
              "#d8576b"
             ],
             [
              0.6666666666666666,
              "#ed7953"
             ],
             [
              0.7777777777777778,
              "#fb9f3a"
             ],
             [
              0.8888888888888888,
              "#fdca26"
             ],
             [
              1,
              "#f0f921"
             ]
            ],
            "type": "histogram2dcontour"
           }
          ],
          "mesh3d": [
           {
            "colorbar": {
             "outlinewidth": 0,
             "ticks": ""
            },
            "type": "mesh3d"
           }
          ],
          "parcoords": [
           {
            "line": {
             "colorbar": {
              "outlinewidth": 0,
              "ticks": ""
             }
            },
            "type": "parcoords"
           }
          ],
          "pie": [
           {
            "automargin": true,
            "type": "pie"
           }
          ],
          "scatter": [
           {
            "marker": {
             "colorbar": {
              "outlinewidth": 0,
              "ticks": ""
             }
            },
            "type": "scatter"
           }
          ],
          "scatter3d": [
           {
            "line": {
             "colorbar": {
              "outlinewidth": 0,
              "ticks": ""
             }
            },
            "marker": {
             "colorbar": {
              "outlinewidth": 0,
              "ticks": ""
             }
            },
            "type": "scatter3d"
           }
          ],
          "scattercarpet": [
           {
            "marker": {
             "colorbar": {
              "outlinewidth": 0,
              "ticks": ""
             }
            },
            "type": "scattercarpet"
           }
          ],
          "scattergeo": [
           {
            "marker": {
             "colorbar": {
              "outlinewidth": 0,
              "ticks": ""
             }
            },
            "type": "scattergeo"
           }
          ],
          "scattergl": [
           {
            "marker": {
             "colorbar": {
              "outlinewidth": 0,
              "ticks": ""
             }
            },
            "type": "scattergl"
           }
          ],
          "scattermapbox": [
           {
            "marker": {
             "colorbar": {
              "outlinewidth": 0,
              "ticks": ""
             }
            },
            "type": "scattermapbox"
           }
          ],
          "scatterpolar": [
           {
            "marker": {
             "colorbar": {
              "outlinewidth": 0,
              "ticks": ""
             }
            },
            "type": "scatterpolar"
           }
          ],
          "scatterpolargl": [
           {
            "marker": {
             "colorbar": {
              "outlinewidth": 0,
              "ticks": ""
             }
            },
            "type": "scatterpolargl"
           }
          ],
          "scatterternary": [
           {
            "marker": {
             "colorbar": {
              "outlinewidth": 0,
              "ticks": ""
             }
            },
            "type": "scatterternary"
           }
          ],
          "surface": [
           {
            "colorbar": {
             "outlinewidth": 0,
             "ticks": ""
            },
            "colorscale": [
             [
              0,
              "#0d0887"
             ],
             [
              0.1111111111111111,
              "#46039f"
             ],
             [
              0.2222222222222222,
              "#7201a8"
             ],
             [
              0.3333333333333333,
              "#9c179e"
             ],
             [
              0.4444444444444444,
              "#bd3786"
             ],
             [
              0.5555555555555556,
              "#d8576b"
             ],
             [
              0.6666666666666666,
              "#ed7953"
             ],
             [
              0.7777777777777778,
              "#fb9f3a"
             ],
             [
              0.8888888888888888,
              "#fdca26"
             ],
             [
              1,
              "#f0f921"
             ]
            ],
            "type": "surface"
           }
          ],
          "table": [
           {
            "cells": {
             "fill": {
              "color": "#EBF0F8"
             },
             "line": {
              "color": "white"
             }
            },
            "header": {
             "fill": {
              "color": "#C8D4E3"
             },
             "line": {
              "color": "white"
             }
            },
            "type": "table"
           }
          ]
         },
         "layout": {
          "annotationdefaults": {
           "arrowcolor": "#2a3f5f",
           "arrowhead": 0,
           "arrowwidth": 1
          },
          "autotypenumbers": "strict",
          "coloraxis": {
           "colorbar": {
            "outlinewidth": 0,
            "ticks": ""
           }
          },
          "colorscale": {
           "diverging": [
            [
             0,
             "#8e0152"
            ],
            [
             0.1,
             "#c51b7d"
            ],
            [
             0.2,
             "#de77ae"
            ],
            [
             0.3,
             "#f1b6da"
            ],
            [
             0.4,
             "#fde0ef"
            ],
            [
             0.5,
             "#f7f7f7"
            ],
            [
             0.6,
             "#e6f5d0"
            ],
            [
             0.7,
             "#b8e186"
            ],
            [
             0.8,
             "#7fbc41"
            ],
            [
             0.9,
             "#4d9221"
            ],
            [
             1,
             "#276419"
            ]
           ],
           "sequential": [
            [
             0,
             "#0d0887"
            ],
            [
             0.1111111111111111,
             "#46039f"
            ],
            [
             0.2222222222222222,
             "#7201a8"
            ],
            [
             0.3333333333333333,
             "#9c179e"
            ],
            [
             0.4444444444444444,
             "#bd3786"
            ],
            [
             0.5555555555555556,
             "#d8576b"
            ],
            [
             0.6666666666666666,
             "#ed7953"
            ],
            [
             0.7777777777777778,
             "#fb9f3a"
            ],
            [
             0.8888888888888888,
             "#fdca26"
            ],
            [
             1,
             "#f0f921"
            ]
           ],
           "sequentialminus": [
            [
             0,
             "#0d0887"
            ],
            [
             0.1111111111111111,
             "#46039f"
            ],
            [
             0.2222222222222222,
             "#7201a8"
            ],
            [
             0.3333333333333333,
             "#9c179e"
            ],
            [
             0.4444444444444444,
             "#bd3786"
            ],
            [
             0.5555555555555556,
             "#d8576b"
            ],
            [
             0.6666666666666666,
             "#ed7953"
            ],
            [
             0.7777777777777778,
             "#fb9f3a"
            ],
            [
             0.8888888888888888,
             "#fdca26"
            ],
            [
             1,
             "#f0f921"
            ]
           ]
          },
          "colorway": [
           "#636efa",
           "#EF553B",
           "#00cc96",
           "#ab63fa",
           "#FFA15A",
           "#19d3f3",
           "#FF6692",
           "#B6E880",
           "#FF97FF",
           "#FECB52"
          ],
          "font": {
           "color": "#2a3f5f"
          },
          "geo": {
           "bgcolor": "white",
           "lakecolor": "white",
           "landcolor": "#E5ECF6",
           "showlakes": true,
           "showland": true,
           "subunitcolor": "white"
          },
          "hoverlabel": {
           "align": "left"
          },
          "hovermode": "closest",
          "mapbox": {
           "style": "light"
          },
          "paper_bgcolor": "white",
          "plot_bgcolor": "#E5ECF6",
          "polar": {
           "angularaxis": {
            "gridcolor": "white",
            "linecolor": "white",
            "ticks": ""
           },
           "bgcolor": "#E5ECF6",
           "radialaxis": {
            "gridcolor": "white",
            "linecolor": "white",
            "ticks": ""
           }
          },
          "scene": {
           "xaxis": {
            "backgroundcolor": "#E5ECF6",
            "gridcolor": "white",
            "gridwidth": 2,
            "linecolor": "white",
            "showbackground": true,
            "ticks": "",
            "zerolinecolor": "white"
           },
           "yaxis": {
            "backgroundcolor": "#E5ECF6",
            "gridcolor": "white",
            "gridwidth": 2,
            "linecolor": "white",
            "showbackground": true,
            "ticks": "",
            "zerolinecolor": "white"
           },
           "zaxis": {
            "backgroundcolor": "#E5ECF6",
            "gridcolor": "white",
            "gridwidth": 2,
            "linecolor": "white",
            "showbackground": true,
            "ticks": "",
            "zerolinecolor": "white"
           }
          },
          "shapedefaults": {
           "line": {
            "color": "#2a3f5f"
           }
          },
          "ternary": {
           "aaxis": {
            "gridcolor": "white",
            "linecolor": "white",
            "ticks": ""
           },
           "baxis": {
            "gridcolor": "white",
            "linecolor": "white",
            "ticks": ""
           },
           "bgcolor": "#E5ECF6",
           "caxis": {
            "gridcolor": "white",
            "linecolor": "white",
            "ticks": ""
           }
          },
          "title": {
           "x": 0.05
          },
          "xaxis": {
           "automargin": true,
           "gridcolor": "white",
           "linecolor": "white",
           "ticks": "",
           "title": {
            "standoff": 15
           },
           "zerolinecolor": "white",
           "zerolinewidth": 2
          },
          "yaxis": {
           "automargin": true,
           "gridcolor": "white",
           "linecolor": "white",
           "ticks": "",
           "title": {
            "standoff": 15
           },
           "zerolinecolor": "white",
           "zerolinewidth": 2
          }
         }
        },
        "title": {
         "font": {
          "color": "#D9D9D9"
         },
         "text": "构建曲线的债券市场收益率和模型收益率"
        },
        "xaxis": {
         "gridcolor": "#434343",
         "showgrid": true,
         "tickfont": {
          "color": "#C2C2C2"
         },
         "title": {
          "font": {
           "color": "#D9D9D9"
          },
          "text": "ISIN"
         },
         "zerolinecolor": "#666570"
        },
        "yaxis": {
         "gridcolor": "#434343",
         "showgrid": true,
         "tickfont": {
          "color": "#C2C2C2"
         },
         "title": {
          "font": {
           "color": "#D9D9D9"
          },
          "text": "收益率 (%)"
         },
         "zerolinecolor": "#666570"
        }
       }
      },
      "text/html": [
       "<div>                            <div id=\"227f0668-6ba6-4b44-aab5-116720eda435\" class=\"plotly-graph-div\" style=\"height:525px; width:100%;\"></div>            <script type=\"text/javascript\">                require([\"plotly\"], function(Plotly) {                    window.PLOTLYENV=window.PLOTLYENV || {};\n",
       "                    window.PLOTLYENV.BASE_URL='https://plot.ly';                                    if (document.getElementById(\"227f0668-6ba6-4b44-aab5-116720eda435\")) {                    Plotly.newPlot(                        \"227f0668-6ba6-4b44-aab5-116720eda435\",                        [{\"line\": {\"color\": \"rgba(255, 153, 51, 1.0)\", \"dash\": \"solid\", \"shape\": \"linear\", \"width\": 1.3}, \"marker\": {\"size\": 8, \"symbol\": \"circle\"}, \"mode\": \"markers\", \"name\": \"\\u5e02\\u573a\\u6536\\u76ca\\u7387\", \"text\": \"\", \"type\": \"scatter\", \"x\": [\"XS0881511868\", \"XS1045283766\", \"FR0000583155\", \"XS1077588017\", \"XS0728763938\", \"DE000A1AKHB8\", \"XS0834640541\", \"XS0478074924\", \"XS0478736654\", \"FR0011391580\", \"XS0490013801\", \"XS0520755488\", \"XS0522030310\", \"XS0525146907\", \"XS0965050197\", \"XS0993248052\", \"FR0013064755\", \"XS0576532054\", \"XS0526606537\", \"XS1328699878\", \"XS0595092098\", \"XS1032997568\", \"XS1333702691\", \"XS1040272533\", \"XS1375980197\", \"XS1048521733\", \"XS0256967869\", \"XS1347564970\", \"XS1110874820\", \"XS0693812355\", \"XS0466670345\", \"XS1502438820\", \"XS0728812495\", \"XS0732513972\", \"XS1170137746\", \"XS1167352613\", \"XS1506396974\", \"DE000A1G0RU9\", \"XS1196759010\", \"XS1571298139\", \"XS1292484323\", \"XS1135276332\", \"XS0304159576\", \"XS1239401216\", \"XS0801636902\", \"XS1640493372\", \"XS1594335363\", \"XS0813400305\", \"XS0819759571\", \"XS1573958409\", \"XS1575474371\", \"DE000A1RE1W1\", \"XS1595523066\", \"XS1711933033\", \"XS1333139746\", \"XS1642738816\", \"XS0873665706\", \"XS1368470156\", \"XS1371969483\", \"XS1676933937\", \"XS0625859516\", \"XS0933540527\", \"XS1517196272\", \"XS1411405662\", \"XS1685481332\", \"XS1722859532\", \"XS1189263400\", \"XS1476654238\", \"XS0525602339\", \"XS1292468045\", \"DE000A1684V3\", \"XS1048529041\", \"XS1382784509\", \"XS1412417617\", \"XS1496758092\", \"XS1529559525\", \"XS1135277140\", \"XS1180130939\", \"XS1506398244\", \"XS1676933853\", \"XS1689535000\", \"DE000A1HG1K6\", \"XS1411401083\", \"XS1476654584\", \"XS1001594065\"], \"y\": [-0.26260000000000006, -0.2167, 0.34969999999999996, -0.1604, -0.19149999999999998, -0.20679999999999998, -0.1273, -0.1351, -0.0439, -0.0904, -0.0814, -0.04410000000000001, -0.0436, 0.0007000000000000001, -0.0126, 0.0412, 0.055900000000000005, 0.0521, 0.0395, 0.037, 0.0709, 0.08, 0.0756, 0.074, 0.1088, 0.0131, 0.0929, 0.1305, 0.3136, 0.1537, 0.1235, 0.1413, 0.1837, 0.16949999999999998, 0.4044, 0.3034, 0.3117, 0.1888, 0.2771, 0.2711, 0.1532, 0.1649, 0.2454, 0.29850000000000004, 0.31, 0.312, 0.38999999999999996, 0.3763, 0.36219999999999997, 0.35840000000000005, 0.4190999999999999, 0.16829999999999998, 0.3839, 0.4004, 0.40249999999999997, 0.3883, 0.5855, 0.4468, 0.4431, 0.5364, 0.44670000000000004, 0.45999999999999996, 0.5857, 0.5545, 0.7873, 0.7935, 0.7266, 0.6529000000000001, 0.7741, 0.7281, 0.6113000000000001, 0.7843000000000001, 0.9233, 0.9409000000000001, 0.9634, 1.0288, 0.9085, 1.0048, 0.9785, 1.0312, 1.0684, 1.0146, 1.0534, 1.1153, 1.7231]}, {\"line\": {\"color\": \"rgba(55, 128, 191, 1.0)\", \"dash\": \"solid\", \"shape\": \"linear\", \"width\": 1.3}, \"marker\": {\"size\": 8, \"symbol\": \"circle\"}, \"mode\": \"markers\", \"name\": \"\\u6a21\\u578b\\u6536\\u76ca\\u7387\", \"text\": \"\", \"type\": \"scatter\", \"x\": [\"XS0881511868\", \"XS1045283766\", \"FR0000583155\", \"XS1077588017\", \"XS0728763938\", \"DE000A1AKHB8\", \"XS0834640541\", \"XS0478074924\", \"XS0478736654\", \"FR0011391580\", \"XS0490013801\", \"XS0520755488\", \"XS0522030310\", \"XS0525146907\", \"XS0965050197\", \"XS0993248052\", \"FR0013064755\", \"XS0576532054\", \"XS0526606537\", \"XS1328699878\", \"XS0595092098\", \"XS1032997568\", \"XS1333702691\", \"XS1040272533\", \"XS1375980197\", \"XS1048521733\", \"XS0256967869\", \"XS1347564970\", \"XS1110874820\", \"XS0693812355\", \"XS0466670345\", \"XS1502438820\", \"XS0728812495\", \"XS0732513972\", \"XS1170137746\", \"XS1167352613\", \"XS1506396974\", \"DE000A1G0RU9\", \"XS1196759010\", \"XS1571298139\", \"XS1292484323\", \"XS1135276332\", \"XS0304159576\", \"XS1239401216\", \"XS0801636902\", \"XS1640493372\", \"XS1594335363\", \"XS0813400305\", \"XS0819759571\", \"XS1573958409\", \"XS1575474371\", \"DE000A1RE1W1\", \"XS1595523066\", \"XS1711933033\", \"XS1333139746\", \"XS1642738816\", \"XS0873665706\", \"XS1368470156\", \"XS1371969483\", \"XS1676933937\", \"XS0625859516\", \"XS0933540527\", \"XS1517196272\", \"XS1411405662\", \"XS1685481332\", \"XS1722859532\", \"XS1189263400\", \"XS1476654238\", \"XS0525602339\", \"XS1292468045\", \"DE000A1684V3\", \"XS1048529041\", \"XS1382784509\", \"XS1412417617\", \"XS1496758092\", \"XS1529559525\", \"XS1135277140\", \"XS1180130939\", \"XS1506398244\", \"XS1676933853\", \"XS1689535000\", \"DE000A1HG1K6\", \"XS1411401083\", \"XS1476654584\", \"XS1001594065\"], \"y\": [-0.14446539697192637, -0.12796481465179185, -0.10026422514550798, -0.09164775953806452, -0.08322904043692148, -0.07917430115117571, -0.04998300032456055, -0.00810368864780885, -0.0054423483604176546, -0.0057862217748092725, 0.00831816549023919, 0.2035378579495543, 0.20384263533393612, 0.2090455343536677, 0.23158512921197827, 0.26319069750249935, 0.2762336989241416, 0.13734569514512612, 0.13877044313014766, 0.14038184850100735, 0.15380672040411314, 0.1556097565140539, 0.15749637707609213, 0.16122860786760865, 0.16619858592883163, 0.17048016115109177, 0.19401598223866226, 0.20840891713226833, 0.24300572379605162, 0.2469829516896005, 0.25695279467848287, 0.25637515982637576, 0.28074053120223946, 0.28272491856011067, 0.29475927697189513, 0.29475927697189513, 0.2958332203340074, 0.2954698936048563, 0.31204292385137294, 0.31281571514201023, 0.31486679375266513, 0.3246001030501953, 0.33354414789411224, 0.34683068080200535, 0.3504315260426376, 0.3616093374061109, 0.36503725093246564, 0.3656398813618917, 0.37198275164535805, 0.38871994196192394, 0.38885769547733495, 0.3897445844561283, 0.4022101112711009, 0.41357880305893335, 0.4233009919004461, 0.42362347835382663, 0.4274883545074235, 0.45113507582963397, 0.45308203191832386, 0.45917887660875245, 0.4608747568787412, 0.47654915630705164, 0.5531893333920544, 0.7503701030966013, 0.7961553496631101, 0.8181471744464226, 0.7153151172973665, 0.7247666452353321, 0.7349589458117056, 0.7794837555092057, 0.7901259366410981, 0.8332018894344206, 0.8493976094796881, 0.8673588539184599, 0.9177214292429564, 0.9332967388905874, 0.938870821725301, 0.9471017735462276, 0.9776878630136931, 1.0152299046358075, 1.0216920063363062, 1.1302086437400083, 1.1822008614896569, 1.2190696117173532, 1.473171167219998]}],                        {\"legend\": {\"bgcolor\": \"#151516\", \"font\": {\"color\": \"#D9D9D9\"}}, \"paper_bgcolor\": \"#151516\", \"plot_bgcolor\": \"#151516\", \"template\": {\"data\": {\"bar\": [{\"error_x\": {\"color\": \"#2a3f5f\"}, \"error_y\": {\"color\": \"#2a3f5f\"}, \"marker\": {\"line\": {\"color\": \"#E5ECF6\", \"width\": 0.5}}, \"type\": \"bar\"}], \"barpolar\": [{\"marker\": {\"line\": {\"color\": \"#E5ECF6\", \"width\": 0.5}}, \"type\": \"barpolar\"}], \"carpet\": [{\"aaxis\": {\"endlinecolor\": \"#2a3f5f\", \"gridcolor\": \"white\", \"linecolor\": \"white\", \"minorgridcolor\": \"white\", \"startlinecolor\": \"#2a3f5f\"}, \"baxis\": {\"endlinecolor\": \"#2a3f5f\", \"gridcolor\": \"white\", \"linecolor\": \"white\", \"minorgridcolor\": \"white\", \"startlinecolor\": \"#2a3f5f\"}, \"type\": \"carpet\"}], \"choropleth\": [{\"colorbar\": {\"outlinewidth\": 0, \"ticks\": \"\"}, \"type\": \"choropleth\"}], \"contour\": [{\"colorbar\": {\"outlinewidth\": 0, \"ticks\": \"\"}, \"colorscale\": [[0.0, \"#0d0887\"], [0.1111111111111111, \"#46039f\"], [0.2222222222222222, \"#7201a8\"], [0.3333333333333333, \"#9c179e\"], [0.4444444444444444, \"#bd3786\"], [0.5555555555555556, \"#d8576b\"], [0.6666666666666666, \"#ed7953\"], [0.7777777777777778, \"#fb9f3a\"], [0.8888888888888888, \"#fdca26\"], [1.0, \"#f0f921\"]], \"type\": \"contour\"}], \"contourcarpet\": [{\"colorbar\": {\"outlinewidth\": 0, \"ticks\": \"\"}, \"type\": \"contourcarpet\"}], \"heatmap\": [{\"colorbar\": {\"outlinewidth\": 0, \"ticks\": \"\"}, \"colorscale\": [[0.0, \"#0d0887\"], [0.1111111111111111, \"#46039f\"], [0.2222222222222222, \"#7201a8\"], [0.3333333333333333, \"#9c179e\"], [0.4444444444444444, \"#bd3786\"], [0.5555555555555556, \"#d8576b\"], [0.6666666666666666, \"#ed7953\"], [0.7777777777777778, \"#fb9f3a\"], [0.8888888888888888, \"#fdca26\"], [1.0, \"#f0f921\"]], \"type\": \"heatmap\"}], \"heatmapgl\": [{\"colorbar\": {\"outlinewidth\": 0, \"ticks\": \"\"}, \"colorscale\": [[0.0, \"#0d0887\"], [0.1111111111111111, \"#46039f\"], [0.2222222222222222, \"#7201a8\"], [0.3333333333333333, \"#9c179e\"], [0.4444444444444444, \"#bd3786\"], [0.5555555555555556, \"#d8576b\"], [0.6666666666666666, \"#ed7953\"], [0.7777777777777778, \"#fb9f3a\"], [0.8888888888888888, \"#fdca26\"], [1.0, \"#f0f921\"]], \"type\": \"heatmapgl\"}], \"histogram\": [{\"marker\": {\"colorbar\": {\"outlinewidth\": 0, \"ticks\": \"\"}}, \"type\": \"histogram\"}], \"histogram2d\": [{\"colorbar\": {\"outlinewidth\": 0, \"ticks\": \"\"}, \"colorscale\": [[0.0, \"#0d0887\"], [0.1111111111111111, \"#46039f\"], [0.2222222222222222, \"#7201a8\"], [0.3333333333333333, \"#9c179e\"], [0.4444444444444444, \"#bd3786\"], [0.5555555555555556, \"#d8576b\"], [0.6666666666666666, \"#ed7953\"], [0.7777777777777778, \"#fb9f3a\"], [0.8888888888888888, \"#fdca26\"], [1.0, \"#f0f921\"]], \"type\": \"histogram2d\"}], \"histogram2dcontour\": [{\"colorbar\": {\"outlinewidth\": 0, \"ticks\": \"\"}, \"colorscale\": [[0.0, \"#0d0887\"], [0.1111111111111111, \"#46039f\"], [0.2222222222222222, \"#7201a8\"], [0.3333333333333333, \"#9c179e\"], [0.4444444444444444, \"#bd3786\"], [0.5555555555555556, \"#d8576b\"], [0.6666666666666666, \"#ed7953\"], [0.7777777777777778, \"#fb9f3a\"], [0.8888888888888888, \"#fdca26\"], [1.0, \"#f0f921\"]], \"type\": \"histogram2dcontour\"}], \"mesh3d\": [{\"colorbar\": {\"outlinewidth\": 0, \"ticks\": \"\"}, \"type\": \"mesh3d\"}], \"parcoords\": [{\"line\": {\"colorbar\": {\"outlinewidth\": 0, \"ticks\": \"\"}}, \"type\": \"parcoords\"}], \"pie\": [{\"automargin\": true, \"type\": \"pie\"}], \"scatter\": [{\"marker\": {\"colorbar\": {\"outlinewidth\": 0, \"ticks\": \"\"}}, \"type\": \"scatter\"}], \"scatter3d\": [{\"line\": {\"colorbar\": {\"outlinewidth\": 0, \"ticks\": \"\"}}, \"marker\": {\"colorbar\": {\"outlinewidth\": 0, \"ticks\": \"\"}}, \"type\": \"scatter3d\"}], \"scattercarpet\": [{\"marker\": {\"colorbar\": {\"outlinewidth\": 0, \"ticks\": \"\"}}, \"type\": \"scattercarpet\"}], \"scattergeo\": [{\"marker\": {\"colorbar\": {\"outlinewidth\": 0, \"ticks\": \"\"}}, \"type\": \"scattergeo\"}], \"scattergl\": [{\"marker\": {\"colorbar\": {\"outlinewidth\": 0, \"ticks\": \"\"}}, \"type\": \"scattergl\"}], \"scattermapbox\": [{\"marker\": {\"colorbar\": {\"outlinewidth\": 0, \"ticks\": \"\"}}, \"type\": \"scattermapbox\"}], \"scatterpolar\": [{\"marker\": {\"colorbar\": {\"outlinewidth\": 0, \"ticks\": \"\"}}, \"type\": \"scatterpolar\"}], \"scatterpolargl\": [{\"marker\": {\"colorbar\": {\"outlinewidth\": 0, \"ticks\": \"\"}}, \"type\": \"scatterpolargl\"}], \"scatterternary\": [{\"marker\": {\"colorbar\": {\"outlinewidth\": 0, \"ticks\": \"\"}}, \"type\": \"scatterternary\"}], \"surface\": [{\"colorbar\": {\"outlinewidth\": 0, \"ticks\": \"\"}, \"colorscale\": [[0.0, \"#0d0887\"], [0.1111111111111111, \"#46039f\"], [0.2222222222222222, \"#7201a8\"], [0.3333333333333333, \"#9c179e\"], [0.4444444444444444, \"#bd3786\"], [0.5555555555555556, \"#d8576b\"], [0.6666666666666666, \"#ed7953\"], [0.7777777777777778, \"#fb9f3a\"], [0.8888888888888888, \"#fdca26\"], [1.0, \"#f0f921\"]], \"type\": \"surface\"}], \"table\": [{\"cells\": {\"fill\": {\"color\": \"#EBF0F8\"}, \"line\": {\"color\": \"white\"}}, \"header\": {\"fill\": {\"color\": \"#C8D4E3\"}, \"line\": {\"color\": \"white\"}}, \"type\": \"table\"}]}, \"layout\": {\"annotationdefaults\": {\"arrowcolor\": \"#2a3f5f\", \"arrowhead\": 0, \"arrowwidth\": 1}, \"autotypenumbers\": \"strict\", \"coloraxis\": {\"colorbar\": {\"outlinewidth\": 0, \"ticks\": \"\"}}, \"colorscale\": {\"diverging\": [[0, \"#8e0152\"], [0.1, \"#c51b7d\"], [0.2, \"#de77ae\"], [0.3, \"#f1b6da\"], [0.4, \"#fde0ef\"], [0.5, \"#f7f7f7\"], [0.6, \"#e6f5d0\"], [0.7, \"#b8e186\"], [0.8, \"#7fbc41\"], [0.9, \"#4d9221\"], [1, \"#276419\"]], \"sequential\": [[0.0, \"#0d0887\"], [0.1111111111111111, \"#46039f\"], [0.2222222222222222, \"#7201a8\"], [0.3333333333333333, \"#9c179e\"], [0.4444444444444444, \"#bd3786\"], [0.5555555555555556, \"#d8576b\"], [0.6666666666666666, \"#ed7953\"], [0.7777777777777778, \"#fb9f3a\"], [0.8888888888888888, \"#fdca26\"], [1.0, \"#f0f921\"]], \"sequentialminus\": [[0.0, \"#0d0887\"], [0.1111111111111111, \"#46039f\"], [0.2222222222222222, \"#7201a8\"], [0.3333333333333333, \"#9c179e\"], [0.4444444444444444, \"#bd3786\"], [0.5555555555555556, \"#d8576b\"], [0.6666666666666666, \"#ed7953\"], [0.7777777777777778, \"#fb9f3a\"], [0.8888888888888888, \"#fdca26\"], [1.0, \"#f0f921\"]]}, \"colorway\": [\"#636efa\", \"#EF553B\", \"#00cc96\", \"#ab63fa\", \"#FFA15A\", \"#19d3f3\", \"#FF6692\", \"#B6E880\", \"#FF97FF\", \"#FECB52\"], \"font\": {\"color\": \"#2a3f5f\"}, \"geo\": {\"bgcolor\": \"white\", \"lakecolor\": \"white\", \"landcolor\": \"#E5ECF6\", \"showlakes\": true, \"showland\": true, \"subunitcolor\": \"white\"}, \"hoverlabel\": {\"align\": \"left\"}, \"hovermode\": \"closest\", \"mapbox\": {\"style\": \"light\"}, \"paper_bgcolor\": \"white\", \"plot_bgcolor\": \"#E5ECF6\", \"polar\": {\"angularaxis\": {\"gridcolor\": \"white\", \"linecolor\": \"white\", \"ticks\": \"\"}, \"bgcolor\": \"#E5ECF6\", \"radialaxis\": {\"gridcolor\": \"white\", \"linecolor\": \"white\", \"ticks\": \"\"}}, \"scene\": {\"xaxis\": {\"backgroundcolor\": \"#E5ECF6\", \"gridcolor\": \"white\", \"gridwidth\": 2, \"linecolor\": \"white\", \"showbackground\": true, \"ticks\": \"\", \"zerolinecolor\": \"white\"}, \"yaxis\": {\"backgroundcolor\": \"#E5ECF6\", \"gridcolor\": \"white\", \"gridwidth\": 2, \"linecolor\": \"white\", \"showbackground\": true, \"ticks\": \"\", \"zerolinecolor\": \"white\"}, \"zaxis\": {\"backgroundcolor\": \"#E5ECF6\", \"gridcolor\": \"white\", \"gridwidth\": 2, \"linecolor\": \"white\", \"showbackground\": true, \"ticks\": \"\", \"zerolinecolor\": \"white\"}}, \"shapedefaults\": {\"line\": {\"color\": \"#2a3f5f\"}}, \"ternary\": {\"aaxis\": {\"gridcolor\": \"white\", \"linecolor\": \"white\", \"ticks\": \"\"}, \"baxis\": {\"gridcolor\": \"white\", \"linecolor\": \"white\", \"ticks\": \"\"}, \"bgcolor\": \"#E5ECF6\", \"caxis\": {\"gridcolor\": \"white\", \"linecolor\": \"white\", \"ticks\": \"\"}}, \"title\": {\"x\": 0.05}, \"xaxis\": {\"automargin\": true, \"gridcolor\": \"white\", \"linecolor\": \"white\", \"ticks\": \"\", \"title\": {\"standoff\": 15}, \"zerolinecolor\": \"white\", \"zerolinewidth\": 2}, \"yaxis\": {\"automargin\": true, \"gridcolor\": \"white\", \"linecolor\": \"white\", \"ticks\": \"\", \"title\": {\"standoff\": 15}, \"zerolinecolor\": \"white\", \"zerolinewidth\": 2}}}, \"title\": {\"font\": {\"color\": \"#D9D9D9\"}, \"text\": \"\\u6784\\u5efa\\u66f2\\u7ebf\\u7684\\u503a\\u5238\\u5e02\\u573a\\u6536\\u76ca\\u7387\\u548c\\u6a21\\u578b\\u6536\\u76ca\\u7387\"}, \"xaxis\": {\"gridcolor\": \"#434343\", \"showgrid\": true, \"tickfont\": {\"color\": \"#C2C2C2\"}, \"title\": {\"font\": {\"color\": \"#D9D9D9\"}, \"text\": \"ISIN\"}, \"zerolinecolor\": \"#666570\"}, \"yaxis\": {\"gridcolor\": \"#434343\", \"showgrid\": true, \"tickfont\": {\"color\": \"#C2C2C2\"}, \"title\": {\"font\": {\"color\": \"#D9D9D9\"}, \"text\": \"\\u6536\\u76ca\\u7387 (%)\"}, \"zerolinecolor\": \"#666570\"}},                        {\"showLink\": true, \"linkText\": \"Export to plot.ly\", \"plotlyServerURL\": \"https://plot.ly\", \"responsive\": true}                    ).then(function(){\n",
       "                            \n",
       "var gd = document.getElementById('227f0668-6ba6-4b44-aab5-116720eda435');\n",
       "var x = new MutationObserver(function (mutations, observer) {{\n",
       "        var display = window.getComputedStyle(gd).display;\n",
       "        if (!display || display === 'none') {{\n",
       "            console.log([gd, 'removed!']);\n",
       "            Plotly.purge(gd);\n",
       "            observer.disconnect();\n",
       "        }}\n",
       "}});\n",
       "\n",
       "// Listen for the removal of the full notebook cells\n",
       "var notebookContainer = gd.closest('#notebook-container');\n",
       "if (notebookContainer) {{\n",
       "    x.observe(notebookContainer, {childList: true});\n",
       "}}\n",
       "\n",
       "// Listen for the clearing of the current output cell\n",
       "var outputEl = gd.closest('.output');\n",
       "if (outputEl) {{\n",
       "    x.observe(outputEl, {childList: true});\n",
       "}}\n",
       "\n",
       "                        })                };                });            </script>        </div>"
      ]
     },
     "metadata": {},
     "output_type": "display_data"
    }
   ],
   "source": [
    "df = pd.DataFrame( {'市场收益率':BOND['Yield']*100, '模型收益率':NS_YTM*100}, index=BOND.index )\n",
    "df.iplot( kind='scatter', mode='markers', size=8,\n",
    "          xTitle='ISIN', yTitle='收益率 (%)', \n",
    "          title='构建曲线的债券市场收益率和模型收益率', theme='solar' )"
   ]
  },
  {
   "cell_type": "markdown",
   "metadata": {},
   "source": [
    "本案例只展示了拟合某行业某评级一天的收益率曲线，在实际操作中，可能需要拟合各行业各评级历史几年的收益率曲线，这时候有三个问题要注意：\n",
    "\n",
    "1. 去掉交易量不活跃的报价\n",
    "2. 曲线近端的拟合：引入短期限的 IBOR \n",
    "3. 如果随着时间模型参数发现跳跃，加入限制条件，在目标函数加惩罚项"
   ]
  }
 ],
 "metadata": {
  "kernelspec": {
   "display_name": "Python 3 (ipykernel)",
   "language": "python",
   "name": "python3"
  },
  "language_info": {
   "codemirror_mode": {
    "name": "ipython",
    "version": 3
   },
   "file_extension": ".py",
   "mimetype": "text/x-python",
   "name": "python",
   "nbconvert_exporter": "python",
   "pygments_lexer": "ipython3",
   "version": "3.8.8"
  }
 },
 "nbformat": 4,
 "nbformat_minor": 2
}
